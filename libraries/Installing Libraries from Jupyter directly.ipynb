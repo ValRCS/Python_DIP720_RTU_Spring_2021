{
 "cells": [
  {
   "cell_type": "code",
   "execution_count": 1,
   "metadata": {},
   "outputs": [
    {
     "name": "stdout",
     "output_type": "stream",
     "text": [
      " Volume in drive C has no label.\n",
      " Volume Serial Number is 3E6D-EE98\n",
      "\n",
      " Directory of C:\\Users\\liga\\Github\\RTU_Python_720_Fall_2020\\libraries\n",
      "\n",
      "11/24/2020  05:27 PM    <DIR>          .\n",
      "11/24/2020  05:27 PM    <DIR>          ..\n",
      "11/24/2020  05:27 PM    <DIR>          .ipynb_checkpoints\n",
      "11/24/2020  05:27 PM                72 Installing Libraries from Jupyter directly.ipynb\n",
      "11/24/2020  05:23 PM             3,140 SentenceSplitter.ipynb\n",
      "               2 File(s)          3,212 bytes\n",
      "               3 Dir(s)  119,070,736,384 bytes free\n"
     ]
    }
   ],
   "source": [
    "!dir"
   ]
  },
  {
   "cell_type": "code",
   "execution_count": null,
   "metadata": {},
   "outputs": [],
   "source": [
    "# so ! is like running command line commands"
   ]
  },
  {
   "cell_type": "code",
   "execution_count": 2,
   "metadata": {},
   "outputs": [
    {
     "name": "stdout",
     "output_type": "stream",
     "text": [
      "Collecting word2word\n",
      "  Downloading word2word-1.0.0-py3-none-any.whl (31 kB)\n",
      "Collecting wget\n",
      "  Downloading wget-3.2.zip (10 kB)\n",
      "Requirement already satisfied: tqdm in c:\\users\\liga\\anaconda3\\lib\\site-packages (from word2word) (4.47.0)\n",
      "Requirement already satisfied: numpy in c:\\users\\liga\\anaconda3\\lib\\site-packages (from word2word) (1.18.5)\n",
      "Requirement already satisfied: requests in c:\\users\\liga\\anaconda3\\lib\\site-packages (from word2word) (2.24.0)\n",
      "Requirement already satisfied: chardet<4,>=3.0.2 in c:\\users\\liga\\anaconda3\\lib\\site-packages (from requests->word2word) (3.0.4)\n",
      "Requirement already satisfied: urllib3!=1.25.0,!=1.25.1,<1.26,>=1.21.1 in c:\\users\\liga\\anaconda3\\lib\\site-packages (from requests->word2word) (1.25.9)\n",
      "Requirement already satisfied: idna<3,>=2.5 in c:\\users\\liga\\anaconda3\\lib\\site-packages (from requests->word2word) (2.10)\n",
      "Requirement already satisfied: certifi>=2017.4.17 in c:\\users\\liga\\anaconda3\\lib\\site-packages (from requests->word2word) (2020.6.20)\n",
      "Building wheels for collected packages: wget\n",
      "  Building wheel for wget (setup.py): started\n",
      "  Building wheel for wget (setup.py): finished with status 'done'\n",
      "  Created wheel for wget: filename=wget-3.2-py3-none-any.whl size=9686 sha256=85b6eeb5f8849f427eefb96f10d0a1f9ecbaa77cc86f6bb2e6aa07b7ba04f202\n",
      "  Stored in directory: c:\\users\\liga\\appdata\\local\\pip\\cache\\wheels\\bd\\a8\\c3\\3cf2c14a1837a4e04bd98631724e81f33f462d86a1d895fae0\n",
      "Successfully built wget\n",
      "Installing collected packages: wget, word2word\n",
      "Successfully installed wget-3.2 word2word-1.0.0\n"
     ]
    }
   ],
   "source": [
    "# this should be done on the computer only once, you can use import then again and again\n",
    "!pip install word2word # so no need to run th is again unless there is a newer version that you want"
   ]
  },
  {
   "cell_type": "code",
   "execution_count": 3,
   "metadata": {},
   "outputs": [
    {
     "name": "stdout",
     "output_type": "stream",
     "text": [
      "Downloading data ...\n",
      "['ābolu', 'ābols', 'Ābols', 'Ābolu-pekanriekstu', 'noplūkšu']\n"
     ]
    }
   ],
   "source": [
    "from word2word import Word2word\n",
    "en2lv = Word2word(\"en\", \"lv\")\n",
    "print(en2lv(\"apple\"))\n",
    "# out: ['pomme', 'pommes', 'pommier', 'tartes', 'fleurs']"
   ]
  },
  {
   "cell_type": "code",
   "execution_count": null,
   "metadata": {},
   "outputs": [],
   "source": [
    "# remember this library used subtitles to generate their translation so some interesting finding"
   ]
  },
  {
   "cell_type": "code",
   "execution_count": 4,
   "metadata": {},
   "outputs": [],
   "source": [
    "# pip freeze > requirements.txt generates a text file of requirements (libraries) and their versions\n",
    "# then you can recover your libraries simply running\n",
    "# pip install -r requirements.txt\n",
    "!pip freeze > requirements.txt\n",
    "# could use a different name as well but requirements.txt is the common one"
   ]
  }
 ],
 "metadata": {
  "kernelspec": {
   "display_name": "Python 3",
   "language": "python",
   "name": "python3"
  },
  "language_info": {
   "codemirror_mode": {
    "name": "ipython",
    "version": 3
   },
   "file_extension": ".py",
   "mimetype": "text/x-python",
   "name": "python",
   "nbconvert_exporter": "python",
   "pygments_lexer": "ipython3",
   "version": "3.8.3"
  }
 },
 "nbformat": 4,
 "nbformat_minor": 4
}
