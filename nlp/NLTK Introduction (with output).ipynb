{
 "cells": [
  {
   "cell_type": "markdown",
   "metadata": {},
   "source": [
    "## Natural Language Toolkit (NLTK)\n",
    "\n",
    "**NLTK** is a leading platform for building Python programs to work with human language data. It provides easy-to-use interfaces to [over 50 corpora and lexical resources](http://www.nltk.org/nltk_data/) such as WordNet, along with a suite of text processing libraries for classification, tokenization, stemming, tagging, parsing, and semantic reasoning, wrappers for industrial-strength NLP libraries, and an active discussion forum.\n",
    "\n",
    "http://www.nltk.org/\n",
    "\n",
    "NLTK library documentation (reference) = *Use it to look up how to use a particular NLTK library function*\n",
    "* https://www.nltk.org/api/nltk.html\n",
    "\n",
    "---\n",
    "\n",
    "NLTK wiki (collaboratively edited documentation):\n",
    "* https://github.com/nltk/nltk/wiki"
   ]
  },
  {
   "cell_type": "markdown",
   "metadata": {},
   "source": [
    "### Book: Natural Language Processing with Python \n",
    "\n",
    "NLTK book provides a practical introduction to programming for language processing.\n",
    "\n",
    "Written by the creators of NLTK, it guides the reader through the fundamentals of writing Python programs, working with corpora, categorizing text, analyzing linguistic structure, and more.\n",
    "\n",
    "Online: http://www.nltk.org/book/\n",
    "\n",
    "* we will start with Chapter 1: [\"Language Processing and Python\"](http://www.nltk.org/book/ch01.html)\n",
    "\n",
    "---"
   ]
  },
  {
   "cell_type": "code",
   "execution_count": 1,
   "metadata": {},
   "outputs": [],
   "source": [
    "# configuration for the notebook \n",
    "%matplotlib notebook"
   ]
  },
  {
   "cell_type": "markdown",
   "metadata": {},
   "source": [
    "## 1) Getting started\n",
    "\n",
    "NLTK book: http://www.nltk.org/book/ch01.html#getting-started-with-nltk\n",
    "\n",
    "* Loading NLTK (Python module)\n",
    "* Downloading NLTK language resources (corpora, ...)\n"
   ]
  },
  {
   "cell_type": "code",
   "execution_count": 2,
   "metadata": {},
   "outputs": [],
   "source": [
    "# In order to use a Python library, we need to import (load) it\n",
    "\n",
    "import nltk\n"
   ]
  },
  {
   "cell_type": "code",
   "execution_count": 3,
   "metadata": {},
   "outputs": [
    {
     "data": {
      "text/plain": [
       "'3.4.4'"
      ]
     },
     "execution_count": 3,
     "metadata": {},
     "output_type": "execute_result"
    }
   ],
   "source": [
    "# Let's check what NLTK version we have (for easier troubleshooting and reproducibility)\n",
    "nltk.__version__"
   ]
  },
  {
   "cell_type": "code",
   "execution_count": 4,
   "metadata": {},
   "outputs": [],
   "source": [
    "# If your NLTK version is lower than 3.4.3 please update if possible.\n",
    "\n",
    "# Updating in Anaconde can be done using this command: \n",
    "# conda update nltk"
   ]
  },
  {
   "cell_type": "markdown",
   "metadata": {},
   "source": [
    "### nltk.Text\n",
    "\n",
    "**`ntlk.Text` is a simple NLTK helper for loading and exploring textual content (a sequence of words / string tokens):**\n",
    "\n",
    "... intended to support initial exploration of texts (via the interactive console). It can perform a variety of analyses on the text’s contexts (e.g., counting, concordancing, collocation discovery), and display the results.\n",
    "\n",
    "Documentation: [nltk.Text](https://www.nltk.org/api/nltk.html#nltk.text.Text)\n",
    "* lists what we can do with text once it is loaded into nltk.Text(...)"
   ]
  },
  {
   "cell_type": "code",
   "execution_count": 5,
   "metadata": {},
   "outputs": [
    {
     "data": {
      "text/plain": [
       "<Text: This is just an example Another example here...>"
      ]
     },
     "execution_count": 5,
     "metadata": {},
     "output_type": "execute_result"
    }
   ],
   "source": [
    "# Now we can try a simple example:\n",
    "\n",
    "my_word_list = [\"This\", \"is\", \"just\", \"an\", \"example\", \"Another\", \"example\", \"here\"]\n",
    "my_text = nltk.Text(my_word_list)\n",
    "\n",
    "my_text"
   ]
  },
  {
   "cell_type": "code",
   "execution_count": 6,
   "metadata": {},
   "outputs": [
    {
     "data": {
      "text/plain": [
       "nltk.text.Text"
      ]
     },
     "execution_count": 6,
     "metadata": {},
     "output_type": "execute_result"
    }
   ],
   "source": [
    "type(my_text)"
   ]
  },
  {
   "cell_type": "code",
   "execution_count": 7,
   "metadata": {},
   "outputs": [
    {
     "data": {
      "text/plain": [
       "2"
      ]
     },
     "execution_count": 7,
     "metadata": {},
     "output_type": "execute_result"
    }
   ],
   "source": [
    "# How many times does the word \"example\" appear?\n",
    "my_text.count(\"example\")\n",
    "\n",
    "# Notes:\n",
    "#  - my_text = our text, processed (loaded) by NLTK\n",
    "#     - technically: a Python object\n",
    "#  - my_text.count(...) = requesting the object to perform a .count(...) function and return the result\n",
    "#     - technically: calling a .count() method"
   ]
  },
  {
   "cell_type": "code",
   "execution_count": 8,
   "metadata": {},
   "outputs": [
    {
     "data": {
      "text/plain": [
       "0"
      ]
     },
     "execution_count": 8,
     "metadata": {},
     "output_type": "execute_result"
    }
   ],
   "source": [
    "# count works on tokens (full words in this case)\n",
    "my_text.count('exam')"
   ]
  },
  {
   "cell_type": "code",
   "execution_count": 9,
   "metadata": {},
   "outputs": [
    {
     "data": {
      "text/plain": [
       "False"
      ]
     },
     "execution_count": 9,
     "metadata": {},
     "output_type": "execute_result"
    }
   ],
   "source": [
    "'exam' in my_text"
   ]
  },
  {
   "cell_type": "code",
   "execution_count": 10,
   "metadata": {},
   "outputs": [
    {
     "data": {
      "text/plain": [
       "True"
      ]
     },
     "execution_count": 10,
     "metadata": {},
     "output_type": "execute_result"
    }
   ],
   "source": [
    "'example' in my_text"
   ]
  },
  {
   "cell_type": "markdown",
   "metadata": {},
   "source": [
    "### Tokenizing\n",
    "\n",
    "Let's convert a text string into nltk.Text.\n",
    "First, we need to split it into tokens (to *tokenize* it). "
   ]
  },
  {
   "cell_type": "code",
   "execution_count": 11,
   "metadata": {},
   "outputs": [
    {
     "name": "stderr",
     "output_type": "stream",
     "text": [
      "[nltk_data] Downloading package punkt to /Users/captsolo/nltk_data...\n",
      "[nltk_data]   Package punkt is already up-to-date!\n"
     ]
    },
    {
     "data": {
      "text/plain": [
       "True"
      ]
     },
     "execution_count": 11,
     "metadata": {},
     "output_type": "execute_result"
    }
   ],
   "source": [
    "# We need to download a package containing punctuation before we can tokenize\n",
    "import nltk\n",
    "nltk.download('punkt')"
   ]
  },
  {
   "cell_type": "code",
   "execution_count": 12,
   "metadata": {},
   "outputs": [
    {
     "data": {
      "text/plain": [
       "['NLTK', 'has', 'been', 'called', '“', 'a']"
      ]
     },
     "execution_count": 12,
     "metadata": {},
     "output_type": "execute_result"
    }
   ],
   "source": [
    "# Splitting text into tokens (words, ...) = tokenizing\n",
    "\n",
    "from nltk.tokenize import word_tokenize\n",
    "\n",
    "excerpt = \"NLTK has been called “a wonderful tool for teaching, and working in, computational linguistics using Python,” and “an amazing library to play with natural language.”\"\n",
    "tokens = word_tokenize(excerpt)\n",
    "\n",
    "tokens[:6]"
   ]
  },
  {
   "cell_type": "code",
   "execution_count": 13,
   "metadata": {},
   "outputs": [
    {
     "name": "stdout",
     "output_type": "stream",
     "text": [
      "1\n"
     ]
    }
   ],
   "source": [
    "my_text2 = nltk.Text(tokens)\n",
    "\n",
    "print(my_text2.count(\"NLTK\"))"
   ]
  },
  {
   "cell_type": "markdown",
   "metadata": {},
   "source": [
    "### Downloading NLTK language resources\n",
    "\n",
    "NLTK also contains many language resources (corpora, ...) but you have select and download them separately (in order to save disk space and only download what is needed).\n",
    "\n",
    "Let's download text collections used in the NLTK book: \n",
    "* `nltk.download(\"book\")`\n",
    "\n",
    "Note: you can also download resources interactively:\n",
    "* `nltk.download()`"
   ]
  },
  {
   "cell_type": "code",
   "execution_count": 14,
   "metadata": {},
   "outputs": [
    {
     "name": "stderr",
     "output_type": "stream",
     "text": [
      "[nltk_data] Downloading collection 'book'\n",
      "[nltk_data]    | \n",
      "[nltk_data]    | Downloading package abc to\n",
      "[nltk_data]    |     /Users/captsolo/nltk_data...\n",
      "[nltk_data]    |   Package abc is already up-to-date!\n",
      "[nltk_data]    | Downloading package brown to\n",
      "[nltk_data]    |     /Users/captsolo/nltk_data...\n",
      "[nltk_data]    |   Package brown is already up-to-date!\n",
      "[nltk_data]    | Downloading package chat80 to\n",
      "[nltk_data]    |     /Users/captsolo/nltk_data...\n",
      "[nltk_data]    |   Package chat80 is already up-to-date!\n",
      "[nltk_data]    | Downloading package cmudict to\n",
      "[nltk_data]    |     /Users/captsolo/nltk_data...\n",
      "[nltk_data]    |   Package cmudict is already up-to-date!\n",
      "[nltk_data]    | Downloading package conll2000 to\n",
      "[nltk_data]    |     /Users/captsolo/nltk_data...\n",
      "[nltk_data]    |   Package conll2000 is already up-to-date!\n",
      "[nltk_data]    | Downloading package conll2002 to\n",
      "[nltk_data]    |     /Users/captsolo/nltk_data...\n",
      "[nltk_data]    |   Package conll2002 is already up-to-date!\n",
      "[nltk_data]    | Downloading package dependency_treebank to\n",
      "[nltk_data]    |     /Users/captsolo/nltk_data...\n",
      "[nltk_data]    |   Package dependency_treebank is already up-to-date!\n",
      "[nltk_data]    | Downloading package genesis to\n",
      "[nltk_data]    |     /Users/captsolo/nltk_data...\n",
      "[nltk_data]    |   Package genesis is already up-to-date!\n",
      "[nltk_data]    | Downloading package gutenberg to\n",
      "[nltk_data]    |     /Users/captsolo/nltk_data...\n",
      "[nltk_data]    |   Package gutenberg is already up-to-date!\n",
      "[nltk_data]    | Downloading package ieer to\n",
      "[nltk_data]    |     /Users/captsolo/nltk_data...\n",
      "[nltk_data]    |   Package ieer is already up-to-date!\n",
      "[nltk_data]    | Downloading package inaugural to\n",
      "[nltk_data]    |     /Users/captsolo/nltk_data...\n",
      "[nltk_data]    |   Package inaugural is already up-to-date!\n",
      "[nltk_data]    | Downloading package movie_reviews to\n",
      "[nltk_data]    |     /Users/captsolo/nltk_data...\n",
      "[nltk_data]    |   Package movie_reviews is already up-to-date!\n",
      "[nltk_data]    | Downloading package nps_chat to\n",
      "[nltk_data]    |     /Users/captsolo/nltk_data...\n",
      "[nltk_data]    |   Package nps_chat is already up-to-date!\n",
      "[nltk_data]    | Downloading package names to\n",
      "[nltk_data]    |     /Users/captsolo/nltk_data...\n",
      "[nltk_data]    |   Package names is already up-to-date!\n",
      "[nltk_data]    | Downloading package ppattach to\n",
      "[nltk_data]    |     /Users/captsolo/nltk_data...\n",
      "[nltk_data]    |   Package ppattach is already up-to-date!\n",
      "[nltk_data]    | Downloading package reuters to\n",
      "[nltk_data]    |     /Users/captsolo/nltk_data...\n",
      "[nltk_data]    |   Package reuters is already up-to-date!\n",
      "[nltk_data]    | Downloading package senseval to\n",
      "[nltk_data]    |     /Users/captsolo/nltk_data...\n",
      "[nltk_data]    |   Package senseval is already up-to-date!\n",
      "[nltk_data]    | Downloading package state_union to\n",
      "[nltk_data]    |     /Users/captsolo/nltk_data...\n",
      "[nltk_data]    |   Package state_union is already up-to-date!\n",
      "[nltk_data]    | Downloading package stopwords to\n",
      "[nltk_data]    |     /Users/captsolo/nltk_data...\n",
      "[nltk_data]    |   Package stopwords is already up-to-date!\n",
      "[nltk_data]    | Downloading package swadesh to\n",
      "[nltk_data]    |     /Users/captsolo/nltk_data...\n",
      "[nltk_data]    |   Package swadesh is already up-to-date!\n",
      "[nltk_data]    | Downloading package timit to\n",
      "[nltk_data]    |     /Users/captsolo/nltk_data...\n",
      "[nltk_data]    |   Package timit is already up-to-date!\n",
      "[nltk_data]    | Downloading package treebank to\n",
      "[nltk_data]    |     /Users/captsolo/nltk_data...\n",
      "[nltk_data]    |   Package treebank is already up-to-date!\n",
      "[nltk_data]    | Downloading package toolbox to\n",
      "[nltk_data]    |     /Users/captsolo/nltk_data...\n",
      "[nltk_data]    |   Package toolbox is already up-to-date!\n",
      "[nltk_data]    | Downloading package udhr to\n",
      "[nltk_data]    |     /Users/captsolo/nltk_data...\n",
      "[nltk_data]    |   Package udhr is already up-to-date!\n",
      "[nltk_data]    | Downloading package udhr2 to\n",
      "[nltk_data]    |     /Users/captsolo/nltk_data...\n",
      "[nltk_data]    |   Package udhr2 is already up-to-date!\n",
      "[nltk_data]    | Downloading package unicode_samples to\n",
      "[nltk_data]    |     /Users/captsolo/nltk_data...\n",
      "[nltk_data]    |   Package unicode_samples is already up-to-date!\n",
      "[nltk_data]    | Downloading package webtext to\n",
      "[nltk_data]    |     /Users/captsolo/nltk_data...\n",
      "[nltk_data]    |   Package webtext is already up-to-date!\n",
      "[nltk_data]    | Downloading package wordnet to\n",
      "[nltk_data]    |     /Users/captsolo/nltk_data...\n",
      "[nltk_data]    |   Package wordnet is already up-to-date!\n",
      "[nltk_data]    | Downloading package wordnet_ic to\n",
      "[nltk_data]    |     /Users/captsolo/nltk_data...\n",
      "[nltk_data]    |   Package wordnet_ic is already up-to-date!\n",
      "[nltk_data]    | Downloading package words to\n",
      "[nltk_data]    |     /Users/captsolo/nltk_data...\n",
      "[nltk_data]    |   Package words is already up-to-date!\n",
      "[nltk_data]    | Downloading package maxent_treebank_pos_tagger to\n",
      "[nltk_data]    |     /Users/captsolo/nltk_data...\n",
      "[nltk_data]    |   Package maxent_treebank_pos_tagger is already up-\n",
      "[nltk_data]    |       to-date!\n",
      "[nltk_data]    | Downloading package maxent_ne_chunker to\n",
      "[nltk_data]    |     /Users/captsolo/nltk_data...\n",
      "[nltk_data]    |   Package maxent_ne_chunker is already up-to-date!\n",
      "[nltk_data]    | Downloading package universal_tagset to\n",
      "[nltk_data]    |     /Users/captsolo/nltk_data...\n",
      "[nltk_data]    |   Package universal_tagset is already up-to-date!\n",
      "[nltk_data]    | Downloading package punkt to\n",
      "[nltk_data]    |     /Users/captsolo/nltk_data...\n",
      "[nltk_data]    |   Package punkt is already up-to-date!\n",
      "[nltk_data]    | Downloading package book_grammars to\n",
      "[nltk_data]    |     /Users/captsolo/nltk_data...\n",
      "[nltk_data]    |   Package book_grammars is already up-to-date!\n",
      "[nltk_data]    | Downloading package city_database to\n",
      "[nltk_data]    |     /Users/captsolo/nltk_data...\n",
      "[nltk_data]    |   Package city_database is already up-to-date!\n",
      "[nltk_data]    | Downloading package tagsets to\n",
      "[nltk_data]    |     /Users/captsolo/nltk_data...\n",
      "[nltk_data]    |   Package tagsets is already up-to-date!\n",
      "[nltk_data]    | Downloading package panlex_swadesh to\n",
      "[nltk_data]    |     /Users/captsolo/nltk_data...\n",
      "[nltk_data]    |   Package panlex_swadesh is already up-to-date!\n",
      "[nltk_data]    | Downloading package averaged_perceptron_tagger to\n",
      "[nltk_data]    |     /Users/captsolo/nltk_data...\n",
      "[nltk_data]    |   Package averaged_perceptron_tagger is already up-\n",
      "[nltk_data]    |       to-date!\n",
      "[nltk_data]    | \n",
      "[nltk_data]  Done downloading collection book\n"
     ]
    },
    {
     "data": {
      "text/plain": [
       "True"
      ]
     },
     "execution_count": 14,
     "metadata": {},
     "output_type": "execute_result"
    }
   ],
   "source": [
    "# this is a big download of all book packages\n",
    "nltk.download(\"book\")"
   ]
  },
  {
   "cell_type": "code",
   "execution_count": 15,
   "metadata": {},
   "outputs": [
    {
     "name": "stdout",
     "output_type": "stream",
     "text": [
      "*** Introductory Examples for the NLTK Book ***\n",
      "Loading text1, ..., text9 and sent1, ..., sent9\n",
      "Type the name of the text or sentence to view it.\n",
      "Type: 'texts()' or 'sents()' to list the materials.\n",
      "text1: Moby Dick by Herman Melville 1851\n",
      "text2: Sense and Sensibility by Jane Austen 1811\n",
      "text3: The Book of Genesis\n",
      "text4: Inaugural Address Corpus\n",
      "text5: Chat Corpus\n",
      "text6: Monty Python and the Holy Grail\n",
      "text7: Wall Street Journal\n",
      "text8: Personals Corpus\n",
      "text9: The Man Who Was Thursday by G . K . Chesterton 1908\n"
     ]
    }
   ],
   "source": [
    "# After downloading the reources we still need to import them\n",
    "\n",
    "# Let's import all NLTK book resource (*)\n",
    "from nltk.book import *"
   ]
  },
  {
   "cell_type": "markdown",
   "metadata": {},
   "source": [
    "## 2) Exploring textual content"
   ]
  },
  {
   "cell_type": "code",
   "execution_count": 16,
   "metadata": {},
   "outputs": [
    {
     "data": {
      "text/plain": [
       "nltk.text.Text"
      ]
     },
     "execution_count": 16,
     "metadata": {},
     "output_type": "execute_result"
    }
   ],
   "source": [
    "# text1, ... resources are of type nltk.Text (same as in the earlier example):\n",
    "\n",
    "type(text1)"
   ]
  },
  {
   "cell_type": "code",
   "execution_count": 17,
   "metadata": {},
   "outputs": [
    {
     "name": "stdout",
     "output_type": "stream",
     "text": [
      "906\n"
     ]
    }
   ],
   "source": [
    "# We can run all methods that nltk.Text has.\n",
    "\n",
    "# Count words:\n",
    "print(text1.count(\"whale\"))"
   ]
  },
  {
   "cell_type": "code",
   "execution_count": 18,
   "metadata": {},
   "outputs": [
    {
     "name": "stdout",
     "output_type": "stream",
     "text": [
      "Displaying 7 of 7 matches:\n",
      "cean , in order , if possible , to discover a passage through it to India , th\n",
      " throw at the whales , in order to discover when they were nigh enough to risk\n",
      "for ever reach new distances , and discover sights more sweet and strange than\n",
      "gs upon the plain , you will often discover images as of the petrified forms o\n",
      " over numberless unknown worlds to discover his one superficial western one ; \n",
      "se two heads for hours , and never discover that organ . The ear has no extern\n",
      "s keener than man ' s ; Ahab could discover no sign in the sea . But suddenly \n"
     ]
    }
   ],
   "source": [
    "# https://www.nltk.org/api/nltk.html#nltk.text.Text.concordance\n",
    "\n",
    "# Print concordance view (occurences of a word, in context):\n",
    "text1.concordance(\"discover\")"
   ]
  },
  {
   "cell_type": "code",
   "execution_count": 19,
   "metadata": {},
   "outputs": [
    {
     "name": "stdout",
     "output_type": "stream",
     "text": [
      "Displaying 25 of 316 matches:\n",
      " to the character of an independent nation seems to have been distinguished by\n",
      "f Heaven can never be expected on a nation that disregards the eternal rules o\n",
      "first , the representatives of this nation , then consisting of little more th\n",
      ", situation , and relations of this nation and country than any which had ever\n",
      ", prosperity , and happiness of the nation I have acquired an habitual attachm\n",
      "an be no spectacle presented by any nation more pleasing , more noble , majest\n",
      "party for its own ends , not of the nation for the national good . If that sol\n",
      "tures and the people throughout the nation . On this subject it might become m\n",
      "if a personal esteem for the French nation , formed in a residence of seven ye\n",
      "f our fellow - citizens by whatever nation , and if success can not be obtaine\n",
      "y , continue His blessing upon this nation and its Government and give it all \n",
      "powers so justly inspire . A rising nation , spread over a wide and fruitful l\n",
      "ing now decided by the voice of the nation , announced according to the rules \n",
      "ars witness to the fact that a just nation is trusted on its word when recours\n",
      "e union of opinion which gives to a nation the blessing of harmony and the ben\n",
      "uil suffrage of a free and virtuous nation , would under any circumstances hav\n",
      "d spirit and united councils of the nation will be safeguards to its honor and\n",
      "iction that the war with a powerful nation , which forms so prominent a featur\n",
      "out breaking down the spirit of the nation , destroying all confidence in itse\n",
      "ed on the military resources of the nation . These resources are amply suffici\n",
      "the war to an honorable issue . Our nation is in number more than half that of\n",
      "ndividually have been happy and the nation prosperous . Under this Constitutio\n",
      "rights , and is able to protect the nation against injustice from foreign powe\n",
      " great agricultural interest of the nation prospers under its protection . Loc\n",
      "ak our Union , and demolish us as a nation . Our distance from Europe and the \n"
     ]
    }
   ],
   "source": [
    "text4.concordance(\"nation\")"
   ]
  },
  {
   "cell_type": "code",
   "execution_count": 20,
   "metadata": {
    "scrolled": true
   },
   "outputs": [
    {
     "name": "stdout",
     "output_type": "stream",
     "text": [
      "country people government world union time constitution states\n",
      "republic land law party earth other future president war executive\n",
      "congress peace\n"
     ]
    }
   ],
   "source": [
    "# https://www.nltk.org/api/nltk.html#nltk.text.Text.similar\n",
    "\n",
    "# Print words that appear in similar context as \"nation\".\n",
    "text4.similar(\"nation\")"
   ]
  },
  {
   "cell_type": "code",
   "execution_count": 21,
   "metadata": {},
   "outputs": [
    {
     "name": "stdout",
     "output_type": "stream",
     "text": [
      "that_, a_, every_, by_or that_; of_; the_previous by_, -_, of_. the_,\n",
      "one_, all_. the_. this_in all_in the_before after_, the_wore\n",
      "through_into\n"
     ]
    }
   ],
   "source": [
    "# https://www.nltk.org/api/nltk.html#nltk.text.Text.common_contexts\n",
    "\n",
    "# Find contexts common to all given words\n",
    "text1.common_contexts([\"day\", \"night\"])\n"
   ]
  },
  {
   "cell_type": "markdown",
   "metadata": {},
   "source": [
    "### Side note: Python lists\n",
    "\n",
    "A *list* contains multiple values in an ordered sequence.\n",
    "\n",
    "More about Python lists:\n",
    "* https://automatetheboringstuff.com/chapter4/"
   ]
  },
  {
   "cell_type": "code",
   "execution_count": 22,
   "metadata": {},
   "outputs": [
    {
     "name": "stdout",
     "output_type": "stream",
     "text": [
      "42\n"
     ]
    }
   ],
   "source": [
    "# nltk.Text is also a list - can do everything we can do with lists (access parts of it, ...)\n",
    "\n",
    "# What's the 1st occurence of \"He\" in the text?\n",
    "#  - note: Python is case sensitive (unless you take care of it - e.g. convert all text to lowercase)\n",
    "\n",
    "print(text1.index(\"He\"))"
   ]
  },
  {
   "cell_type": "code",
   "execution_count": 23,
   "metadata": {},
   "outputs": [
    {
     "name": "stdout",
     "output_type": "stream",
     "text": [
      "He\n"
     ]
    }
   ],
   "source": [
    "# The word at position #42\n",
    "#  - note: list indexes start from 0\n",
    "\n",
    "print(text1[42])"
   ]
  },
  {
   "cell_type": "code",
   "execution_count": 24,
   "metadata": {},
   "outputs": [
    {
     "name": "stdout",
     "output_type": "stream",
     "text": [
      "['He', 'was', 'ever', 'dusting', 'his', 'old', 'lexicons', 'and', 'grammars', ',']\n"
     ]
    }
   ],
   "source": [
    "print(text1[42:52])"
   ]
  },
  {
   "cell_type": "markdown",
   "metadata": {},
   "source": [
    "## Further exploration\n",
    "\n",
    "* Dispersion plots (distribution of words throughout the text)\n",
    "* Generating text (based on example)\n",
    "\n",
    "### Visualizing the corpus"
   ]
  },
  {
   "cell_type": "code",
   "execution_count": 25,
   "metadata": {
    "scrolled": true
   },
   "outputs": [
    {
     "data": {
      "application/javascript": [
       "/* Put everything inside the global mpl namespace */\n",
       "window.mpl = {};\n",
       "\n",
       "\n",
       "mpl.get_websocket_type = function() {\n",
       "    if (typeof(WebSocket) !== 'undefined') {\n",
       "        return WebSocket;\n",
       "    } else if (typeof(MozWebSocket) !== 'undefined') {\n",
       "        return MozWebSocket;\n",
       "    } else {\n",
       "        alert('Your browser does not have WebSocket support. ' +\n",
       "              'Please try Chrome, Safari or Firefox ≥ 6. ' +\n",
       "              'Firefox 4 and 5 are also supported but you ' +\n",
       "              'have to enable WebSockets in about:config.');\n",
       "    };\n",
       "}\n",
       "\n",
       "mpl.figure = function(figure_id, websocket, ondownload, parent_element) {\n",
       "    this.id = figure_id;\n",
       "\n",
       "    this.ws = websocket;\n",
       "\n",
       "    this.supports_binary = (this.ws.binaryType != undefined);\n",
       "\n",
       "    if (!this.supports_binary) {\n",
       "        var warnings = document.getElementById(\"mpl-warnings\");\n",
       "        if (warnings) {\n",
       "            warnings.style.display = 'block';\n",
       "            warnings.textContent = (\n",
       "                \"This browser does not support binary websocket messages. \" +\n",
       "                    \"Performance may be slow.\");\n",
       "        }\n",
       "    }\n",
       "\n",
       "    this.imageObj = new Image();\n",
       "\n",
       "    this.context = undefined;\n",
       "    this.message = undefined;\n",
       "    this.canvas = undefined;\n",
       "    this.rubberband_canvas = undefined;\n",
       "    this.rubberband_context = undefined;\n",
       "    this.format_dropdown = undefined;\n",
       "\n",
       "    this.image_mode = 'full';\n",
       "\n",
       "    this.root = $('<div/>');\n",
       "    this._root_extra_style(this.root)\n",
       "    this.root.attr('style', 'display: inline-block');\n",
       "\n",
       "    $(parent_element).append(this.root);\n",
       "\n",
       "    this._init_header(this);\n",
       "    this._init_canvas(this);\n",
       "    this._init_toolbar(this);\n",
       "\n",
       "    var fig = this;\n",
       "\n",
       "    this.waiting = false;\n",
       "\n",
       "    this.ws.onopen =  function () {\n",
       "            fig.send_message(\"supports_binary\", {value: fig.supports_binary});\n",
       "            fig.send_message(\"send_image_mode\", {});\n",
       "            if (mpl.ratio != 1) {\n",
       "                fig.send_message(\"set_dpi_ratio\", {'dpi_ratio': mpl.ratio});\n",
       "            }\n",
       "            fig.send_message(\"refresh\", {});\n",
       "        }\n",
       "\n",
       "    this.imageObj.onload = function() {\n",
       "            if (fig.image_mode == 'full') {\n",
       "                // Full images could contain transparency (where diff images\n",
       "                // almost always do), so we need to clear the canvas so that\n",
       "                // there is no ghosting.\n",
       "                fig.context.clearRect(0, 0, fig.canvas.width, fig.canvas.height);\n",
       "            }\n",
       "            fig.context.drawImage(fig.imageObj, 0, 0);\n",
       "        };\n",
       "\n",
       "    this.imageObj.onunload = function() {\n",
       "        fig.ws.close();\n",
       "    }\n",
       "\n",
       "    this.ws.onmessage = this._make_on_message_function(this);\n",
       "\n",
       "    this.ondownload = ondownload;\n",
       "}\n",
       "\n",
       "mpl.figure.prototype._init_header = function() {\n",
       "    var titlebar = $(\n",
       "        '<div class=\"ui-dialog-titlebar ui-widget-header ui-corner-all ' +\n",
       "        'ui-helper-clearfix\"/>');\n",
       "    var titletext = $(\n",
       "        '<div class=\"ui-dialog-title\" style=\"width: 100%; ' +\n",
       "        'text-align: center; padding: 3px;\"/>');\n",
       "    titlebar.append(titletext)\n",
       "    this.root.append(titlebar);\n",
       "    this.header = titletext[0];\n",
       "}\n",
       "\n",
       "\n",
       "\n",
       "mpl.figure.prototype._canvas_extra_style = function(canvas_div) {\n",
       "\n",
       "}\n",
       "\n",
       "\n",
       "mpl.figure.prototype._root_extra_style = function(canvas_div) {\n",
       "\n",
       "}\n",
       "\n",
       "mpl.figure.prototype._init_canvas = function() {\n",
       "    var fig = this;\n",
       "\n",
       "    var canvas_div = $('<div/>');\n",
       "\n",
       "    canvas_div.attr('style', 'position: relative; clear: both; outline: 0');\n",
       "\n",
       "    function canvas_keyboard_event(event) {\n",
       "        return fig.key_event(event, event['data']);\n",
       "    }\n",
       "\n",
       "    canvas_div.keydown('key_press', canvas_keyboard_event);\n",
       "    canvas_div.keyup('key_release', canvas_keyboard_event);\n",
       "    this.canvas_div = canvas_div\n",
       "    this._canvas_extra_style(canvas_div)\n",
       "    this.root.append(canvas_div);\n",
       "\n",
       "    var canvas = $('<canvas/>');\n",
       "    canvas.addClass('mpl-canvas');\n",
       "    canvas.attr('style', \"left: 0; top: 0; z-index: 0; outline: 0\")\n",
       "\n",
       "    this.canvas = canvas[0];\n",
       "    this.context = canvas[0].getContext(\"2d\");\n",
       "\n",
       "    var backingStore = this.context.backingStorePixelRatio ||\n",
       "\tthis.context.webkitBackingStorePixelRatio ||\n",
       "\tthis.context.mozBackingStorePixelRatio ||\n",
       "\tthis.context.msBackingStorePixelRatio ||\n",
       "\tthis.context.oBackingStorePixelRatio ||\n",
       "\tthis.context.backingStorePixelRatio || 1;\n",
       "\n",
       "    mpl.ratio = (window.devicePixelRatio || 1) / backingStore;\n",
       "\n",
       "    var rubberband = $('<canvas/>');\n",
       "    rubberband.attr('style', \"position: absolute; left: 0; top: 0; z-index: 1;\")\n",
       "\n",
       "    var pass_mouse_events = true;\n",
       "\n",
       "    canvas_div.resizable({\n",
       "        start: function(event, ui) {\n",
       "            pass_mouse_events = false;\n",
       "        },\n",
       "        resize: function(event, ui) {\n",
       "            fig.request_resize(ui.size.width, ui.size.height);\n",
       "        },\n",
       "        stop: function(event, ui) {\n",
       "            pass_mouse_events = true;\n",
       "            fig.request_resize(ui.size.width, ui.size.height);\n",
       "        },\n",
       "    });\n",
       "\n",
       "    function mouse_event_fn(event) {\n",
       "        if (pass_mouse_events)\n",
       "            return fig.mouse_event(event, event['data']);\n",
       "    }\n",
       "\n",
       "    rubberband.mousedown('button_press', mouse_event_fn);\n",
       "    rubberband.mouseup('button_release', mouse_event_fn);\n",
       "    // Throttle sequential mouse events to 1 every 20ms.\n",
       "    rubberband.mousemove('motion_notify', mouse_event_fn);\n",
       "\n",
       "    rubberband.mouseenter('figure_enter', mouse_event_fn);\n",
       "    rubberband.mouseleave('figure_leave', mouse_event_fn);\n",
       "\n",
       "    canvas_div.on(\"wheel\", function (event) {\n",
       "        event = event.originalEvent;\n",
       "        event['data'] = 'scroll'\n",
       "        if (event.deltaY < 0) {\n",
       "            event.step = 1;\n",
       "        } else {\n",
       "            event.step = -1;\n",
       "        }\n",
       "        mouse_event_fn(event);\n",
       "    });\n",
       "\n",
       "    canvas_div.append(canvas);\n",
       "    canvas_div.append(rubberband);\n",
       "\n",
       "    this.rubberband = rubberband;\n",
       "    this.rubberband_canvas = rubberband[0];\n",
       "    this.rubberband_context = rubberband[0].getContext(\"2d\");\n",
       "    this.rubberband_context.strokeStyle = \"#000000\";\n",
       "\n",
       "    this._resize_canvas = function(width, height) {\n",
       "        // Keep the size of the canvas, canvas container, and rubber band\n",
       "        // canvas in synch.\n",
       "        canvas_div.css('width', width)\n",
       "        canvas_div.css('height', height)\n",
       "\n",
       "        canvas.attr('width', width * mpl.ratio);\n",
       "        canvas.attr('height', height * mpl.ratio);\n",
       "        canvas.attr('style', 'width: ' + width + 'px; height: ' + height + 'px;');\n",
       "\n",
       "        rubberband.attr('width', width);\n",
       "        rubberband.attr('height', height);\n",
       "    }\n",
       "\n",
       "    // Set the figure to an initial 600x600px, this will subsequently be updated\n",
       "    // upon first draw.\n",
       "    this._resize_canvas(600, 600);\n",
       "\n",
       "    // Disable right mouse context menu.\n",
       "    $(this.rubberband_canvas).bind(\"contextmenu\",function(e){\n",
       "        return false;\n",
       "    });\n",
       "\n",
       "    function set_focus () {\n",
       "        canvas.focus();\n",
       "        canvas_div.focus();\n",
       "    }\n",
       "\n",
       "    window.setTimeout(set_focus, 100);\n",
       "}\n",
       "\n",
       "mpl.figure.prototype._init_toolbar = function() {\n",
       "    var fig = this;\n",
       "\n",
       "    var nav_element = $('<div/>');\n",
       "    nav_element.attr('style', 'width: 100%');\n",
       "    this.root.append(nav_element);\n",
       "\n",
       "    // Define a callback function for later on.\n",
       "    function toolbar_event(event) {\n",
       "        return fig.toolbar_button_onclick(event['data']);\n",
       "    }\n",
       "    function toolbar_mouse_event(event) {\n",
       "        return fig.toolbar_button_onmouseover(event['data']);\n",
       "    }\n",
       "\n",
       "    for(var toolbar_ind in mpl.toolbar_items) {\n",
       "        var name = mpl.toolbar_items[toolbar_ind][0];\n",
       "        var tooltip = mpl.toolbar_items[toolbar_ind][1];\n",
       "        var image = mpl.toolbar_items[toolbar_ind][2];\n",
       "        var method_name = mpl.toolbar_items[toolbar_ind][3];\n",
       "\n",
       "        if (!name) {\n",
       "            // put a spacer in here.\n",
       "            continue;\n",
       "        }\n",
       "        var button = $('<button/>');\n",
       "        button.addClass('ui-button ui-widget ui-state-default ui-corner-all ' +\n",
       "                        'ui-button-icon-only');\n",
       "        button.attr('role', 'button');\n",
       "        button.attr('aria-disabled', 'false');\n",
       "        button.click(method_name, toolbar_event);\n",
       "        button.mouseover(tooltip, toolbar_mouse_event);\n",
       "\n",
       "        var icon_img = $('<span/>');\n",
       "        icon_img.addClass('ui-button-icon-primary ui-icon');\n",
       "        icon_img.addClass(image);\n",
       "        icon_img.addClass('ui-corner-all');\n",
       "\n",
       "        var tooltip_span = $('<span/>');\n",
       "        tooltip_span.addClass('ui-button-text');\n",
       "        tooltip_span.html(tooltip);\n",
       "\n",
       "        button.append(icon_img);\n",
       "        button.append(tooltip_span);\n",
       "\n",
       "        nav_element.append(button);\n",
       "    }\n",
       "\n",
       "    var fmt_picker_span = $('<span/>');\n",
       "\n",
       "    var fmt_picker = $('<select/>');\n",
       "    fmt_picker.addClass('mpl-toolbar-option ui-widget ui-widget-content');\n",
       "    fmt_picker_span.append(fmt_picker);\n",
       "    nav_element.append(fmt_picker_span);\n",
       "    this.format_dropdown = fmt_picker[0];\n",
       "\n",
       "    for (var ind in mpl.extensions) {\n",
       "        var fmt = mpl.extensions[ind];\n",
       "        var option = $(\n",
       "            '<option/>', {selected: fmt === mpl.default_extension}).html(fmt);\n",
       "        fmt_picker.append(option);\n",
       "    }\n",
       "\n",
       "    // Add hover states to the ui-buttons\n",
       "    $( \".ui-button\" ).hover(\n",
       "        function() { $(this).addClass(\"ui-state-hover\");},\n",
       "        function() { $(this).removeClass(\"ui-state-hover\");}\n",
       "    );\n",
       "\n",
       "    var status_bar = $('<span class=\"mpl-message\"/>');\n",
       "    nav_element.append(status_bar);\n",
       "    this.message = status_bar[0];\n",
       "}\n",
       "\n",
       "mpl.figure.prototype.request_resize = function(x_pixels, y_pixels) {\n",
       "    // Request matplotlib to resize the figure. Matplotlib will then trigger a resize in the client,\n",
       "    // which will in turn request a refresh of the image.\n",
       "    this.send_message('resize', {'width': x_pixels, 'height': y_pixels});\n",
       "}\n",
       "\n",
       "mpl.figure.prototype.send_message = function(type, properties) {\n",
       "    properties['type'] = type;\n",
       "    properties['figure_id'] = this.id;\n",
       "    this.ws.send(JSON.stringify(properties));\n",
       "}\n",
       "\n",
       "mpl.figure.prototype.send_draw_message = function() {\n",
       "    if (!this.waiting) {\n",
       "        this.waiting = true;\n",
       "        this.ws.send(JSON.stringify({type: \"draw\", figure_id: this.id}));\n",
       "    }\n",
       "}\n",
       "\n",
       "\n",
       "mpl.figure.prototype.handle_save = function(fig, msg) {\n",
       "    var format_dropdown = fig.format_dropdown;\n",
       "    var format = format_dropdown.options[format_dropdown.selectedIndex].value;\n",
       "    fig.ondownload(fig, format);\n",
       "}\n",
       "\n",
       "\n",
       "mpl.figure.prototype.handle_resize = function(fig, msg) {\n",
       "    var size = msg['size'];\n",
       "    if (size[0] != fig.canvas.width || size[1] != fig.canvas.height) {\n",
       "        fig._resize_canvas(size[0], size[1]);\n",
       "        fig.send_message(\"refresh\", {});\n",
       "    };\n",
       "}\n",
       "\n",
       "mpl.figure.prototype.handle_rubberband = function(fig, msg) {\n",
       "    var x0 = msg['x0'] / mpl.ratio;\n",
       "    var y0 = (fig.canvas.height - msg['y0']) / mpl.ratio;\n",
       "    var x1 = msg['x1'] / mpl.ratio;\n",
       "    var y1 = (fig.canvas.height - msg['y1']) / mpl.ratio;\n",
       "    x0 = Math.floor(x0) + 0.5;\n",
       "    y0 = Math.floor(y0) + 0.5;\n",
       "    x1 = Math.floor(x1) + 0.5;\n",
       "    y1 = Math.floor(y1) + 0.5;\n",
       "    var min_x = Math.min(x0, x1);\n",
       "    var min_y = Math.min(y0, y1);\n",
       "    var width = Math.abs(x1 - x0);\n",
       "    var height = Math.abs(y1 - y0);\n",
       "\n",
       "    fig.rubberband_context.clearRect(\n",
       "        0, 0, fig.canvas.width / mpl.ratio, fig.canvas.height / mpl.ratio);\n",
       "\n",
       "    fig.rubberband_context.strokeRect(min_x, min_y, width, height);\n",
       "}\n",
       "\n",
       "mpl.figure.prototype.handle_figure_label = function(fig, msg) {\n",
       "    // Updates the figure title.\n",
       "    fig.header.textContent = msg['label'];\n",
       "}\n",
       "\n",
       "mpl.figure.prototype.handle_cursor = function(fig, msg) {\n",
       "    var cursor = msg['cursor'];\n",
       "    switch(cursor)\n",
       "    {\n",
       "    case 0:\n",
       "        cursor = 'pointer';\n",
       "        break;\n",
       "    case 1:\n",
       "        cursor = 'default';\n",
       "        break;\n",
       "    case 2:\n",
       "        cursor = 'crosshair';\n",
       "        break;\n",
       "    case 3:\n",
       "        cursor = 'move';\n",
       "        break;\n",
       "    }\n",
       "    fig.rubberband_canvas.style.cursor = cursor;\n",
       "}\n",
       "\n",
       "mpl.figure.prototype.handle_message = function(fig, msg) {\n",
       "    fig.message.textContent = msg['message'];\n",
       "}\n",
       "\n",
       "mpl.figure.prototype.handle_draw = function(fig, msg) {\n",
       "    // Request the server to send over a new figure.\n",
       "    fig.send_draw_message();\n",
       "}\n",
       "\n",
       "mpl.figure.prototype.handle_image_mode = function(fig, msg) {\n",
       "    fig.image_mode = msg['mode'];\n",
       "}\n",
       "\n",
       "mpl.figure.prototype.updated_canvas_event = function() {\n",
       "    // Called whenever the canvas gets updated.\n",
       "    this.send_message(\"ack\", {});\n",
       "}\n",
       "\n",
       "// A function to construct a web socket function for onmessage handling.\n",
       "// Called in the figure constructor.\n",
       "mpl.figure.prototype._make_on_message_function = function(fig) {\n",
       "    return function socket_on_message(evt) {\n",
       "        if (evt.data instanceof Blob) {\n",
       "            /* FIXME: We get \"Resource interpreted as Image but\n",
       "             * transferred with MIME type text/plain:\" errors on\n",
       "             * Chrome.  But how to set the MIME type?  It doesn't seem\n",
       "             * to be part of the websocket stream */\n",
       "            evt.data.type = \"image/png\";\n",
       "\n",
       "            /* Free the memory for the previous frames */\n",
       "            if (fig.imageObj.src) {\n",
       "                (window.URL || window.webkitURL).revokeObjectURL(\n",
       "                    fig.imageObj.src);\n",
       "            }\n",
       "\n",
       "            fig.imageObj.src = (window.URL || window.webkitURL).createObjectURL(\n",
       "                evt.data);\n",
       "            fig.updated_canvas_event();\n",
       "            fig.waiting = false;\n",
       "            return;\n",
       "        }\n",
       "        else if (typeof evt.data === 'string' && evt.data.slice(0, 21) == \"data:image/png;base64\") {\n",
       "            fig.imageObj.src = evt.data;\n",
       "            fig.updated_canvas_event();\n",
       "            fig.waiting = false;\n",
       "            return;\n",
       "        }\n",
       "\n",
       "        var msg = JSON.parse(evt.data);\n",
       "        var msg_type = msg['type'];\n",
       "\n",
       "        // Call the  \"handle_{type}\" callback, which takes\n",
       "        // the figure and JSON message as its only arguments.\n",
       "        try {\n",
       "            var callback = fig[\"handle_\" + msg_type];\n",
       "        } catch (e) {\n",
       "            console.log(\"No handler for the '\" + msg_type + \"' message type: \", msg);\n",
       "            return;\n",
       "        }\n",
       "\n",
       "        if (callback) {\n",
       "            try {\n",
       "                // console.log(\"Handling '\" + msg_type + \"' message: \", msg);\n",
       "                callback(fig, msg);\n",
       "            } catch (e) {\n",
       "                console.log(\"Exception inside the 'handler_\" + msg_type + \"' callback:\", e, e.stack, msg);\n",
       "            }\n",
       "        }\n",
       "    };\n",
       "}\n",
       "\n",
       "// from http://stackoverflow.com/questions/1114465/getting-mouse-location-in-canvas\n",
       "mpl.findpos = function(e) {\n",
       "    //this section is from http://www.quirksmode.org/js/events_properties.html\n",
       "    var targ;\n",
       "    if (!e)\n",
       "        e = window.event;\n",
       "    if (e.target)\n",
       "        targ = e.target;\n",
       "    else if (e.srcElement)\n",
       "        targ = e.srcElement;\n",
       "    if (targ.nodeType == 3) // defeat Safari bug\n",
       "        targ = targ.parentNode;\n",
       "\n",
       "    // jQuery normalizes the pageX and pageY\n",
       "    // pageX,Y are the mouse positions relative to the document\n",
       "    // offset() returns the position of the element relative to the document\n",
       "    var x = e.pageX - $(targ).offset().left;\n",
       "    var y = e.pageY - $(targ).offset().top;\n",
       "\n",
       "    return {\"x\": x, \"y\": y};\n",
       "};\n",
       "\n",
       "/*\n",
       " * return a copy of an object with only non-object keys\n",
       " * we need this to avoid circular references\n",
       " * http://stackoverflow.com/a/24161582/3208463\n",
       " */\n",
       "function simpleKeys (original) {\n",
       "  return Object.keys(original).reduce(function (obj, key) {\n",
       "    if (typeof original[key] !== 'object')\n",
       "        obj[key] = original[key]\n",
       "    return obj;\n",
       "  }, {});\n",
       "}\n",
       "\n",
       "mpl.figure.prototype.mouse_event = function(event, name) {\n",
       "    var canvas_pos = mpl.findpos(event)\n",
       "\n",
       "    if (name === 'button_press')\n",
       "    {\n",
       "        this.canvas.focus();\n",
       "        this.canvas_div.focus();\n",
       "    }\n",
       "\n",
       "    var x = canvas_pos.x * mpl.ratio;\n",
       "    var y = canvas_pos.y * mpl.ratio;\n",
       "\n",
       "    this.send_message(name, {x: x, y: y, button: event.button,\n",
       "                             step: event.step,\n",
       "                             guiEvent: simpleKeys(event)});\n",
       "\n",
       "    /* This prevents the web browser from automatically changing to\n",
       "     * the text insertion cursor when the button is pressed.  We want\n",
       "     * to control all of the cursor setting manually through the\n",
       "     * 'cursor' event from matplotlib */\n",
       "    event.preventDefault();\n",
       "    return false;\n",
       "}\n",
       "\n",
       "mpl.figure.prototype._key_event_extra = function(event, name) {\n",
       "    // Handle any extra behaviour associated with a key event\n",
       "}\n",
       "\n",
       "mpl.figure.prototype.key_event = function(event, name) {\n",
       "\n",
       "    // Prevent repeat events\n",
       "    if (name == 'key_press')\n",
       "    {\n",
       "        if (event.which === this._key)\n",
       "            return;\n",
       "        else\n",
       "            this._key = event.which;\n",
       "    }\n",
       "    if (name == 'key_release')\n",
       "        this._key = null;\n",
       "\n",
       "    var value = '';\n",
       "    if (event.ctrlKey && event.which != 17)\n",
       "        value += \"ctrl+\";\n",
       "    if (event.altKey && event.which != 18)\n",
       "        value += \"alt+\";\n",
       "    if (event.shiftKey && event.which != 16)\n",
       "        value += \"shift+\";\n",
       "\n",
       "    value += 'k';\n",
       "    value += event.which.toString();\n",
       "\n",
       "    this._key_event_extra(event, name);\n",
       "\n",
       "    this.send_message(name, {key: value,\n",
       "                             guiEvent: simpleKeys(event)});\n",
       "    return false;\n",
       "}\n",
       "\n",
       "mpl.figure.prototype.toolbar_button_onclick = function(name) {\n",
       "    if (name == 'download') {\n",
       "        this.handle_save(this, null);\n",
       "    } else {\n",
       "        this.send_message(\"toolbar_button\", {name: name});\n",
       "    }\n",
       "};\n",
       "\n",
       "mpl.figure.prototype.toolbar_button_onmouseover = function(tooltip) {\n",
       "    this.message.textContent = tooltip;\n",
       "};\n",
       "mpl.toolbar_items = [[\"Home\", \"Reset original view\", \"fa fa-home icon-home\", \"home\"], [\"Back\", \"Back to previous view\", \"fa fa-arrow-left icon-arrow-left\", \"back\"], [\"Forward\", \"Forward to next view\", \"fa fa-arrow-right icon-arrow-right\", \"forward\"], [\"\", \"\", \"\", \"\"], [\"Pan\", \"Pan axes with left mouse, zoom with right\", \"fa fa-arrows icon-move\", \"pan\"], [\"Zoom\", \"Zoom to rectangle\", \"fa fa-square-o icon-check-empty\", \"zoom\"], [\"\", \"\", \"\", \"\"], [\"Download\", \"Download plot\", \"fa fa-floppy-o icon-save\", \"download\"]];\n",
       "\n",
       "mpl.extensions = [\"eps\", \"pdf\", \"png\", \"ps\", \"raw\", \"svg\"];\n",
       "\n",
       "mpl.default_extension = \"png\";var comm_websocket_adapter = function(comm) {\n",
       "    // Create a \"websocket\"-like object which calls the given IPython comm\n",
       "    // object with the appropriate methods. Currently this is a non binary\n",
       "    // socket, so there is still some room for performance tuning.\n",
       "    var ws = {};\n",
       "\n",
       "    ws.close = function() {\n",
       "        comm.close()\n",
       "    };\n",
       "    ws.send = function(m) {\n",
       "        //console.log('sending', m);\n",
       "        comm.send(m);\n",
       "    };\n",
       "    // Register the callback with on_msg.\n",
       "    comm.on_msg(function(msg) {\n",
       "        //console.log('receiving', msg['content']['data'], msg);\n",
       "        // Pass the mpl event to the overridden (by mpl) onmessage function.\n",
       "        ws.onmessage(msg['content']['data'])\n",
       "    });\n",
       "    return ws;\n",
       "}\n",
       "\n",
       "mpl.mpl_figure_comm = function(comm, msg) {\n",
       "    // This is the function which gets called when the mpl process\n",
       "    // starts-up an IPython Comm through the \"matplotlib\" channel.\n",
       "\n",
       "    var id = msg.content.data.id;\n",
       "    // Get hold of the div created by the display call when the Comm\n",
       "    // socket was opened in Python.\n",
       "    var element = $(\"#\" + id);\n",
       "    var ws_proxy = comm_websocket_adapter(comm)\n",
       "\n",
       "    function ondownload(figure, format) {\n",
       "        window.open(figure.imageObj.src);\n",
       "    }\n",
       "\n",
       "    var fig = new mpl.figure(id, ws_proxy,\n",
       "                           ondownload,\n",
       "                           element.get(0));\n",
       "\n",
       "    // Call onopen now - mpl needs it, as it is assuming we've passed it a real\n",
       "    // web socket which is closed, not our websocket->open comm proxy.\n",
       "    ws_proxy.onopen();\n",
       "\n",
       "    fig.parent_element = element.get(0);\n",
       "    fig.cell_info = mpl.find_output_cell(\"<div id='\" + id + \"'></div>\");\n",
       "    if (!fig.cell_info) {\n",
       "        console.error(\"Failed to find cell for figure\", id, fig);\n",
       "        return;\n",
       "    }\n",
       "\n",
       "    var output_index = fig.cell_info[2]\n",
       "    var cell = fig.cell_info[0];\n",
       "\n",
       "};\n",
       "\n",
       "mpl.figure.prototype.handle_close = function(fig, msg) {\n",
       "    var width = fig.canvas.width/mpl.ratio\n",
       "    fig.root.unbind('remove')\n",
       "\n",
       "    // Update the output cell to use the data from the current canvas.\n",
       "    fig.push_to_output();\n",
       "    var dataURL = fig.canvas.toDataURL();\n",
       "    // Re-enable the keyboard manager in IPython - without this line, in FF,\n",
       "    // the notebook keyboard shortcuts fail.\n",
       "    IPython.keyboard_manager.enable()\n",
       "    $(fig.parent_element).html('<img src=\"' + dataURL + '\" width=\"' + width + '\">');\n",
       "    fig.close_ws(fig, msg);\n",
       "}\n",
       "\n",
       "mpl.figure.prototype.close_ws = function(fig, msg){\n",
       "    fig.send_message('closing', msg);\n",
       "    // fig.ws.close()\n",
       "}\n",
       "\n",
       "mpl.figure.prototype.push_to_output = function(remove_interactive) {\n",
       "    // Turn the data on the canvas into data in the output cell.\n",
       "    var width = this.canvas.width/mpl.ratio\n",
       "    var dataURL = this.canvas.toDataURL();\n",
       "    this.cell_info[1]['text/html'] = '<img src=\"' + dataURL + '\" width=\"' + width + '\">';\n",
       "}\n",
       "\n",
       "mpl.figure.prototype.updated_canvas_event = function() {\n",
       "    // Tell IPython that the notebook contents must change.\n",
       "    IPython.notebook.set_dirty(true);\n",
       "    this.send_message(\"ack\", {});\n",
       "    var fig = this;\n",
       "    // Wait a second, then push the new image to the DOM so\n",
       "    // that it is saved nicely (might be nice to debounce this).\n",
       "    setTimeout(function () { fig.push_to_output() }, 1000);\n",
       "}\n",
       "\n",
       "mpl.figure.prototype._init_toolbar = function() {\n",
       "    var fig = this;\n",
       "\n",
       "    var nav_element = $('<div/>');\n",
       "    nav_element.attr('style', 'width: 100%');\n",
       "    this.root.append(nav_element);\n",
       "\n",
       "    // Define a callback function for later on.\n",
       "    function toolbar_event(event) {\n",
       "        return fig.toolbar_button_onclick(event['data']);\n",
       "    }\n",
       "    function toolbar_mouse_event(event) {\n",
       "        return fig.toolbar_button_onmouseover(event['data']);\n",
       "    }\n",
       "\n",
       "    for(var toolbar_ind in mpl.toolbar_items){\n",
       "        var name = mpl.toolbar_items[toolbar_ind][0];\n",
       "        var tooltip = mpl.toolbar_items[toolbar_ind][1];\n",
       "        var image = mpl.toolbar_items[toolbar_ind][2];\n",
       "        var method_name = mpl.toolbar_items[toolbar_ind][3];\n",
       "\n",
       "        if (!name) { continue; };\n",
       "\n",
       "        var button = $('<button class=\"btn btn-default\" href=\"#\" title=\"' + name + '\"><i class=\"fa ' + image + ' fa-lg\"></i></button>');\n",
       "        button.click(method_name, toolbar_event);\n",
       "        button.mouseover(tooltip, toolbar_mouse_event);\n",
       "        nav_element.append(button);\n",
       "    }\n",
       "\n",
       "    // Add the status bar.\n",
       "    var status_bar = $('<span class=\"mpl-message\" style=\"text-align:right; float: right;\"/>');\n",
       "    nav_element.append(status_bar);\n",
       "    this.message = status_bar[0];\n",
       "\n",
       "    // Add the close button to the window.\n",
       "    var buttongrp = $('<div class=\"btn-group inline pull-right\"></div>');\n",
       "    var button = $('<button class=\"btn btn-mini btn-primary\" href=\"#\" title=\"Stop Interaction\"><i class=\"fa fa-power-off icon-remove icon-large\"></i></button>');\n",
       "    button.click(function (evt) { fig.handle_close(fig, {}); } );\n",
       "    button.mouseover('Stop Interaction', toolbar_mouse_event);\n",
       "    buttongrp.append(button);\n",
       "    var titlebar = this.root.find($('.ui-dialog-titlebar'));\n",
       "    titlebar.prepend(buttongrp);\n",
       "}\n",
       "\n",
       "mpl.figure.prototype._root_extra_style = function(el){\n",
       "    var fig = this\n",
       "    el.on(\"remove\", function(){\n",
       "\tfig.close_ws(fig, {});\n",
       "    });\n",
       "}\n",
       "\n",
       "mpl.figure.prototype._canvas_extra_style = function(el){\n",
       "    // this is important to make the div 'focusable\n",
       "    el.attr('tabindex', 0)\n",
       "    // reach out to IPython and tell the keyboard manager to turn it's self\n",
       "    // off when our div gets focus\n",
       "\n",
       "    // location in version 3\n",
       "    if (IPython.notebook.keyboard_manager) {\n",
       "        IPython.notebook.keyboard_manager.register_events(el);\n",
       "    }\n",
       "    else {\n",
       "        // location in version 2\n",
       "        IPython.keyboard_manager.register_events(el);\n",
       "    }\n",
       "\n",
       "}\n",
       "\n",
       "mpl.figure.prototype._key_event_extra = function(event, name) {\n",
       "    var manager = IPython.notebook.keyboard_manager;\n",
       "    if (!manager)\n",
       "        manager = IPython.keyboard_manager;\n",
       "\n",
       "    // Check for shift+enter\n",
       "    if (event.shiftKey && event.which == 13) {\n",
       "        this.canvas_div.blur();\n",
       "        event.shiftKey = false;\n",
       "        // Send a \"J\" for go to next cell\n",
       "        event.which = 74;\n",
       "        event.keyCode = 74;\n",
       "        manager.command_mode();\n",
       "        manager.handle_keydown(event);\n",
       "    }\n",
       "}\n",
       "\n",
       "mpl.figure.prototype.handle_save = function(fig, msg) {\n",
       "    fig.ondownload(fig, null);\n",
       "}\n",
       "\n",
       "\n",
       "mpl.find_output_cell = function(html_output) {\n",
       "    // Return the cell and output element which can be found *uniquely* in the notebook.\n",
       "    // Note - this is a bit hacky, but it is done because the \"notebook_saving.Notebook\"\n",
       "    // IPython event is triggered only after the cells have been serialised, which for\n",
       "    // our purposes (turning an active figure into a static one), is too late.\n",
       "    var cells = IPython.notebook.get_cells();\n",
       "    var ncells = cells.length;\n",
       "    for (var i=0; i<ncells; i++) {\n",
       "        var cell = cells[i];\n",
       "        if (cell.cell_type === 'code'){\n",
       "            for (var j=0; j<cell.output_area.outputs.length; j++) {\n",
       "                var data = cell.output_area.outputs[j];\n",
       "                if (data.data) {\n",
       "                    // IPython >= 3 moved mimebundle to data attribute of output\n",
       "                    data = data.data;\n",
       "                }\n",
       "                if (data['text/html'] == html_output) {\n",
       "                    return [cell, data, j];\n",
       "                }\n",
       "            }\n",
       "        }\n",
       "    }\n",
       "}\n",
       "\n",
       "// Register the function which deals with the matplotlib target/channel.\n",
       "// The kernel may be null if the page has been refreshed.\n",
       "if (IPython.notebook.kernel != null) {\n",
       "    IPython.notebook.kernel.comm_manager.register_target('matplotlib', mpl.mpl_figure_comm);\n",
       "}\n"
      ],
      "text/plain": [
       "<IPython.core.display.Javascript object>"
      ]
     },
     "metadata": {},
     "output_type": "display_data"
    },
    {
     "data": {
      "text/html": [
       "<img src=\"data:image/png;base64,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\" width=\"731\">"
      ],
      "text/plain": [
       "<IPython.core.display.HTML object>"
      ]
     },
     "metadata": {},
     "output_type": "display_data"
    }
   ],
   "source": [
    "# Dispersion plot\n",
    "\n",
    "# source: Inaugural Address Corpus\n",
    "text4.dispersion_plot([\"citizens\", \"democracy\", \"duty\", \"freedom\", \"America\"])"
   ]
  },
  {
   "cell_type": "code",
   "execution_count": 26,
   "metadata": {
    "scrolled": true
   },
   "outputs": [
    {
     "name": "stdout",
     "output_type": "stream",
     "text": [
      "Help on method dispersion_plot in module nltk.text:\n",
      "\n",
      "dispersion_plot(words) method of nltk.text.Text instance\n",
      "    Produce a plot showing the distribution of the words through the text.\n",
      "    Requires pylab to be installed.\n",
      "    \n",
      "    :param words: The words to be plotted\n",
      "    :type words: list(str)\n",
      "    :seealso: nltk.draw.dispersion_plot()\n",
      "\n"
     ]
    }
   ],
   "source": [
    "help(text4.dispersion_plot)"
   ]
  },
  {
   "cell_type": "markdown",
   "metadata": {},
   "source": [
    "### Generating text\n",
    "\n",
    "Note: depending on your version of NLTK `generate()` functionality may or may not work (NLTK version 3.7.4 or newer is required).\n",
    "* In case it does not work, please see subsection \"Saved version of generate() results\".\n",
    "\n"
   ]
  },
  {
   "cell_type": "code",
   "execution_count": 27,
   "metadata": {},
   "outputs": [
    {
     "name": "stderr",
     "output_type": "stream",
     "text": [
      "Building ngram index...\n"
     ]
    },
    {
     "name": "stdout",
     "output_type": "stream",
     "text": [
      "Why is it stripped off from some mountain torrent we had flip ? , so as to\n",
      "preserve all his might had in former years abounding with them , they\n",
      "toil with their lances , strange tales of Southern whaling .\n",
      "conceivable that this fine old Dutch Fishery , a most wealthy example\n",
      "of the sea - captain orders me to admire the magnanimity of the whole\n",
      ", and many whalemen , but dumplings ; good white cedar of the ship\n",
      "casts off her cables ; and chewed it noiselessly ; and though there\n",
      "are birds called grey albatrosses ; and yet faster\n"
     ]
    },
    {
     "data": {
      "text/plain": [
       "'Why is it stripped off from some mountain torrent we had flip ? , so as to\\npreserve all his might had in former years abounding with them , they\\ntoil with their lances , strange tales of Southern whaling .\\nconceivable that this fine old Dutch Fishery , a most wealthy example\\nof the sea - captain orders me to admire the magnanimity of the whole\\n, and many whalemen , but dumplings ; good white cedar of the ship\\ncasts off her cables ; and chewed it noiselessly ; and though there\\nare birds called grey albatrosses ; and yet faster'"
      ]
     },
     "execution_count": 27,
     "metadata": {},
     "output_type": "execute_result"
    }
   ],
   "source": [
    "# Generate text (based on example)\n",
    "# https://www.nltk.org/api/nltk.html#nltk.text.Text.generate\n",
    "\n",
    "# we need to supply seed words\n",
    "text1.generate(text_seed = [\"Why\", \"is\", \"it\"])"
   ]
  },
  {
   "cell_type": "markdown",
   "metadata": {},
   "source": [
    "---\n",
    "\n",
    "**NLTK `generate()` builds a [trigram] language model from the supplied text** (words are generated based on previous two words).\n",
    "\n",
    "For more information see nltk.lm: https://www.nltk.org/api/nltk.lm.html"
   ]
  },
  {
   "cell_type": "markdown",
   "metadata": {},
   "source": [
    "**Saved version of `generate()` results:**\n",
    "    \n",
    "`text1.generate(text_seed = [\"Why\", \"is\", \"it\"])`\n",
    "\n",
    "*Building ngram index...*\n",
    "\n",
    "```\n",
    "Why is it stripped off from some mountain torrent we had flip ? , so as to\n",
    "preserve all his might had in former years abounding with them , they\n",
    "toil with their lances , strange tales of Southern whaling .\n",
    "conceivable that this fine old Dutch Fishery , a most wealthy example\n",
    "of the sea - captain orders me to admire the magnanimity of the whole\n",
    ", and many whalemen , but dumplings ; good white cedar of the ship\n",
    "casts off her cables ; and chewed it noiselessly ; and though there\n",
    "are birds called grey albatrosses ; and yet faster\n",
    "```\n"
   ]
  },
  {
   "cell_type": "code",
   "execution_count": 28,
   "metadata": {},
   "outputs": [
    {
     "name": "stdout",
     "output_type": "stream",
     "text": [
      "Help on method generate in module nltk.text:\n",
      "\n",
      "generate(length=100, text_seed=None, random_seed=42) method of nltk.text.Text instance\n",
      "    Print random text, generated using a trigram language model.\n",
      "    See also `help(nltk.lm)`.\n",
      "    \n",
      "    :param length: The length of text to generate (default=100)\n",
      "    :type length: int\n",
      "    \n",
      "    :param text_seed: Generation can be conditioned on preceding context.\n",
      "    :type text_seed: list(str)\n",
      "    \n",
      "    :param random_seed: A random seed or an instance of `random.Random`. If provided,\n",
      "    makes the random sampling part of generation reproducible. (default=42)\n",
      "    :type random_seed: int\n",
      "\n"
     ]
    }
   ],
   "source": [
    "help(text1.generate)"
   ]
  },
  {
   "cell_type": "markdown",
   "metadata": {},
   "source": [
    "---\n",
    "\n",
    "## Your turn!\n",
    "\n",
    "Choose some text and **explore it using NLTK** (following the examples in this notebook).\n",
    "\n",
    "**Write code in notebook cells below**.\n",
    "* add more cells (use \"+\" icon) if necessary\n",
    "\n",
    "You may use NLTK text corpora or load your own text."
   ]
  },
  {
   "cell_type": "code",
   "execution_count": null,
   "metadata": {},
   "outputs": [],
   "source": []
  },
  {
   "cell_type": "code",
   "execution_count": null,
   "metadata": {},
   "outputs": [],
   "source": []
  },
  {
   "cell_type": "code",
   "execution_count": null,
   "metadata": {},
   "outputs": [],
   "source": []
  }
 ],
 "metadata": {
  "kernelspec": {
   "display_name": "Python 3",
   "language": "python",
   "name": "python3"
  },
  "language_info": {
   "codemirror_mode": {
    "name": "ipython",
    "version": 3
   },
   "file_extension": ".py",
   "mimetype": "text/x-python",
   "name": "python",
   "nbconvert_exporter": "python",
   "pygments_lexer": "ipython3",
   "version": "3.7.4"
  }
 },
 "nbformat": 4,
 "nbformat_minor": 2
}
