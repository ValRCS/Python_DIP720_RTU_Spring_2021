{
 "cells": [
  {
   "cell_type": "markdown",
   "metadata": {},
   "source": [
    "## Practice \n",
    "### Write a program that goes over(iterates) numbers from 1 to 100(included)\n",
    "* For each number it prints Fizz if number divides by 5 even\n",
    "* For each number it prints Buzz if number divides by 7 evenly\n",
    "* If number divides by 5 AND 7 print FizzBuzz\n",
    "* print number if it does not divide by 5 nor 7\n",
    "* 1,2,3,4,Fizz,6,Buzz,8,9,Fizz,11,.......34,FizzBuzz,36"
   ]
  },
  {
   "cell_type": "code",
   "execution_count": 1,
   "metadata": {},
   "outputs": [
    {
     "name": "stdout",
     "output_type": "stream",
     "text": [
      "0 is even!\n",
      "1 is odd!\n",
      "2 is even!\n",
      "3 is odd!\n",
      "4 is even!\n",
      "5 is odd!\n",
      "6 is even!\n",
      "7 is odd!\n",
      "8 is even!\n",
      "9 is odd!\n",
      "10 is even!\n",
      "11 is odd!\n",
      "12 is even!\n",
      "13 is odd!\n",
      "14 is even!\n",
      "15 is odd!\n",
      "16 is even!\n",
      "17 is odd!\n",
      "18 is even!\n",
      "19 is odd!\n"
     ]
    }
   ],
   "source": [
    "for n in range(20):\n",
    "    if n % 2 == 0:\n",
    "        print(n,\"is even!\")\n",
    "    else:\n",
    "        print(n, \"is odd!\")"
   ]
  },
  {
   "cell_type": "code",
   "execution_count": 5,
   "metadata": {},
   "outputs": [
    {
     "name": "stdout",
     "output_type": "stream",
     "text": [
      "1, 2, 3, 4, FiZZ, 6, Buzz, 8, 9, FiZZ, 11, 12, 13, Buzz, FiZZ, 16, 17, 18, 19, FiZZ, Buzz, 22, 23, 24, FiZZ, 26, 27, Buzz, 29, FiZZ, 31, 32, 33, 34, FizzBuzz, 36, 37, 38, 39, FiZZ, 41, Buzz, 43, 44, FiZZ, 46, 47, 48, Buzz, FiZZ, 51, 52, 53, 54, FiZZ, Buzz, 57, 58, 59, FiZZ, 61, 62, Buzz, 64, FiZZ, 66, 67, 68, 69, FizzBuzz, 71, 72, 73, 74, FiZZ, 76, Buzz, 78, 79, FiZZ, 81, 82, 83, Buzz, FiZZ, 86, 87, 88, 89, FiZZ, Buzz, 92, 93, 94, FiZZ, 96, 97, Buzz, 99, FiZZ, "
     ]
    }
   ],
   "source": [
    "for c in range(1, 100+1):\n",
    "    end = \", \" # instead of default newline for print\n",
    "    if c%5 == 0 and c%7 == 0:\n",
    "        print(\"FizzBuzz\", end=end)\n",
    "    elif c%5 == 0:\n",
    "        print(\"FiZZ\", end=end)\n",
    "    elif c%7 == 0:\n",
    "        print(\"Buzz\", end=end)\n",
    "    else:\n",
    "        print(c, end=end)"
   ]
  },
  {
   "cell_type": "code",
   "execution_count": 11,
   "metadata": {},
   "outputs": [
    {
     "name": "stdout",
     "output_type": "stream",
     "text": [
      "My fizzbuzz\n",
      "1, 2, 3, 4, Fizz, 6, Buzz, 8, 9, Fizz, 11, 12, 13, Buzz, Fizz, 16, 17, 18, 19, Fizz, Buzz, 22, 23, 24, Fizz, 26, 27, Buzz, 29, Fizz, 31, 32, 33, 34, FizzBuzz, 36, 37, 38, 39, Fizz, 41, Buzz, 43, 44, Fizz, 46, 47, 48, Buzz, Fizz, 51, 52, 53, 54, Fizz, Buzz, 57, 58, 59, Fizz, 61, 62, Buzz, 64, Fizz, 66, 67, 68, 69, FizzBuzz, 71, 72, 73, 74, Fizz, 76, Buzz, 78, 79, Fizz, 81, 82, 83, Buzz, Fizz, 86, 87, 88, 89, Fizz, Buzz, 92, 93, 94, Fizz, 96, 97, Buzz, 99, Fizz\n"
     ]
    }
   ],
   "source": [
    "txt = \"\" # this has to go outside otherwise we will keep rewriting the txt\n",
    "for c in range(1,101):\n",
    "#     print(\"working on \", c, \"txt is\", txt)  \n",
    "    if c%5 == 0:\n",
    "        txt += \"Fizz\"\n",
    "    if c%7 == 0:\n",
    "        txt += \"Buzz\"\n",
    "    if c%5 != 0 and c%7 !=0: # this means number\n",
    "        txt += str(c) # c is number we need to convert to string\n",
    "    if c < 100:\n",
    "        txt += \", \"\n",
    "        \n",
    "print(\"My fizzbuzz\")\n",
    "print(txt)"
   ]
  },
  {
   "cell_type": "code",
   "execution_count": null,
   "metadata": {},
   "outputs": [],
   "source": []
  }
 ],
 "metadata": {
  "kernelspec": {
   "display_name": "Python 3",
   "language": "python",
   "name": "python3"
  },
  "language_info": {
   "codemirror_mode": {
    "name": "ipython",
    "version": 3
   },
   "file_extension": ".py",
   "mimetype": "text/x-python",
   "name": "python",
   "nbconvert_exporter": "python",
   "pygments_lexer": "ipython3",
   "version": "3.8.3"
  }
 },
 "nbformat": 4,
 "nbformat_minor": 4
}
