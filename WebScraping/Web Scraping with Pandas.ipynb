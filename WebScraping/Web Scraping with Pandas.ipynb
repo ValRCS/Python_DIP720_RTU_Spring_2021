{
 "cells": [
  {
   "cell_type": "code",
   "execution_count": 1,
   "metadata": {},
   "outputs": [],
   "source": [
    "import pandas as pd"
   ]
  },
  {
   "cell_type": "code",
   "execution_count": 2,
   "metadata": {},
   "outputs": [],
   "source": [
    "url = \"https://www.ss.com/lv/real-estate/flats/riga/centre/sell/\" \n",
    "# notice how we can specify some parameters in the url\n"
   ]
  },
  {
   "cell_type": "code",
   "execution_count": 3,
   "metadata": {},
   "outputs": [
    {
     "data": {
      "text/plain": [
       "list"
      ]
     },
     "execution_count": 3,
     "metadata": {},
     "output_type": "execute_result"
    }
   ],
   "source": [
    "# pandas can do some web scraping as long as there are tables\n",
    "dfs = pd.read_html(url, header=0) # i know that i want the first row to server for column names\n",
    "type(dfs)"
   ]
  },
  {
   "cell_type": "code",
   "execution_count": 4,
   "metadata": {},
   "outputs": [
    {
     "data": {
      "text/plain": [
       "7"
      ]
     },
     "execution_count": 4,
     "metadata": {},
     "output_type": "execute_result"
    }
   ],
   "source": [
    "len(dfs) # why list and why such length ?\n",
    "# well ss.com was made in early 2000s when tables were used for everything"
   ]
  },
  {
   "cell_type": "code",
   "execution_count": null,
   "metadata": {},
   "outputs": [],
   "source": [
    "# https://pandas.pydata.org/pandas-docs/stable/reference/api/pandas.read_html.html\n",
    "# pandas reads tables by default ALL tables on the page\n"
   ]
  },
  {
   "cell_type": "code",
   "execution_count": 5,
   "metadata": {},
   "outputs": [
    {
     "data": {
      "text/html": [
       "<div>\n",
       "<style scoped>\n",
       "    .dataframe tbody tr th:only-of-type {\n",
       "        vertical-align: middle;\n",
       "    }\n",
       "\n",
       "    .dataframe tbody tr th {\n",
       "        vertical-align: top;\n",
       "    }\n",
       "\n",
       "    .dataframe thead th {\n",
       "        text-align: right;\n",
       "    }\n",
       "</style>\n",
       "<table border=\"1\" class=\"dataframe\">\n",
       "  <thead>\n",
       "    <tr style=\"text-align: right;\">\n",
       "      <th></th>\n",
       "      <th>Sludinājumi \\tdatums</th>\n",
       "      <th>Sludinājumi \\tdatums.1</th>\n",
       "      <th>Sludinājumi \\tdatums.2</th>\n",
       "      <th>Iela</th>\n",
       "      <th>Ist.</th>\n",
       "      <th>m2</th>\n",
       "      <th>Stāvs</th>\n",
       "      <th>Sērija</th>\n",
       "      <th>Cena, m2</th>\n",
       "      <th>Cena</th>\n",
       "    </tr>\n",
       "  </thead>\n",
       "  <tbody>\n",
       "    <tr>\n",
       "      <th>0</th>\n",
       "      <td>NaN</td>\n",
       "      <td>NaN</td>\n",
       "      <td>Autostāvvieta iekļauta cenā 8000 euro vērtībā ...</td>\n",
       "      <td>Ģertrūdes 99</td>\n",
       "      <td>3</td>\n",
       "      <td>57</td>\n",
       "      <td>2/6</td>\n",
       "      <td>Renov.</td>\n",
       "      <td>1,891 €</td>\n",
       "      <td>107,800 €</td>\n",
       "    </tr>\n",
       "    <tr>\n",
       "      <th>1</th>\n",
       "      <td>NaN</td>\n",
       "      <td>NaN</td>\n",
       "      <td>Pārdodam 3-istabu dzīvokli ar balkonu Klusajā ...</td>\n",
       "      <td>Rūpniecības 7</td>\n",
       "      <td>4</td>\n",
       "      <td>110</td>\n",
       "      <td>4/5</td>\n",
       "      <td>P. kara</td>\n",
       "      <td>2,909 €</td>\n",
       "      <td>320,000 €</td>\n",
       "    </tr>\n",
       "    <tr>\n",
       "      <th>2</th>\n",
       "      <td>NaN</td>\n",
       "      <td>NaN</td>\n",
       "      <td>Pārdod plašu trīsistabu dzīvokli 85 kvadrātmet...</td>\n",
       "      <td>Čaka 33</td>\n",
       "      <td>3</td>\n",
       "      <td>85</td>\n",
       "      <td>3/6</td>\n",
       "      <td>P. kara</td>\n",
       "      <td>1,465 €</td>\n",
       "      <td>124,500 €</td>\n",
       "    </tr>\n",
       "    <tr>\n",
       "      <th>3</th>\n",
       "      <td>NaN</td>\n",
       "      <td>NaN</td>\n",
       "      <td>Pārdodam skaistu trīsistabu dzīvokli centrā. I...</td>\n",
       "      <td>Dzirnavu 115</td>\n",
       "      <td>3</td>\n",
       "      <td>71</td>\n",
       "      <td>4/4</td>\n",
       "      <td>P. kara</td>\n",
       "      <td>1,687 €</td>\n",
       "      <td>119,800 €</td>\n",
       "    </tr>\n",
       "    <tr>\n",
       "      <th>4</th>\n",
       "      <td>NaN</td>\n",
       "      <td>NaN</td>\n",
       "      <td>Kapitāli remontēts, pilnībā aprīkots 2- istabu...</td>\n",
       "      <td>Miera 105</td>\n",
       "      <td>2</td>\n",
       "      <td>45</td>\n",
       "      <td>1/5</td>\n",
       "      <td>Renov.</td>\n",
       "      <td>2,089 €</td>\n",
       "      <td>94,000 €</td>\n",
       "    </tr>\n",
       "  </tbody>\n",
       "</table>\n",
       "</div>"
      ],
      "text/plain": [
       "   Sludinājumi \\tdatums  Sludinājumi \\tdatums.1  \\\n",
       "0                   NaN                     NaN   \n",
       "1                   NaN                     NaN   \n",
       "2                   NaN                     NaN   \n",
       "3                   NaN                     NaN   \n",
       "4                   NaN                     NaN   \n",
       "\n",
       "                              Sludinājumi \\tdatums.2           Iela  Ist.  \\\n",
       "0  Autostāvvieta iekļauta cenā 8000 euro vērtībā ...   Ģertrūdes 99     3   \n",
       "1  Pārdodam 3-istabu dzīvokli ar balkonu Klusajā ...  Rūpniecības 7     4   \n",
       "2  Pārdod plašu trīsistabu dzīvokli 85 kvadrātmet...        Čaka 33     3   \n",
       "3  Pārdodam skaistu trīsistabu dzīvokli centrā. I...   Dzirnavu 115     3   \n",
       "4  Kapitāli remontēts, pilnībā aprīkots 2- istabu...      Miera 105     2   \n",
       "\n",
       "    m2 Stāvs   Sērija Cena, m2       Cena  \n",
       "0   57   2/6   Renov.  1,891 €  107,800 €  \n",
       "1  110   4/5  P. kara  2,909 €  320,000 €  \n",
       "2   85   3/6  P. kara  1,465 €  124,500 €  \n",
       "3   71   4/4  P. kara  1,687 €  119,800 €  \n",
       "4   45   1/5   Renov.  2,089 €   94,000 €  "
      ]
     },
     "execution_count": 5,
     "metadata": {},
     "output_type": "execute_result"
    }
   ],
   "source": [
    "df = dfs[4] # the 5th table on our page has our info\n",
    "df.head()"
   ]
  },
  {
   "cell_type": "code",
   "execution_count": 6,
   "metadata": {},
   "outputs": [
    {
     "data": {
      "text/plain": [
       "(30, 10)"
      ]
     },
     "execution_count": 6,
     "metadata": {},
     "output_type": "execute_result"
    }
   ],
   "source": [
    "df.shape"
   ]
  },
  {
   "cell_type": "code",
   "execution_count": 7,
   "metadata": {},
   "outputs": [],
   "source": [
    "df.to_json(\"center.json\")"
   ]
  },
  {
   "cell_type": "code",
   "execution_count": 8,
   "metadata": {},
   "outputs": [],
   "source": [
    "df.to_excel(\"center.xlsx\")"
   ]
  },
  {
   "cell_type": "code",
   "execution_count": 9,
   "metadata": {},
   "outputs": [],
   "source": [
    "url2 = \"https://www.ss.com/lv/real-estate/flats/riga/centre/sell/page2.html\""
   ]
  },
  {
   "cell_type": "code",
   "execution_count": 10,
   "metadata": {},
   "outputs": [
    {
     "data": {
      "text/plain": [
       "7"
      ]
     },
     "execution_count": 10,
     "metadata": {},
     "output_type": "execute_result"
    }
   ],
   "source": [
    "dflist = pd.read_html(url2, header=0)\n",
    "len(dflist)"
   ]
  },
  {
   "cell_type": "code",
   "execution_count": 11,
   "metadata": {},
   "outputs": [
    {
     "data": {
      "text/html": [
       "<div>\n",
       "<style scoped>\n",
       "    .dataframe tbody tr th:only-of-type {\n",
       "        vertical-align: middle;\n",
       "    }\n",
       "\n",
       "    .dataframe tbody tr th {\n",
       "        vertical-align: top;\n",
       "    }\n",
       "\n",
       "    .dataframe thead th {\n",
       "        text-align: right;\n",
       "    }\n",
       "</style>\n",
       "<table border=\"1\" class=\"dataframe\">\n",
       "  <thead>\n",
       "    <tr style=\"text-align: right;\">\n",
       "      <th></th>\n",
       "      <th>Sludinājumi \\tdatums</th>\n",
       "      <th>Sludinājumi \\tdatums.1</th>\n",
       "      <th>Sludinājumi \\tdatums.2</th>\n",
       "      <th>Iela</th>\n",
       "      <th>Ist.</th>\n",
       "      <th>m2</th>\n",
       "      <th>Stāvs</th>\n",
       "      <th>Sērija</th>\n",
       "      <th>Cena, m2</th>\n",
       "      <th>Cena</th>\n",
       "    </tr>\n",
       "  </thead>\n",
       "  <tbody>\n",
       "    <tr>\n",
       "      <th>0</th>\n",
       "      <td>NaN</td>\n",
       "      <td>NaN</td>\n",
       "      <td>Īpašnieks pārdod tīru, gaišu, siltu 1-ist. dzī...</td>\n",
       "      <td>Tallinas 75A</td>\n",
       "      <td>1</td>\n",
       "      <td>26</td>\n",
       "      <td>3/3</td>\n",
       "      <td>P. kara</td>\n",
       "      <td>1,346 €</td>\n",
       "      <td>35,000 €</td>\n",
       "    </tr>\n",
       "    <tr>\n",
       "      <th>1</th>\n",
       "      <td>NaN</td>\n",
       "      <td>NaN</td>\n",
       "      <td>Pārdod bez starpniekiem plašu dzīvokli, augsti...</td>\n",
       "      <td>Matīsa 89a</td>\n",
       "      <td>3</td>\n",
       "      <td>80</td>\n",
       "      <td>2/5</td>\n",
       "      <td>P. kara</td>\n",
       "      <td>1,250 €</td>\n",
       "      <td>100,000 €</td>\n",
       "    </tr>\n",
       "    <tr>\n",
       "      <th>2</th>\n",
       "      <td>NaN</td>\n",
       "      <td>NaN</td>\n",
       "      <td>Nekustamā īpašuma trīs zelta likumi. -Vieta, -...</td>\n",
       "      <td>Blaumaņa 26</td>\n",
       "      <td>2</td>\n",
       "      <td>61</td>\n",
       "      <td>6/6</td>\n",
       "      <td>P. kara</td>\n",
       "      <td>1,361 €</td>\n",
       "      <td>83,000 €</td>\n",
       "    </tr>\n",
       "    <tr>\n",
       "      <th>3</th>\n",
       "      <td>NaN</td>\n",
       "      <td>NaN</td>\n",
       "      <td>Pārdod īpašumu pašā Rīgas centra sirdī. -Skand...</td>\n",
       "      <td>Stabu 20</td>\n",
       "      <td>2</td>\n",
       "      <td>52</td>\n",
       "      <td>4/6</td>\n",
       "      <td>P. kara</td>\n",
       "      <td>2,019 €</td>\n",
       "      <td>105,000 €</td>\n",
       "    </tr>\n",
       "    <tr>\n",
       "      <th>4</th>\n",
       "      <td>NaN</td>\n",
       "      <td>NaN</td>\n",
       "      <td>Квартира с панорамными окнами и прекрасным вид...</td>\n",
       "      <td>Duntes 28</td>\n",
       "      <td>2</td>\n",
       "      <td>57</td>\n",
       "      <td>11/16</td>\n",
       "      <td>Jaun.</td>\n",
       "      <td>1,930 €</td>\n",
       "      <td>110,000 €</td>\n",
       "    </tr>\n",
       "  </tbody>\n",
       "</table>\n",
       "</div>"
      ],
      "text/plain": [
       "   Sludinājumi \\tdatums  Sludinājumi \\tdatums.1  \\\n",
       "0                   NaN                     NaN   \n",
       "1                   NaN                     NaN   \n",
       "2                   NaN                     NaN   \n",
       "3                   NaN                     NaN   \n",
       "4                   NaN                     NaN   \n",
       "\n",
       "                              Sludinājumi \\tdatums.2          Iela  Ist.  m2  \\\n",
       "0  Īpašnieks pārdod tīru, gaišu, siltu 1-ist. dzī...  Tallinas 75A     1  26   \n",
       "1  Pārdod bez starpniekiem plašu dzīvokli, augsti...    Matīsa 89a     3  80   \n",
       "2  Nekustamā īpašuma trīs zelta likumi. -Vieta, -...   Blaumaņa 26     2  61   \n",
       "3  Pārdod īpašumu pašā Rīgas centra sirdī. -Skand...      Stabu 20     2  52   \n",
       "4  Квартира с панорамными окнами и прекрасным вид...     Duntes 28     2  57   \n",
       "\n",
       "   Stāvs   Sērija Cena, m2       Cena  \n",
       "0    3/3  P. kara  1,346 €   35,000 €  \n",
       "1    2/5  P. kara  1,250 €  100,000 €  \n",
       "2    6/6  P. kara  1,361 €   83,000 €  \n",
       "3    4/6  P. kara  2,019 €  105,000 €  \n",
       "4  11/16    Jaun.  1,930 €  110,000 €  "
      ]
     },
     "execution_count": 11,
     "metadata": {},
     "output_type": "execute_result"
    }
   ],
   "source": [
    "dflist[4].head() # getting start of 5th table from our 2nd html page"
   ]
  },
  {
   "cell_type": "code",
   "execution_count": 12,
   "metadata": {},
   "outputs": [
    {
     "data": {
      "text/html": [
       "<div>\n",
       "<style scoped>\n",
       "    .dataframe tbody tr th:only-of-type {\n",
       "        vertical-align: middle;\n",
       "    }\n",
       "\n",
       "    .dataframe tbody tr th {\n",
       "        vertical-align: top;\n",
       "    }\n",
       "\n",
       "    .dataframe thead th {\n",
       "        text-align: right;\n",
       "    }\n",
       "</style>\n",
       "<table border=\"1\" class=\"dataframe\">\n",
       "  <thead>\n",
       "    <tr style=\"text-align: right;\">\n",
       "      <th></th>\n",
       "      <th>Sludinājumi \\tdatums</th>\n",
       "      <th>Sludinājumi \\tdatums.1</th>\n",
       "      <th>Sludinājumi \\tdatums.2</th>\n",
       "      <th>Iela</th>\n",
       "      <th>Ist.</th>\n",
       "      <th>m2</th>\n",
       "      <th>Stāvs</th>\n",
       "      <th>Sērija</th>\n",
       "      <th>Cena, m2</th>\n",
       "      <th>Cena</th>\n",
       "    </tr>\n",
       "  </thead>\n",
       "  <tbody>\n",
       "    <tr>\n",
       "      <th>0</th>\n",
       "      <td>NaN</td>\n",
       "      <td>NaN</td>\n",
       "      <td>3 istabu dzīvoklis Viktora Štama projektētā jū...</td>\n",
       "      <td>Gogoļa 10</td>\n",
       "      <td>3</td>\n",
       "      <td>70</td>\n",
       "      <td>2/5</td>\n",
       "      <td>P. kara</td>\n",
       "      <td>1,257 €</td>\n",
       "      <td>88,000 €</td>\n",
       "    </tr>\n",
       "    <tr>\n",
       "      <th>1</th>\n",
       "      <td>NaN</td>\n",
       "      <td>NaN</td>\n",
       "      <td>Laba cena par dzīvokli izcilā vietā. Panorāmas...</td>\n",
       "      <td>Teātra 12</td>\n",
       "      <td>5</td>\n",
       "      <td>136</td>\n",
       "      <td>6/7</td>\n",
       "      <td>P. kara</td>\n",
       "      <td>2,022 €</td>\n",
       "      <td>275,000 €</td>\n",
       "    </tr>\n",
       "    <tr>\n",
       "      <th>2</th>\n",
       "      <td>NaN</td>\n",
       "      <td>NaN</td>\n",
       "      <td>Izbaudiet Rīgas pilsētas dzīvi, atrodoties tās...</td>\n",
       "      <td>Dzirnavu 83</td>\n",
       "      <td>2</td>\n",
       "      <td>68</td>\n",
       "      <td>6/7</td>\n",
       "      <td>Jaun.</td>\n",
       "      <td>3,750 €</td>\n",
       "      <td>255,000 €</td>\n",
       "    </tr>\n",
       "    <tr>\n",
       "      <th>3</th>\n",
       "      <td>NaN</td>\n",
       "      <td>NaN</td>\n",
       "      <td>Наслаждайся прелестями городской жизни, находя...</td>\n",
       "      <td>Dzirnavu 81</td>\n",
       "      <td>3</td>\n",
       "      <td>90</td>\n",
       "      <td>4/7</td>\n",
       "      <td>Jaun.</td>\n",
       "      <td>3,167 €</td>\n",
       "      <td>285,000 €</td>\n",
       "    </tr>\n",
       "    <tr>\n",
       "      <th>4</th>\n",
       "      <td>NaN</td>\n",
       "      <td>NaN</td>\n",
       "      <td>Продается просторная, солнечная с изолированны...</td>\n",
       "      <td>Zaļā 4</td>\n",
       "      <td>3</td>\n",
       "      <td>94</td>\n",
       "      <td>7/7</td>\n",
       "      <td>Specpr.</td>\n",
       "      <td>1,649 €</td>\n",
       "      <td>155,000 €</td>\n",
       "    </tr>\n",
       "  </tbody>\n",
       "</table>\n",
       "</div>"
      ],
      "text/plain": [
       "   Sludinājumi \\tdatums  Sludinājumi \\tdatums.1  \\\n",
       "0                   NaN                     NaN   \n",
       "1                   NaN                     NaN   \n",
       "2                   NaN                     NaN   \n",
       "3                   NaN                     NaN   \n",
       "4                   NaN                     NaN   \n",
       "\n",
       "                              Sludinājumi \\tdatums.2         Iela  Ist.   m2  \\\n",
       "0  3 istabu dzīvoklis Viktora Štama projektētā jū...    Gogoļa 10     3   70   \n",
       "1  Laba cena par dzīvokli izcilā vietā. Panorāmas...    Teātra 12     5  136   \n",
       "2  Izbaudiet Rīgas pilsētas dzīvi, atrodoties tās...  Dzirnavu 83     2   68   \n",
       "3  Наслаждайся прелестями городской жизни, находя...  Dzirnavu 81     3   90   \n",
       "4  Продается просторная, солнечная с изолированны...       Zaļā 4     3   94   \n",
       "\n",
       "  Stāvs   Sērija Cena, m2       Cena  \n",
       "0   2/5  P. kara  1,257 €   88,000 €  \n",
       "1   6/7  P. kara  2,022 €  275,000 €  \n",
       "2   6/7    Jaun.  3,750 €  255,000 €  \n",
       "3   4/7    Jaun.  3,167 €  285,000 €  \n",
       "4   7/7  Specpr.  1,649 €  155,000 €  "
      ]
     },
     "execution_count": 12,
     "metadata": {},
     "output_type": "execute_result"
    }
   ],
   "source": [
    "bigdf = pd.concat([df, dflist[4]]) # concat creates a new dataframe from an iterable! of dataframes\n",
    "# https://pandas.pydata.org/pandas-docs/stable/reference/api/pandas.concat.html\n",
    "bigdf.head()"
   ]
  },
  {
   "cell_type": "code",
   "execution_count": 13,
   "metadata": {},
   "outputs": [
    {
     "data": {
      "text/plain": [
       "((30, 10), (30, 10), (60, 10))"
      ]
     },
     "execution_count": 13,
     "metadata": {},
     "output_type": "execute_result"
    }
   ],
   "source": [
    "df.shape, dflist[4].shape, bigdf.shape"
   ]
  },
  {
   "cell_type": "code",
   "execution_count": 14,
   "metadata": {},
   "outputs": [],
   "source": [
    "bigdf.to_excel(\"riga_center_60.xlsx\")"
   ]
  },
  {
   "cell_type": "code",
   "execution_count": null,
   "metadata": {},
   "outputs": [],
   "source": [
    "# so if we know the last page of\n"
   ]
  },
  {
   "cell_type": "code",
   "execution_count": null,
   "metadata": {},
   "outputs": [],
   "source": [
    "# Challenge how to automatically get all pages no matter how many ads?\n",
    "# how to scrape web address for each ad (in case we want to look in to the ad more in depth)"
   ]
  }
 ],
 "metadata": {
  "kernelspec": {
   "display_name": "Python 3",
   "language": "python",
   "name": "python3"
  },
  "language_info": {
   "codemirror_mode": {
    "name": "ipython",
    "version": 3
   },
   "file_extension": ".py",
   "mimetype": "text/x-python",
   "name": "python",
   "nbconvert_exporter": "python",
   "pygments_lexer": "ipython3",
   "version": "3.8.3"
  }
 },
 "nbformat": 4,
 "nbformat_minor": 4
}
