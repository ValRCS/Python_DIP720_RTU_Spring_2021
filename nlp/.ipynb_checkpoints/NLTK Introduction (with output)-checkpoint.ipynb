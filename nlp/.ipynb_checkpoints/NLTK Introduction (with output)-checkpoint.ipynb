{
 "cells": [
  {
   "cell_type": "markdown",
   "metadata": {},
   "source": [
    "## Natural Language Toolkit (NLTK)\n",
    "\n",
    "**NLTK** is a leading platform for building Python programs to work with human language data. It provides easy-to-use interfaces to [over 50 corpora and lexical resources](http://www.nltk.org/nltk_data/) such as WordNet, along with a suite of text processing libraries for classification, tokenization, stemming, tagging, parsing, and semantic reasoning, wrappers for industrial-strength NLP libraries, and an active discussion forum.\n",
    "\n",
    "http://www.nltk.org/\n",
    "\n",
    "NLTK library documentation (reference) = *Use it to look up how to use a particular NLTK library function*\n",
    "* https://www.nltk.org/api/nltk.html\n",
    "\n",
    "---\n",
    "\n",
    "NLTK wiki (collaboratively edited documentation):\n",
    "* https://github.com/nltk/nltk/wiki"
   ]
  },
  {
   "cell_type": "markdown",
   "metadata": {},
   "source": [
    "### Book: Natural Language Processing with Python \n",
    "\n",
    "NLTK book provides a practical introduction to programming for language processing.\n",
    "\n",
    "Written by the creators of NLTK, it guides the reader through the fundamentals of writing Python programs, working with corpora, categorizing text, analyzing linguistic structure, and more.\n",
    "\n",
    "Online: http://www.nltk.org/book/\n",
    "\n",
    "* we will start with Chapter 1: [\"Language Processing and Python\"](http://www.nltk.org/book/ch01.html)\n",
    "\n",
    "---"
   ]
  },
  {
   "cell_type": "code",
   "execution_count": 1,
   "metadata": {},
   "outputs": [],
   "source": [
    "# configuration for the notebook \n",
    "%matplotlib notebook"
   ]
  },
  {
   "cell_type": "markdown",
   "metadata": {},
   "source": [
    "## 1) Getting started\n",
    "\n",
    "NLTK book: http://www.nltk.org/book/ch01.html#getting-started-with-nltk\n",
    "\n",
    "* Loading NLTK (Python module)\n",
    "* Downloading NLTK language resources (corpora, ...)\n"
   ]
  },
  {
   "cell_type": "code",
   "execution_count": 2,
   "metadata": {},
   "outputs": [],
   "source": [
    "# In order to use a Python library, we need to import (load) it\n",
    "\n",
    "import nltk\n"
   ]
  },
  {
   "cell_type": "code",
   "execution_count": 3,
   "metadata": {},
   "outputs": [
    {
     "data": {
      "text/plain": [
       "'3.5'"
      ]
     },
     "execution_count": 3,
     "metadata": {},
     "output_type": "execute_result"
    }
   ],
   "source": [
    "# Let's check what NLTK version we have (for easier troubleshooting and reproducibility)\n",
    "nltk.__version__"
   ]
  },
  {
   "cell_type": "code",
   "execution_count": 4,
   "metadata": {},
   "outputs": [],
   "source": [
    "# If your NLTK version is lower than 3.4.3 please update if possible.\n",
    "\n",
    "# Updating in Anaconda can be done using this command: \n",
    "# conda update nltk"
   ]
  },
  {
   "cell_type": "markdown",
   "metadata": {},
   "source": [
    "### nltk.Text\n",
    "\n",
    "**`ntlk.Text` is a simple NLTK helper for loading and exploring textual content (a sequence of words / string tokens):**\n",
    "\n",
    "... intended to support initial exploration of texts (via the interactive console). It can perform a variety of analyses on the text’s contexts (e.g., counting, concordancing, collocation discovery), and display the results.\n",
    "\n",
    "Documentation: [nltk.Text](https://www.nltk.org/api/nltk.html#nltk.text.Text)\n",
    "* lists what we can do with text once it is loaded into nltk.Text(...)"
   ]
  },
  {
   "cell_type": "code",
   "execution_count": 4,
   "metadata": {},
   "outputs": [
    {
     "data": {
      "text/plain": [
       "<Text: This is just an example Another example here...>"
      ]
     },
     "execution_count": 4,
     "metadata": {},
     "output_type": "execute_result"
    }
   ],
   "source": [
    "# Now we can try a simple example:\n",
    "\n",
    "my_word_list = [\"This\", \"is\", \"just\", \"an\", \"example\", \"Another\", \"example\", \"here\"]\n",
    "my_text = nltk.Text(my_word_list)\n",
    "\n",
    "my_text"
   ]
  },
  {
   "cell_type": "code",
   "execution_count": 5,
   "metadata": {},
   "outputs": [
    {
     "data": {
      "text/plain": [
       "nltk.text.Text"
      ]
     },
     "execution_count": 5,
     "metadata": {},
     "output_type": "execute_result"
    }
   ],
   "source": [
    "type(my_text)"
   ]
  },
  {
   "cell_type": "code",
   "execution_count": 6,
   "metadata": {},
   "outputs": [
    {
     "data": {
      "text/plain": [
       "2"
      ]
     },
     "execution_count": 6,
     "metadata": {},
     "output_type": "execute_result"
    }
   ],
   "source": [
    "# How many times does the word \"example\" appear?\n",
    "my_text.count(\"example\")\n",
    "\n",
    "# Notes:\n",
    "#  - my_text = our text, processed (loaded) by NLTK\n",
    "#     - technically: a Python object\n",
    "#  - my_text.count(...) = requesting the object to perform a .count(...) function and return the result\n",
    "#     - technically: calling a .count() method"
   ]
  },
  {
   "cell_type": "code",
   "execution_count": 8,
   "metadata": {},
   "outputs": [
    {
     "data": {
      "text/plain": [
       "0"
      ]
     },
     "execution_count": 8,
     "metadata": {},
     "output_type": "execute_result"
    }
   ],
   "source": [
    "# count works on tokens (full words in this case)\n",
    "my_text.count('exam')"
   ]
  },
  {
   "cell_type": "code",
   "execution_count": 9,
   "metadata": {},
   "outputs": [
    {
     "data": {
      "text/plain": [
       "False"
      ]
     },
     "execution_count": 9,
     "metadata": {},
     "output_type": "execute_result"
    }
   ],
   "source": [
    "'exam' in my_text"
   ]
  },
  {
   "cell_type": "code",
   "execution_count": 10,
   "metadata": {},
   "outputs": [
    {
     "data": {
      "text/plain": [
       "True"
      ]
     },
     "execution_count": 10,
     "metadata": {},
     "output_type": "execute_result"
    }
   ],
   "source": [
    "'example' in my_text"
   ]
  },
  {
   "cell_type": "markdown",
   "metadata": {},
   "source": [
    "### Tokenizing\n",
    "\n",
    "Let's convert a text string into nltk.Text.\n",
    "First, we need to split it into tokens (to *tokenize* it). "
   ]
  },
  {
   "cell_type": "code",
   "execution_count": 11,
   "metadata": {},
   "outputs": [
    {
     "name": "stderr",
     "output_type": "stream",
     "text": [
      "[nltk_data] Downloading package punkt to C:\\Users\\val-\n",
      "[nltk_data]     wd\\AppData\\Roaming\\nltk_data...\n",
      "[nltk_data]   Unzipping tokenizers\\punkt.zip.\n"
     ]
    },
    {
     "data": {
      "text/plain": [
       "True"
      ]
     },
     "execution_count": 11,
     "metadata": {},
     "output_type": "execute_result"
    }
   ],
   "source": [
    "# We need to download a package containing punctuation before we can tokenize\n",
    "import nltk\n",
    "nltk.download('punkt')"
   ]
  },
  {
   "cell_type": "code",
   "execution_count": 12,
   "metadata": {},
   "outputs": [
    {
     "data": {
      "text/plain": [
       "'!\"#$%&\\'()*+,-./:;<=>?@[\\\\]^_`{|}~'"
      ]
     },
     "execution_count": 12,
     "metadata": {},
     "output_type": "execute_result"
    }
   ],
   "source": [
    "import string\n",
    "string.punctuation # so nltk has its own list of PUNCT similar to one bloew"
   ]
  },
  {
   "cell_type": "code",
   "execution_count": 13,
   "metadata": {},
   "outputs": [
    {
     "data": {
      "text/plain": [
       "['NLTK', 'has', 'been', 'called', '“', 'a']"
      ]
     },
     "execution_count": 13,
     "metadata": {},
     "output_type": "execute_result"
    }
   ],
   "source": [
    "# Splitting text into tokens (words, ...) = tokenizing\n",
    "\n",
    "from nltk.tokenize import word_tokenize\n",
    "\n",
    "excerpt = \"NLTK has been called “a wonderful tool for teaching, and working in, computational linguistics using Python,” and “an amazing library to play with natural language.”\"\n",
    "tokens = word_tokenize(excerpt)\n",
    "\n",
    "tokens[:6]"
   ]
  },
  {
   "cell_type": "code",
   "execution_count": 36,
   "metadata": {},
   "outputs": [
    {
     "data": {
      "text/plain": [
       "list"
      ]
     },
     "execution_count": 36,
     "metadata": {},
     "output_type": "execute_result"
    }
   ],
   "source": [
    "type(tokens)"
   ]
  },
  {
   "cell_type": "code",
   "execution_count": 14,
   "metadata": {},
   "outputs": [
    {
     "data": {
      "text/plain": [
       "['NLTK',\n",
       " 'has',\n",
       " 'been',\n",
       " 'called',\n",
       " '“',\n",
       " 'a',\n",
       " 'wonderful',\n",
       " 'tool',\n",
       " 'for',\n",
       " 'teaching',\n",
       " ',',\n",
       " 'and',\n",
       " 'working',\n",
       " 'in',\n",
       " ',',\n",
       " 'computational',\n",
       " 'linguistics',\n",
       " 'using',\n",
       " 'Python',\n",
       " ',',\n",
       " '”',\n",
       " 'and',\n",
       " '“',\n",
       " 'an',\n",
       " 'amazing',\n",
       " 'library',\n",
       " 'to',\n",
       " 'play',\n",
       " 'with',\n",
       " 'natural',\n",
       " 'language',\n",
       " '.',\n",
       " '”']"
      ]
     },
     "execution_count": 14,
     "metadata": {},
     "output_type": "execute_result"
    }
   ],
   "source": [
    "tokens"
   ]
  },
  {
   "cell_type": "code",
   "execution_count": 15,
   "metadata": {},
   "outputs": [
    {
     "name": "stdout",
     "output_type": "stream",
     "text": [
      "1\n"
     ]
    }
   ],
   "source": [
    "my_text2 = nltk.Text(tokens)\n",
    "\n",
    "print(my_text2.count(\"NLTK\"))"
   ]
  },
  {
   "cell_type": "code",
   "execution_count": 16,
   "metadata": {},
   "outputs": [
    {
     "data": {
      "text/plain": [
       "nltk.text.Text"
      ]
     },
     "execution_count": 16,
     "metadata": {},
     "output_type": "execute_result"
    }
   ],
   "source": [
    "type(my_text2)"
   ]
  },
  {
   "cell_type": "code",
   "execution_count": 17,
   "metadata": {},
   "outputs": [
    {
     "name": "stdout",
     "output_type": "stream",
     "text": [
      "<Text: NLTK has been called “ a wonderful tool...>\n"
     ]
    }
   ],
   "source": [
    "regular_text = str(my_text2)\n",
    "print(regular_text)"
   ]
  },
  {
   "cell_type": "code",
   "execution_count": 18,
   "metadata": {},
   "outputs": [
    {
     "data": {
      "text/plain": [
       "['NLTK',\n",
       " 'has',\n",
       " 'been',\n",
       " 'called',\n",
       " '“',\n",
       " 'a',\n",
       " 'wonderful',\n",
       " 'tool',\n",
       " 'for',\n",
       " 'teaching',\n",
       " ',',\n",
       " 'and',\n",
       " 'working',\n",
       " 'in',\n",
       " ',',\n",
       " 'computational',\n",
       " 'linguistics',\n",
       " 'using',\n",
       " 'Python',\n",
       " ',',\n",
       " '”',\n",
       " 'and',\n",
       " '“',\n",
       " 'an',\n",
       " 'amazing',\n",
       " 'library',\n",
       " 'to',\n",
       " 'play',\n",
       " 'with',\n",
       " 'natural',\n",
       " 'language',\n",
       " '.',\n",
       " '”']"
      ]
     },
     "execution_count": 18,
     "metadata": {},
     "output_type": "execute_result"
    }
   ],
   "source": [
    "my_text2.tokens"
   ]
  },
  {
   "cell_type": "code",
   "execution_count": 19,
   "metadata": {},
   "outputs": [
    {
     "data": {
      "text/plain": [
       "'NLTK has been called “ a wonderful tool for teaching , and working in , computational linguistics using Python , ” and “ an amazing library to play with natural language . ”'"
      ]
     },
     "execution_count": 19,
     "metadata": {},
     "output_type": "execute_result"
    }
   ],
   "source": [
    "\" \".join(my_text2.tokens) # easy but not perfect"
   ]
  },
  {
   "cell_type": "code",
   "execution_count": 21,
   "metadata": {},
   "outputs": [
    {
     "data": {
      "text/plain": [
       "'NLTK has been called “ a wonderful tool for teaching, and working in, computational linguistics using Python, ” and “ an amazing library to play with natural language . ”'"
      ]
     },
     "execution_count": 21,
     "metadata": {},
     "output_type": "execute_result"
    }
   ],
   "source": [
    "from nltk.tokenize.treebank import TreebankWordDetokenizer\n",
    "detokenized = TreebankWordDetokenizer().detokenize(my_text2.tokens) # better but not perfect\n",
    "detokenized"
   ]
  },
  {
   "cell_type": "code",
   "execution_count": 22,
   "metadata": {},
   "outputs": [
    {
     "data": {
      "text/plain": [
       "'NLTK has been called “a wonderful tool for teaching, and working in, computational linguistics using Python,” and “an amazing library to play with natural language.”'"
      ]
     },
     "execution_count": 22,
     "metadata": {},
     "output_type": "execute_result"
    }
   ],
   "source": [
    "# https://stackoverflow.com/questions/21948019/python-untokenize-a-sentence\n",
    "detokenized = detokenized.replace(\" .\", \".\").replace(\" ”\",\"”\").replace(\"“ \", \"“\") # we need to save the new string\n",
    "detokenized"
   ]
  },
  {
   "cell_type": "markdown",
   "metadata": {},
   "source": [
    "### Downloading NLTK language resources\n",
    "\n",
    "NLTK also contains many language resources (corpora, ...) but you have select and download them separately (in order to save disk space and only download what is needed).\n",
    "\n",
    "Let's download text collections used in the NLTK book: \n",
    "* `nltk.download(\"book\")`\n",
    "\n",
    "Note: you can also download resources interactively:\n",
    "* `nltk.download()`"
   ]
  },
  {
   "cell_type": "code",
   "execution_count": 23,
   "metadata": {},
   "outputs": [
    {
     "name": "stderr",
     "output_type": "stream",
     "text": [
      "[nltk_data] Downloading collection 'book'\n",
      "[nltk_data]    | \n",
      "[nltk_data]    | Downloading package abc to C:\\Users\\val-\n",
      "[nltk_data]    |     wd\\AppData\\Roaming\\nltk_data...\n",
      "[nltk_data]    |   Unzipping corpora\\abc.zip.\n",
      "[nltk_data]    | Downloading package brown to C:\\Users\\val-\n",
      "[nltk_data]    |     wd\\AppData\\Roaming\\nltk_data...\n",
      "[nltk_data]    |   Unzipping corpora\\brown.zip.\n",
      "[nltk_data]    | Downloading package chat80 to C:\\Users\\val-\n",
      "[nltk_data]    |     wd\\AppData\\Roaming\\nltk_data...\n",
      "[nltk_data]    |   Unzipping corpora\\chat80.zip.\n",
      "[nltk_data]    | Downloading package cmudict to C:\\Users\\val-\n",
      "[nltk_data]    |     wd\\AppData\\Roaming\\nltk_data...\n",
      "[nltk_data]    |   Unzipping corpora\\cmudict.zip.\n",
      "[nltk_data]    | Downloading package conll2000 to C:\\Users\\val-\n",
      "[nltk_data]    |     wd\\AppData\\Roaming\\nltk_data...\n",
      "[nltk_data]    |   Unzipping corpora\\conll2000.zip.\n",
      "[nltk_data]    | Downloading package conll2002 to C:\\Users\\val-\n",
      "[nltk_data]    |     wd\\AppData\\Roaming\\nltk_data...\n",
      "[nltk_data]    |   Unzipping corpora\\conll2002.zip.\n",
      "[nltk_data]    | Downloading package dependency_treebank to\n",
      "[nltk_data]    |     C:\\Users\\val-wd\\AppData\\Roaming\\nltk_data...\n",
      "[nltk_data]    |   Unzipping corpora\\dependency_treebank.zip.\n",
      "[nltk_data]    | Downloading package genesis to C:\\Users\\val-\n",
      "[nltk_data]    |     wd\\AppData\\Roaming\\nltk_data...\n",
      "[nltk_data]    |   Unzipping corpora\\genesis.zip.\n",
      "[nltk_data]    | Downloading package gutenberg to C:\\Users\\val-\n",
      "[nltk_data]    |     wd\\AppData\\Roaming\\nltk_data...\n",
      "[nltk_data]    |   Unzipping corpora\\gutenberg.zip.\n",
      "[nltk_data]    | Downloading package ieer to C:\\Users\\val-\n",
      "[nltk_data]    |     wd\\AppData\\Roaming\\nltk_data...\n",
      "[nltk_data]    |   Unzipping corpora\\ieer.zip.\n",
      "[nltk_data]    | Downloading package inaugural to C:\\Users\\val-\n",
      "[nltk_data]    |     wd\\AppData\\Roaming\\nltk_data...\n",
      "[nltk_data]    |   Unzipping corpora\\inaugural.zip.\n",
      "[nltk_data]    | Downloading package movie_reviews to C:\\Users\\val-\n",
      "[nltk_data]    |     wd\\AppData\\Roaming\\nltk_data...\n",
      "[nltk_data]    |   Unzipping corpora\\movie_reviews.zip.\n",
      "[nltk_data]    | Downloading package nps_chat to C:\\Users\\val-\n",
      "[nltk_data]    |     wd\\AppData\\Roaming\\nltk_data...\n",
      "[nltk_data]    |   Unzipping corpora\\nps_chat.zip.\n",
      "[nltk_data]    | Downloading package names to C:\\Users\\val-\n",
      "[nltk_data]    |     wd\\AppData\\Roaming\\nltk_data...\n",
      "[nltk_data]    |   Unzipping corpora\\names.zip.\n",
      "[nltk_data]    | Downloading package ppattach to C:\\Users\\val-\n",
      "[nltk_data]    |     wd\\AppData\\Roaming\\nltk_data...\n",
      "[nltk_data]    |   Unzipping corpora\\ppattach.zip.\n",
      "[nltk_data]    | Downloading package reuters to C:\\Users\\val-\n",
      "[nltk_data]    |     wd\\AppData\\Roaming\\nltk_data...\n",
      "[nltk_data]    | Downloading package senseval to C:\\Users\\val-\n",
      "[nltk_data]    |     wd\\AppData\\Roaming\\nltk_data...\n",
      "[nltk_data]    |   Unzipping corpora\\senseval.zip.\n",
      "[nltk_data]    | Downloading package state_union to C:\\Users\\val-\n",
      "[nltk_data]    |     wd\\AppData\\Roaming\\nltk_data...\n",
      "[nltk_data]    |   Unzipping corpora\\state_union.zip.\n",
      "[nltk_data]    | Downloading package stopwords to C:\\Users\\val-\n",
      "[nltk_data]    |     wd\\AppData\\Roaming\\nltk_data...\n",
      "[nltk_data]    |   Unzipping corpora\\stopwords.zip.\n",
      "[nltk_data]    | Downloading package swadesh to C:\\Users\\val-\n",
      "[nltk_data]    |     wd\\AppData\\Roaming\\nltk_data...\n",
      "[nltk_data]    |   Unzipping corpora\\swadesh.zip.\n",
      "[nltk_data]    | Downloading package timit to C:\\Users\\val-\n",
      "[nltk_data]    |     wd\\AppData\\Roaming\\nltk_data...\n",
      "[nltk_data]    |   Unzipping corpora\\timit.zip.\n",
      "[nltk_data]    | Downloading package treebank to C:\\Users\\val-\n",
      "[nltk_data]    |     wd\\AppData\\Roaming\\nltk_data...\n",
      "[nltk_data]    |   Unzipping corpora\\treebank.zip.\n",
      "[nltk_data]    | Downloading package toolbox to C:\\Users\\val-\n",
      "[nltk_data]    |     wd\\AppData\\Roaming\\nltk_data...\n",
      "[nltk_data]    |   Unzipping corpora\\toolbox.zip.\n",
      "[nltk_data]    | Downloading package udhr to C:\\Users\\val-\n",
      "[nltk_data]    |     wd\\AppData\\Roaming\\nltk_data...\n",
      "[nltk_data]    |   Unzipping corpora\\udhr.zip.\n",
      "[nltk_data]    | Downloading package udhr2 to C:\\Users\\val-\n",
      "[nltk_data]    |     wd\\AppData\\Roaming\\nltk_data...\n",
      "[nltk_data]    |   Unzipping corpora\\udhr2.zip.\n",
      "[nltk_data]    | Downloading package unicode_samples to C:\\Users\\val-\n",
      "[nltk_data]    |     wd\\AppData\\Roaming\\nltk_data...\n",
      "[nltk_data]    |   Unzipping corpora\\unicode_samples.zip.\n",
      "[nltk_data]    | Downloading package webtext to C:\\Users\\val-\n",
      "[nltk_data]    |     wd\\AppData\\Roaming\\nltk_data...\n",
      "[nltk_data]    |   Unzipping corpora\\webtext.zip.\n",
      "[nltk_data]    | Downloading package wordnet to C:\\Users\\val-\n",
      "[nltk_data]    |     wd\\AppData\\Roaming\\nltk_data...\n",
      "[nltk_data]    |   Unzipping corpora\\wordnet.zip.\n",
      "[nltk_data]    | Downloading package wordnet_ic to C:\\Users\\val-\n",
      "[nltk_data]    |     wd\\AppData\\Roaming\\nltk_data...\n",
      "[nltk_data]    |   Unzipping corpora\\wordnet_ic.zip.\n",
      "[nltk_data]    | Downloading package words to C:\\Users\\val-\n",
      "[nltk_data]    |     wd\\AppData\\Roaming\\nltk_data...\n",
      "[nltk_data]    |   Unzipping corpora\\words.zip.\n",
      "[nltk_data]    | Downloading package maxent_treebank_pos_tagger to\n",
      "[nltk_data]    |     C:\\Users\\val-wd\\AppData\\Roaming\\nltk_data...\n",
      "[nltk_data]    |   Unzipping taggers\\maxent_treebank_pos_tagger.zip.\n",
      "[nltk_data]    | Downloading package maxent_ne_chunker to\n",
      "[nltk_data]    |     C:\\Users\\val-wd\\AppData\\Roaming\\nltk_data...\n",
      "[nltk_data]    |   Unzipping chunkers\\maxent_ne_chunker.zip.\n",
      "[nltk_data]    | Downloading package universal_tagset to C:\\Users\\val-\n",
      "[nltk_data]    |     wd\\AppData\\Roaming\\nltk_data...\n",
      "[nltk_data]    |   Unzipping taggers\\universal_tagset.zip.\n",
      "[nltk_data]    | Downloading package punkt to C:\\Users\\val-\n",
      "[nltk_data]    |     wd\\AppData\\Roaming\\nltk_data...\n",
      "[nltk_data]    |   Package punkt is already up-to-date!\n",
      "[nltk_data]    | Downloading package book_grammars to C:\\Users\\val-\n",
      "[nltk_data]    |     wd\\AppData\\Roaming\\nltk_data...\n",
      "[nltk_data]    |   Unzipping grammars\\book_grammars.zip.\n",
      "[nltk_data]    | Downloading package city_database to C:\\Users\\val-\n",
      "[nltk_data]    |     wd\\AppData\\Roaming\\nltk_data...\n",
      "[nltk_data]    |   Unzipping corpora\\city_database.zip.\n",
      "[nltk_data]    | Downloading package tagsets to C:\\Users\\val-\n",
      "[nltk_data]    |     wd\\AppData\\Roaming\\nltk_data...\n",
      "[nltk_data]    |   Unzipping help\\tagsets.zip.\n",
      "[nltk_data]    | Downloading package panlex_swadesh to C:\\Users\\val-\n",
      "[nltk_data]    |     wd\\AppData\\Roaming\\nltk_data...\n",
      "[nltk_data]    | Downloading package averaged_perceptron_tagger to\n",
      "[nltk_data]    |     C:\\Users\\val-wd\\AppData\\Roaming\\nltk_data...\n",
      "[nltk_data]    |   Unzipping taggers\\averaged_perceptron_tagger.zip.\n",
      "[nltk_data]    | \n",
      "[nltk_data]  Done downloading collection book\n"
     ]
    },
    {
     "data": {
      "text/plain": [
       "True"
      ]
     },
     "execution_count": 23,
     "metadata": {},
     "output_type": "execute_result"
    }
   ],
   "source": [
    "# this is a big download of all book packages\n",
    "nltk.download(\"book\")"
   ]
  },
  {
   "cell_type": "code",
   "execution_count": 24,
   "metadata": {},
   "outputs": [
    {
     "name": "stdout",
     "output_type": "stream",
     "text": [
      "*** Introductory Examples for the NLTK Book ***\n",
      "Loading text1, ..., text9 and sent1, ..., sent9\n",
      "Type the name of the text or sentence to view it.\n",
      "Type: 'texts()' or 'sents()' to list the materials.\n",
      "text1: Moby Dick by Herman Melville 1851\n",
      "text2: Sense and Sensibility by Jane Austen 1811\n",
      "text3: The Book of Genesis\n",
      "text4: Inaugural Address Corpus\n",
      "text5: Chat Corpus\n",
      "text6: Monty Python and the Holy Grail\n",
      "text7: Wall Street Journal\n",
      "text8: Personals Corpus\n",
      "text9: The Man Who Was Thursday by G . K . Chesterton 1908\n"
     ]
    }
   ],
   "source": [
    "# After downloading the resources we still need to import them\n",
    "\n",
    "# Let's import all NLTK book resource (*)\n",
    "from nltk.book import *"
   ]
  },
  {
   "cell_type": "markdown",
   "metadata": {},
   "source": [
    "## 2) Exploring textual content"
   ]
  },
  {
   "cell_type": "code",
   "execution_count": 25,
   "metadata": {},
   "outputs": [
    {
     "data": {
      "text/plain": [
       "nltk.text.Text"
      ]
     },
     "execution_count": 25,
     "metadata": {},
     "output_type": "execute_result"
    }
   ],
   "source": [
    "# text1, ... resources are of type nltk.Text (same as in the earlier example):\n",
    "\n",
    "type(text1)"
   ]
  },
  {
   "cell_type": "code",
   "execution_count": 26,
   "metadata": {},
   "outputs": [
    {
     "name": "stdout",
     "output_type": "stream",
     "text": [
      "906\n"
     ]
    }
   ],
   "source": [
    "# We can run all methods that nltk.Text has.\n",
    "\n",
    "# Count words:\n",
    "print(text1.count(\"whale\"))"
   ]
  },
  {
   "cell_type": "code",
   "execution_count": 27,
   "metadata": {},
   "outputs": [
    {
     "name": "stdout",
     "output_type": "stream",
     "text": [
      "Displaying 7 of 7 matches:\n",
      "cean , in order , if possible , to discover a passage through it to India , th\n",
      " throw at the whales , in order to discover when they were nigh enough to risk\n",
      "for ever reach new distances , and discover sights more sweet and strange than\n",
      "gs upon the plain , you will often discover images as of the petrified forms o\n",
      " over numberless unknown worlds to discover his one superficial western one ; \n",
      "se two heads for hours , and never discover that organ . The ear has no extern\n",
      "s keener than man ' s ; Ahab could discover no sign in the sea . But suddenly \n"
     ]
    }
   ],
   "source": [
    "# https://www.nltk.org/api/nltk.html#nltk.text.Text.concordance\n",
    "\n",
    "# Print concordance view (occurences of a word, in context):\n",
    "text1.concordance(\"discover\")"
   ]
  },
  {
   "cell_type": "code",
   "execution_count": 28,
   "metadata": {
    "scrolled": true
   },
   "outputs": [
    {
     "name": "stdout",
     "output_type": "stream",
     "text": [
      "Displaying 25 of 316 matches:\n",
      " to the character of an independent nation seems to have been distinguished by\n",
      "f Heaven can never be expected on a nation that disregards the eternal rules o\n",
      "first , the representatives of this nation , then consisting of little more th\n",
      ", situation , and relations of this nation and country than any which had ever\n",
      ", prosperity , and happiness of the nation I have acquired an habitual attachm\n",
      "an be no spectacle presented by any nation more pleasing , more noble , majest\n",
      "party for its own ends , not of the nation for the national good . If that sol\n",
      "tures and the people throughout the nation . On this subject it might become m\n",
      "if a personal esteem for the French nation , formed in a residence of seven ye\n",
      "f our fellow - citizens by whatever nation , and if success can not be obtaine\n",
      "y , continue His blessing upon this nation and its Government and give it all \n",
      "powers so justly inspire . A rising nation , spread over a wide and fruitful l\n",
      "ing now decided by the voice of the nation , announced according to the rules \n",
      "ars witness to the fact that a just nation is trusted on its word when recours\n",
      "e union of opinion which gives to a nation the blessing of harmony and the ben\n",
      "uil suffrage of a free and virtuous nation , would under any circumstances hav\n",
      "d spirit and united councils of the nation will be safeguards to its honor and\n",
      "iction that the war with a powerful nation , which forms so prominent a featur\n",
      "out breaking down the spirit of the nation , destroying all confidence in itse\n",
      "ed on the military resources of the nation . These resources are amply suffici\n",
      "the war to an honorable issue . Our nation is in number more than half that of\n",
      "ndividually have been happy and the nation prosperous . Under this Constitutio\n",
      "rights , and is able to protect the nation against injustice from foreign powe\n",
      " great agricultural interest of the nation prospers under its protection . Loc\n",
      "ak our Union , and demolish us as a nation . Our distance from Europe and the \n"
     ]
    }
   ],
   "source": [
    "text4.concordance(\"nation\") # US presidents like to talk about nation quite a bit"
   ]
  },
  {
   "cell_type": "code",
   "execution_count": 29,
   "metadata": {},
   "outputs": [
    {
     "name": "stdout",
     "output_type": "stream",
     "text": [
      "Displaying 25 of 189 matches:\n",
      "s at the bar of the public reason ; freedom of religion ; freedom of the press \n",
      "blic reason ; freedom of religion ; freedom of the press , and freedom of perso\n",
      "ligion ; freedom of the press , and freedom of person under the protection of t\n",
      "e instrumental to the happiness and freedom of all . Relying , then , on the pa\n",
      "s of an institution so important to freedom and science are deeply to be regret\n",
      " be fairly and fully made , whether freedom of discussion , unaided by power , \n",
      "te and personal rights , and of the freedom of the press ; to observe economy i\n",
      "rdinary lot of humanity secured the freedom and happiness of this people . We n\n",
      "s inseparable from the enjoyment of freedom , but which have more than once app\n",
      " the abuse of power consists in the freedom , the purity , and the frequency of\n",
      "ation to the civil power ; that the freedom of the press and of religious opini\n",
      " own ; to cherish the principles of freedom and of equal rights wherever they w\n",
      "l Government into conflict with the freedom of elections , and the counteractio\n",
      "f appointment more independence and freedom from such influences might be expec\n",
      "e it might exert in controlling the freedom of the elective franchise . If such\n",
      "of the Executive in controlling the freedom of the elective franchise through t\n",
      " from the mother country that \" the freedom of the press is the great bulwark o\n",
      "the people as the genuine spirit of freedom , and , like the false Christs whos\n",
      "by the gifts of civil and religious freedom , who watched over and prospered th\n",
      " , which have been the offspring of freedom , and not of power . This most admi\n",
      "ween church and state , and perfect freedom of opinion is guaranteed to all sec\n",
      "o circumscribed the limits of human freedom and planted their standard , where \n",
      "encouragement and potent appeal for freedom will be its own history -- its tria\n",
      "ur sympathies in the cause of human freedom and universal advancement . But the\n",
      "this Constitution the boundaries of freedom have been enlarged , the foundation\n"
     ]
    }
   ],
   "source": [
    "text4.concordance(\"freedom\") "
   ]
  },
  {
   "cell_type": "code",
   "execution_count": 30,
   "metadata": {
    "scrolled": true
   },
   "outputs": [
    {
     "name": "stdout",
     "output_type": "stream",
     "text": [
      "country people government world union time constitution states\n",
      "republic land law party earth other future president war executive\n",
      "congress peace\n"
     ]
    }
   ],
   "source": [
    "# https://www.nltk.org/api/nltk.html#nltk.text.Text.similar\n",
    "\n",
    "# Print words that appear in similar context as \"nation\".\n",
    "text4.similar(\"nation\")"
   ]
  },
  {
   "cell_type": "code",
   "execution_count": 31,
   "metadata": {},
   "outputs": [
    {
     "name": "stdout",
     "output_type": "stream",
     "text": [
      "ship boat sea time captain world man deck pequod other whales air\n",
      "water head crew line thing side way body\n"
     ]
    }
   ],
   "source": [
    "text1.similar(\"whale\")"
   ]
  },
  {
   "cell_type": "code",
   "execution_count": 37,
   "metadata": {},
   "outputs": [
    {
     "data": {
      "text/plain": [
       "401"
      ]
     },
     "execution_count": 37,
     "metadata": {},
     "output_type": "execute_result"
    }
   ],
   "source": [
    "# let's explore some corpus which is not given so our own\n",
    "with open(\"../data/alice.txt\", encoding=\"utf-8\") as f:\n",
    "    alice_raw = f.read()\n",
    "alice = Text(word_tokenize(alice_raw)) # we need to pass a list to Text constructor\n",
    "alice.count(\"Alice\")"
   ]
  },
  {
   "cell_type": "code",
   "execution_count": 38,
   "metadata": {},
   "outputs": [
    {
     "data": {
      "text/plain": [
       "nltk.text.Text"
      ]
     },
     "execution_count": 38,
     "metadata": {},
     "output_type": "execute_result"
    }
   ],
   "source": [
    "type(alice)"
   ]
  },
  {
   "cell_type": "code",
   "execution_count": 39,
   "metadata": {},
   "outputs": [
    {
     "name": "stdout",
     "output_type": "stream",
     "text": [
      "Displaying 25 of 48 matches:\n",
      "ce and a Long Tale CHAPTER IV . The Rabbit Sends in a Little Bill CHAPTER V. A\n",
      "the daisies , when suddenly a White Rabbit with pink eyes ran close by her . T\n",
      "ry_ much out of the way to hear the Rabbit say to itself , “ Oh dear ! Oh dear\n",
      "emed quite natural ) ; but when the Rabbit actually _took a watch out of its w\n",
      "nd that she had never before seen a rabbit with either a waistcoat-pocket , or\n",
      "nother long passage , and the White Rabbit was still in sight , hurrying down \n",
      "hen she turned the corner , but the Rabbit was no longer to be seen : she foun\n",
      " what was coming . It was the White Rabbit returning , splendidly dressed , wi\n",
      "ask help of any one ; so , when the Rabbit came near her , she began , in a lo\n",
      "oice , “ If you please , sir— ” The Rabbit started violently , dropped the whi\n",
      " see that she had put on one of the Rabbit ’ s little white kid gloves while s\n",
      "finish his story . CHAPTER IV . The Rabbit Sends in a Little Bill It was the W\n",
      "s in a Little Bill It was the White Rabbit , trotting slowly back again , and \n",
      "vanished completely . Very soon the Rabbit noticed Alice , as she went hunting\n",
      "ght brass plate with the name “ W . RABBIT , ” engraved upon it . She went in \n",
      "self , “ to be going messages for a rabbit ! I suppose Dinah ’ ll be sending m\n",
      " the stairs . Alice knew it was the Rabbit coming to look for her , and she tr\n",
      "ut a thousand times as large as the Rabbit , and had no reason to be afraid of\n",
      " to be afraid of it . Presently the Rabbit came up to the door , and tried to \n",
      "ting till she fancied she heard the Rabbit just under the window , she suddenl\n",
      "sort . Next came an angry voice—the Rabbit ’ s— “ Pat ! Pat ! Where are you ? \n",
      "ng for apples , indeed ! ” said the Rabbit angrily . “ Here ! Come and help me\n",
      "s of “ There goes Bill ! ” then the Rabbit ’ s voice along— “ Catch him , you \n",
      "st burn the house down ! ” said the Rabbit ’ s voice ; and Alice called out as\n",
      "g about again , and Alice heard the Rabbit say , “ A barrowful will do , to be\n"
     ]
    }
   ],
   "source": [
    "alice.concordance(\"rabbit\")"
   ]
  },
  {
   "cell_type": "code",
   "execution_count": 40,
   "metadata": {},
   "outputs": [
    {
     "name": "stdout",
     "output_type": "stream",
     "text": [
      "king caterpillar queen duchess hatter dormouse gryphon other cat mouse\n",
      "game work jury pool well way question hall door table\n"
     ]
    }
   ],
   "source": [
    "alice.similar(\"rabbit\")"
   ]
  },
  {
   "cell_type": "code",
   "execution_count": 41,
   "metadata": {},
   "outputs": [
    {
     "name": "stdout",
     "output_type": "stream",
     "text": [
      "the_previous the_of the_before by_or all_i all_and by_and the_and\n",
      "this_in the_had one_the all_in the_wore through_into\n"
     ]
    }
   ],
   "source": [
    "# https://www.nltk.org/api/nltk.html#nltk.text.Text.common_contexts\n",
    "\n",
    "# Find contexts common to all given words\n",
    "text1.common_contexts([\"day\", \"night\"])\n"
   ]
  },
  {
   "cell_type": "code",
   "execution_count": 43,
   "metadata": {},
   "outputs": [
    {
     "name": "stdout",
     "output_type": "stream",
     "text": [
      "of_in of_the\n"
     ]
    }
   ],
   "source": [
    "text4.common_contexts([\"America\", \"freedom\", \"slavery\"])"
   ]
  },
  {
   "cell_type": "code",
   "execution_count": 44,
   "metadata": {},
   "outputs": [
    {
     "name": "stdout",
     "output_type": "stream",
     "text": [
      "the_was\n"
     ]
    }
   ],
   "source": [
    "alice.common_contexts([\"Alice\", \"rabbit\"])"
   ]
  },
  {
   "cell_type": "code",
   "execution_count": 45,
   "metadata": {},
   "outputs": [
    {
     "name": "stdout",
     "output_type": "stream",
     "text": [
      "the_was\n"
     ]
    }
   ],
   "source": [
    "alice.common_contexts([\"Alice\", \"queen\"])"
   ]
  },
  {
   "cell_type": "markdown",
   "metadata": {},
   "source": [
    "### Side note: Python lists\n",
    "\n",
    "A *list* contains multiple values in an ordered sequence.\n",
    "\n",
    "More about Python lists:\n",
    "* https://automatetheboringstuff.com/chapter4/"
   ]
  },
  {
   "cell_type": "code",
   "execution_count": 46,
   "metadata": {},
   "outputs": [
    {
     "name": "stdout",
     "output_type": "stream",
     "text": [
      "42\n"
     ]
    }
   ],
   "source": [
    "# nltk.Text is also a list - can do everything we can do with lists (access parts of it, ...)\n",
    "\n",
    "# What's the 1st occurence of \"He\" in the text?\n",
    "#  - note: Python is case sensitive (unless you take care of it - e.g. convert all text to lowercase)\n",
    "\n",
    "print(text1.index(\"He\"))"
   ]
  },
  {
   "cell_type": "code",
   "execution_count": 47,
   "metadata": {},
   "outputs": [
    {
     "name": "stdout",
     "output_type": "stream",
     "text": [
      "He\n"
     ]
    }
   ],
   "source": [
    "# The word at position #42\n",
    "#  - note: list indexes start from 0\n",
    "\n",
    "print(text1[42])"
   ]
  },
  {
   "cell_type": "code",
   "execution_count": 48,
   "metadata": {},
   "outputs": [
    {
     "name": "stdout",
     "output_type": "stream",
     "text": [
      "['He', 'was', 'ever', 'dusting', 'his', 'old', 'lexicons', 'and', 'grammars', ',']\n"
     ]
    }
   ],
   "source": [
    "print(text1[42:52])"
   ]
  },
  {
   "cell_type": "markdown",
   "metadata": {},
   "source": [
    "## Further exploration\n",
    "\n",
    "* Dispersion plots (distribution of words throughout the text)\n",
    "* Generating text (based on example)\n",
    "\n",
    "### Visualizing the corpus"
   ]
  },
  {
   "cell_type": "code",
   "execution_count": 49,
   "metadata": {
    "scrolled": true
   },
   "outputs": [
    {
     "data": {
      "application/javascript": [
       "/* Put everything inside the global mpl namespace */\n",
       "window.mpl = {};\n",
       "\n",
       "\n",
       "mpl.get_websocket_type = function() {\n",
       "    if (typeof(WebSocket) !== 'undefined') {\n",
       "        return WebSocket;\n",
       "    } else if (typeof(MozWebSocket) !== 'undefined') {\n",
       "        return MozWebSocket;\n",
       "    } else {\n",
       "        alert('Your browser does not have WebSocket support. ' +\n",
       "              'Please try Chrome, Safari or Firefox ≥ 6. ' +\n",
       "              'Firefox 4 and 5 are also supported but you ' +\n",
       "              'have to enable WebSockets in about:config.');\n",
       "    };\n",
       "}\n",
       "\n",
       "mpl.figure = function(figure_id, websocket, ondownload, parent_element) {\n",
       "    this.id = figure_id;\n",
       "\n",
       "    this.ws = websocket;\n",
       "\n",
       "    this.supports_binary = (this.ws.binaryType != undefined);\n",
       "\n",
       "    if (!this.supports_binary) {\n",
       "        var warnings = document.getElementById(\"mpl-warnings\");\n",
       "        if (warnings) {\n",
       "            warnings.style.display = 'block';\n",
       "            warnings.textContent = (\n",
       "                \"This browser does not support binary websocket messages. \" +\n",
       "                    \"Performance may be slow.\");\n",
       "        }\n",
       "    }\n",
       "\n",
       "    this.imageObj = new Image();\n",
       "\n",
       "    this.context = undefined;\n",
       "    this.message = undefined;\n",
       "    this.canvas = undefined;\n",
       "    this.rubberband_canvas = undefined;\n",
       "    this.rubberband_context = undefined;\n",
       "    this.format_dropdown = undefined;\n",
       "\n",
       "    this.image_mode = 'full';\n",
       "\n",
       "    this.root = $('<div/>');\n",
       "    this._root_extra_style(this.root)\n",
       "    this.root.attr('style', 'display: inline-block');\n",
       "\n",
       "    $(parent_element).append(this.root);\n",
       "\n",
       "    this._init_header(this);\n",
       "    this._init_canvas(this);\n",
       "    this._init_toolbar(this);\n",
       "\n",
       "    var fig = this;\n",
       "\n",
       "    this.waiting = false;\n",
       "\n",
       "    this.ws.onopen =  function () {\n",
       "            fig.send_message(\"supports_binary\", {value: fig.supports_binary});\n",
       "            fig.send_message(\"send_image_mode\", {});\n",
       "            if (mpl.ratio != 1) {\n",
       "                fig.send_message(\"set_dpi_ratio\", {'dpi_ratio': mpl.ratio});\n",
       "            }\n",
       "            fig.send_message(\"refresh\", {});\n",
       "        }\n",
       "\n",
       "    this.imageObj.onload = function() {\n",
       "            if (fig.image_mode == 'full') {\n",
       "                // Full images could contain transparency (where diff images\n",
       "                // almost always do), so we need to clear the canvas so that\n",
       "                // there is no ghosting.\n",
       "                fig.context.clearRect(0, 0, fig.canvas.width, fig.canvas.height);\n",
       "            }\n",
       "            fig.context.drawImage(fig.imageObj, 0, 0);\n",
       "        };\n",
       "\n",
       "    this.imageObj.onunload = function() {\n",
       "        fig.ws.close();\n",
       "    }\n",
       "\n",
       "    this.ws.onmessage = this._make_on_message_function(this);\n",
       "\n",
       "    this.ondownload = ondownload;\n",
       "}\n",
       "\n",
       "mpl.figure.prototype._init_header = function() {\n",
       "    var titlebar = $(\n",
       "        '<div class=\"ui-dialog-titlebar ui-widget-header ui-corner-all ' +\n",
       "        'ui-helper-clearfix\"/>');\n",
       "    var titletext = $(\n",
       "        '<div class=\"ui-dialog-title\" style=\"width: 100%; ' +\n",
       "        'text-align: center; padding: 3px;\"/>');\n",
       "    titlebar.append(titletext)\n",
       "    this.root.append(titlebar);\n",
       "    this.header = titletext[0];\n",
       "}\n",
       "\n",
       "\n",
       "\n",
       "mpl.figure.prototype._canvas_extra_style = function(canvas_div) {\n",
       "\n",
       "}\n",
       "\n",
       "\n",
       "mpl.figure.prototype._root_extra_style = function(canvas_div) {\n",
       "\n",
       "}\n",
       "\n",
       "mpl.figure.prototype._init_canvas = function() {\n",
       "    var fig = this;\n",
       "\n",
       "    var canvas_div = $('<div/>');\n",
       "\n",
       "    canvas_div.attr('style', 'position: relative; clear: both; outline: 0');\n",
       "\n",
       "    function canvas_keyboard_event(event) {\n",
       "        return fig.key_event(event, event['data']);\n",
       "    }\n",
       "\n",
       "    canvas_div.keydown('key_press', canvas_keyboard_event);\n",
       "    canvas_div.keyup('key_release', canvas_keyboard_event);\n",
       "    this.canvas_div = canvas_div\n",
       "    this._canvas_extra_style(canvas_div)\n",
       "    this.root.append(canvas_div);\n",
       "\n",
       "    var canvas = $('<canvas/>');\n",
       "    canvas.addClass('mpl-canvas');\n",
       "    canvas.attr('style', \"left: 0; top: 0; z-index: 0; outline: 0\")\n",
       "\n",
       "    this.canvas = canvas[0];\n",
       "    this.context = canvas[0].getContext(\"2d\");\n",
       "\n",
       "    var backingStore = this.context.backingStorePixelRatio ||\n",
       "\tthis.context.webkitBackingStorePixelRatio ||\n",
       "\tthis.context.mozBackingStorePixelRatio ||\n",
       "\tthis.context.msBackingStorePixelRatio ||\n",
       "\tthis.context.oBackingStorePixelRatio ||\n",
       "\tthis.context.backingStorePixelRatio || 1;\n",
       "\n",
       "    mpl.ratio = (window.devicePixelRatio || 1) / backingStore;\n",
       "\n",
       "    var rubberband = $('<canvas/>');\n",
       "    rubberband.attr('style', \"position: absolute; left: 0; top: 0; z-index: 1;\")\n",
       "\n",
       "    var pass_mouse_events = true;\n",
       "\n",
       "    canvas_div.resizable({\n",
       "        start: function(event, ui) {\n",
       "            pass_mouse_events = false;\n",
       "        },\n",
       "        resize: function(event, ui) {\n",
       "            fig.request_resize(ui.size.width, ui.size.height);\n",
       "        },\n",
       "        stop: function(event, ui) {\n",
       "            pass_mouse_events = true;\n",
       "            fig.request_resize(ui.size.width, ui.size.height);\n",
       "        },\n",
       "    });\n",
       "\n",
       "    function mouse_event_fn(event) {\n",
       "        if (pass_mouse_events)\n",
       "            return fig.mouse_event(event, event['data']);\n",
       "    }\n",
       "\n",
       "    rubberband.mousedown('button_press', mouse_event_fn);\n",
       "    rubberband.mouseup('button_release', mouse_event_fn);\n",
       "    // Throttle sequential mouse events to 1 every 20ms.\n",
       "    rubberband.mousemove('motion_notify', mouse_event_fn);\n",
       "\n",
       "    rubberband.mouseenter('figure_enter', mouse_event_fn);\n",
       "    rubberband.mouseleave('figure_leave', mouse_event_fn);\n",
       "\n",
       "    canvas_div.on(\"wheel\", function (event) {\n",
       "        event = event.originalEvent;\n",
       "        event['data'] = 'scroll'\n",
       "        if (event.deltaY < 0) {\n",
       "            event.step = 1;\n",
       "        } else {\n",
       "            event.step = -1;\n",
       "        }\n",
       "        mouse_event_fn(event);\n",
       "    });\n",
       "\n",
       "    canvas_div.append(canvas);\n",
       "    canvas_div.append(rubberband);\n",
       "\n",
       "    this.rubberband = rubberband;\n",
       "    this.rubberband_canvas = rubberband[0];\n",
       "    this.rubberband_context = rubberband[0].getContext(\"2d\");\n",
       "    this.rubberband_context.strokeStyle = \"#000000\";\n",
       "\n",
       "    this._resize_canvas = function(width, height) {\n",
       "        // Keep the size of the canvas, canvas container, and rubber band\n",
       "        // canvas in synch.\n",
       "        canvas_div.css('width', width)\n",
       "        canvas_div.css('height', height)\n",
       "\n",
       "        canvas.attr('width', width * mpl.ratio);\n",
       "        canvas.attr('height', height * mpl.ratio);\n",
       "        canvas.attr('style', 'width: ' + width + 'px; height: ' + height + 'px;');\n",
       "\n",
       "        rubberband.attr('width', width);\n",
       "        rubberband.attr('height', height);\n",
       "    }\n",
       "\n",
       "    // Set the figure to an initial 600x600px, this will subsequently be updated\n",
       "    // upon first draw.\n",
       "    this._resize_canvas(600, 600);\n",
       "\n",
       "    // Disable right mouse context menu.\n",
       "    $(this.rubberband_canvas).bind(\"contextmenu\",function(e){\n",
       "        return false;\n",
       "    });\n",
       "\n",
       "    function set_focus () {\n",
       "        canvas.focus();\n",
       "        canvas_div.focus();\n",
       "    }\n",
       "\n",
       "    window.setTimeout(set_focus, 100);\n",
       "}\n",
       "\n",
       "mpl.figure.prototype._init_toolbar = function() {\n",
       "    var fig = this;\n",
       "\n",
       "    var nav_element = $('<div/>');\n",
       "    nav_element.attr('style', 'width: 100%');\n",
       "    this.root.append(nav_element);\n",
       "\n",
       "    // Define a callback function for later on.\n",
       "    function toolbar_event(event) {\n",
       "        return fig.toolbar_button_onclick(event['data']);\n",
       "    }\n",
       "    function toolbar_mouse_event(event) {\n",
       "        return fig.toolbar_button_onmouseover(event['data']);\n",
       "    }\n",
       "\n",
       "    for(var toolbar_ind in mpl.toolbar_items) {\n",
       "        var name = mpl.toolbar_items[toolbar_ind][0];\n",
       "        var tooltip = mpl.toolbar_items[toolbar_ind][1];\n",
       "        var image = mpl.toolbar_items[toolbar_ind][2];\n",
       "        var method_name = mpl.toolbar_items[toolbar_ind][3];\n",
       "\n",
       "        if (!name) {\n",
       "            // put a spacer in here.\n",
       "            continue;\n",
       "        }\n",
       "        var button = $('<button/>');\n",
       "        button.addClass('ui-button ui-widget ui-state-default ui-corner-all ' +\n",
       "                        'ui-button-icon-only');\n",
       "        button.attr('role', 'button');\n",
       "        button.attr('aria-disabled', 'false');\n",
       "        button.click(method_name, toolbar_event);\n",
       "        button.mouseover(tooltip, toolbar_mouse_event);\n",
       "\n",
       "        var icon_img = $('<span/>');\n",
       "        icon_img.addClass('ui-button-icon-primary ui-icon');\n",
       "        icon_img.addClass(image);\n",
       "        icon_img.addClass('ui-corner-all');\n",
       "\n",
       "        var tooltip_span = $('<span/>');\n",
       "        tooltip_span.addClass('ui-button-text');\n",
       "        tooltip_span.html(tooltip);\n",
       "\n",
       "        button.append(icon_img);\n",
       "        button.append(tooltip_span);\n",
       "\n",
       "        nav_element.append(button);\n",
       "    }\n",
       "\n",
       "    var fmt_picker_span = $('<span/>');\n",
       "\n",
       "    var fmt_picker = $('<select/>');\n",
       "    fmt_picker.addClass('mpl-toolbar-option ui-widget ui-widget-content');\n",
       "    fmt_picker_span.append(fmt_picker);\n",
       "    nav_element.append(fmt_picker_span);\n",
       "    this.format_dropdown = fmt_picker[0];\n",
       "\n",
       "    for (var ind in mpl.extensions) {\n",
       "        var fmt = mpl.extensions[ind];\n",
       "        var option = $(\n",
       "            '<option/>', {selected: fmt === mpl.default_extension}).html(fmt);\n",
       "        fmt_picker.append(option);\n",
       "    }\n",
       "\n",
       "    // Add hover states to the ui-buttons\n",
       "    $( \".ui-button\" ).hover(\n",
       "        function() { $(this).addClass(\"ui-state-hover\");},\n",
       "        function() { $(this).removeClass(\"ui-state-hover\");}\n",
       "    );\n",
       "\n",
       "    var status_bar = $('<span class=\"mpl-message\"/>');\n",
       "    nav_element.append(status_bar);\n",
       "    this.message = status_bar[0];\n",
       "}\n",
       "\n",
       "mpl.figure.prototype.request_resize = function(x_pixels, y_pixels) {\n",
       "    // Request matplotlib to resize the figure. Matplotlib will then trigger a resize in the client,\n",
       "    // which will in turn request a refresh of the image.\n",
       "    this.send_message('resize', {'width': x_pixels, 'height': y_pixels});\n",
       "}\n",
       "\n",
       "mpl.figure.prototype.send_message = function(type, properties) {\n",
       "    properties['type'] = type;\n",
       "    properties['figure_id'] = this.id;\n",
       "    this.ws.send(JSON.stringify(properties));\n",
       "}\n",
       "\n",
       "mpl.figure.prototype.send_draw_message = function() {\n",
       "    if (!this.waiting) {\n",
       "        this.waiting = true;\n",
       "        this.ws.send(JSON.stringify({type: \"draw\", figure_id: this.id}));\n",
       "    }\n",
       "}\n",
       "\n",
       "\n",
       "mpl.figure.prototype.handle_save = function(fig, msg) {\n",
       "    var format_dropdown = fig.format_dropdown;\n",
       "    var format = format_dropdown.options[format_dropdown.selectedIndex].value;\n",
       "    fig.ondownload(fig, format);\n",
       "}\n",
       "\n",
       "\n",
       "mpl.figure.prototype.handle_resize = function(fig, msg) {\n",
       "    var size = msg['size'];\n",
       "    if (size[0] != fig.canvas.width || size[1] != fig.canvas.height) {\n",
       "        fig._resize_canvas(size[0], size[1]);\n",
       "        fig.send_message(\"refresh\", {});\n",
       "    };\n",
       "}\n",
       "\n",
       "mpl.figure.prototype.handle_rubberband = function(fig, msg) {\n",
       "    var x0 = msg['x0'] / mpl.ratio;\n",
       "    var y0 = (fig.canvas.height - msg['y0']) / mpl.ratio;\n",
       "    var x1 = msg['x1'] / mpl.ratio;\n",
       "    var y1 = (fig.canvas.height - msg['y1']) / mpl.ratio;\n",
       "    x0 = Math.floor(x0) + 0.5;\n",
       "    y0 = Math.floor(y0) + 0.5;\n",
       "    x1 = Math.floor(x1) + 0.5;\n",
       "    y1 = Math.floor(y1) + 0.5;\n",
       "    var min_x = Math.min(x0, x1);\n",
       "    var min_y = Math.min(y0, y1);\n",
       "    var width = Math.abs(x1 - x0);\n",
       "    var height = Math.abs(y1 - y0);\n",
       "\n",
       "    fig.rubberband_context.clearRect(\n",
       "        0, 0, fig.canvas.width / mpl.ratio, fig.canvas.height / mpl.ratio);\n",
       "\n",
       "    fig.rubberband_context.strokeRect(min_x, min_y, width, height);\n",
       "}\n",
       "\n",
       "mpl.figure.prototype.handle_figure_label = function(fig, msg) {\n",
       "    // Updates the figure title.\n",
       "    fig.header.textContent = msg['label'];\n",
       "}\n",
       "\n",
       "mpl.figure.prototype.handle_cursor = function(fig, msg) {\n",
       "    var cursor = msg['cursor'];\n",
       "    switch(cursor)\n",
       "    {\n",
       "    case 0:\n",
       "        cursor = 'pointer';\n",
       "        break;\n",
       "    case 1:\n",
       "        cursor = 'default';\n",
       "        break;\n",
       "    case 2:\n",
       "        cursor = 'crosshair';\n",
       "        break;\n",
       "    case 3:\n",
       "        cursor = 'move';\n",
       "        break;\n",
       "    }\n",
       "    fig.rubberband_canvas.style.cursor = cursor;\n",
       "}\n",
       "\n",
       "mpl.figure.prototype.handle_message = function(fig, msg) {\n",
       "    fig.message.textContent = msg['message'];\n",
       "}\n",
       "\n",
       "mpl.figure.prototype.handle_draw = function(fig, msg) {\n",
       "    // Request the server to send over a new figure.\n",
       "    fig.send_draw_message();\n",
       "}\n",
       "\n",
       "mpl.figure.prototype.handle_image_mode = function(fig, msg) {\n",
       "    fig.image_mode = msg['mode'];\n",
       "}\n",
       "\n",
       "mpl.figure.prototype.updated_canvas_event = function() {\n",
       "    // Called whenever the canvas gets updated.\n",
       "    this.send_message(\"ack\", {});\n",
       "}\n",
       "\n",
       "// A function to construct a web socket function for onmessage handling.\n",
       "// Called in the figure constructor.\n",
       "mpl.figure.prototype._make_on_message_function = function(fig) {\n",
       "    return function socket_on_message(evt) {\n",
       "        if (evt.data instanceof Blob) {\n",
       "            /* FIXME: We get \"Resource interpreted as Image but\n",
       "             * transferred with MIME type text/plain:\" errors on\n",
       "             * Chrome.  But how to set the MIME type?  It doesn't seem\n",
       "             * to be part of the websocket stream */\n",
       "            evt.data.type = \"image/png\";\n",
       "\n",
       "            /* Free the memory for the previous frames */\n",
       "            if (fig.imageObj.src) {\n",
       "                (window.URL || window.webkitURL).revokeObjectURL(\n",
       "                    fig.imageObj.src);\n",
       "            }\n",
       "\n",
       "            fig.imageObj.src = (window.URL || window.webkitURL).createObjectURL(\n",
       "                evt.data);\n",
       "            fig.updated_canvas_event();\n",
       "            fig.waiting = false;\n",
       "            return;\n",
       "        }\n",
       "        else if (typeof evt.data === 'string' && evt.data.slice(0, 21) == \"data:image/png;base64\") {\n",
       "            fig.imageObj.src = evt.data;\n",
       "            fig.updated_canvas_event();\n",
       "            fig.waiting = false;\n",
       "            return;\n",
       "        }\n",
       "\n",
       "        var msg = JSON.parse(evt.data);\n",
       "        var msg_type = msg['type'];\n",
       "\n",
       "        // Call the  \"handle_{type}\" callback, which takes\n",
       "        // the figure and JSON message as its only arguments.\n",
       "        try {\n",
       "            var callback = fig[\"handle_\" + msg_type];\n",
       "        } catch (e) {\n",
       "            console.log(\"No handler for the '\" + msg_type + \"' message type: \", msg);\n",
       "            return;\n",
       "        }\n",
       "\n",
       "        if (callback) {\n",
       "            try {\n",
       "                // console.log(\"Handling '\" + msg_type + \"' message: \", msg);\n",
       "                callback(fig, msg);\n",
       "            } catch (e) {\n",
       "                console.log(\"Exception inside the 'handler_\" + msg_type + \"' callback:\", e, e.stack, msg);\n",
       "            }\n",
       "        }\n",
       "    };\n",
       "}\n",
       "\n",
       "// from http://stackoverflow.com/questions/1114465/getting-mouse-location-in-canvas\n",
       "mpl.findpos = function(e) {\n",
       "    //this section is from http://www.quirksmode.org/js/events_properties.html\n",
       "    var targ;\n",
       "    if (!e)\n",
       "        e = window.event;\n",
       "    if (e.target)\n",
       "        targ = e.target;\n",
       "    else if (e.srcElement)\n",
       "        targ = e.srcElement;\n",
       "    if (targ.nodeType == 3) // defeat Safari bug\n",
       "        targ = targ.parentNode;\n",
       "\n",
       "    // jQuery normalizes the pageX and pageY\n",
       "    // pageX,Y are the mouse positions relative to the document\n",
       "    // offset() returns the position of the element relative to the document\n",
       "    var x = e.pageX - $(targ).offset().left;\n",
       "    var y = e.pageY - $(targ).offset().top;\n",
       "\n",
       "    return {\"x\": x, \"y\": y};\n",
       "};\n",
       "\n",
       "/*\n",
       " * return a copy of an object with only non-object keys\n",
       " * we need this to avoid circular references\n",
       " * http://stackoverflow.com/a/24161582/3208463\n",
       " */\n",
       "function simpleKeys (original) {\n",
       "  return Object.keys(original).reduce(function (obj, key) {\n",
       "    if (typeof original[key] !== 'object')\n",
       "        obj[key] = original[key]\n",
       "    return obj;\n",
       "  }, {});\n",
       "}\n",
       "\n",
       "mpl.figure.prototype.mouse_event = function(event, name) {\n",
       "    var canvas_pos = mpl.findpos(event)\n",
       "\n",
       "    if (name === 'button_press')\n",
       "    {\n",
       "        this.canvas.focus();\n",
       "        this.canvas_div.focus();\n",
       "    }\n",
       "\n",
       "    var x = canvas_pos.x * mpl.ratio;\n",
       "    var y = canvas_pos.y * mpl.ratio;\n",
       "\n",
       "    this.send_message(name, {x: x, y: y, button: event.button,\n",
       "                             step: event.step,\n",
       "                             guiEvent: simpleKeys(event)});\n",
       "\n",
       "    /* This prevents the web browser from automatically changing to\n",
       "     * the text insertion cursor when the button is pressed.  We want\n",
       "     * to control all of the cursor setting manually through the\n",
       "     * 'cursor' event from matplotlib */\n",
       "    event.preventDefault();\n",
       "    return false;\n",
       "}\n",
       "\n",
       "mpl.figure.prototype._key_event_extra = function(event, name) {\n",
       "    // Handle any extra behaviour associated with a key event\n",
       "}\n",
       "\n",
       "mpl.figure.prototype.key_event = function(event, name) {\n",
       "\n",
       "    // Prevent repeat events\n",
       "    if (name == 'key_press')\n",
       "    {\n",
       "        if (event.which === this._key)\n",
       "            return;\n",
       "        else\n",
       "            this._key = event.which;\n",
       "    }\n",
       "    if (name == 'key_release')\n",
       "        this._key = null;\n",
       "\n",
       "    var value = '';\n",
       "    if (event.ctrlKey && event.which != 17)\n",
       "        value += \"ctrl+\";\n",
       "    if (event.altKey && event.which != 18)\n",
       "        value += \"alt+\";\n",
       "    if (event.shiftKey && event.which != 16)\n",
       "        value += \"shift+\";\n",
       "\n",
       "    value += 'k';\n",
       "    value += event.which.toString();\n",
       "\n",
       "    this._key_event_extra(event, name);\n",
       "\n",
       "    this.send_message(name, {key: value,\n",
       "                             guiEvent: simpleKeys(event)});\n",
       "    return false;\n",
       "}\n",
       "\n",
       "mpl.figure.prototype.toolbar_button_onclick = function(name) {\n",
       "    if (name == 'download') {\n",
       "        this.handle_save(this, null);\n",
       "    } else {\n",
       "        this.send_message(\"toolbar_button\", {name: name});\n",
       "    }\n",
       "};\n",
       "\n",
       "mpl.figure.prototype.toolbar_button_onmouseover = function(tooltip) {\n",
       "    this.message.textContent = tooltip;\n",
       "};\n",
       "mpl.toolbar_items = [[\"Home\", \"Reset original view\", \"fa fa-home icon-home\", \"home\"], [\"Back\", \"Back to previous view\", \"fa fa-arrow-left icon-arrow-left\", \"back\"], [\"Forward\", \"Forward to next view\", \"fa fa-arrow-right icon-arrow-right\", \"forward\"], [\"\", \"\", \"\", \"\"], [\"Pan\", \"Pan axes with left mouse, zoom with right\", \"fa fa-arrows icon-move\", \"pan\"], [\"Zoom\", \"Zoom to rectangle\", \"fa fa-square-o icon-check-empty\", \"zoom\"], [\"\", \"\", \"\", \"\"], [\"Download\", \"Download plot\", \"fa fa-floppy-o icon-save\", \"download\"]];\n",
       "\n",
       "mpl.extensions = [\"eps\", \"jpeg\", \"pdf\", \"png\", \"ps\", \"raw\", \"svg\", \"tif\"];\n",
       "\n",
       "mpl.default_extension = \"png\";var comm_websocket_adapter = function(comm) {\n",
       "    // Create a \"websocket\"-like object which calls the given IPython comm\n",
       "    // object with the appropriate methods. Currently this is a non binary\n",
       "    // socket, so there is still some room for performance tuning.\n",
       "    var ws = {};\n",
       "\n",
       "    ws.close = function() {\n",
       "        comm.close()\n",
       "    };\n",
       "    ws.send = function(m) {\n",
       "        //console.log('sending', m);\n",
       "        comm.send(m);\n",
       "    };\n",
       "    // Register the callback with on_msg.\n",
       "    comm.on_msg(function(msg) {\n",
       "        //console.log('receiving', msg['content']['data'], msg);\n",
       "        // Pass the mpl event to the overridden (by mpl) onmessage function.\n",
       "        ws.onmessage(msg['content']['data'])\n",
       "    });\n",
       "    return ws;\n",
       "}\n",
       "\n",
       "mpl.mpl_figure_comm = function(comm, msg) {\n",
       "    // This is the function which gets called when the mpl process\n",
       "    // starts-up an IPython Comm through the \"matplotlib\" channel.\n",
       "\n",
       "    var id = msg.content.data.id;\n",
       "    // Get hold of the div created by the display call when the Comm\n",
       "    // socket was opened in Python.\n",
       "    var element = $(\"#\" + id);\n",
       "    var ws_proxy = comm_websocket_adapter(comm)\n",
       "\n",
       "    function ondownload(figure, format) {\n",
       "        window.open(figure.imageObj.src);\n",
       "    }\n",
       "\n",
       "    var fig = new mpl.figure(id, ws_proxy,\n",
       "                           ondownload,\n",
       "                           element.get(0));\n",
       "\n",
       "    // Call onopen now - mpl needs it, as it is assuming we've passed it a real\n",
       "    // web socket which is closed, not our websocket->open comm proxy.\n",
       "    ws_proxy.onopen();\n",
       "\n",
       "    fig.parent_element = element.get(0);\n",
       "    fig.cell_info = mpl.find_output_cell(\"<div id='\" + id + \"'></div>\");\n",
       "    if (!fig.cell_info) {\n",
       "        console.error(\"Failed to find cell for figure\", id, fig);\n",
       "        return;\n",
       "    }\n",
       "\n",
       "    var output_index = fig.cell_info[2]\n",
       "    var cell = fig.cell_info[0];\n",
       "\n",
       "};\n",
       "\n",
       "mpl.figure.prototype.handle_close = function(fig, msg) {\n",
       "    var width = fig.canvas.width/mpl.ratio\n",
       "    fig.root.unbind('remove')\n",
       "\n",
       "    // Update the output cell to use the data from the current canvas.\n",
       "    fig.push_to_output();\n",
       "    var dataURL = fig.canvas.toDataURL();\n",
       "    // Re-enable the keyboard manager in IPython - without this line, in FF,\n",
       "    // the notebook keyboard shortcuts fail.\n",
       "    IPython.keyboard_manager.enable()\n",
       "    $(fig.parent_element).html('<img src=\"' + dataURL + '\" width=\"' + width + '\">');\n",
       "    fig.close_ws(fig, msg);\n",
       "}\n",
       "\n",
       "mpl.figure.prototype.close_ws = function(fig, msg){\n",
       "    fig.send_message('closing', msg);\n",
       "    // fig.ws.close()\n",
       "}\n",
       "\n",
       "mpl.figure.prototype.push_to_output = function(remove_interactive) {\n",
       "    // Turn the data on the canvas into data in the output cell.\n",
       "    var width = this.canvas.width/mpl.ratio\n",
       "    var dataURL = this.canvas.toDataURL();\n",
       "    this.cell_info[1]['text/html'] = '<img src=\"' + dataURL + '\" width=\"' + width + '\">';\n",
       "}\n",
       "\n",
       "mpl.figure.prototype.updated_canvas_event = function() {\n",
       "    // Tell IPython that the notebook contents must change.\n",
       "    IPython.notebook.set_dirty(true);\n",
       "    this.send_message(\"ack\", {});\n",
       "    var fig = this;\n",
       "    // Wait a second, then push the new image to the DOM so\n",
       "    // that it is saved nicely (might be nice to debounce this).\n",
       "    setTimeout(function () { fig.push_to_output() }, 1000);\n",
       "}\n",
       "\n",
       "mpl.figure.prototype._init_toolbar = function() {\n",
       "    var fig = this;\n",
       "\n",
       "    var nav_element = $('<div/>');\n",
       "    nav_element.attr('style', 'width: 100%');\n",
       "    this.root.append(nav_element);\n",
       "\n",
       "    // Define a callback function for later on.\n",
       "    function toolbar_event(event) {\n",
       "        return fig.toolbar_button_onclick(event['data']);\n",
       "    }\n",
       "    function toolbar_mouse_event(event) {\n",
       "        return fig.toolbar_button_onmouseover(event['data']);\n",
       "    }\n",
       "\n",
       "    for(var toolbar_ind in mpl.toolbar_items){\n",
       "        var name = mpl.toolbar_items[toolbar_ind][0];\n",
       "        var tooltip = mpl.toolbar_items[toolbar_ind][1];\n",
       "        var image = mpl.toolbar_items[toolbar_ind][2];\n",
       "        var method_name = mpl.toolbar_items[toolbar_ind][3];\n",
       "\n",
       "        if (!name) { continue; };\n",
       "\n",
       "        var button = $('<button class=\"btn btn-default\" href=\"#\" title=\"' + name + '\"><i class=\"fa ' + image + ' fa-lg\"></i></button>');\n",
       "        button.click(method_name, toolbar_event);\n",
       "        button.mouseover(tooltip, toolbar_mouse_event);\n",
       "        nav_element.append(button);\n",
       "    }\n",
       "\n",
       "    // Add the status bar.\n",
       "    var status_bar = $('<span class=\"mpl-message\" style=\"text-align:right; float: right;\"/>');\n",
       "    nav_element.append(status_bar);\n",
       "    this.message = status_bar[0];\n",
       "\n",
       "    // Add the close button to the window.\n",
       "    var buttongrp = $('<div class=\"btn-group inline pull-right\"></div>');\n",
       "    var button = $('<button class=\"btn btn-mini btn-primary\" href=\"#\" title=\"Stop Interaction\"><i class=\"fa fa-power-off icon-remove icon-large\"></i></button>');\n",
       "    button.click(function (evt) { fig.handle_close(fig, {}); } );\n",
       "    button.mouseover('Stop Interaction', toolbar_mouse_event);\n",
       "    buttongrp.append(button);\n",
       "    var titlebar = this.root.find($('.ui-dialog-titlebar'));\n",
       "    titlebar.prepend(buttongrp);\n",
       "}\n",
       "\n",
       "mpl.figure.prototype._root_extra_style = function(el){\n",
       "    var fig = this\n",
       "    el.on(\"remove\", function(){\n",
       "\tfig.close_ws(fig, {});\n",
       "    });\n",
       "}\n",
       "\n",
       "mpl.figure.prototype._canvas_extra_style = function(el){\n",
       "    // this is important to make the div 'focusable\n",
       "    el.attr('tabindex', 0)\n",
       "    // reach out to IPython and tell the keyboard manager to turn it's self\n",
       "    // off when our div gets focus\n",
       "\n",
       "    // location in version 3\n",
       "    if (IPython.notebook.keyboard_manager) {\n",
       "        IPython.notebook.keyboard_manager.register_events(el);\n",
       "    }\n",
       "    else {\n",
       "        // location in version 2\n",
       "        IPython.keyboard_manager.register_events(el);\n",
       "    }\n",
       "\n",
       "}\n",
       "\n",
       "mpl.figure.prototype._key_event_extra = function(event, name) {\n",
       "    var manager = IPython.notebook.keyboard_manager;\n",
       "    if (!manager)\n",
       "        manager = IPython.keyboard_manager;\n",
       "\n",
       "    // Check for shift+enter\n",
       "    if (event.shiftKey && event.which == 13) {\n",
       "        this.canvas_div.blur();\n",
       "        // select the cell after this one\n",
       "        var index = IPython.notebook.find_cell_index(this.cell_info[0]);\n",
       "        IPython.notebook.select(index + 1);\n",
       "    }\n",
       "}\n",
       "\n",
       "mpl.figure.prototype.handle_save = function(fig, msg) {\n",
       "    fig.ondownload(fig, null);\n",
       "}\n",
       "\n",
       "\n",
       "mpl.find_output_cell = function(html_output) {\n",
       "    // Return the cell and output element which can be found *uniquely* in the notebook.\n",
       "    // Note - this is a bit hacky, but it is done because the \"notebook_saving.Notebook\"\n",
       "    // IPython event is triggered only after the cells have been serialised, which for\n",
       "    // our purposes (turning an active figure into a static one), is too late.\n",
       "    var cells = IPython.notebook.get_cells();\n",
       "    var ncells = cells.length;\n",
       "    for (var i=0; i<ncells; i++) {\n",
       "        var cell = cells[i];\n",
       "        if (cell.cell_type === 'code'){\n",
       "            for (var j=0; j<cell.output_area.outputs.length; j++) {\n",
       "                var data = cell.output_area.outputs[j];\n",
       "                if (data.data) {\n",
       "                    // IPython >= 3 moved mimebundle to data attribute of output\n",
       "                    data = data.data;\n",
       "                }\n",
       "                if (data['text/html'] == html_output) {\n",
       "                    return [cell, data, j];\n",
       "                }\n",
       "            }\n",
       "        }\n",
       "    }\n",
       "}\n",
       "\n",
       "// Register the function which deals with the matplotlib target/channel.\n",
       "// The kernel may be null if the page has been refreshed.\n",
       "if (IPython.notebook.kernel != null) {\n",
       "    IPython.notebook.kernel.comm_manager.register_target('matplotlib', mpl.mpl_figure_comm);\n",
       "}\n"
      ],
      "text/plain": [
       "<IPython.core.display.Javascript object>"
      ]
     },
     "metadata": {},
     "output_type": "display_data"
    },
    {
     "data": {
      "text/html": [
       "<img src=\"data:image/png;base64,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\" width=\"640\">"
      ],
      "text/plain": [
       "<IPython.core.display.HTML object>"
      ]
     },
     "metadata": {},
     "output_type": "display_data"
    }
   ],
   "source": [
    "# Dispersion plot\n",
    "\n",
    "# source: Inaugural Address Corpus\n",
    "text4.dispersion_plot([\"citizens\", \"democracy\", \"duty\", \"freedom\", \"America\"])"
   ]
  },
  {
   "cell_type": "code",
   "execution_count": 50,
   "metadata": {},
   "outputs": [
    {
     "data": {
      "text/plain": [
       "nltk.text.Text"
      ]
     },
     "execution_count": 50,
     "metadata": {},
     "output_type": "execute_result"
    }
   ],
   "source": [
    "type(text1)"
   ]
  },
  {
   "cell_type": "code",
   "execution_count": 51,
   "metadata": {},
   "outputs": [
    {
     "data": {
      "text/plain": [
       "nltk.text.Text"
      ]
     },
     "execution_count": 51,
     "metadata": {},
     "output_type": "execute_result"
    }
   ],
   "source": [
    "type(alice)"
   ]
  },
  {
   "cell_type": "code",
   "execution_count": 53,
   "metadata": {},
   "outputs": [
    {
     "data": {
      "text/plain": [
       "0"
      ]
     },
     "execution_count": 53,
     "metadata": {},
     "output_type": "execute_result"
    }
   ],
   "source": [
    "alice.count('queen')"
   ]
  },
  {
   "cell_type": "code",
   "execution_count": 55,
   "metadata": {},
   "outputs": [
    {
     "data": {
      "application/javascript": [
       "/* Put everything inside the global mpl namespace */\n",
       "window.mpl = {};\n",
       "\n",
       "\n",
       "mpl.get_websocket_type = function() {\n",
       "    if (typeof(WebSocket) !== 'undefined') {\n",
       "        return WebSocket;\n",
       "    } else if (typeof(MozWebSocket) !== 'undefined') {\n",
       "        return MozWebSocket;\n",
       "    } else {\n",
       "        alert('Your browser does not have WebSocket support. ' +\n",
       "              'Please try Chrome, Safari or Firefox ≥ 6. ' +\n",
       "              'Firefox 4 and 5 are also supported but you ' +\n",
       "              'have to enable WebSockets in about:config.');\n",
       "    };\n",
       "}\n",
       "\n",
       "mpl.figure = function(figure_id, websocket, ondownload, parent_element) {\n",
       "    this.id = figure_id;\n",
       "\n",
       "    this.ws = websocket;\n",
       "\n",
       "    this.supports_binary = (this.ws.binaryType != undefined);\n",
       "\n",
       "    if (!this.supports_binary) {\n",
       "        var warnings = document.getElementById(\"mpl-warnings\");\n",
       "        if (warnings) {\n",
       "            warnings.style.display = 'block';\n",
       "            warnings.textContent = (\n",
       "                \"This browser does not support binary websocket messages. \" +\n",
       "                    \"Performance may be slow.\");\n",
       "        }\n",
       "    }\n",
       "\n",
       "    this.imageObj = new Image();\n",
       "\n",
       "    this.context = undefined;\n",
       "    this.message = undefined;\n",
       "    this.canvas = undefined;\n",
       "    this.rubberband_canvas = undefined;\n",
       "    this.rubberband_context = undefined;\n",
       "    this.format_dropdown = undefined;\n",
       "\n",
       "    this.image_mode = 'full';\n",
       "\n",
       "    this.root = $('<div/>');\n",
       "    this._root_extra_style(this.root)\n",
       "    this.root.attr('style', 'display: inline-block');\n",
       "\n",
       "    $(parent_element).append(this.root);\n",
       "\n",
       "    this._init_header(this);\n",
       "    this._init_canvas(this);\n",
       "    this._init_toolbar(this);\n",
       "\n",
       "    var fig = this;\n",
       "\n",
       "    this.waiting = false;\n",
       "\n",
       "    this.ws.onopen =  function () {\n",
       "            fig.send_message(\"supports_binary\", {value: fig.supports_binary});\n",
       "            fig.send_message(\"send_image_mode\", {});\n",
       "            if (mpl.ratio != 1) {\n",
       "                fig.send_message(\"set_dpi_ratio\", {'dpi_ratio': mpl.ratio});\n",
       "            }\n",
       "            fig.send_message(\"refresh\", {});\n",
       "        }\n",
       "\n",
       "    this.imageObj.onload = function() {\n",
       "            if (fig.image_mode == 'full') {\n",
       "                // Full images could contain transparency (where diff images\n",
       "                // almost always do), so we need to clear the canvas so that\n",
       "                // there is no ghosting.\n",
       "                fig.context.clearRect(0, 0, fig.canvas.width, fig.canvas.height);\n",
       "            }\n",
       "            fig.context.drawImage(fig.imageObj, 0, 0);\n",
       "        };\n",
       "\n",
       "    this.imageObj.onunload = function() {\n",
       "        fig.ws.close();\n",
       "    }\n",
       "\n",
       "    this.ws.onmessage = this._make_on_message_function(this);\n",
       "\n",
       "    this.ondownload = ondownload;\n",
       "}\n",
       "\n",
       "mpl.figure.prototype._init_header = function() {\n",
       "    var titlebar = $(\n",
       "        '<div class=\"ui-dialog-titlebar ui-widget-header ui-corner-all ' +\n",
       "        'ui-helper-clearfix\"/>');\n",
       "    var titletext = $(\n",
       "        '<div class=\"ui-dialog-title\" style=\"width: 100%; ' +\n",
       "        'text-align: center; padding: 3px;\"/>');\n",
       "    titlebar.append(titletext)\n",
       "    this.root.append(titlebar);\n",
       "    this.header = titletext[0];\n",
       "}\n",
       "\n",
       "\n",
       "\n",
       "mpl.figure.prototype._canvas_extra_style = function(canvas_div) {\n",
       "\n",
       "}\n",
       "\n",
       "\n",
       "mpl.figure.prototype._root_extra_style = function(canvas_div) {\n",
       "\n",
       "}\n",
       "\n",
       "mpl.figure.prototype._init_canvas = function() {\n",
       "    var fig = this;\n",
       "\n",
       "    var canvas_div = $('<div/>');\n",
       "\n",
       "    canvas_div.attr('style', 'position: relative; clear: both; outline: 0');\n",
       "\n",
       "    function canvas_keyboard_event(event) {\n",
       "        return fig.key_event(event, event['data']);\n",
       "    }\n",
       "\n",
       "    canvas_div.keydown('key_press', canvas_keyboard_event);\n",
       "    canvas_div.keyup('key_release', canvas_keyboard_event);\n",
       "    this.canvas_div = canvas_div\n",
       "    this._canvas_extra_style(canvas_div)\n",
       "    this.root.append(canvas_div);\n",
       "\n",
       "    var canvas = $('<canvas/>');\n",
       "    canvas.addClass('mpl-canvas');\n",
       "    canvas.attr('style', \"left: 0; top: 0; z-index: 0; outline: 0\")\n",
       "\n",
       "    this.canvas = canvas[0];\n",
       "    this.context = canvas[0].getContext(\"2d\");\n",
       "\n",
       "    var backingStore = this.context.backingStorePixelRatio ||\n",
       "\tthis.context.webkitBackingStorePixelRatio ||\n",
       "\tthis.context.mozBackingStorePixelRatio ||\n",
       "\tthis.context.msBackingStorePixelRatio ||\n",
       "\tthis.context.oBackingStorePixelRatio ||\n",
       "\tthis.context.backingStorePixelRatio || 1;\n",
       "\n",
       "    mpl.ratio = (window.devicePixelRatio || 1) / backingStore;\n",
       "\n",
       "    var rubberband = $('<canvas/>');\n",
       "    rubberband.attr('style', \"position: absolute; left: 0; top: 0; z-index: 1;\")\n",
       "\n",
       "    var pass_mouse_events = true;\n",
       "\n",
       "    canvas_div.resizable({\n",
       "        start: function(event, ui) {\n",
       "            pass_mouse_events = false;\n",
       "        },\n",
       "        resize: function(event, ui) {\n",
       "            fig.request_resize(ui.size.width, ui.size.height);\n",
       "        },\n",
       "        stop: function(event, ui) {\n",
       "            pass_mouse_events = true;\n",
       "            fig.request_resize(ui.size.width, ui.size.height);\n",
       "        },\n",
       "    });\n",
       "\n",
       "    function mouse_event_fn(event) {\n",
       "        if (pass_mouse_events)\n",
       "            return fig.mouse_event(event, event['data']);\n",
       "    }\n",
       "\n",
       "    rubberband.mousedown('button_press', mouse_event_fn);\n",
       "    rubberband.mouseup('button_release', mouse_event_fn);\n",
       "    // Throttle sequential mouse events to 1 every 20ms.\n",
       "    rubberband.mousemove('motion_notify', mouse_event_fn);\n",
       "\n",
       "    rubberband.mouseenter('figure_enter', mouse_event_fn);\n",
       "    rubberband.mouseleave('figure_leave', mouse_event_fn);\n",
       "\n",
       "    canvas_div.on(\"wheel\", function (event) {\n",
       "        event = event.originalEvent;\n",
       "        event['data'] = 'scroll'\n",
       "        if (event.deltaY < 0) {\n",
       "            event.step = 1;\n",
       "        } else {\n",
       "            event.step = -1;\n",
       "        }\n",
       "        mouse_event_fn(event);\n",
       "    });\n",
       "\n",
       "    canvas_div.append(canvas);\n",
       "    canvas_div.append(rubberband);\n",
       "\n",
       "    this.rubberband = rubberband;\n",
       "    this.rubberband_canvas = rubberband[0];\n",
       "    this.rubberband_context = rubberband[0].getContext(\"2d\");\n",
       "    this.rubberband_context.strokeStyle = \"#000000\";\n",
       "\n",
       "    this._resize_canvas = function(width, height) {\n",
       "        // Keep the size of the canvas, canvas container, and rubber band\n",
       "        // canvas in synch.\n",
       "        canvas_div.css('width', width)\n",
       "        canvas_div.css('height', height)\n",
       "\n",
       "        canvas.attr('width', width * mpl.ratio);\n",
       "        canvas.attr('height', height * mpl.ratio);\n",
       "        canvas.attr('style', 'width: ' + width + 'px; height: ' + height + 'px;');\n",
       "\n",
       "        rubberband.attr('width', width);\n",
       "        rubberband.attr('height', height);\n",
       "    }\n",
       "\n",
       "    // Set the figure to an initial 600x600px, this will subsequently be updated\n",
       "    // upon first draw.\n",
       "    this._resize_canvas(600, 600);\n",
       "\n",
       "    // Disable right mouse context menu.\n",
       "    $(this.rubberband_canvas).bind(\"contextmenu\",function(e){\n",
       "        return false;\n",
       "    });\n",
       "\n",
       "    function set_focus () {\n",
       "        canvas.focus();\n",
       "        canvas_div.focus();\n",
       "    }\n",
       "\n",
       "    window.setTimeout(set_focus, 100);\n",
       "}\n",
       "\n",
       "mpl.figure.prototype._init_toolbar = function() {\n",
       "    var fig = this;\n",
       "\n",
       "    var nav_element = $('<div/>');\n",
       "    nav_element.attr('style', 'width: 100%');\n",
       "    this.root.append(nav_element);\n",
       "\n",
       "    // Define a callback function for later on.\n",
       "    function toolbar_event(event) {\n",
       "        return fig.toolbar_button_onclick(event['data']);\n",
       "    }\n",
       "    function toolbar_mouse_event(event) {\n",
       "        return fig.toolbar_button_onmouseover(event['data']);\n",
       "    }\n",
       "\n",
       "    for(var toolbar_ind in mpl.toolbar_items) {\n",
       "        var name = mpl.toolbar_items[toolbar_ind][0];\n",
       "        var tooltip = mpl.toolbar_items[toolbar_ind][1];\n",
       "        var image = mpl.toolbar_items[toolbar_ind][2];\n",
       "        var method_name = mpl.toolbar_items[toolbar_ind][3];\n",
       "\n",
       "        if (!name) {\n",
       "            // put a spacer in here.\n",
       "            continue;\n",
       "        }\n",
       "        var button = $('<button/>');\n",
       "        button.addClass('ui-button ui-widget ui-state-default ui-corner-all ' +\n",
       "                        'ui-button-icon-only');\n",
       "        button.attr('role', 'button');\n",
       "        button.attr('aria-disabled', 'false');\n",
       "        button.click(method_name, toolbar_event);\n",
       "        button.mouseover(tooltip, toolbar_mouse_event);\n",
       "\n",
       "        var icon_img = $('<span/>');\n",
       "        icon_img.addClass('ui-button-icon-primary ui-icon');\n",
       "        icon_img.addClass(image);\n",
       "        icon_img.addClass('ui-corner-all');\n",
       "\n",
       "        var tooltip_span = $('<span/>');\n",
       "        tooltip_span.addClass('ui-button-text');\n",
       "        tooltip_span.html(tooltip);\n",
       "\n",
       "        button.append(icon_img);\n",
       "        button.append(tooltip_span);\n",
       "\n",
       "        nav_element.append(button);\n",
       "    }\n",
       "\n",
       "    var fmt_picker_span = $('<span/>');\n",
       "\n",
       "    var fmt_picker = $('<select/>');\n",
       "    fmt_picker.addClass('mpl-toolbar-option ui-widget ui-widget-content');\n",
       "    fmt_picker_span.append(fmt_picker);\n",
       "    nav_element.append(fmt_picker_span);\n",
       "    this.format_dropdown = fmt_picker[0];\n",
       "\n",
       "    for (var ind in mpl.extensions) {\n",
       "        var fmt = mpl.extensions[ind];\n",
       "        var option = $(\n",
       "            '<option/>', {selected: fmt === mpl.default_extension}).html(fmt);\n",
       "        fmt_picker.append(option);\n",
       "    }\n",
       "\n",
       "    // Add hover states to the ui-buttons\n",
       "    $( \".ui-button\" ).hover(\n",
       "        function() { $(this).addClass(\"ui-state-hover\");},\n",
       "        function() { $(this).removeClass(\"ui-state-hover\");}\n",
       "    );\n",
       "\n",
       "    var status_bar = $('<span class=\"mpl-message\"/>');\n",
       "    nav_element.append(status_bar);\n",
       "    this.message = status_bar[0];\n",
       "}\n",
       "\n",
       "mpl.figure.prototype.request_resize = function(x_pixels, y_pixels) {\n",
       "    // Request matplotlib to resize the figure. Matplotlib will then trigger a resize in the client,\n",
       "    // which will in turn request a refresh of the image.\n",
       "    this.send_message('resize', {'width': x_pixels, 'height': y_pixels});\n",
       "}\n",
       "\n",
       "mpl.figure.prototype.send_message = function(type, properties) {\n",
       "    properties['type'] = type;\n",
       "    properties['figure_id'] = this.id;\n",
       "    this.ws.send(JSON.stringify(properties));\n",
       "}\n",
       "\n",
       "mpl.figure.prototype.send_draw_message = function() {\n",
       "    if (!this.waiting) {\n",
       "        this.waiting = true;\n",
       "        this.ws.send(JSON.stringify({type: \"draw\", figure_id: this.id}));\n",
       "    }\n",
       "}\n",
       "\n",
       "\n",
       "mpl.figure.prototype.handle_save = function(fig, msg) {\n",
       "    var format_dropdown = fig.format_dropdown;\n",
       "    var format = format_dropdown.options[format_dropdown.selectedIndex].value;\n",
       "    fig.ondownload(fig, format);\n",
       "}\n",
       "\n",
       "\n",
       "mpl.figure.prototype.handle_resize = function(fig, msg) {\n",
       "    var size = msg['size'];\n",
       "    if (size[0] != fig.canvas.width || size[1] != fig.canvas.height) {\n",
       "        fig._resize_canvas(size[0], size[1]);\n",
       "        fig.send_message(\"refresh\", {});\n",
       "    };\n",
       "}\n",
       "\n",
       "mpl.figure.prototype.handle_rubberband = function(fig, msg) {\n",
       "    var x0 = msg['x0'] / mpl.ratio;\n",
       "    var y0 = (fig.canvas.height - msg['y0']) / mpl.ratio;\n",
       "    var x1 = msg['x1'] / mpl.ratio;\n",
       "    var y1 = (fig.canvas.height - msg['y1']) / mpl.ratio;\n",
       "    x0 = Math.floor(x0) + 0.5;\n",
       "    y0 = Math.floor(y0) + 0.5;\n",
       "    x1 = Math.floor(x1) + 0.5;\n",
       "    y1 = Math.floor(y1) + 0.5;\n",
       "    var min_x = Math.min(x0, x1);\n",
       "    var min_y = Math.min(y0, y1);\n",
       "    var width = Math.abs(x1 - x0);\n",
       "    var height = Math.abs(y1 - y0);\n",
       "\n",
       "    fig.rubberband_context.clearRect(\n",
       "        0, 0, fig.canvas.width / mpl.ratio, fig.canvas.height / mpl.ratio);\n",
       "\n",
       "    fig.rubberband_context.strokeRect(min_x, min_y, width, height);\n",
       "}\n",
       "\n",
       "mpl.figure.prototype.handle_figure_label = function(fig, msg) {\n",
       "    // Updates the figure title.\n",
       "    fig.header.textContent = msg['label'];\n",
       "}\n",
       "\n",
       "mpl.figure.prototype.handle_cursor = function(fig, msg) {\n",
       "    var cursor = msg['cursor'];\n",
       "    switch(cursor)\n",
       "    {\n",
       "    case 0:\n",
       "        cursor = 'pointer';\n",
       "        break;\n",
       "    case 1:\n",
       "        cursor = 'default';\n",
       "        break;\n",
       "    case 2:\n",
       "        cursor = 'crosshair';\n",
       "        break;\n",
       "    case 3:\n",
       "        cursor = 'move';\n",
       "        break;\n",
       "    }\n",
       "    fig.rubberband_canvas.style.cursor = cursor;\n",
       "}\n",
       "\n",
       "mpl.figure.prototype.handle_message = function(fig, msg) {\n",
       "    fig.message.textContent = msg['message'];\n",
       "}\n",
       "\n",
       "mpl.figure.prototype.handle_draw = function(fig, msg) {\n",
       "    // Request the server to send over a new figure.\n",
       "    fig.send_draw_message();\n",
       "}\n",
       "\n",
       "mpl.figure.prototype.handle_image_mode = function(fig, msg) {\n",
       "    fig.image_mode = msg['mode'];\n",
       "}\n",
       "\n",
       "mpl.figure.prototype.updated_canvas_event = function() {\n",
       "    // Called whenever the canvas gets updated.\n",
       "    this.send_message(\"ack\", {});\n",
       "}\n",
       "\n",
       "// A function to construct a web socket function for onmessage handling.\n",
       "// Called in the figure constructor.\n",
       "mpl.figure.prototype._make_on_message_function = function(fig) {\n",
       "    return function socket_on_message(evt) {\n",
       "        if (evt.data instanceof Blob) {\n",
       "            /* FIXME: We get \"Resource interpreted as Image but\n",
       "             * transferred with MIME type text/plain:\" errors on\n",
       "             * Chrome.  But how to set the MIME type?  It doesn't seem\n",
       "             * to be part of the websocket stream */\n",
       "            evt.data.type = \"image/png\";\n",
       "\n",
       "            /* Free the memory for the previous frames */\n",
       "            if (fig.imageObj.src) {\n",
       "                (window.URL || window.webkitURL).revokeObjectURL(\n",
       "                    fig.imageObj.src);\n",
       "            }\n",
       "\n",
       "            fig.imageObj.src = (window.URL || window.webkitURL).createObjectURL(\n",
       "                evt.data);\n",
       "            fig.updated_canvas_event();\n",
       "            fig.waiting = false;\n",
       "            return;\n",
       "        }\n",
       "        else if (typeof evt.data === 'string' && evt.data.slice(0, 21) == \"data:image/png;base64\") {\n",
       "            fig.imageObj.src = evt.data;\n",
       "            fig.updated_canvas_event();\n",
       "            fig.waiting = false;\n",
       "            return;\n",
       "        }\n",
       "\n",
       "        var msg = JSON.parse(evt.data);\n",
       "        var msg_type = msg['type'];\n",
       "\n",
       "        // Call the  \"handle_{type}\" callback, which takes\n",
       "        // the figure and JSON message as its only arguments.\n",
       "        try {\n",
       "            var callback = fig[\"handle_\" + msg_type];\n",
       "        } catch (e) {\n",
       "            console.log(\"No handler for the '\" + msg_type + \"' message type: \", msg);\n",
       "            return;\n",
       "        }\n",
       "\n",
       "        if (callback) {\n",
       "            try {\n",
       "                // console.log(\"Handling '\" + msg_type + \"' message: \", msg);\n",
       "                callback(fig, msg);\n",
       "            } catch (e) {\n",
       "                console.log(\"Exception inside the 'handler_\" + msg_type + \"' callback:\", e, e.stack, msg);\n",
       "            }\n",
       "        }\n",
       "    };\n",
       "}\n",
       "\n",
       "// from http://stackoverflow.com/questions/1114465/getting-mouse-location-in-canvas\n",
       "mpl.findpos = function(e) {\n",
       "    //this section is from http://www.quirksmode.org/js/events_properties.html\n",
       "    var targ;\n",
       "    if (!e)\n",
       "        e = window.event;\n",
       "    if (e.target)\n",
       "        targ = e.target;\n",
       "    else if (e.srcElement)\n",
       "        targ = e.srcElement;\n",
       "    if (targ.nodeType == 3) // defeat Safari bug\n",
       "        targ = targ.parentNode;\n",
       "\n",
       "    // jQuery normalizes the pageX and pageY\n",
       "    // pageX,Y are the mouse positions relative to the document\n",
       "    // offset() returns the position of the element relative to the document\n",
       "    var x = e.pageX - $(targ).offset().left;\n",
       "    var y = e.pageY - $(targ).offset().top;\n",
       "\n",
       "    return {\"x\": x, \"y\": y};\n",
       "};\n",
       "\n",
       "/*\n",
       " * return a copy of an object with only non-object keys\n",
       " * we need this to avoid circular references\n",
       " * http://stackoverflow.com/a/24161582/3208463\n",
       " */\n",
       "function simpleKeys (original) {\n",
       "  return Object.keys(original).reduce(function (obj, key) {\n",
       "    if (typeof original[key] !== 'object')\n",
       "        obj[key] = original[key]\n",
       "    return obj;\n",
       "  }, {});\n",
       "}\n",
       "\n",
       "mpl.figure.prototype.mouse_event = function(event, name) {\n",
       "    var canvas_pos = mpl.findpos(event)\n",
       "\n",
       "    if (name === 'button_press')\n",
       "    {\n",
       "        this.canvas.focus();\n",
       "        this.canvas_div.focus();\n",
       "    }\n",
       "\n",
       "    var x = canvas_pos.x * mpl.ratio;\n",
       "    var y = canvas_pos.y * mpl.ratio;\n",
       "\n",
       "    this.send_message(name, {x: x, y: y, button: event.button,\n",
       "                             step: event.step,\n",
       "                             guiEvent: simpleKeys(event)});\n",
       "\n",
       "    /* This prevents the web browser from automatically changing to\n",
       "     * the text insertion cursor when the button is pressed.  We want\n",
       "     * to control all of the cursor setting manually through the\n",
       "     * 'cursor' event from matplotlib */\n",
       "    event.preventDefault();\n",
       "    return false;\n",
       "}\n",
       "\n",
       "mpl.figure.prototype._key_event_extra = function(event, name) {\n",
       "    // Handle any extra behaviour associated with a key event\n",
       "}\n",
       "\n",
       "mpl.figure.prototype.key_event = function(event, name) {\n",
       "\n",
       "    // Prevent repeat events\n",
       "    if (name == 'key_press')\n",
       "    {\n",
       "        if (event.which === this._key)\n",
       "            return;\n",
       "        else\n",
       "            this._key = event.which;\n",
       "    }\n",
       "    if (name == 'key_release')\n",
       "        this._key = null;\n",
       "\n",
       "    var value = '';\n",
       "    if (event.ctrlKey && event.which != 17)\n",
       "        value += \"ctrl+\";\n",
       "    if (event.altKey && event.which != 18)\n",
       "        value += \"alt+\";\n",
       "    if (event.shiftKey && event.which != 16)\n",
       "        value += \"shift+\";\n",
       "\n",
       "    value += 'k';\n",
       "    value += event.which.toString();\n",
       "\n",
       "    this._key_event_extra(event, name);\n",
       "\n",
       "    this.send_message(name, {key: value,\n",
       "                             guiEvent: simpleKeys(event)});\n",
       "    return false;\n",
       "}\n",
       "\n",
       "mpl.figure.prototype.toolbar_button_onclick = function(name) {\n",
       "    if (name == 'download') {\n",
       "        this.handle_save(this, null);\n",
       "    } else {\n",
       "        this.send_message(\"toolbar_button\", {name: name});\n",
       "    }\n",
       "};\n",
       "\n",
       "mpl.figure.prototype.toolbar_button_onmouseover = function(tooltip) {\n",
       "    this.message.textContent = tooltip;\n",
       "};\n",
       "mpl.toolbar_items = [[\"Home\", \"Reset original view\", \"fa fa-home icon-home\", \"home\"], [\"Back\", \"Back to previous view\", \"fa fa-arrow-left icon-arrow-left\", \"back\"], [\"Forward\", \"Forward to next view\", \"fa fa-arrow-right icon-arrow-right\", \"forward\"], [\"\", \"\", \"\", \"\"], [\"Pan\", \"Pan axes with left mouse, zoom with right\", \"fa fa-arrows icon-move\", \"pan\"], [\"Zoom\", \"Zoom to rectangle\", \"fa fa-square-o icon-check-empty\", \"zoom\"], [\"\", \"\", \"\", \"\"], [\"Download\", \"Download plot\", \"fa fa-floppy-o icon-save\", \"download\"]];\n",
       "\n",
       "mpl.extensions = [\"eps\", \"jpeg\", \"pdf\", \"png\", \"ps\", \"raw\", \"svg\", \"tif\"];\n",
       "\n",
       "mpl.default_extension = \"png\";var comm_websocket_adapter = function(comm) {\n",
       "    // Create a \"websocket\"-like object which calls the given IPython comm\n",
       "    // object with the appropriate methods. Currently this is a non binary\n",
       "    // socket, so there is still some room for performance tuning.\n",
       "    var ws = {};\n",
       "\n",
       "    ws.close = function() {\n",
       "        comm.close()\n",
       "    };\n",
       "    ws.send = function(m) {\n",
       "        //console.log('sending', m);\n",
       "        comm.send(m);\n",
       "    };\n",
       "    // Register the callback with on_msg.\n",
       "    comm.on_msg(function(msg) {\n",
       "        //console.log('receiving', msg['content']['data'], msg);\n",
       "        // Pass the mpl event to the overridden (by mpl) onmessage function.\n",
       "        ws.onmessage(msg['content']['data'])\n",
       "    });\n",
       "    return ws;\n",
       "}\n",
       "\n",
       "mpl.mpl_figure_comm = function(comm, msg) {\n",
       "    // This is the function which gets called when the mpl process\n",
       "    // starts-up an IPython Comm through the \"matplotlib\" channel.\n",
       "\n",
       "    var id = msg.content.data.id;\n",
       "    // Get hold of the div created by the display call when the Comm\n",
       "    // socket was opened in Python.\n",
       "    var element = $(\"#\" + id);\n",
       "    var ws_proxy = comm_websocket_adapter(comm)\n",
       "\n",
       "    function ondownload(figure, format) {\n",
       "        window.open(figure.imageObj.src);\n",
       "    }\n",
       "\n",
       "    var fig = new mpl.figure(id, ws_proxy,\n",
       "                           ondownload,\n",
       "                           element.get(0));\n",
       "\n",
       "    // Call onopen now - mpl needs it, as it is assuming we've passed it a real\n",
       "    // web socket which is closed, not our websocket->open comm proxy.\n",
       "    ws_proxy.onopen();\n",
       "\n",
       "    fig.parent_element = element.get(0);\n",
       "    fig.cell_info = mpl.find_output_cell(\"<div id='\" + id + \"'></div>\");\n",
       "    if (!fig.cell_info) {\n",
       "        console.error(\"Failed to find cell for figure\", id, fig);\n",
       "        return;\n",
       "    }\n",
       "\n",
       "    var output_index = fig.cell_info[2]\n",
       "    var cell = fig.cell_info[0];\n",
       "\n",
       "};\n",
       "\n",
       "mpl.figure.prototype.handle_close = function(fig, msg) {\n",
       "    var width = fig.canvas.width/mpl.ratio\n",
       "    fig.root.unbind('remove')\n",
       "\n",
       "    // Update the output cell to use the data from the current canvas.\n",
       "    fig.push_to_output();\n",
       "    var dataURL = fig.canvas.toDataURL();\n",
       "    // Re-enable the keyboard manager in IPython - without this line, in FF,\n",
       "    // the notebook keyboard shortcuts fail.\n",
       "    IPython.keyboard_manager.enable()\n",
       "    $(fig.parent_element).html('<img src=\"' + dataURL + '\" width=\"' + width + '\">');\n",
       "    fig.close_ws(fig, msg);\n",
       "}\n",
       "\n",
       "mpl.figure.prototype.close_ws = function(fig, msg){\n",
       "    fig.send_message('closing', msg);\n",
       "    // fig.ws.close()\n",
       "}\n",
       "\n",
       "mpl.figure.prototype.push_to_output = function(remove_interactive) {\n",
       "    // Turn the data on the canvas into data in the output cell.\n",
       "    var width = this.canvas.width/mpl.ratio\n",
       "    var dataURL = this.canvas.toDataURL();\n",
       "    this.cell_info[1]['text/html'] = '<img src=\"' + dataURL + '\" width=\"' + width + '\">';\n",
       "}\n",
       "\n",
       "mpl.figure.prototype.updated_canvas_event = function() {\n",
       "    // Tell IPython that the notebook contents must change.\n",
       "    IPython.notebook.set_dirty(true);\n",
       "    this.send_message(\"ack\", {});\n",
       "    var fig = this;\n",
       "    // Wait a second, then push the new image to the DOM so\n",
       "    // that it is saved nicely (might be nice to debounce this).\n",
       "    setTimeout(function () { fig.push_to_output() }, 1000);\n",
       "}\n",
       "\n",
       "mpl.figure.prototype._init_toolbar = function() {\n",
       "    var fig = this;\n",
       "\n",
       "    var nav_element = $('<div/>');\n",
       "    nav_element.attr('style', 'width: 100%');\n",
       "    this.root.append(nav_element);\n",
       "\n",
       "    // Define a callback function for later on.\n",
       "    function toolbar_event(event) {\n",
       "        return fig.toolbar_button_onclick(event['data']);\n",
       "    }\n",
       "    function toolbar_mouse_event(event) {\n",
       "        return fig.toolbar_button_onmouseover(event['data']);\n",
       "    }\n",
       "\n",
       "    for(var toolbar_ind in mpl.toolbar_items){\n",
       "        var name = mpl.toolbar_items[toolbar_ind][0];\n",
       "        var tooltip = mpl.toolbar_items[toolbar_ind][1];\n",
       "        var image = mpl.toolbar_items[toolbar_ind][2];\n",
       "        var method_name = mpl.toolbar_items[toolbar_ind][3];\n",
       "\n",
       "        if (!name) { continue; };\n",
       "\n",
       "        var button = $('<button class=\"btn btn-default\" href=\"#\" title=\"' + name + '\"><i class=\"fa ' + image + ' fa-lg\"></i></button>');\n",
       "        button.click(method_name, toolbar_event);\n",
       "        button.mouseover(tooltip, toolbar_mouse_event);\n",
       "        nav_element.append(button);\n",
       "    }\n",
       "\n",
       "    // Add the status bar.\n",
       "    var status_bar = $('<span class=\"mpl-message\" style=\"text-align:right; float: right;\"/>');\n",
       "    nav_element.append(status_bar);\n",
       "    this.message = status_bar[0];\n",
       "\n",
       "    // Add the close button to the window.\n",
       "    var buttongrp = $('<div class=\"btn-group inline pull-right\"></div>');\n",
       "    var button = $('<button class=\"btn btn-mini btn-primary\" href=\"#\" title=\"Stop Interaction\"><i class=\"fa fa-power-off icon-remove icon-large\"></i></button>');\n",
       "    button.click(function (evt) { fig.handle_close(fig, {}); } );\n",
       "    button.mouseover('Stop Interaction', toolbar_mouse_event);\n",
       "    buttongrp.append(button);\n",
       "    var titlebar = this.root.find($('.ui-dialog-titlebar'));\n",
       "    titlebar.prepend(buttongrp);\n",
       "}\n",
       "\n",
       "mpl.figure.prototype._root_extra_style = function(el){\n",
       "    var fig = this\n",
       "    el.on(\"remove\", function(){\n",
       "\tfig.close_ws(fig, {});\n",
       "    });\n",
       "}\n",
       "\n",
       "mpl.figure.prototype._canvas_extra_style = function(el){\n",
       "    // this is important to make the div 'focusable\n",
       "    el.attr('tabindex', 0)\n",
       "    // reach out to IPython and tell the keyboard manager to turn it's self\n",
       "    // off when our div gets focus\n",
       "\n",
       "    // location in version 3\n",
       "    if (IPython.notebook.keyboard_manager) {\n",
       "        IPython.notebook.keyboard_manager.register_events(el);\n",
       "    }\n",
       "    else {\n",
       "        // location in version 2\n",
       "        IPython.keyboard_manager.register_events(el);\n",
       "    }\n",
       "\n",
       "}\n",
       "\n",
       "mpl.figure.prototype._key_event_extra = function(event, name) {\n",
       "    var manager = IPython.notebook.keyboard_manager;\n",
       "    if (!manager)\n",
       "        manager = IPython.keyboard_manager;\n",
       "\n",
       "    // Check for shift+enter\n",
       "    if (event.shiftKey && event.which == 13) {\n",
       "        this.canvas_div.blur();\n",
       "        // select the cell after this one\n",
       "        var index = IPython.notebook.find_cell_index(this.cell_info[0]);\n",
       "        IPython.notebook.select(index + 1);\n",
       "    }\n",
       "}\n",
       "\n",
       "mpl.figure.prototype.handle_save = function(fig, msg) {\n",
       "    fig.ondownload(fig, null);\n",
       "}\n",
       "\n",
       "\n",
       "mpl.find_output_cell = function(html_output) {\n",
       "    // Return the cell and output element which can be found *uniquely* in the notebook.\n",
       "    // Note - this is a bit hacky, but it is done because the \"notebook_saving.Notebook\"\n",
       "    // IPython event is triggered only after the cells have been serialised, which for\n",
       "    // our purposes (turning an active figure into a static one), is too late.\n",
       "    var cells = IPython.notebook.get_cells();\n",
       "    var ncells = cells.length;\n",
       "    for (var i=0; i<ncells; i++) {\n",
       "        var cell = cells[i];\n",
       "        if (cell.cell_type === 'code'){\n",
       "            for (var j=0; j<cell.output_area.outputs.length; j++) {\n",
       "                var data = cell.output_area.outputs[j];\n",
       "                if (data.data) {\n",
       "                    // IPython >= 3 moved mimebundle to data attribute of output\n",
       "                    data = data.data;\n",
       "                }\n",
       "                if (data['text/html'] == html_output) {\n",
       "                    return [cell, data, j];\n",
       "                }\n",
       "            }\n",
       "        }\n",
       "    }\n",
       "}\n",
       "\n",
       "// Register the function which deals with the matplotlib target/channel.\n",
       "// The kernel may be null if the page has been refreshed.\n",
       "if (IPython.notebook.kernel != null) {\n",
       "    IPython.notebook.kernel.comm_manager.register_target('matplotlib', mpl.mpl_figure_comm);\n",
       "}\n"
      ],
      "text/plain": [
       "<IPython.core.display.Javascript object>"
      ]
     },
     "metadata": {},
     "output_type": "display_data"
    },
    {
     "data": {
      "text/html": [
       "<img src=\"data:image/png;base64,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\" width=\"640\">"
      ],
      "text/plain": [
       "<IPython.core.display.HTML object>"
      ]
     },
     "metadata": {},
     "output_type": "display_data"
    }
   ],
   "source": [
    "alice.dispersion_plot([\"Alice\",\"Rabbit\",\"Hatter\",\"Queen\"])"
   ]
  },
  {
   "cell_type": "code",
   "execution_count": null,
   "metadata": {},
   "outputs": [],
   "source": [
    "# During break TODO Task generate a dispersion plot for alice and another corpus from our text1 to text9"
   ]
  },
  {
   "cell_type": "code",
   "execution_count": 26,
   "metadata": {
    "scrolled": true
   },
   "outputs": [
    {
     "name": "stdout",
     "output_type": "stream",
     "text": [
      "Help on method dispersion_plot in module nltk.text:\n",
      "\n",
      "dispersion_plot(words) method of nltk.text.Text instance\n",
      "    Produce a plot showing the distribution of the words through the text.\n",
      "    Requires pylab to be installed.\n",
      "    \n",
      "    :param words: The words to be plotted\n",
      "    :type words: list(str)\n",
      "    :seealso: nltk.draw.dispersion_plot()\n",
      "\n"
     ]
    }
   ],
   "source": [
    "help(text4.dispersion_plot)"
   ]
  },
  {
   "cell_type": "code",
   "execution_count": 56,
   "metadata": {},
   "outputs": [],
   "source": [
    "# bigrams,trigrams etc ngrams\n",
    "from nltk.util import ngrams"
   ]
  },
  {
   "cell_type": "code",
   "execution_count": 58,
   "metadata": {},
   "outputs": [
    {
     "data": {
      "text/plain": [
       "[('\\ufeffThe', 'Project'),\n",
       " ('Project', 'Gutenberg'),\n",
       " ('Gutenberg', 'EBook'),\n",
       " ('EBook', 'of'),\n",
       " ('of', 'Alice'),\n",
       " ('Alice', '’'),\n",
       " ('’', 's'),\n",
       " ('s', 'Adventures'),\n",
       " ('Adventures', 'in'),\n",
       " ('in', 'Wonderland')]"
      ]
     },
     "execution_count": 58,
     "metadata": {},
     "output_type": "execute_result"
    }
   ],
   "source": [
    "bigrams = ngrams(alice, 2)\n",
    "list(bigrams)[:10]"
   ]
  },
  {
   "cell_type": "code",
   "execution_count": 59,
   "metadata": {},
   "outputs": [
    {
     "data": {
      "text/plain": [
       "[('\\ufeffThe', 'Project', 'Gutenberg'),\n",
       " ('Project', 'Gutenberg', 'EBook'),\n",
       " ('Gutenberg', 'EBook', 'of'),\n",
       " ('EBook', 'of', 'Alice'),\n",
       " ('of', 'Alice', '’'),\n",
       " ('Alice', '’', 's'),\n",
       " ('’', 's', 'Adventures'),\n",
       " ('s', 'Adventures', 'in'),\n",
       " ('Adventures', 'in', 'Wonderland'),\n",
       " ('in', 'Wonderland', ',')]"
      ]
     },
     "execution_count": 59,
     "metadata": {},
     "output_type": "execute_result"
    }
   ],
   "source": [
    "trigrams = ngrams(alice, 3)\n",
    "list(trigrams)[:10]"
   ]
  },
  {
   "cell_type": "markdown",
   "metadata": {},
   "source": [
    "### Generating text\n",
    "\n",
    "Note: depending on your version of NLTK `generate()` functionality may or may not work (NLTK version 3.7.4 or newer is required).\n",
    "* In case it does not work, please see subsection \"Saved version of generate() results\".\n",
    "\n"
   ]
  },
  {
   "cell_type": "code",
   "execution_count": 60,
   "metadata": {},
   "outputs": [
    {
     "name": "stderr",
     "output_type": "stream",
     "text": [
      "Building ngram index...\n"
     ]
    },
    {
     "name": "stdout",
     "output_type": "stream",
     "text": [
      "Why is it stripped off from some mountain torrent we had flip ? , so as to\n",
      "preserve all his might had in former years abounding with them , they\n",
      "toil with their lances , strange tales of Southern whaling .\n",
      "conceivable that this fine old Dutch Fishery , a most wealthy example\n",
      "of the sea - captain orders me to admire the magnanimity of the whole\n",
      ", and many whalemen , but dumplings ; good white cedar of the ship\n",
      "casts off her cables ; and chewed it noiselessly ; and though there\n",
      "are birds called grey albatrosses ; and yet faster\n"
     ]
    },
    {
     "data": {
      "text/plain": [
       "'Why is it stripped off from some mountain torrent we had flip ? , so as to\\npreserve all his might had in former years abounding with them , they\\ntoil with their lances , strange tales of Southern whaling .\\nconceivable that this fine old Dutch Fishery , a most wealthy example\\nof the sea - captain orders me to admire the magnanimity of the whole\\n, and many whalemen , but dumplings ; good white cedar of the ship\\ncasts off her cables ; and chewed it noiselessly ; and though there\\nare birds called grey albatrosses ; and yet faster'"
      ]
     },
     "execution_count": 60,
     "metadata": {},
     "output_type": "execute_result"
    }
   ],
   "source": [
    "# Generate text (based on example)\n",
    "# https://www.nltk.org/api/nltk.html#nltk.text.Text.generate\n",
    "\n",
    "# we need to supply seed words\n",
    "text1.generate(text_seed = [\"Why\", \"is\", \"it\"])"
   ]
  },
  {
   "cell_type": "markdown",
   "metadata": {},
   "source": [
    "---\n",
    "\n",
    "**NLTK `generate()` builds a [trigram] language model from the supplied text** (words are generated based on previous two words).\n",
    "\n",
    "For more information see nltk.lm: https://www.nltk.org/api/nltk.lm.html"
   ]
  },
  {
   "cell_type": "markdown",
   "metadata": {},
   "source": [
    "**Saved version of `generate()` results:**\n",
    "    \n",
    "`text1.generate(text_seed = [\"Why\", \"is\", \"it\"])`\n",
    "\n",
    "*Building ngram index...*\n",
    "\n",
    "```\n",
    "Why is it stripped off from some mountain torrent we had flip ? , so as to\n",
    "preserve all his might had in former years abounding with them , they\n",
    "toil with their lances , strange tales of Southern whaling .\n",
    "conceivable that this fine old Dutch Fishery , a most wealthy example\n",
    "of the sea - captain orders me to admire the magnanimity of the whole\n",
    ", and many whalemen , but dumplings ; good white cedar of the ship\n",
    "casts off her cables ; and chewed it noiselessly ; and though there\n",
    "are birds called grey albatrosses ; and yet faster\n",
    "```\n"
   ]
  },
  {
   "cell_type": "code",
   "execution_count": 28,
   "metadata": {},
   "outputs": [
    {
     "name": "stdout",
     "output_type": "stream",
     "text": [
      "Help on method generate in module nltk.text:\n",
      "\n",
      "generate(length=100, text_seed=None, random_seed=42) method of nltk.text.Text instance\n",
      "    Print random text, generated using a trigram language model.\n",
      "    See also `help(nltk.lm)`.\n",
      "    \n",
      "    :param length: The length of text to generate (default=100)\n",
      "    :type length: int\n",
      "    \n",
      "    :param text_seed: Generation can be conditioned on preceding context.\n",
      "    :type text_seed: list(str)\n",
      "    \n",
      "    :param random_seed: A random seed or an instance of `random.Random`. If provided,\n",
      "    makes the random sampling part of generation reproducible. (default=42)\n",
      "    :type random_seed: int\n",
      "\n"
     ]
    }
   ],
   "source": [
    "help(text1.generate)"
   ]
  },
  {
   "cell_type": "code",
   "execution_count": 61,
   "metadata": {},
   "outputs": [
    {
     "name": "stderr",
     "output_type": "stream",
     "text": [
      "Building ngram index...\n"
     ]
    },
    {
     "name": "stdout",
     "output_type": "stream",
     "text": [
      "Alice told Queen ordering off her head pressing against the ceiling , and don ’ t\n",
      "believe there ’ s no use denying it . , who felt ready to sink into\n",
      "the Dormouse ; “ so I ’ m afraid I ’ m a poor man , your Majesty , ”\n",
      "Alice asked in a hot tureen ! . . will hear you ! . left off when they\n",
      "saw Alice coming . , the King said to Alice , with a smile : some of\n",
      "the leaves , and asking , “ or I ’ ve offended it again and again.\n"
     ]
    },
    {
     "data": {
      "text/plain": [
       "'Alice told Queen ordering off her head pressing against the ceiling , and don ’ t\\nbelieve there ’ s no use denying it . , who felt ready to sink into\\nthe Dormouse ; “ so I ’ m afraid I ’ m a poor man , your Majesty , ”\\nAlice asked in a hot tureen ! . . will hear you ! . left off when they\\nsaw Alice coming . , the King said to Alice , with a smile : some of\\nthe leaves , and asking , “ or I ’ ve offended it again and again.'"
      ]
     },
     "execution_count": 61,
     "metadata": {},
     "output_type": "execute_result"
    }
   ],
   "source": [
    "alice.generate(text_seed=[\"Alice\",\"told\", \"Queen\"])"
   ]
  },
  {
   "cell_type": "markdown",
   "metadata": {},
   "source": [
    "---\n",
    "\n",
    "## Your turn!\n",
    "\n",
    "Choose some text and **explore it using NLTK** (following the examples in this notebook).\n",
    "\n",
    "**Write code in notebook cells below**.\n",
    "* add more cells (use \"+\" icon) if necessary\n",
    "\n",
    "You may use NLTK text corpora or load your own text."
   ]
  },
  {
   "cell_type": "code",
   "execution_count": null,
   "metadata": {},
   "outputs": [],
   "source": []
  },
  {
   "cell_type": "code",
   "execution_count": null,
   "metadata": {},
   "outputs": [],
   "source": []
  },
  {
   "cell_type": "code",
   "execution_count": null,
   "metadata": {},
   "outputs": [],
   "source": []
  }
 ],
 "metadata": {
  "kernelspec": {
   "display_name": "Python 3",
   "language": "python",
   "name": "python3"
  },
  "language_info": {
   "codemirror_mode": {
    "name": "ipython",
    "version": 3
   },
   "file_extension": ".py",
   "mimetype": "text/x-python",
   "name": "python",
   "nbconvert_exporter": "python",
   "pygments_lexer": "ipython3",
   "version": "3.8.3"
  }
 },
 "nbformat": 4,
 "nbformat_minor": 2
}
