{
 "cells": [
  {
   "cell_type": "markdown",
   "metadata": {},
   "source": [
    "## Practice \n",
    "### Write a program that goes over(iterates) numbers from 1 to 100(included)\n",
    "* For each number it prints Fizz if number divides by 5 even\n",
    "* For each number it prints Buzz if number divides by 7 evenly\n",
    "* If number divides by 5 AND 7 print FizzBuzz\n",
    "* print number if it does not divide by 5 nor 7\n",
    "* 1,2,3,4,Fizz,6,Buzz,8,9,Fizz,11,.......34,FizzBuzz,36"
   ]
  },
  {
   "cell_type": "code",
   "execution_count": 1,
   "metadata": {},
   "outputs": [
    {
     "name": "stdout",
     "output_type": "stream",
     "text": [
      "0 is even!\n",
      "1 is odd!\n",
      "2 is even!\n",
      "3 is odd!\n",
      "4 is even!\n",
      "5 is odd!\n",
      "6 is even!\n",
      "7 is odd!\n",
      "8 is even!\n",
      "9 is odd!\n",
      "10 is even!\n",
      "11 is odd!\n",
      "12 is even!\n",
      "13 is odd!\n",
      "14 is even!\n",
      "15 is odd!\n",
      "16 is even!\n",
      "17 is odd!\n",
      "18 is even!\n",
      "19 is odd!\n"
     ]
    }
   ],
   "source": [
    "for n in range(20):\n",
    "    if n % 2 == 0:\n",
    "        print(n,\"is even!\")\n",
    "    else:\n",
    "        print(n, \"is odd!\")"
   ]
  },
  {
   "cell_type": "code",
   "execution_count": 5,
   "metadata": {},
   "outputs": [
    {
     "name": "stdout",
     "output_type": "stream",
     "text": [
      "1, 2, 3, 4, FiZZ, 6, Buzz, 8, 9, FiZZ, 11, 12, 13, Buzz, FiZZ, 16, 17, 18, 19, FiZZ, Buzz, 22, 23, 24, FiZZ, 26, 27, Buzz, 29, FiZZ, 31, 32, 33, 34, FizzBuzz, 36, 37, 38, 39, FiZZ, 41, Buzz, 43, 44, FiZZ, 46, 47, 48, Buzz, FiZZ, 51, 52, 53, 54, FiZZ, Buzz, 57, 58, 59, FiZZ, 61, 62, Buzz, 64, FiZZ, 66, 67, 68, 69, FizzBuzz, 71, 72, 73, 74, FiZZ, 76, Buzz, 78, 79, FiZZ, 81, 82, 83, Buzz, FiZZ, 86, 87, 88, 89, FiZZ, Buzz, 92, 93, 94, FiZZ, 96, 97, Buzz, 99, FiZZ, "
     ]
    }
   ],
   "source": [
    "for c in range(1, 100+1):\n",
    "    end = \", \" # instead of default newline for print\n",
    "    if c%5 == 0 and c%7 == 0:\n",
    "        print(\"FizzBuzz\", end=end)\n",
    "    elif c%5 == 0:\n",
    "        print(\"FiZZ\", end=end)\n",
    "    elif c%7 == 0:\n",
    "        print(\"Buzz\", end=end)\n",
    "    else:\n",
    "        print(c, end=end)"
   ]
  },
  {
   "cell_type": "code",
   "execution_count": 8,
   "metadata": {},
   "outputs": [
    {
     "name": "stdout",
     "output_type": "stream",
     "text": [
      "working on  1\n",
      "working on  2\n",
      "working on  3\n",
      "working on  4\n",
      "working on  5\n",
      "working on  6\n",
      "working on  7\n",
      "working on  8\n",
      "working on  9\n",
      "working on  10\n",
      "working on  11\n",
      "working on  12\n",
      "working on  13\n",
      "working on  14\n",
      "working on  15\n",
      "working on  16\n",
      "working on  17\n",
      "working on  18\n",
      "working on  19\n",
      "working on  20\n",
      "working on  21\n",
      "working on  22\n",
      "working on  23\n",
      "working on  24\n",
      "working on  25\n",
      "working on  26\n",
      "working on  27\n",
      "working on  28\n",
      "working on  29\n",
      "working on  30\n",
      "working on  31\n",
      "working on  32\n",
      "working on  33\n",
      "working on  34\n",
      "working on  35\n",
      "working on  36\n",
      "working on  37\n",
      "working on  38\n",
      "working on  39\n",
      "working on  40\n",
      "working on  41\n",
      "working on  42\n",
      "working on  43\n",
      "working on  44\n",
      "working on  45\n",
      "working on  46\n",
      "working on  47\n",
      "working on  48\n",
      "working on  49\n",
      "working on  50\n",
      "working on  51\n",
      "working on  52\n",
      "working on  53\n",
      "working on  54\n",
      "working on  55\n",
      "working on  56\n",
      "working on  57\n",
      "working on  58\n",
      "working on  59\n",
      "working on  60\n",
      "working on  61\n",
      "working on  62\n",
      "working on  63\n",
      "working on  64\n",
      "working on  65\n",
      "working on  66\n",
      "working on  67\n",
      "working on  68\n",
      "working on  69\n",
      "working on  70\n",
      "working on  71\n",
      "working on  72\n",
      "working on  73\n",
      "working on  74\n",
      "working on  75\n",
      "working on  76\n",
      "working on  77\n",
      "working on  78\n",
      "working on  79\n",
      "working on  80\n",
      "working on  81\n",
      "working on  82\n",
      "working on  83\n",
      "working on  84\n",
      "working on  85\n",
      "working on  86\n",
      "working on  87\n",
      "working on  88\n",
      "working on  89\n",
      "working on  90\n",
      "working on  91\n",
      "working on  92\n",
      "working on  93\n",
      "working on  94\n",
      "working on  95\n",
      "working on  96\n",
      "working on  97\n",
      "working on  98\n",
      "working on  99\n",
      "working on  100\n",
      "My fizzbuzz\n",
      "Fizz\n"
     ]
    }
   ],
   "source": [
    "for c in range(1,101):\n",
    "    print(\"working on \", c)\n",
    "    txt = \"\"\n",
    "    if c%5 == 0:\n",
    "        txt += \"Fizz\"\n",
    "    if c%7 == 0:\n",
    "        txt += \"Buzz\"\n",
    "    if c%5 != 0 and c%7 !=0: # this means number\n",
    "        txt += str(c) # c is number we need to convert to string\n",
    "    if c < 100:\n",
    "        txt += \",\"\n",
    "        \n",
    "print(\"My fizzbuzz\")\n",
    "print(txt)"
   ]
  },
  {
   "cell_type": "code",
   "execution_count": null,
   "metadata": {},
   "outputs": [],
   "source": []
  }
 ],
 "metadata": {
  "kernelspec": {
   "display_name": "Python 3",
   "language": "python",
   "name": "python3"
  },
  "language_info": {
   "codemirror_mode": {
    "name": "ipython",
    "version": 3
   },
   "file_extension": ".py",
   "mimetype": "text/x-python",
   "name": "python",
   "nbconvert_exporter": "python",
   "pygments_lexer": "ipython3",
   "version": "3.8.3"
  }
 },
 "nbformat": 4,
 "nbformat_minor": 4
}
