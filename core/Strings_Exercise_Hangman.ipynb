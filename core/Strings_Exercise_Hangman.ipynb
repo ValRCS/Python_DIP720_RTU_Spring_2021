{
 "cells": [
  {
   "cell_type": "code",
   "execution_count": 3,
   "metadata": {},
   "outputs": [
    {
     "name": "stdout",
     "output_type": "stream",
     "text": [
      "Enter string to play with: a quick brown fox\n",
      "Enter single character: o\n",
      "* ***** **o** *o*\n"
     ]
    }
   ],
   "source": [
    "# text = \"potatoe field\"\n",
    "text = input(\"Enter string to play with: \")\n",
    "# char_to_check = \"e\"\n",
    "char_to_check = input(\"Enter single character: \")\n",
    "result = \"\" # we are going to use this to build our string one character at a time\n",
    "for c in text: # so we go through our original text character at a time\n",
    "    if c == char_to_check or c == \" \": #so whitespace and the input character stay original\n",
    "        result += c\n",
    "    else:\n",
    "        result += \"*\"\n",
    "print(result)"
   ]
  }
 ],
 "metadata": {
  "kernelspec": {
   "display_name": "Python 3",
   "language": "python",
   "name": "python3"
  },
  "language_info": {
   "codemirror_mode": {
    "name": "ipython",
    "version": 3
   },
   "file_extension": ".py",
   "mimetype": "text/x-python",
   "name": "python",
   "nbconvert_exporter": "python",
   "pygments_lexer": "ipython3",
   "version": "3.8.3"
  }
 },
 "nbformat": 4,
 "nbformat_minor": 4
}
