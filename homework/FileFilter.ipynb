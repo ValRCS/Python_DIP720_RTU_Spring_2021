{
 "cells": [
  {
   "cell_type": "markdown",
   "metadata": {},
   "source": [
    "# File Cleaner"
   ]
  },
  {
   "cell_type": "code",
   "execution_count": null,
   "metadata": {},
   "outputs": [],
   "source": [
    "# 50% of the grade\n",
    "def clean_file(src_file,dest_file,good_text=\"\",bad_text=\"\"):\n",
    "    # open src_file\n",
    "    # keep only lines with good text BUT not with bad_text\n",
    "    # save onto dest_file overwritting the existing file there\n",
    "    print(f\"Cleaned file {src_file} and saved onto {dest_file}\")"
   ]
  },
  {
   "cell_type": "code",
   "execution_count": null,
   "metadata": {},
   "outputs": [],
   "source": [
    "# 80% of the grade\n",
    "def clean_file_many(src_file,dest_file,good_texts=(),bad_texts=()):\n",
    "    # open src_file\n",
    "    # keep only lines with any good text BUT NOT with ANY bad text\n",
    "    # save onto dest_file overwritting the existing file there\n",
    "    print(f\"Cleaned file {src_file} and saved onto {dest_file}\")"
   ]
  },
  {
   "cell_type": "code",
   "execution_count": 6,
   "metadata": {},
   "outputs": [],
   "source": [
    "# 100% of the grade\n",
    "def clean_folder_many_texts(src_folder,dest_folder, src_postfix=\".txt\",dest_postfix=\"_cleaned.txt\", good_texts=(),bad_texts=()):\n",
    "    # open src_folder\n",
    "    # keep only lines with good text BUT not with bad_text\n",
    "    # check for default edge cases when good_texts and/or bad_texts are empty\n",
    "    # save onto dest_folder with same file names but with dest_postfix added to each file\n",
    "    # create dest_folder if it does not exist!\n",
    "    print(f\"Cleaned files in {src_folder} and saved onto {dest_folder}\")"
   ]
  }
 ],
 "metadata": {
  "kernelspec": {
   "display_name": "Python 3",
   "language": "python",
   "name": "python3"
  },
  "language_info": {
   "codemirror_mode": {
    "name": "ipython",
    "version": 3
   },
   "file_extension": ".py",
   "mimetype": "text/x-python",
   "name": "python",
   "nbconvert_exporter": "python",
   "pygments_lexer": "ipython3",
   "version": "3.8.3"
  }
 },
 "nbformat": 4,
 "nbformat_minor": 4
}
