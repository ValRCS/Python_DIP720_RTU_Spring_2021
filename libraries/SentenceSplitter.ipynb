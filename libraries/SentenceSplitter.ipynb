{
 "cells": [
  {
   "cell_type": "code",
   "execution_count": 1,
   "metadata": {},
   "outputs": [
    {
     "name": "stdout",
     "output_type": "stream",
     "text": [
      "['This is a paragraph.', 'It contains several sentences.', '\"But why,\" you ask?']\n",
      "['This is a paragraph.', 'It contains several sentences.', '\"But why,\" you ask?']\n"
     ]
    }
   ],
   "source": [
    "from sentence_splitter import SentenceSplitter, split_text_into_sentences\n",
    "\n",
    "#\n",
    "# Object interface\n",
    "#\n",
    "splitter = SentenceSplitter(language='en')\n",
    "print(splitter.split(text='This is a paragraph. It contains several sentences. \"But why,\" you ask?'))\n",
    "# ['This is a paragraph.', 'It contains several sentences.', '\"But why,\" you ask?']\n",
    "\n",
    "#\n",
    "# Functional interface\n",
    "#\n",
    "print(split_text_into_sentences(\n",
    "    text='This is a paragraph. It contains several sentences. \"But why,\" you ask?',\n",
    "    language='en'\n",
    "))\n",
    "# ['This is a paragraph.', 'It contains several sentences.', '\"But why,\" you ask?']"
   ]
  },
  {
   "cell_type": "code",
   "execution_count": 2,
   "metadata": {},
   "outputs": [],
   "source": [
    "lv_splitter = SentenceSplitter(language='lv')\n"
   ]
  },
  {
   "cell_type": "code",
   "execution_count": 3,
   "metadata": {},
   "outputs": [],
   "source": [
    "lv_text = \"Kur tu teici gailīti manu? Lai arī pastāvējis nieka divus gadus, klubs “Bimini” uzskatāms par Latvijas naktslokālu kultūras celmlauzi. Tā bija iestāde, kurā atpūtās gan nupat brīvību atguvusī tauta, gan valsts augstākās amatpersonas. “Bimini” centās savienot skarbo kapitālismu ar Rietumu mūzikas un mākslas vērtībām. “Bijām ideālisti,” tagad teic leģendārā mūzikas kluba īpašnieki.\""
   ]
  },
  {
   "cell_type": "code",
   "execution_count": 4,
   "metadata": {},
   "outputs": [
    {
     "data": {
      "text/plain": [
       "['Kur tu teici gailīti manu?',\n",
       " 'Lai arī pastāvējis nieka divus gadus, klubs “Bimini” uzskatāms par Latvijas naktslokālu kultūras celmlauzi.',\n",
       " 'Tā bija iestāde, kurā atpūtās gan nupat brīvību atguvusī tauta, gan valsts augstākās amatpersonas.',\n",
       " '“Bimini” centās savienot skarbo kapitālismu ar Rietumu mūzikas un mākslas vērtībām.',\n",
       " '“Bijām ideālisti,” tagad teic leģendārā mūzikas kluba īpašnieki.']"
      ]
     },
     "execution_count": 4,
     "metadata": {},
     "output_type": "execute_result"
    }
   ],
   "source": [
    "lv_list = lv_splitter.split(text=lv_text)\n",
    "lv_list"
   ]
  }
 ],
 "metadata": {
  "kernelspec": {
   "display_name": "Python 3",
   "language": "python",
   "name": "python3"
  },
  "language_info": {
   "codemirror_mode": {
    "name": "ipython",
    "version": 3
   },
   "file_extension": ".py",
   "mimetype": "text/x-python",
   "name": "python",
   "nbconvert_exporter": "python",
   "pygments_lexer": "ipython3",
   "version": "3.8.3"
  }
 },
 "nbformat": 4,
 "nbformat_minor": 4
}
