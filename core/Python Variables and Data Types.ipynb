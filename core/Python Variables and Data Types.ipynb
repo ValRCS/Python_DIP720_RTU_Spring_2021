{
 "cells": [
  {
   "cell_type": "markdown",
   "metadata": {},
   "source": [
    "# Variables, Arithmetic and Data Types\n"
   ]
  },
  {
   "cell_type": "code",
   "execution_count": 1,
   "metadata": {},
   "outputs": [
    {
     "name": "stdout",
     "output_type": "stream",
     "text": [
      "Hello World!\n"
     ]
    }
   ],
   "source": [
    "print(\"Hello World!\") #pressing shift-tab over some function gives us information about this function\n",
    "# what is a function then? function is something which let's us give a set of instructions"
   ]
  },
  {
   "cell_type": "code",
   "execution_count": 2,
   "metadata": {},
   "outputs": [
    {
     "name": "stdout",
     "output_type": "stream",
     "text": [
      "hello Variables\n"
     ]
    }
   ],
   "source": [
    "print(\"hello Variables\")"
   ]
  },
  {
   "cell_type": "code",
   "execution_count": 3,
   "metadata": {
    "scrolled": true
   },
   "outputs": [
    {
     "name": "stdout",
     "output_type": "stream",
     "text": [
      " Volume in drive C has no label.\n",
      " Volume Serial Number is 3E6D-EE98\n",
      "\n",
      " Directory of C:\\Users\\liga\\Github\\Python_DIP720_RTU_Spring_2021\\core\n",
      "\n",
      "\n",
      " Directory of C:\\Users\\liga\\Github\\Python_DIP720_RTU_Spring_2021\\core\n",
      "\n",
      "\n",
      " Directory of C:\\Users\\liga\\Github\\Python_DIP720_RTU_Spring_2021\\core\n",
      "\n",
      "\n",
      " Directory of C:\\Users\\liga\\Github\\Python_DIP720_RTU_Spring_2021\\core\n",
      "\n",
      "\n",
      " Directory of C:\\Users\\liga\\Github\\Python_DIP720_RTU_Spring_2021\\core\n",
      "\n",
      "\n",
      " Directory of C:\\Users\\liga\\Github\\Python_DIP720_RTU_Spring_2021\\core\n",
      "\n",
      "\n",
      " Directory of C:\\Users\\liga\\Github\\Python_DIP720_RTU_Spring_2021\\core\n",
      "\n",
      "\n",
      " Directory of C:\\Users\\liga\\Github\\Python_DIP720_RTU_Spring_2021\\core\n",
      "\n",
      "\n",
      " Directory of C:\\Users\\liga\\Github\\Python_DIP720_RTU_Spring_2021\\core\n",
      "\n",
      "\n",
      " Directory of C:\\Users\\liga\\Github\\Python_DIP720_RTU_Spring_2021\\core\n",
      "\n",
      "\n",
      " Directory of C:\\Users\\liga\\Github\\Python_DIP720_RTU_Spring_2021\\core\n",
      "\n"
     ]
    },
    {
     "name": "stderr",
     "output_type": "stream",
     "text": [
      "File Not Found\n"
     ]
    }
   ],
   "source": [
    "!dir # this Jupyter Notebook specific we can give any system command "
   ]
  },
  {
   "cell_type": "code",
   "execution_count": 4,
   "metadata": {},
   "outputs": [
    {
     "name": "stdout",
     "output_type": "stream",
     "text": [
      "This is printing\n"
     ]
    }
   ],
   "source": [
    "# This is a comment \n",
    "# comments are made to humans not to computers\n",
    "# computers ignore the comments\n",
    "# comments should generally be Why we are doing , not what\n",
    "print(\"This is printing\")\n",
    "#print(\"This is not printing\")"
   ]
  },
  {
   "cell_type": "code",
   "execution_count": 12,
   "metadata": {},
   "outputs": [],
   "source": [
    "my_name = \"Valdis\" # in python we need no special keyword for variables\n",
    "# naming things is one of the hardest things in programming\n",
    "# word_secondword_third is the preferred way of naming variables in Python per PEP 008 style guide\n"
   ]
  },
  {
   "cell_type": "code",
   "execution_count": 7,
   "metadata": {},
   "outputs": [
    {
     "name": "stdout",
     "output_type": "stream",
     "text": [
      "My name is Valdis\n"
     ]
    }
   ],
   "source": [
    "print(\"My name is\", my_name)"
   ]
  },
  {
   "cell_type": "code",
   "execution_count": 8,
   "metadata": {},
   "outputs": [],
   "source": [
    "myname = \"Val\""
   ]
  },
  {
   "cell_type": "code",
   "execution_count": 9,
   "metadata": {},
   "outputs": [
    {
     "name": "stdout",
     "output_type": "stream",
     "text": [
      "Valdis Val\n"
     ]
    }
   ],
   "source": [
    "print(my_name, myname)"
   ]
  },
  {
   "cell_type": "code",
   "execution_count": 10,
   "metadata": {},
   "outputs": [],
   "source": [
    "my_name = \"Voldemārs\""
   ]
  },
  {
   "cell_type": "code",
   "execution_count": 13,
   "metadata": {},
   "outputs": [
    {
     "name": "stdout",
     "output_type": "stream",
     "text": [
      "Valdis Val\n"
     ]
    }
   ],
   "source": [
    "print(my_name, myname)"
   ]
  },
  {
   "cell_type": "code",
   "execution_count": null,
   "metadata": {},
   "outputs": [],
   "source": [
    "# Generally you should run cells in order because easier to reason about"
   ]
  },
  {
   "cell_type": "code",
   "execution_count": null,
   "metadata": {},
   "outputs": [],
   "source": [
    "# variable names should start with lowercase letter \n",
    "# and can contain letters, numbers and underscores\n"
   ]
  },
  {
   "cell_type": "code",
   "execution_count": 14,
   "metadata": {},
   "outputs": [
    {
     "name": "stdout",
     "output_type": "stream",
     "text": [
      "6\n",
      "50\n"
     ]
    }
   ],
   "source": [
    "my_var = 6\n",
    "print(my_var) # snake syntax meaning _ syntax\n",
    "myVar = 50 # camelCase syntax common in Javascript other programming\n",
    "print(myVar) \n",
    "# Recommendation is to keep one style for one project, one notebook"
   ]
  },
  {
   "cell_type": "code",
   "execution_count": null,
   "metadata": {},
   "outputs": [],
   "source": [
    "\n",
    "The following identifiers are used as reserved words, or keywords of the language, and cannot be used as ordinary identifiers. They must be spelled exactly as written here:\n",
    "\n",
    "False      class      finally    is         return\n",
    "None       continue   for        lambda     try\n",
    "True       def        from       nonlocal   while\n",
    "and        del        global     not        with\n",
    "as         elif       if         or         yield\n",
    "assert     else       import     pass\n",
    "break      except     in         raise"
   ]
  },
  {
   "cell_type": "code",
   "execution_count": 17,
   "metadata": {},
   "outputs": [
    {
     "name": "stdout",
     "output_type": "stream",
     "text": [
      "My favorite food is potatoes and carrots\n"
     ]
    }
   ],
   "source": [
    "my_food = \"carrots\"\n",
    "# my_other_food = myfood # this will be a mistake because myfood is not defined\n",
    "my_other_food = my_food \n",
    "my_food = \"potatoes\"\n",
    "print(\"My favorite food is\", my_food, \"and\", my_other_food)"
   ]
  },
  {
   "cell_type": "code",
   "execution_count": 21,
   "metadata": {},
   "outputs": [],
   "source": [
    "my_food = \"oats\""
   ]
  },
  {
   "cell_type": "code",
   "execution_count": 19,
   "metadata": {},
   "outputs": [],
   "source": [
    "my_food = \"blueberries\""
   ]
  },
  {
   "cell_type": "code",
   "execution_count": 22,
   "metadata": {},
   "outputs": [
    {
     "name": "stdout",
     "output_type": "stream",
     "text": [
      "My favorite food is oats and carrots\n"
     ]
    }
   ],
   "source": [
    "print(\"My favorite food is\", my_food, \"and\", my_other_food)"
   ]
  },
  {
   "cell_type": "code",
   "execution_count": 23,
   "metadata": {},
   "outputs": [
    {
     "data": {
      "text/plain": [
       "str"
      ]
     },
     "execution_count": 23,
     "metadata": {},
     "output_type": "execute_result"
    }
   ],
   "source": [
    "type(my_food) # we can determine the data type"
   ]
  },
  {
   "cell_type": "code",
   "execution_count": null,
   "metadata": {},
   "outputs": [],
   "source": [
    "# so my_food is a string, string is an ordered sequence of characters"
   ]
  },
  {
   "cell_type": "code",
   "execution_count": 24,
   "metadata": {},
   "outputs": [
    {
     "data": {
      "text/plain": [
       "int"
      ]
     },
     "execution_count": 24,
     "metadata": {},
     "output_type": "execute_result"
    }
   ],
   "source": [
    "type(5)"
   ]
  },
  {
   "cell_type": "code",
   "execution_count": 25,
   "metadata": {},
   "outputs": [
    {
     "data": {
      "text/plain": [
       "str"
      ]
     },
     "execution_count": 25,
     "metadata": {},
     "output_type": "execute_result"
    }
   ],
   "source": [
    "type(\"5\") # in Python single characters still count as strings (there is no character data type)"
   ]
  },
  {
   "cell_type": "code",
   "execution_count": 26,
   "metadata": {},
   "outputs": [
    {
     "data": {
      "text/plain": [
       "int"
      ]
     },
     "execution_count": 26,
     "metadata": {},
     "output_type": "execute_result"
    }
   ],
   "source": [
    "a = 42 # do not use short variable names over long chunks of code, it will hard to figure out what they mean\n",
    "type(a) # integers are whole numbers"
   ]
  },
  {
   "cell_type": "code",
   "execution_count": 27,
   "metadata": {},
   "outputs": [
    {
     "data": {
      "text/plain": [
       "str"
      ]
     },
     "execution_count": 27,
     "metadata": {},
     "output_type": "execute_result"
    }
   ],
   "source": [
    "a = \"answer\"\n",
    "type(a)\n",
    "# this means that in Python data types are dynamic - can be changed"
   ]
  },
  {
   "cell_type": "code",
   "execution_count": 28,
   "metadata": {},
   "outputs": [
    {
     "data": {
      "text/plain": [
       "str"
      ]
     },
     "execution_count": 28,
     "metadata": {},
     "output_type": "execute_result"
    }
   ],
   "source": [
    "type(my_name)"
   ]
  },
  {
   "cell_type": "markdown",
   "metadata": {},
   "source": [
    "## Data types in Python 3.x\n",
    "* Integers type(42) int \n",
    "* Floating Point type(3.14) float\n",
    "* Boolean type(True),type(False) bool\n",
    "* String(ordered, **immutable** char sequence) type(\"OyCaramba\") str\n",
    "* List type([1,2,63,\"aha\",\"youcanmixtypeinsidelist\", [\"even\",\"nest\"]]) list\n",
    "* Dictionary(key:value pairs) type({\"foo\":\"bar\", \"favoriteday\":\"Friday\"}) dict\n",
    "* Tuple - ordered immutable sequence type(\"sup\",7,\"dwarves\") tup\n",
    "* Set (unordered collection of uniques) (\"k\",\"a\",\"r\",\"t\",\"u\",\"p\",\"e\",\"l\",\"i\",\"s\")\n",
    "\n"
   ]
  },
  {
   "cell_type": "code",
   "execution_count": 29,
   "metadata": {},
   "outputs": [
    {
     "name": "stdout",
     "output_type": "stream",
     "text": [
      "<class 'int'> <class 'int'>\n"
     ]
    }
   ],
   "source": [
    "a=42\n",
    "print(type(a), type(42))"
   ]
  },
  {
   "cell_type": "code",
   "execution_count": 30,
   "metadata": {},
   "outputs": [
    {
     "name": "stdout",
     "output_type": "stream",
     "text": [
      "20 140731111258496\n"
     ]
    }
   ],
   "source": [
    "b=20\n",
    "print(b, id(b)) # id means some memory location(virtual)"
   ]
  },
  {
   "cell_type": "code",
   "execution_count": 31,
   "metadata": {},
   "outputs": [
    {
     "name": "stdout",
     "output_type": "stream",
     "text": [
      "200 140731111264256\n"
     ]
    }
   ],
   "source": [
    "c=200\n",
    "print(c, id(c))"
   ]
  },
  {
   "cell_type": "code",
   "execution_count": 32,
   "metadata": {},
   "outputs": [
    {
     "name": "stdout",
     "output_type": "stream",
     "text": [
      "3.1415926 <class 'float'>\n"
     ]
    }
   ],
   "source": [
    "pi = 3.1415926\n",
    "print(pi, type(pi)) # so float is a way storing numbers with decimal point"
   ]
  },
  {
   "cell_type": "code",
   "execution_count": 33,
   "metadata": {},
   "outputs": [
    {
     "name": "stdout",
     "output_type": "stream",
     "text": [
      "4\n"
     ]
    }
   ],
   "source": [
    "result = 2+2\n",
    "print(result)"
   ]
  },
  {
   "cell_type": "code",
   "execution_count": 34,
   "metadata": {},
   "outputs": [
    {
     "data": {
      "text/plain": [
       "5.1415926"
      ]
     },
     "execution_count": 34,
     "metadata": {},
     "output_type": "execute_result"
    }
   ],
   "source": [
    "result = 2+pi # so we can add integers and floats turning them into => floats\n",
    "result"
   ]
  },
  {
   "cell_type": "code",
   "execution_count": 41,
   "metadata": {},
   "outputs": [
    {
     "data": {
      "text/plain": [
       "55"
      ]
     },
     "execution_count": 41,
     "metadata": {},
     "output_type": "execute_result"
    }
   ],
   "source": [
    "10+56\n",
    "5+5*10 # only shows the last line"
   ]
  },
  {
   "cell_type": "code",
   "execution_count": 40,
   "metadata": {},
   "outputs": [
    {
     "name": "stdout",
     "output_type": "stream",
     "text": [
      "66\n",
      "55\n"
     ]
    }
   ],
   "source": [
    "print(10+56)\n",
    "print(5+5*10)"
   ]
  },
  {
   "cell_type": "code",
   "execution_count": 42,
   "metadata": {},
   "outputs": [
    {
     "data": {
      "text/plain": [
       "float"
      ]
     },
     "execution_count": 42,
     "metadata": {},
     "output_type": "execute_result"
    }
   ],
   "source": [
    "type(result)"
   ]
  },
  {
   "cell_type": "code",
   "execution_count": 43,
   "metadata": {},
   "outputs": [
    {
     "name": "stdout",
     "output_type": "stream",
     "text": [
      "15.0 <class 'float'>\n"
     ]
    }
   ],
   "source": [
    "res2 = 30/2 # so 30/2 gives you what data type?\n",
    "print(res2, type(res2))"
   ]
  },
  {
   "cell_type": "code",
   "execution_count": 44,
   "metadata": {},
   "outputs": [
    {
     "data": {
      "text/plain": [
       "15"
      ]
     },
     "execution_count": 44,
     "metadata": {},
     "output_type": "execute_result"
    }
   ],
   "source": [
    "30//2 # this gives you whole part"
   ]
  },
  {
   "cell_type": "code",
   "execution_count": 45,
   "metadata": {},
   "outputs": [
    {
     "data": {
      "text/plain": [
       "(3.5, 3)"
      ]
     },
     "execution_count": 45,
     "metadata": {},
     "output_type": "execute_result"
    }
   ],
   "source": [
    "7 / 2, 7 // 2 # so dividing by // the result will the whole integer "
   ]
  },
  {
   "cell_type": "code",
   "execution_count": 46,
   "metadata": {},
   "outputs": [
    {
     "data": {
      "text/plain": [
       "1"
      ]
     },
     "execution_count": 46,
     "metadata": {},
     "output_type": "execute_result"
    }
   ],
   "source": [
    "7 % 2 # when you divide 7 by 2 how much is left as a reminder"
   ]
  },
  {
   "cell_type": "code",
   "execution_count": 47,
   "metadata": {},
   "outputs": [
    {
     "data": {
      "text/plain": [
       "2"
      ]
     },
     "execution_count": 47,
     "metadata": {},
     "output_type": "execute_result"
    }
   ],
   "source": [
    "7%5 # so % gives you reminder, there is a tiny bit of difference modulo"
   ]
  },
  {
   "cell_type": "code",
   "execution_count": 48,
   "metadata": {},
   "outputs": [
    {
     "data": {
      "text/plain": [
       "(1, 0, 1, 0, 1, 0)"
      ]
     },
     "execution_count": 48,
     "metadata": {},
     "output_type": "execute_result"
    }
   ],
   "source": [
    "7%2, 8%2, 9%2, 10%2, 11%2, 12%2 # so % 2 will let us determine if number is ?"
   ]
  },
  {
   "cell_type": "code",
   "execution_count": 49,
   "metadata": {},
   "outputs": [
    {
     "data": {
      "text/plain": [
       "4"
      ]
     },
     "execution_count": 49,
     "metadata": {},
     "output_type": "execute_result"
    }
   ],
   "source": [
    "535264264624 % 10 # this will give us ?"
   ]
  },
  {
   "cell_type": "code",
   "execution_count": 50,
   "metadata": {},
   "outputs": [
    {
     "data": {
      "text/plain": [
       "1"
      ]
     },
     "execution_count": 50,
     "metadata": {},
     "output_type": "execute_result"
    }
   ],
   "source": [
    "34344435%2"
   ]
  },
  {
   "cell_type": "markdown",
   "metadata": {},
   "source": [
    "## Floats are weird\n",
    "## IEEE 754 standartized weirdness\n",
    "## https://en.wikipedia.org/wiki/IEEE_754"
   ]
  },
  {
   "cell_type": "code",
   "execution_count": 51,
   "metadata": {},
   "outputs": [
    {
     "data": {
      "text/plain": [
       "0.30000000000000004"
      ]
     },
     "execution_count": 51,
     "metadata": {},
     "output_type": "execute_result"
    }
   ],
   "source": [
    "0.1+0.2 # floats are weird"
   ]
  },
  {
   "cell_type": "code",
   "execution_count": 52,
   "metadata": {},
   "outputs": [
    {
     "data": {
      "text/plain": [
       "5.551115123125783e-17"
      ]
     },
     "execution_count": 52,
     "metadata": {},
     "output_type": "execute_result"
    }
   ],
   "source": [
    "0.1+0.2-0.3 # so almost 0 but not quite\n"
   ]
  },
  {
   "cell_type": "code",
   "execution_count": 53,
   "metadata": {},
   "outputs": [
    {
     "data": {
      "text/plain": [
       "False"
      ]
     },
     "execution_count": 53,
     "metadata": {},
     "output_type": "execute_result"
    }
   ],
   "source": [
    "0 == 0.1+0.2-0.3 # when we do comparision it will not equal"
   ]
  },
  {
   "cell_type": "code",
   "execution_count": 54,
   "metadata": {},
   "outputs": [
    {
     "data": {
      "text/plain": [
       "5.551115123125783e-17"
      ]
     },
     "execution_count": 54,
     "metadata": {},
     "output_type": "execute_result"
    }
   ],
   "source": [
    "res = 0.1+0.2-0.3\n",
    "res"
   ]
  },
  {
   "cell_type": "code",
   "execution_count": 55,
   "metadata": {},
   "outputs": [
    {
     "data": {
      "text/plain": [
       "0.0"
      ]
     },
     "execution_count": 55,
     "metadata": {},
     "output_type": "execute_result"
    }
   ],
   "source": [
    "res = round(res, 2)  # 2 digits after comma\n",
    "res"
   ]
  },
  {
   "cell_type": "code",
   "execution_count": 57,
   "metadata": {},
   "outputs": [
    {
     "data": {
      "text/plain": [
       "(3.1415926, 3, 3.14)"
      ]
     },
     "execution_count": 57,
     "metadata": {},
     "output_type": "execute_result"
    }
   ],
   "source": [
    "pi, round(pi), round(pi,2)"
   ]
  },
  {
   "cell_type": "code",
   "execution_count": 58,
   "metadata": {},
   "outputs": [
    {
     "data": {
      "text/plain": [
       "8"
      ]
     },
     "execution_count": 58,
     "metadata": {},
     "output_type": "execute_result"
    }
   ],
   "source": [
    "2**3 # this is 2 to the power of 3 , so 2 cubed"
   ]
  },
  {
   "cell_type": "code",
   "execution_count": 59,
   "metadata": {},
   "outputs": [
    {
     "data": {
      "text/plain": [
       "256"
      ]
     },
     "execution_count": 59,
     "metadata": {},
     "output_type": "execute_result"
    }
   ],
   "source": [
    "2**8 # importart computers"
   ]
  },
  {
   "cell_type": "code",
   "execution_count": null,
   "metadata": {},
   "outputs": [],
   "source": [
    "# so when we have 8 bits of information , we can create a byte of information\n",
    "# one byte can hold 256 different values "
   ]
  },
  {
   "cell_type": "code",
   "execution_count": 60,
   "metadata": {},
   "outputs": [
    {
     "data": {
      "text/plain": [
       "9.0"
      ]
     },
     "execution_count": 60,
     "metadata": {},
     "output_type": "execute_result"
    }
   ],
   "source": [
    "81**0.5 # so square root"
   ]
  },
  {
   "cell_type": "code",
   "execution_count": 61,
   "metadata": {},
   "outputs": [
    {
     "data": {
      "text/plain": [
       "4294967296"
      ]
     },
     "execution_count": 61,
     "metadata": {},
     "output_type": "execute_result"
    }
   ],
   "source": [
    "2**32 # this is significant number for computer hardware"
   ]
  },
  {
   "cell_type": "code",
   "execution_count": null,
   "metadata": {},
   "outputs": [],
   "source": [
    "# we moved away from 32 bit Operating Systems because 4GB(above) is just not enough these"
   ]
  },
  {
   "cell_type": "code",
   "execution_count": 62,
   "metadata": {},
   "outputs": [
    {
     "data": {
      "text/plain": [
       "18446744073709551616"
      ]
     },
     "execution_count": 62,
     "metadata": {},
     "output_type": "execute_result"
    }
   ],
   "source": [
    "2**64 # think 64 bits will suffice?"
   ]
  },
  {
   "cell_type": "code",
   "execution_count": 63,
   "metadata": {},
   "outputs": [
    {
     "data": {
      "text/plain": [
       "8694526642668158675939383389473345623963157818716993537942169888940326772047361958748816623049234678032233658041460026169763104602866921826819334951005465192974916749259779145806091604938672667360593734392697918231223508087869326609682808263084677711181011036760097221745670271824913505540895552136511105753880255909795697573245840056893245892073179510979246748063169140826693842048522697848236664386778686091257869743551213031607158566152634422160633382844449416616137985858162143852572116256078026709971654347633079887927256057840945394779200140837974032770377298380287085928804364399515666335722139964720996252417725862747688816045795707126425054985473385611718903740603680894096224557790767660583867206363284303599670951703306753356037331121171160872997396189901122009729299944673787118617652487453199704020165385920212065750108221533531913490388774742622184300111424606314693026377099943672490756892821659675387618261437304036816209606802510169219679309647679934749999104"
      ]
     },
     "execution_count": 63,
     "metadata": {},
     "output_type": "execute_result"
    }
   ],
   "source": [
    "2**3242 # python lets us use big numbers immediately\n",
    "# Python has built in big num support"
   ]
  },
  {
   "cell_type": "code",
   "execution_count": 64,
   "metadata": {},
   "outputs": [
    {
     "data": {
      "text/plain": [
       "10000000000000000000000000000000000000000000000000000000000000000000000000000000000000000000000000000"
      ]
     },
     "execution_count": 64,
     "metadata": {},
     "output_type": "execute_result"
    }
   ],
   "source": [
    "10**100 # Googol"
   ]
  },
  {
   "cell_type": "code",
   "execution_count": 65,
   "metadata": {},
   "outputs": [],
   "source": [
    "c=b+a"
   ]
  },
  {
   "cell_type": "code",
   "execution_count": 66,
   "metadata": {},
   "outputs": [
    {
     "data": {
      "text/plain": [
       "(42, 20, 62)"
      ]
     },
     "execution_count": 66,
     "metadata": {},
     "output_type": "execute_result"
    }
   ],
   "source": [
    "a, b, c"
   ]
  },
  {
   "cell_type": "code",
   "execution_count": 67,
   "metadata": {},
   "outputs": [
    {
     "name": "stdout",
     "output_type": "stream",
     "text": [
      "0.47619047619047616 <class 'float'>\n"
     ]
    }
   ],
   "source": [
    "d=b/a\n",
    "print(d, type(d))"
   ]
  },
  {
   "cell_type": "code",
   "execution_count": null,
   "metadata": {},
   "outputs": [],
   "source": []
  },
  {
   "cell_type": "code",
   "execution_count": 68,
   "metadata": {},
   "outputs": [
    {
     "name": "stdout",
     "output_type": "stream",
     "text": [
      "-22 <class 'int'>\n"
     ]
    }
   ],
   "source": [
    "e=b-a\n",
    "print(e, type(e))"
   ]
  },
  {
   "cell_type": "code",
   "execution_count": 69,
   "metadata": {},
   "outputs": [
    {
     "data": {
      "text/plain": [
       "-440"
      ]
     },
     "execution_count": 69,
     "metadata": {},
     "output_type": "execute_result"
    }
   ],
   "source": [
    "f=b*e\n",
    "f"
   ]
  },
  {
   "cell_type": "code",
   "execution_count": 70,
   "metadata": {},
   "outputs": [
    {
     "name": "stdout",
     "output_type": "stream",
     "text": [
      "10\n"
     ]
    }
   ],
   "source": [
    "a = 10\n",
    "print(a)"
   ]
  },
  {
   "cell_type": "code",
   "execution_count": 97,
   "metadata": {},
   "outputs": [
    {
     "name": "stdout",
     "output_type": "stream",
     "text": [
      "148\n"
     ]
    }
   ],
   "source": [
    "a = a + 5 # expression is evaluated right to left\n",
    "print(a)"
   ]
  },
  {
   "cell_type": "code",
   "execution_count": 98,
   "metadata": {},
   "outputs": [
    {
     "name": "stdout",
     "output_type": "stream",
     "text": [
      "154\n"
     ]
    }
   ],
   "source": [
    "a += 6 # shorthand means a = a + 6\n",
    "print(a)"
   ]
  },
  {
   "cell_type": "code",
   "execution_count": 99,
   "metadata": {},
   "outputs": [
    {
     "data": {
      "text/plain": [
       "20"
      ]
     },
     "execution_count": 99,
     "metadata": {},
     "output_type": "execute_result"
    }
   ],
   "source": [
    "b"
   ]
  },
  {
   "cell_type": "code",
   "execution_count": 100,
   "metadata": {},
   "outputs": [
    {
     "data": {
      "text/plain": [
       "70"
      ]
     },
     "execution_count": 100,
     "metadata": {},
     "output_type": "execute_result"
    }
   ],
   "source": [
    "b+=50\n",
    "b"
   ]
  },
  {
   "cell_type": "code",
   "execution_count": 101,
   "metadata": {},
   "outputs": [
    {
     "data": {
      "text/plain": [
       "224"
      ]
     },
     "execution_count": 101,
     "metadata": {},
     "output_type": "execute_result"
    }
   ],
   "source": [
    "b = b + a\n",
    "b"
   ]
  },
  {
   "cell_type": "code",
   "execution_count": 102,
   "metadata": {},
   "outputs": [
    {
     "data": {
      "text/plain": [
       "{'__name__': '__main__',\n",
       " '__doc__': 'Automatically created module for IPython interactive environment',\n",
       " '__package__': None,\n",
       " '__loader__': None,\n",
       " '__spec__': None,\n",
       " '__builtin__': <module 'builtins' (built-in)>,\n",
       " '__builtins__': <module 'builtins' (built-in)>,\n",
       " '_ih': ['',\n",
       "  'print(\"Hello World!\")',\n",
       "  'print(\"hello Variables\")',\n",
       "  \"get_ipython().system('dir # this Jupyter Notebook specific we can give any system command ')\",\n",
       "  '# This is a comment\\nprint(\"This is printing\")\\n#print(\"This is not printing\")',\n",
       "  'my_name = \"Valdis\" # in python we need no special keyword for variables\\n# naming things is one of the hardest things in programming',\n",
       "  'print(\"My name is\", myname)',\n",
       "  'print(\"My name is\", my_name)',\n",
       "  'myname = \"Val\"',\n",
       "  'print(my_name, myname)',\n",
       "  'my_name = \"Voldemārs\"',\n",
       "  'print(my_name, myname)',\n",
       "  'my_name = \"Valdis\" # in python we need no special keyword for variables\\n# naming things is one of the hardest things in programming\\n# word_secondword_third is the preferred way of naming variables in Python per PEP 008 style guide',\n",
       "  'print(my_name, myname)',\n",
       "  'my_var = 6\\nprint(my_var) # snake syntax meaning _ syntax\\nmyVar = 50 # camelCase syntax common in Javascript other programming\\nprint(myVar) \\n# Recommendation is to keep one style for one project, one notebook',\n",
       "  'my_food = \"carrots\"\\nmy_other_food = myfood # this will be a mistake because myfood is not defined\\nmyfood = \"potatoes\"\\nprint(\"My favorite food is\", myfood, myotherfood)',\n",
       "  'my_food = \"carrots\"\\n# my_other_food = myfood # this will be a mistake because myfood is not defined\\nmy_other_food = my_food \\nmy_food = \"potatoes\"\\nprint(\"My favorite food is\", my_food, my_other_food)',\n",
       "  'my_food = \"carrots\"\\n# my_other_food = myfood # this will be a mistake because myfood is not defined\\nmy_other_food = my_food \\nmy_food = \"potatoes\"\\nprint(\"My favorite food is\", my_food, \"and\", my_other_food)',\n",
       "  'my_food = \"oats\"',\n",
       "  'my_food = \"blueberries\"',\n",
       "  'print(\"My favorite food is\", my_food, \"and\", my_other_food)',\n",
       "  'my_food = \"oats\"',\n",
       "  'print(\"My favorite food is\", my_food, \"and\", my_other_food)',\n",
       "  'type(my_food) # we can determine the data type',\n",
       "  'type(5)',\n",
       "  'type(\"5\")',\n",
       "  'a = 42 # do not use short variable names over long chunks of code, it will hard to figure out what they mean\\ntype(a)',\n",
       "  'a = \"answer\"\\ntype(a)\\n# this means that in Python data types are dynamic - can be changed',\n",
       "  'type(my_name)',\n",
       "  'a=42\\nprint(type(a), type(42))',\n",
       "  'b=20\\nprint(b, id(b)) # id means some memory location(virtual)',\n",
       "  'c=200\\nprint(c, id(c))',\n",
       "  'pi = 3.1415926\\nprint(pi, type(pi))',\n",
       "  'result = 2+2\\nprint(result)',\n",
       "  'result = 2+pi\\nresult',\n",
       "  'type(result)',\n",
       "  '5+5*10',\n",
       "  'print(5+5*10)',\n",
       "  '10+56\\n5+5*10',\n",
       "  'print(10+56)\\nprint(5+5*10)',\n",
       "  'print(10+56)\\nprint(5+5*10)',\n",
       "  '10+56\\n5+5*10 # only shows the last line',\n",
       "  'type(result)',\n",
       "  'res2 = 30/2 # so 30/2 gives you what data type?\\nprint(res2, type(res2))',\n",
       "  '30//2 # this gives you whole part',\n",
       "  '7 / 2, 7 // 2',\n",
       "  '7 % 2',\n",
       "  '7%5 # so % gives you reminder, there is a tiny bit of difference modulo',\n",
       "  '7%2, 8%2, 9%2, 10%2, 11%2, 12%2 # so % 2 will let us determine if number is ?',\n",
       "  '535264264624 % 10 # this will give us ?',\n",
       "  '34344435%2',\n",
       "  '0.1+0.2 # floats are weird',\n",
       "  '0.1+0.2-0.3',\n",
       "  '0 == 0.1+0.2-0.3 # when we do comparision it will not equal',\n",
       "  'res = 0.1+0.2-0.3\\nres',\n",
       "  'res = round(res, 2)  # 2 digits after comma\\nres',\n",
       "  'pi',\n",
       "  'pi, round(pi), round(pi,2)',\n",
       "  '2**3 # this is 2 to the power of 3 , so 2 cubed',\n",
       "  '2**8 # importart computers',\n",
       "  '81**0.5 # so square root',\n",
       "  '2**32 # this is significant number for computer hardware',\n",
       "  '2**64 # think 64 bits will suffice?',\n",
       "  '2**3242 # python lets us use big numbers immediately',\n",
       "  '10**100 # Googol',\n",
       "  'c=b+a',\n",
       "  'a, b, c',\n",
       "  'd=b/a\\nprint(d, type(d))',\n",
       "  'e=b-a\\nprint(e, type(e))',\n",
       "  'f=b*e\\nf',\n",
       "  'a = 10\\nprint(a)',\n",
       "  'a = a + 5 # expression is evaluated right to left\\nprint(a)',\n",
       "  'a = a + 5 # expression is evaluated right to left\\nprint(a)',\n",
       "  'a += 6 # this means a = a + 6\\nprint(a)',\n",
       "  'a = a + 5 # expression is evaluated right to left\\nprint(a)',\n",
       "  'a = a + 5 # expression is evaluated right to left\\nprint(a)',\n",
       "  'a = a + 5 # expression is evaluated right to left\\nprint(a)',\n",
       "  'a = a + 5 # expression is evaluated right to left\\nprint(a)',\n",
       "  'a = a + 5 # expression is evaluated right to left\\nprint(a)',\n",
       "  'a = a + 5 # expression is evaluated right to left\\nprint(a)',\n",
       "  'a = a + 5 # expression is evaluated right to left\\nprint(a)',\n",
       "  'a = a + 5 # expression is evaluated right to left\\nprint(a)',\n",
       "  'a = a + 5 # expression is evaluated right to left\\nprint(a)',\n",
       "  'a = a + 5 # expression is evaluated right to left\\nprint(a)',\n",
       "  'a = a + 5 # expression is evaluated right to left\\nprint(a)',\n",
       "  'a = a + 5 # expression is evaluated right to left\\nprint(a)',\n",
       "  'a = a + 5 # expression is evaluated right to left\\nprint(a)',\n",
       "  'a = a + 5 # expression is evaluated right to left\\nprint(a)',\n",
       "  'a = a + 5 # expression is evaluated right to left\\nprint(a)',\n",
       "  'a = a + 5 # expression is evaluated right to left\\nprint(a)',\n",
       "  'a = a + 5 # expression is evaluated right to left\\nprint(a)',\n",
       "  'a = a + 5 # expression is evaluated right to left\\nprint(a)',\n",
       "  'a = a + 5 # expression is evaluated right to left\\nprint(a)',\n",
       "  'a = a + 5 # expression is evaluated right to left\\nprint(a)',\n",
       "  'a = a + 5 # expression is evaluated right to left\\nprint(a)',\n",
       "  'a += 6 # this means a = a + 6\\nprint(a)',\n",
       "  'a += 6 # shorthand means a = a + 6\\nprint(a)',\n",
       "  'a = a + 5 # expression is evaluated right to left\\nprint(a)',\n",
       "  'a += 6 # shorthand means a = a + 6\\nprint(a)',\n",
       "  'b',\n",
       "  'b+=50\\nb',\n",
       "  'b = b + a\\nb',\n",
       "  'vars()'],\n",
       " '_oh': {23: str,\n",
       "  24: int,\n",
       "  25: str,\n",
       "  26: int,\n",
       "  27: str,\n",
       "  28: str,\n",
       "  34: 5.1415926,\n",
       "  35: float,\n",
       "  36: 55,\n",
       "  38: 55,\n",
       "  41: 55,\n",
       "  42: float,\n",
       "  44: 15,\n",
       "  45: (3.5, 3),\n",
       "  46: 1,\n",
       "  47: 2,\n",
       "  48: (1, 0, 1, 0, 1, 0),\n",
       "  49: 4,\n",
       "  50: 1,\n",
       "  51: 0.30000000000000004,\n",
       "  52: 5.551115123125783e-17,\n",
       "  53: False,\n",
       "  54: 5.551115123125783e-17,\n",
       "  55: 0.0,\n",
       "  56: 3.1415926,\n",
       "  57: (3.1415926, 3, 3.14),\n",
       "  58: 8,\n",
       "  59: 256,\n",
       "  60: 9.0,\n",
       "  61: 4294967296,\n",
       "  62: 18446744073709551616,\n",
       "  63: 8694526642668158675939383389473345623963157818716993537942169888940326772047361958748816623049234678032233658041460026169763104602866921826819334951005465192974916749259779145806091604938672667360593734392697918231223508087869326609682808263084677711181011036760097221745670271824913505540895552136511105753880255909795697573245840056893245892073179510979246748063169140826693842048522697848236664386778686091257869743551213031607158566152634422160633382844449416616137985858162143852572116256078026709971654347633079887927256057840945394779200140837974032770377298380287085928804364399515666335722139964720996252417725862747688816045795707126425054985473385611718903740603680894096224557790767660583867206363284303599670951703306753356037331121171160872997396189901122009729299944673787118617652487453199704020165385920212065750108221533531913490388774742622184300111424606314693026377099943672490756892821659675387618261437304036816209606802510169219679309647679934749999104,\n",
       "  64: 10000000000000000000000000000000000000000000000000000000000000000000000000000000000000000000000000000,\n",
       "  66: (42, 20, 62),\n",
       "  69: -440,\n",
       "  99: 20,\n",
       "  100: 70,\n",
       "  101: 224},\n",
       " '_dh': ['C:\\\\Users\\\\liga\\\\Github\\\\Python_DIP720_RTU_Spring_2021\\\\core'],\n",
       " 'In': ['',\n",
       "  'print(\"Hello World!\")',\n",
       "  'print(\"hello Variables\")',\n",
       "  \"get_ipython().system('dir # this Jupyter Notebook specific we can give any system command ')\",\n",
       "  '# This is a comment\\nprint(\"This is printing\")\\n#print(\"This is not printing\")',\n",
       "  'my_name = \"Valdis\" # in python we need no special keyword for variables\\n# naming things is one of the hardest things in programming',\n",
       "  'print(\"My name is\", myname)',\n",
       "  'print(\"My name is\", my_name)',\n",
       "  'myname = \"Val\"',\n",
       "  'print(my_name, myname)',\n",
       "  'my_name = \"Voldemārs\"',\n",
       "  'print(my_name, myname)',\n",
       "  'my_name = \"Valdis\" # in python we need no special keyword for variables\\n# naming things is one of the hardest things in programming\\n# word_secondword_third is the preferred way of naming variables in Python per PEP 008 style guide',\n",
       "  'print(my_name, myname)',\n",
       "  'my_var = 6\\nprint(my_var) # snake syntax meaning _ syntax\\nmyVar = 50 # camelCase syntax common in Javascript other programming\\nprint(myVar) \\n# Recommendation is to keep one style for one project, one notebook',\n",
       "  'my_food = \"carrots\"\\nmy_other_food = myfood # this will be a mistake because myfood is not defined\\nmyfood = \"potatoes\"\\nprint(\"My favorite food is\", myfood, myotherfood)',\n",
       "  'my_food = \"carrots\"\\n# my_other_food = myfood # this will be a mistake because myfood is not defined\\nmy_other_food = my_food \\nmy_food = \"potatoes\"\\nprint(\"My favorite food is\", my_food, my_other_food)',\n",
       "  'my_food = \"carrots\"\\n# my_other_food = myfood # this will be a mistake because myfood is not defined\\nmy_other_food = my_food \\nmy_food = \"potatoes\"\\nprint(\"My favorite food is\", my_food, \"and\", my_other_food)',\n",
       "  'my_food = \"oats\"',\n",
       "  'my_food = \"blueberries\"',\n",
       "  'print(\"My favorite food is\", my_food, \"and\", my_other_food)',\n",
       "  'my_food = \"oats\"',\n",
       "  'print(\"My favorite food is\", my_food, \"and\", my_other_food)',\n",
       "  'type(my_food) # we can determine the data type',\n",
       "  'type(5)',\n",
       "  'type(\"5\")',\n",
       "  'a = 42 # do not use short variable names over long chunks of code, it will hard to figure out what they mean\\ntype(a)',\n",
       "  'a = \"answer\"\\ntype(a)\\n# this means that in Python data types are dynamic - can be changed',\n",
       "  'type(my_name)',\n",
       "  'a=42\\nprint(type(a), type(42))',\n",
       "  'b=20\\nprint(b, id(b)) # id means some memory location(virtual)',\n",
       "  'c=200\\nprint(c, id(c))',\n",
       "  'pi = 3.1415926\\nprint(pi, type(pi))',\n",
       "  'result = 2+2\\nprint(result)',\n",
       "  'result = 2+pi\\nresult',\n",
       "  'type(result)',\n",
       "  '5+5*10',\n",
       "  'print(5+5*10)',\n",
       "  '10+56\\n5+5*10',\n",
       "  'print(10+56)\\nprint(5+5*10)',\n",
       "  'print(10+56)\\nprint(5+5*10)',\n",
       "  '10+56\\n5+5*10 # only shows the last line',\n",
       "  'type(result)',\n",
       "  'res2 = 30/2 # so 30/2 gives you what data type?\\nprint(res2, type(res2))',\n",
       "  '30//2 # this gives you whole part',\n",
       "  '7 / 2, 7 // 2',\n",
       "  '7 % 2',\n",
       "  '7%5 # so % gives you reminder, there is a tiny bit of difference modulo',\n",
       "  '7%2, 8%2, 9%2, 10%2, 11%2, 12%2 # so % 2 will let us determine if number is ?',\n",
       "  '535264264624 % 10 # this will give us ?',\n",
       "  '34344435%2',\n",
       "  '0.1+0.2 # floats are weird',\n",
       "  '0.1+0.2-0.3',\n",
       "  '0 == 0.1+0.2-0.3 # when we do comparision it will not equal',\n",
       "  'res = 0.1+0.2-0.3\\nres',\n",
       "  'res = round(res, 2)  # 2 digits after comma\\nres',\n",
       "  'pi',\n",
       "  'pi, round(pi), round(pi,2)',\n",
       "  '2**3 # this is 2 to the power of 3 , so 2 cubed',\n",
       "  '2**8 # importart computers',\n",
       "  '81**0.5 # so square root',\n",
       "  '2**32 # this is significant number for computer hardware',\n",
       "  '2**64 # think 64 bits will suffice?',\n",
       "  '2**3242 # python lets us use big numbers immediately',\n",
       "  '10**100 # Googol',\n",
       "  'c=b+a',\n",
       "  'a, b, c',\n",
       "  'd=b/a\\nprint(d, type(d))',\n",
       "  'e=b-a\\nprint(e, type(e))',\n",
       "  'f=b*e\\nf',\n",
       "  'a = 10\\nprint(a)',\n",
       "  'a = a + 5 # expression is evaluated right to left\\nprint(a)',\n",
       "  'a = a + 5 # expression is evaluated right to left\\nprint(a)',\n",
       "  'a += 6 # this means a = a + 6\\nprint(a)',\n",
       "  'a = a + 5 # expression is evaluated right to left\\nprint(a)',\n",
       "  'a = a + 5 # expression is evaluated right to left\\nprint(a)',\n",
       "  'a = a + 5 # expression is evaluated right to left\\nprint(a)',\n",
       "  'a = a + 5 # expression is evaluated right to left\\nprint(a)',\n",
       "  'a = a + 5 # expression is evaluated right to left\\nprint(a)',\n",
       "  'a = a + 5 # expression is evaluated right to left\\nprint(a)',\n",
       "  'a = a + 5 # expression is evaluated right to left\\nprint(a)',\n",
       "  'a = a + 5 # expression is evaluated right to left\\nprint(a)',\n",
       "  'a = a + 5 # expression is evaluated right to left\\nprint(a)',\n",
       "  'a = a + 5 # expression is evaluated right to left\\nprint(a)',\n",
       "  'a = a + 5 # expression is evaluated right to left\\nprint(a)',\n",
       "  'a = a + 5 # expression is evaluated right to left\\nprint(a)',\n",
       "  'a = a + 5 # expression is evaluated right to left\\nprint(a)',\n",
       "  'a = a + 5 # expression is evaluated right to left\\nprint(a)',\n",
       "  'a = a + 5 # expression is evaluated right to left\\nprint(a)',\n",
       "  'a = a + 5 # expression is evaluated right to left\\nprint(a)',\n",
       "  'a = a + 5 # expression is evaluated right to left\\nprint(a)',\n",
       "  'a = a + 5 # expression is evaluated right to left\\nprint(a)',\n",
       "  'a = a + 5 # expression is evaluated right to left\\nprint(a)',\n",
       "  'a = a + 5 # expression is evaluated right to left\\nprint(a)',\n",
       "  'a = a + 5 # expression is evaluated right to left\\nprint(a)',\n",
       "  'a += 6 # this means a = a + 6\\nprint(a)',\n",
       "  'a += 6 # shorthand means a = a + 6\\nprint(a)',\n",
       "  'a = a + 5 # expression is evaluated right to left\\nprint(a)',\n",
       "  'a += 6 # shorthand means a = a + 6\\nprint(a)',\n",
       "  'b',\n",
       "  'b+=50\\nb',\n",
       "  'b = b + a\\nb',\n",
       "  'vars()'],\n",
       " 'Out': {23: str,\n",
       "  24: int,\n",
       "  25: str,\n",
       "  26: int,\n",
       "  27: str,\n",
       "  28: str,\n",
       "  34: 5.1415926,\n",
       "  35: float,\n",
       "  36: 55,\n",
       "  38: 55,\n",
       "  41: 55,\n",
       "  42: float,\n",
       "  44: 15,\n",
       "  45: (3.5, 3),\n",
       "  46: 1,\n",
       "  47: 2,\n",
       "  48: (1, 0, 1, 0, 1, 0),\n",
       "  49: 4,\n",
       "  50: 1,\n",
       "  51: 0.30000000000000004,\n",
       "  52: 5.551115123125783e-17,\n",
       "  53: False,\n",
       "  54: 5.551115123125783e-17,\n",
       "  55: 0.0,\n",
       "  56: 3.1415926,\n",
       "  57: (3.1415926, 3, 3.14),\n",
       "  58: 8,\n",
       "  59: 256,\n",
       "  60: 9.0,\n",
       "  61: 4294967296,\n",
       "  62: 18446744073709551616,\n",
       "  63: 8694526642668158675939383389473345623963157818716993537942169888940326772047361958748816623049234678032233658041460026169763104602866921826819334951005465192974916749259779145806091604938672667360593734392697918231223508087869326609682808263084677711181011036760097221745670271824913505540895552136511105753880255909795697573245840056893245892073179510979246748063169140826693842048522697848236664386778686091257869743551213031607158566152634422160633382844449416616137985858162143852572116256078026709971654347633079887927256057840945394779200140837974032770377298380287085928804364399515666335722139964720996252417725862747688816045795707126425054985473385611718903740603680894096224557790767660583867206363284303599670951703306753356037331121171160872997396189901122009729299944673787118617652487453199704020165385920212065750108221533531913490388774742622184300111424606314693026377099943672490756892821659675387618261437304036816209606802510169219679309647679934749999104,\n",
       "  64: 10000000000000000000000000000000000000000000000000000000000000000000000000000000000000000000000000000,\n",
       "  66: (42, 20, 62),\n",
       "  69: -440,\n",
       "  99: 20,\n",
       "  100: 70,\n",
       "  101: 224},\n",
       " 'get_ipython': <bound method InteractiveShell.get_ipython of <ipykernel.zmqshell.ZMQInteractiveShell object at 0x000001ADF2E1A100>>,\n",
       " 'exit': <IPython.core.autocall.ZMQExitAutocall at 0x1adf2ea5e20>,\n",
       " 'quit': <IPython.core.autocall.ZMQExitAutocall at 0x1adf2ea5e20>,\n",
       " '_': 224,\n",
       " '__': 70,\n",
       " '___': 20,\n",
       " '_i': 'b = b + a\\nb',\n",
       " '_ii': 'b+=50\\nb',\n",
       " '_iii': 'b',\n",
       " '_i1': 'print(\"Hello World!\")',\n",
       " '_i2': 'print(\"hello Variables\")',\n",
       " '_i3': '!dir # this Jupyter Notebook specific we can give any system command ',\n",
       " '_exit_code': 1,\n",
       " '_i4': '# This is a comment\\nprint(\"This is printing\")\\n#print(\"This is not printing\")',\n",
       " '_i5': 'my_name = \"Valdis\" # in python we need no special keyword for variables\\n# naming things is one of the hardest things in programming',\n",
       " 'my_name': 'Valdis',\n",
       " '_i6': 'print(\"My name is\", myname)',\n",
       " '_i7': 'print(\"My name is\", my_name)',\n",
       " '_i8': 'myname = \"Val\"',\n",
       " 'myname': 'Val',\n",
       " '_i9': 'print(my_name, myname)',\n",
       " '_i10': 'my_name = \"Voldemārs\"',\n",
       " '_i11': 'print(my_name, myname)',\n",
       " '_i12': 'my_name = \"Valdis\" # in python we need no special keyword for variables\\n# naming things is one of the hardest things in programming\\n# word_secondword_third is the preferred way of naming variables in Python per PEP 008 style guide',\n",
       " '_i13': 'print(my_name, myname)',\n",
       " '_i14': 'my_var = 6\\nprint(my_var) # snake syntax meaning _ syntax\\nmyVar = 50 # camelCase syntax common in Javascript other programming\\nprint(myVar) \\n# Recommendation is to keep one style for one project, one notebook',\n",
       " 'my_var': 6,\n",
       " 'myVar': 50,\n",
       " '_i15': 'my_food = \"carrots\"\\nmy_other_food = myfood # this will be a mistake because myfood is not defined\\nmyfood = \"potatoes\"\\nprint(\"My favorite food is\", myfood, myotherfood)',\n",
       " 'my_food': 'oats',\n",
       " '_i16': 'my_food = \"carrots\"\\n# my_other_food = myfood # this will be a mistake because myfood is not defined\\nmy_other_food = my_food \\nmy_food = \"potatoes\"\\nprint(\"My favorite food is\", my_food, my_other_food)',\n",
       " 'my_other_food': 'carrots',\n",
       " '_i17': 'my_food = \"carrots\"\\n# my_other_food = myfood # this will be a mistake because myfood is not defined\\nmy_other_food = my_food \\nmy_food = \"potatoes\"\\nprint(\"My favorite food is\", my_food, \"and\", my_other_food)',\n",
       " '_i18': 'my_food = \"oats\"',\n",
       " '_i19': 'my_food = \"blueberries\"',\n",
       " '_i20': 'print(\"My favorite food is\", my_food, \"and\", my_other_food)',\n",
       " '_i21': 'my_food = \"oats\"',\n",
       " '_i22': 'print(\"My favorite food is\", my_food, \"and\", my_other_food)',\n",
       " '_i23': 'type(my_food) # we can determine the data type',\n",
       " '_23': str,\n",
       " '_i24': 'type(5)',\n",
       " '_24': int,\n",
       " '_i25': 'type(\"5\")',\n",
       " '_25': str,\n",
       " '_i26': 'a = 42 # do not use short variable names over long chunks of code, it will hard to figure out what they mean\\ntype(a)',\n",
       " 'a': 154,\n",
       " '_26': int,\n",
       " '_i27': 'a = \"answer\"\\ntype(a)\\n# this means that in Python data types are dynamic - can be changed',\n",
       " '_27': str,\n",
       " '_i28': 'type(my_name)',\n",
       " '_28': str,\n",
       " '_i29': 'a=42\\nprint(type(a), type(42))',\n",
       " '_i30': 'b=20\\nprint(b, id(b)) # id means some memory location(virtual)',\n",
       " 'b': 224,\n",
       " '_i31': 'c=200\\nprint(c, id(c))',\n",
       " 'c': 62,\n",
       " '_i32': 'pi = 3.1415926\\nprint(pi, type(pi))',\n",
       " 'pi': 3.1415926,\n",
       " '_i33': 'result = 2+2\\nprint(result)',\n",
       " 'result': 5.1415926,\n",
       " '_i34': 'result = 2+pi\\nresult',\n",
       " '_34': 5.1415926,\n",
       " '_i35': 'type(result)',\n",
       " '_35': float,\n",
       " '_i36': '5+5*10',\n",
       " '_36': 55,\n",
       " '_i37': 'print(5+5*10)',\n",
       " '_i38': '10+56\\n5+5*10',\n",
       " '_38': 55,\n",
       " '_i39': 'print(10+56)\\nprint(5+5*10)',\n",
       " '_i40': 'print(10+56)\\nprint(5+5*10)',\n",
       " '_i41': '10+56\\n5+5*10 # only shows the last line',\n",
       " '_41': 55,\n",
       " '_i42': 'type(result)',\n",
       " '_42': float,\n",
       " '_i43': 'res2 = 30/2 # so 30/2 gives you what data type?\\nprint(res2, type(res2))',\n",
       " 'res2': 15.0,\n",
       " '_i44': '30//2 # this gives you whole part',\n",
       " '_44': 15,\n",
       " '_i45': '7 / 2, 7 // 2',\n",
       " '_45': (3.5, 3),\n",
       " '_i46': '7 % 2',\n",
       " '_46': 1,\n",
       " '_i47': '7%5 # so % gives you reminder, there is a tiny bit of difference modulo',\n",
       " '_47': 2,\n",
       " '_i48': '7%2, 8%2, 9%2, 10%2, 11%2, 12%2 # so % 2 will let us determine if number is ?',\n",
       " '_48': (1, 0, 1, 0, 1, 0),\n",
       " '_i49': '535264264624 % 10 # this will give us ?',\n",
       " '_49': 4,\n",
       " '_i50': '34344435%2',\n",
       " '_50': 1,\n",
       " '_i51': '0.1+0.2 # floats are weird',\n",
       " '_51': 0.30000000000000004,\n",
       " '_i52': '0.1+0.2-0.3',\n",
       " '_52': 5.551115123125783e-17,\n",
       " '_i53': '0 == 0.1+0.2-0.3 # when we do comparision it will not equal',\n",
       " '_53': False,\n",
       " '_i54': 'res = 0.1+0.2-0.3\\nres',\n",
       " 'res': 0.0,\n",
       " '_54': 5.551115123125783e-17,\n",
       " '_i55': 'res = round(res, 2)  # 2 digits after comma\\nres',\n",
       " '_55': 0.0,\n",
       " '_i56': 'pi',\n",
       " '_56': 3.1415926,\n",
       " '_i57': 'pi, round(pi), round(pi,2)',\n",
       " '_57': (3.1415926, 3, 3.14),\n",
       " '_i58': '2**3 # this is 2 to the power of 3 , so 2 cubed',\n",
       " '_58': 8,\n",
       " '_i59': '2**8 # importart computers',\n",
       " '_59': 256,\n",
       " '_i60': '81**0.5 # so square root',\n",
       " '_60': 9.0,\n",
       " '_i61': '2**32 # this is significant number for computer hardware',\n",
       " '_61': 4294967296,\n",
       " '_i62': '2**64 # think 64 bits will suffice?',\n",
       " '_62': 18446744073709551616,\n",
       " '_i63': '2**3242 # python lets us use big numbers immediately',\n",
       " '_63': 8694526642668158675939383389473345623963157818716993537942169888940326772047361958748816623049234678032233658041460026169763104602866921826819334951005465192974916749259779145806091604938672667360593734392697918231223508087869326609682808263084677711181011036760097221745670271824913505540895552136511105753880255909795697573245840056893245892073179510979246748063169140826693842048522697848236664386778686091257869743551213031607158566152634422160633382844449416616137985858162143852572116256078026709971654347633079887927256057840945394779200140837974032770377298380287085928804364399515666335722139964720996252417725862747688816045795707126425054985473385611718903740603680894096224557790767660583867206363284303599670951703306753356037331121171160872997396189901122009729299944673787118617652487453199704020165385920212065750108221533531913490388774742622184300111424606314693026377099943672490756892821659675387618261437304036816209606802510169219679309647679934749999104,\n",
       " '_i64': '10**100 # Googol',\n",
       " '_64': 10000000000000000000000000000000000000000000000000000000000000000000000000000000000000000000000000000,\n",
       " '_i65': 'c=b+a',\n",
       " '_i66': 'a, b, c',\n",
       " '_66': (42, 20, 62),\n",
       " '_i67': 'd=b/a\\nprint(d, type(d))',\n",
       " 'd': 0.47619047619047616,\n",
       " '_i68': 'e=b-a\\nprint(e, type(e))',\n",
       " 'e': -22,\n",
       " '_i69': 'f=b*e\\nf',\n",
       " 'f': -440,\n",
       " '_69': -440,\n",
       " '_i70': 'a = 10\\nprint(a)',\n",
       " '_i71': 'a = a + 5 # expression is evaluated right to left\\nprint(a)',\n",
       " '_i72': 'a = a + 5 # expression is evaluated right to left\\nprint(a)',\n",
       " '_i73': 'a += 6 # this means a = a + 6\\nprint(a)',\n",
       " '_i74': 'a = a + 5 # expression is evaluated right to left\\nprint(a)',\n",
       " '_i75': 'a = a + 5 # expression is evaluated right to left\\nprint(a)',\n",
       " '_i76': 'a = a + 5 # expression is evaluated right to left\\nprint(a)',\n",
       " '_i77': 'a = a + 5 # expression is evaluated right to left\\nprint(a)',\n",
       " '_i78': 'a = a + 5 # expression is evaluated right to left\\nprint(a)',\n",
       " '_i79': 'a = a + 5 # expression is evaluated right to left\\nprint(a)',\n",
       " '_i80': 'a = a + 5 # expression is evaluated right to left\\nprint(a)',\n",
       " '_i81': 'a = a + 5 # expression is evaluated right to left\\nprint(a)',\n",
       " '_i82': 'a = a + 5 # expression is evaluated right to left\\nprint(a)',\n",
       " '_i83': 'a = a + 5 # expression is evaluated right to left\\nprint(a)',\n",
       " '_i84': 'a = a + 5 # expression is evaluated right to left\\nprint(a)',\n",
       " '_i85': 'a = a + 5 # expression is evaluated right to left\\nprint(a)',\n",
       " '_i86': 'a = a + 5 # expression is evaluated right to left\\nprint(a)',\n",
       " '_i87': 'a = a + 5 # expression is evaluated right to left\\nprint(a)',\n",
       " '_i88': 'a = a + 5 # expression is evaluated right to left\\nprint(a)',\n",
       " '_i89': 'a = a + 5 # expression is evaluated right to left\\nprint(a)',\n",
       " '_i90': 'a = a + 5 # expression is evaluated right to left\\nprint(a)',\n",
       " '_i91': 'a = a + 5 # expression is evaluated right to left\\nprint(a)',\n",
       " '_i92': 'a = a + 5 # expression is evaluated right to left\\nprint(a)',\n",
       " '_i93': 'a = a + 5 # expression is evaluated right to left\\nprint(a)',\n",
       " '_i94': 'a = a + 5 # expression is evaluated right to left\\nprint(a)',\n",
       " '_i95': 'a += 6 # this means a = a + 6\\nprint(a)',\n",
       " '_i96': 'a += 6 # shorthand means a = a + 6\\nprint(a)',\n",
       " '_i97': 'a = a + 5 # expression is evaluated right to left\\nprint(a)',\n",
       " '_i98': 'a += 6 # shorthand means a = a + 6\\nprint(a)',\n",
       " '_i99': 'b',\n",
       " '_99': 20,\n",
       " '_i100': 'b+=50\\nb',\n",
       " '_100': 70,\n",
       " '_i101': 'b = b + a\\nb',\n",
       " '_101': 224,\n",
       " '_i102': 'vars()'}"
      ]
     },
     "execution_count": 102,
     "metadata": {},
     "output_type": "execute_result"
    }
   ],
   "source": [
    "vars()"
   ]
  },
  {
   "cell_type": "code",
   "execution_count": 103,
   "metadata": {},
   "outputs": [
    {
     "data": {
      "text/plain": [
       "(154, 224, 62)"
      ]
     },
     "execution_count": 103,
     "metadata": {},
     "output_type": "execute_result"
    }
   ],
   "source": [
    "a,b,c"
   ]
  },
  {
   "cell_type": "code",
   "execution_count": 104,
   "metadata": {},
   "outputs": [
    {
     "ename": "NameError",
     "evalue": "name 'x' is not defined",
     "output_type": "error",
     "traceback": [
      "\u001b[1;31m---------------------------------------------------------------------------\u001b[0m",
      "\u001b[1;31mNameError\u001b[0m                                 Traceback (most recent call last)",
      "\u001b[1;32m<ipython-input-104-7751416326de>\u001b[0m in \u001b[0;36m<module>\u001b[1;34m\u001b[0m\n\u001b[1;32m----> 1\u001b[1;33m \u001b[0mx\u001b[0m\u001b[1;33m,\u001b[0m\u001b[0my\u001b[0m\u001b[1;33m,\u001b[0m\u001b[0mz\u001b[0m\u001b[1;33m\u001b[0m\u001b[1;33m\u001b[0m\u001b[0m\n\u001b[0m",
      "\u001b[1;31mNameError\u001b[0m: name 'x' is not defined"
     ]
    }
   ],
   "source": [
    "x,y,z"
   ]
  },
  {
   "cell_type": "code",
   "execution_count": 106,
   "metadata": {},
   "outputs": [
    {
     "data": {
      "text/plain": [
       "'Valdis Saulespurēns'"
      ]
     },
     "execution_count": 106,
     "metadata": {},
     "output_type": "execute_result"
    }
   ],
   "source": [
    "my_long_name = \"Valdis Saulespurēns\"\n",
    "my_long_name"
   ]
  },
  {
   "cell_type": "code",
   "execution_count": 107,
   "metadata": {},
   "outputs": [
    {
     "data": {
      "text/plain": [
       "'Valdis'"
      ]
     },
     "execution_count": 107,
     "metadata": {},
     "output_type": "execute_result"
    }
   ],
   "source": [
    "my_name"
   ]
  },
  {
   "cell_type": "markdown",
   "metadata": {},
   "source": [
    "## id(object)\n",
    "\n",
    "Return the “identity” of an object. \n",
    "\n",
    "This is an integer which is guaranteed to be unique and constant for this object during its lifetime. \n",
    "Two objects with non-overlapping lifetimes may have the same id() value.\n",
    "\n",
    "#### CPython implementation detail: This is the address of the object in memory."
   ]
  },
  {
   "cell_type": "code",
   "execution_count": null,
   "metadata": {},
   "outputs": [],
   "source": [
    "b+=22 # shortcut operator to add to existing value of a variable b = b + 22\n",
    "# += /= -= *=\n",
    "print(b)"
   ]
  },
  {
   "cell_type": "code",
   "execution_count": null,
   "metadata": {},
   "outputs": [],
   "source": [
    "id(a),id(b),id(42),id(3),id(4),id(5),id(5000),id(5001),id(5002) # notice how ids are incremented!"
   ]
  },
  {
   "cell_type": "code",
   "execution_count": null,
   "metadata": {},
   "outputs": [],
   "source": [
    "id(6)"
   ]
  },
  {
   "cell_type": "code",
   "execution_count": null,
   "metadata": {},
   "outputs": [],
   "source": [
    "id(-1),id(0),id(1)"
   ]
  },
  {
   "cell_type": "code",
   "execution_count": null,
   "metadata": {},
   "outputs": [],
   "source": [
    "id(7)\n",
    "id(-6),id(-5),id(-4)"
   ]
  },
  {
   "cell_type": "code",
   "execution_count": null,
   "metadata": {
    "scrolled": true
   },
   "outputs": [],
   "source": [
    "a is b"
   ]
  },
  {
   "cell_type": "code",
   "execution_count": null,
   "metadata": {},
   "outputs": [],
   "source": [
    "second_name = \"Valdis\"\n",
    "name = \"Valdis\"\n",
    "print(name, second_name)"
   ]
  },
  {
   "cell_type": "code",
   "execution_count": null,
   "metadata": {},
   "outputs": [],
   "source": [
    "print(id(name), id(second_name))"
   ]
  },
  {
   "cell_type": "markdown",
   "metadata": {},
   "source": [
    "## Floating Point "
   ]
  },
  {
   "cell_type": "code",
   "execution_count": null,
   "metadata": {},
   "outputs": [],
   "source": [
    "4/5 + 2/3 + 1/7"
   ]
  },
  {
   "cell_type": "code",
   "execution_count": null,
   "metadata": {},
   "outputs": [],
   "source": [
    "0.1+0.2+0.3-0.6\n",
    "# More on floating point https://docs.python.org/2/tutorial/floatingpoint.html"
   ]
  },
  {
   "cell_type": "markdown",
   "metadata": {},
   "source": [
    "## Strings\n",
    "* immutable"
   ]
  },
  {
   "cell_type": "code",
   "execution_count": 109,
   "metadata": {
    "scrolled": true
   },
   "outputs": [
    {
     "name": "stdout",
     "output_type": "stream",
     "text": [
      "Valdis\n"
     ]
    }
   ],
   "source": [
    "name = \"Valdis\"\n",
    "print(name)"
   ]
  },
  {
   "cell_type": "code",
   "execution_count": null,
   "metadata": {},
   "outputs": [],
   "source": [
    "# this is a comment meaning for us humans, not for computer :)"
   ]
  },
  {
   "cell_type": "code",
   "execution_count": 110,
   "metadata": {},
   "outputs": [
    {
     "data": {
      "text/plain": [
       "6"
      ]
     },
     "execution_count": 110,
     "metadata": {},
     "output_type": "execute_result"
    }
   ],
   "source": [
    "len(name) # length of string which name variable points to"
   ]
  },
  {
   "cell_type": "code",
   "execution_count": 111,
   "metadata": {},
   "outputs": [
    {
     "data": {
      "text/plain": [
       "4"
      ]
     },
     "execution_count": 111,
     "metadata": {},
     "output_type": "execute_result"
    }
   ],
   "source": [
    "len(\"name\") # so \"name\" is just some text - string literal"
   ]
  },
  {
   "cell_type": "markdown",
   "metadata": {},
   "source": [
    "### Slicing Notation\n",
    "![Slice](https://i.stack.imgur.com/IVkET.jpg)\n",
    "* hot linking can be dangerous if you are taking image where you are not supposed to somebody can put something rude on that image"
   ]
  },
  {
   "cell_type": "code",
   "execution_count": 112,
   "metadata": {},
   "outputs": [
    {
     "data": {
      "text/plain": [
       "('Valdis', 'V')"
      ]
     },
     "execution_count": 112,
     "metadata": {},
     "output_type": "execute_result"
    }
   ],
   "source": [
    "name, name[0] \n",
    "# notice index starts with 0! most programming languages start with 0"
   ]
  },
  {
   "cell_type": "code",
   "execution_count": 113,
   "metadata": {},
   "outputs": [
    {
     "data": {
      "text/plain": [
       "('Val', 'Val')"
      ]
     },
     "execution_count": 113,
     "metadata": {},
     "output_type": "execute_result"
    }
   ],
   "source": [
    "name[0:3], name[:3] # [:3] is shorthand for [0:3]"
   ]
  },
  {
   "cell_type": "code",
   "execution_count": 114,
   "metadata": {},
   "outputs": [
    {
     "data": {
      "text/plain": [
       "('s', 's')"
      ]
     },
     "execution_count": 114,
     "metadata": {},
     "output_type": "execute_result"
    }
   ],
   "source": [
    "name[5], name[-1] # can also count from the other side so -1 will be last character"
   ]
  },
  {
   "cell_type": "code",
   "execution_count": 115,
   "metadata": {},
   "outputs": [
    {
     "data": {
      "text/plain": [
       "'l'"
      ]
     },
     "execution_count": 115,
     "metadata": {},
     "output_type": "execute_result"
    }
   ],
   "source": [
    "name[2] # so 3rd letter will have index of 2 since we start at 0"
   ]
  },
  {
   "cell_type": "code",
   "execution_count": null,
   "metadata": {},
   "outputs": [],
   "source": [
    "name, name[5],name[-1],name[-2]"
   ]
  },
  {
   "cell_type": "code",
   "execution_count": 117,
   "metadata": {},
   "outputs": [
    {
     "data": {
      "text/plain": [
       "('Val', 'Val')"
      ]
     },
     "execution_count": 117,
     "metadata": {},
     "output_type": "execute_result"
    }
   ],
   "source": [
    "name[0:3], name[:3] # so [:index] will go until that index from 0"
   ]
  },
  {
   "cell_type": "code",
   "execution_count": null,
   "metadata": {},
   "outputs": [],
   "source": [
    "name[:4]"
   ]
  },
  {
   "cell_type": "code",
   "execution_count": 116,
   "metadata": {},
   "outputs": [
    {
     "data": {
      "text/plain": [
       "'ald'"
      ]
     },
     "execution_count": 116,
     "metadata": {},
     "output_type": "execute_result"
    }
   ],
   "source": [
    "name[1:4] # so I skip the 0 character"
   ]
  },
  {
   "cell_type": "code",
   "execution_count": 118,
   "metadata": {},
   "outputs": [
    {
     "data": {
      "text/plain": [
       "('d', 'd')"
      ]
     },
     "execution_count": 118,
     "metadata": {},
     "output_type": "execute_result"
    }
   ],
   "source": [
    "name[-3], name[3]"
   ]
  },
  {
   "cell_type": "code",
   "execution_count": 119,
   "metadata": {},
   "outputs": [
    {
     "data": {
      "text/plain": [
       "'Valdis'"
      ]
     },
     "execution_count": 119,
     "metadata": {},
     "output_type": "execute_result"
    }
   ],
   "source": [
    "name[0:6:1] # this is actually the full syntax of slice\n"
   ]
  },
  {
   "cell_type": "code",
   "execution_count": 120,
   "metadata": {},
   "outputs": [
    {
     "data": {
      "text/plain": [
       "'Valdis'"
      ]
     },
     "execution_count": 120,
     "metadata": {},
     "output_type": "execute_result"
    }
   ],
   "source": [
    "name[::1]"
   ]
  },
  {
   "cell_type": "code",
   "execution_count": 121,
   "metadata": {},
   "outputs": [
    {
     "data": {
      "text/plain": [
       "('Valdis', 'ads')"
      ]
     },
     "execution_count": 121,
     "metadata": {},
     "output_type": "execute_result"
    }
   ],
   "source": [
    "name, name[1:6:2]"
   ]
  },
  {
   "cell_type": "code",
   "execution_count": 122,
   "metadata": {},
   "outputs": [
    {
     "data": {
      "text/plain": [
       "('Valdis', 'Vli')"
      ]
     },
     "execution_count": 122,
     "metadata": {},
     "output_type": "execute_result"
    }
   ],
   "source": [
    "name, name[::2]"
   ]
  },
  {
   "cell_type": "code",
   "execution_count": 123,
   "metadata": {},
   "outputs": [
    {
     "data": {
      "text/plain": [
       "('Valdis', 'sidlaV')"
      ]
     },
     "execution_count": 123,
     "metadata": {},
     "output_type": "execute_result"
    }
   ],
   "source": [
    "# Python way of reversing a string\n",
    "name, name[::-1] # so we step backwards by -1 step"
   ]
  },
  {
   "cell_type": "code",
   "execution_count": null,
   "metadata": {},
   "outputs": [],
   "source": [
    "name_rev = name[::-1]\n",
    "name_rev"
   ]
  },
  {
   "cell_type": "code",
   "execution_count": null,
   "metadata": {},
   "outputs": [],
   "source": [
    "name[5:2:-1]"
   ]
  },
  {
   "cell_type": "code",
   "execution_count": 124,
   "metadata": {},
   "outputs": [
    {
     "ename": "TypeError",
     "evalue": "'str' object does not support item assignment",
     "output_type": "error",
     "traceback": [
      "\u001b[1;31m---------------------------------------------------------------------------\u001b[0m",
      "\u001b[1;31mTypeError\u001b[0m                                 Traceback (most recent call last)",
      "\u001b[1;32m<ipython-input-124-d381e8475c3e>\u001b[0m in \u001b[0;36m<module>\u001b[1;34m\u001b[0m\n\u001b[1;32m----> 1\u001b[1;33m \u001b[0mname\u001b[0m\u001b[1;33m[\u001b[0m\u001b[1;36m3\u001b[0m\u001b[1;33m]\u001b[0m\u001b[1;33m=\u001b[0m\u001b[1;34m'b'\u001b[0m\u001b[1;33m\u001b[0m\u001b[1;33m\u001b[0m\u001b[0m\n\u001b[0m\u001b[0;32m      2\u001b[0m \u001b[1;31m# string are immutable you are not supposed to change strings\u001b[0m\u001b[1;33m\u001b[0m\u001b[1;33m\u001b[0m\u001b[1;33m\u001b[0m\u001b[0m\n",
      "\u001b[1;31mTypeError\u001b[0m: 'str' object does not support item assignment"
     ]
    }
   ],
   "source": [
    "# name[3]='b' \n",
    "# string are immutable you are not supposed to change strings"
   ]
  },
  {
   "cell_type": "code",
   "execution_count": 125,
   "metadata": {},
   "outputs": [
    {
     "name": "stdout",
     "output_type": "stream",
     "text": [
      "ValDis\n"
     ]
    }
   ],
   "source": [
    "#name[3]=\"b\" # You can in fact make new strings\n",
    "name=name[:3]+\"D\"+name[4:] # so we rewrite reference to old string\n",
    "print(name)"
   ]
  },
  {
   "cell_type": "code",
   "execution_count": 126,
   "metadata": {},
   "outputs": [
    {
     "data": {
      "text/plain": [
       "'ValDys'"
      ]
     },
     "execution_count": 126,
     "metadata": {},
     "output_type": "execute_result"
    }
   ],
   "source": [
    "name = name.replace(\"i\", \"y\")\n",
    "name"
   ]
  },
  {
   "cell_type": "code",
   "execution_count": null,
   "metadata": {},
   "outputs": [],
   "source": [
    "n2=name[:]\n",
    "print(n2)\n",
    "print(id(n2),id(name))\n",
    "print(name[:])"
   ]
  },
  {
   "cell_type": "code",
   "execution_count": null,
   "metadata": {},
   "outputs": [],
   "source": [
    "name = \"Voldemars\"\n",
    "print(n,n2,name)"
   ]
  },
  {
   "cell_type": "code",
   "execution_count": null,
   "metadata": {},
   "outputs": [],
   "source": [
    "n2 = \"Something\""
   ]
  },
  {
   "cell_type": "code",
   "execution_count": null,
   "metadata": {},
   "outputs": [],
   "source": []
  },
  {
   "cell_type": "code",
   "execution_count": null,
   "metadata": {},
   "outputs": [],
   "source": [
    "name=name[::-1]\n",
    "print(name)"
   ]
  },
  {
   "cell_type": "code",
   "execution_count": null,
   "metadata": {},
   "outputs": [],
   "source": []
  },
  {
   "cell_type": "code",
   "execution_count": 127,
   "metadata": {
    "scrolled": true
   },
   "outputs": [
    {
     "name": "stdout",
     "output_type": "stream",
     "text": [
      "Really\n",
      "Long\n",
      "And\n",
      "Boring\n",
      "String\n"
     ]
    }
   ],
   "source": [
    "multi_string = \"\"\"Really\n",
    "Long\n",
    "And\n",
    "Boring\n",
    "String\"\"\"\n",
    "print(multi_string)"
   ]
  },
  {
   "cell_type": "code",
   "execution_count": 129,
   "metadata": {},
   "outputs": [
    {
     "name": "stdout",
     "output_type": "stream",
     "text": [
      " Alice talked to the rabbit:\n",
      "    \"Go down the hole!\"\n",
      "    I can use other special character \n",
      "\n",
      "\n"
     ]
    }
   ],
   "source": [
    "big_string = \"\"\" Alice talked to the rabbit:\n",
    "    \"Go down the hole!\"\n",
    "    I can use other special character \n",
    "\n",
    "\"\"\"\n",
    "print(big_string)"
   ]
  },
  {
   "cell_type": "code",
   "execution_count": 130,
   "metadata": {},
   "outputs": [
    {
     "ename": "TypeError",
     "evalue": "can only concatenate str (not \"int\") to str",
     "output_type": "error",
     "traceback": [
      "\u001b[1;31m---------------------------------------------------------------------------\u001b[0m",
      "\u001b[1;31mTypeError\u001b[0m                                 Traceback (most recent call last)",
      "\u001b[1;32m<ipython-input-130-7389cc4a7440>\u001b[0m in \u001b[0;36m<module>\u001b[1;34m\u001b[0m\n\u001b[1;32m----> 1\u001b[1;33m \u001b[0mt\u001b[0m \u001b[1;33m=\u001b[0m \u001b[1;34m\"Talk \"\u001b[0m \u001b[1;33m+\u001b[0m \u001b[1;36m10\u001b[0m \u001b[1;31m# Python is strongly typed so this will not work!\u001b[0m\u001b[1;33m\u001b[0m\u001b[1;33m\u001b[0m\u001b[0m\n\u001b[0m\u001b[0;32m      2\u001b[0m \u001b[0mprint\u001b[0m\u001b[1;33m(\u001b[0m\u001b[0mt\u001b[0m\u001b[1;33m)\u001b[0m\u001b[1;33m\u001b[0m\u001b[1;33m\u001b[0m\u001b[0m\n",
      "\u001b[1;31mTypeError\u001b[0m: can only concatenate str (not \"int\") to str"
     ]
    }
   ],
   "source": [
    "t = \"Talk \" + 10 # Python is strongly typed so this will not work!\n",
    "print(t)"
   ]
  },
  {
   "cell_type": "code",
   "execution_count": 131,
   "metadata": {},
   "outputs": [
    {
     "data": {
      "text/plain": [
       "'555'"
      ]
     },
     "execution_count": 131,
     "metadata": {},
     "output_type": "execute_result"
    }
   ],
   "source": [
    "str(555)"
   ]
  },
  {
   "cell_type": "code",
   "execution_count": 132,
   "metadata": {},
   "outputs": [
    {
     "name": "stdout",
     "output_type": "stream",
     "text": [
      "Talk 10\n"
     ]
    }
   ],
   "source": [
    "t = \"Talk \" + str(10) # Python is strongly typed so this will not work!\n",
    "print(t)"
   ]
  },
  {
   "cell_type": "markdown",
   "metadata": {},
   "source": [
    "## F-strings formatted strings in Python since 3.6 a few hours now"
   ]
  },
  {
   "cell_type": "code",
   "execution_count": 133,
   "metadata": {},
   "outputs": [
    {
     "data": {
      "text/plain": [
       "'Talk 154 224 62 ValDys and so on'"
      ]
     },
     "execution_count": 133,
     "metadata": {},
     "output_type": "execute_result"
    }
   ],
   "source": [
    "my_talk = f\"Talk {a} {b} {c} {name} and so on\" # f-strings\n",
    "my_talk"
   ]
  },
  {
   "cell_type": "code",
   "execution_count": 134,
   "metadata": {},
   "outputs": [
    {
     "name": "stdout",
     "output_type": "stream",
     "text": [
      "Hello there ValDys! \n"
     ]
    }
   ],
   "source": [
    "print(f\"Hello there {name}! \")"
   ]
  },
  {
   "cell_type": "code",
   "execution_count": 136,
   "metadata": {},
   "outputs": [
    {
     "name": "stdout",
     "output_type": "stream",
     "text": [
      "What is your name friend?Bob\n",
      "Wow Bob that is a nice name!\n"
     ]
    }
   ],
   "source": [
    "new_name = input(\"What is your name friend?\") # input gives out str allows for interaction\n",
    "print(f\"Wow {new_name} that is a nice name!\")"
   ]
  },
  {
   "cell_type": "code",
   "execution_count": 137,
   "metadata": {},
   "outputs": [
    {
     "name": "stdout",
     "output_type": "stream",
     "text": [
      "Enter a number434234\n",
      "434234 <class 'int'>\n"
     ]
    }
   ],
   "source": [
    "new_num = input(\"Enter a number\")\n",
    "new_num = int(new_num) # we trust user is giving us number, we cast to number\n",
    "print(new_num, type(new_num))"
   ]
  },
  {
   "cell_type": "code",
   "execution_count": null,
   "metadata": {},
   "outputs": [],
   "source": [
    "id('25'),id(25)"
   ]
  },
  {
   "cell_type": "code",
   "execution_count": null,
   "metadata": {},
   "outputs": [],
   "source": [
    "int('345')"
   ]
  },
  {
   "cell_type": "code",
   "execution_count": null,
   "metadata": {},
   "outputs": [],
   "source": [
    "?str"
   ]
  },
  {
   "cell_type": "code",
   "execution_count": null,
   "metadata": {},
   "outputs": [],
   "source": [
    "# Automatic string concatenation without +\n",
    "funny_string = ('Monty '\n",
    "'Python ' \n",
    "'Spam '*5)\n",
    "print(funny_string)\n",
    "# Notice that string multiplication happens after concatenation"
   ]
  },
  {
   "cell_type": "code",
   "execution_count": null,
   "metadata": {},
   "outputs": [],
   "source": [
    "print(\"It's \\ta \\\"wonderful\\\" \\nlife\")"
   ]
  },
  {
   "cell_type": "code",
   "execution_count": null,
   "metadata": {},
   "outputs": [],
   "source": [
    "print('Really really long line\\"
   ]
  },
  {
   "cell_type": "code",
   "execution_count": null,
   "metadata": {},
   "outputs": [],
   "source": []
  },
  {
   "cell_type": "markdown",
   "metadata": {},
   "source": [
    "## Fstrings (new since Python 3.6)\n",
    "* faster way to format strings\n",
    "* can use variables in current scope\n",
    "* same idea as .format() but faster and easier to read"
   ]
  },
  {
   "cell_type": "code",
   "execution_count": null,
   "metadata": {},
   "outputs": [],
   "source": []
  },
  {
   "cell_type": "code",
   "execution_count": 138,
   "metadata": {},
   "outputs": [
    {
     "name": "stdout",
     "output_type": "stream",
     "text": [
      "Today is 8th of June which is Tuesday. Nice June isn't it ? \n"
     ]
    }
   ],
   "source": [
    "weekday=\"Tuesday\"\n",
    "month=\"June\"\n",
    "day=8\n",
    "greeting = f'Today is {day}th of {month} which is {weekday}. Nice {month} isn\\'t it ? '\n",
    "print(greeting)\n",
    "#nicer than format method"
   ]
  },
  {
   "cell_type": "code",
   "execution_count": null,
   "metadata": {},
   "outputs": [],
   "source": [
    "seconds=345.24556\n",
    "width=22 # how much space our formatted value should take up\n",
    "precision=8 # how many digits to use\n",
    "print(f'Elapsed {seconds} seconds since start of new era')\n",
    "print(f'Elapsed {seconds:{12}.{precision}} seconds since start of new era')\n",
    "print(f'Elapsed {seconds:{7}.{5}} seconds since start of new era')\n",
    "print(f'Number {5556.2222:{12}.{6}}')"
   ]
  },
  {
   "cell_type": "code",
   "execution_count": null,
   "metadata": {},
   "outputs": [],
   "source": [
    "greeting[10:33:1]"
   ]
  },
  {
   "cell_type": "markdown",
   "metadata": {},
   "source": [
    "### Python 3.X strings are Unicode by default no more 'u prefixes"
   ]
  },
  {
   "cell_type": "markdown",
   "metadata": {},
   "source": [
    "## String Exercise: \n",
    "* Assign your favorite food to variable of your choosing\n",
    "* Output 3rd letter of your favorite\n",
    "* Output first 2 letters of your favorite\n",
    "* Output last 3 letters of your favorite\n",
    "* Output reverse of your favorite\n",
    "* Output every 2nd character of your favorite in reverse\n"
   ]
  },
  {
   "cell_type": "code",
   "execution_count": null,
   "metadata": {},
   "outputs": [],
   "source": [
    "food = \"\""
   ]
  }
 ],
 "metadata": {
  "kernelspec": {
   "display_name": "Python 3",
   "language": "python",
   "name": "python3"
  },
  "language_info": {
   "codemirror_mode": {
    "name": "ipython",
    "version": 3
   },
   "file_extension": ".py",
   "mimetype": "text/x-python",
   "name": "python",
   "nbconvert_exporter": "python",
   "pygments_lexer": "ipython3",
   "version": "3.8.3"
  }
 },
 "nbformat": 4,
 "nbformat_minor": 2
}
