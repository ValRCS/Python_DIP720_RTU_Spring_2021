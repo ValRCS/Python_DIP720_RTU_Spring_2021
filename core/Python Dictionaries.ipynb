{
 "cells": [
  {
   "cell_type": "markdown",
   "metadata": {},
   "source": [
    "# Python Dictionaries\n"
   ]
  },
  {
   "cell_type": "markdown",
   "metadata": {},
   "source": [
    "## Dictionaries\n",
    "\n",
    "* Collection of Key - Value pairs\n",
    "* also known as associative array\n",
    "* also known as map\n",
    "* HashMap is another alias\n",
    "* unordered\n",
    "* the order of insertion is preserved in Python since 3.6+\n",
    "* keys unique in one dictionary\n",
    "* dictionaries can be nested (could have lists inside, dictionaries, and of course primitives such as strings)\n",
    "* storing, extracting\n"
   ]
  },
  {
   "cell_type": "code",
   "execution_count": 5,
   "metadata": {},
   "outputs": [
    {
     "data": {
      "text/plain": [
       "0"
      ]
     },
     "execution_count": 5,
     "metadata": {},
     "output_type": "execute_result"
    }
   ],
   "source": [
    "emptyd = {} #shortest using curly braces\n",
    "len(emptyd)"
   ]
  },
  {
   "cell_type": "code",
   "execution_count": 2,
   "metadata": {},
   "outputs": [
    {
     "data": {
      "text/plain": [
       "dict"
      ]
     },
     "execution_count": 2,
     "metadata": {},
     "output_type": "execute_result"
    }
   ],
   "source": [
    "type(emptyd)"
   ]
  },
  {
   "cell_type": "code",
   "execution_count": 4,
   "metadata": {},
   "outputs": [
    {
     "data": {
      "text/plain": [
       "{}"
      ]
     },
     "execution_count": 4,
     "metadata": {},
     "output_type": "execute_result"
    }
   ],
   "source": [
    "emptyd"
   ]
  },
  {
   "cell_type": "code",
   "execution_count": 3,
   "metadata": {},
   "outputs": [
    {
     "data": {
      "text/plain": [
       "{}"
      ]
     },
     "execution_count": 3,
     "metadata": {},
     "output_type": "execute_result"
    }
   ],
   "source": [
    "empty_dict_2 = dict() # alternative syntax\n",
    "empty_dict_2"
   ]
  },
  {
   "cell_type": "code",
   "execution_count": 7,
   "metadata": {},
   "outputs": [
    {
     "name": "stdout",
     "output_type": "stream",
     "text": [
      "{'jack': 4098, 'sape': 4139}\n"
     ]
    }
   ],
   "source": [
    "tel = {'jack': 4098, 'sape': 4139} # so  { key: value, key2:value2, and so on}\n",
    "# there is no string requirement for values to be of same type\n",
    "print(tel)"
   ]
  },
  {
   "cell_type": "code",
   "execution_count": 9,
   "metadata": {},
   "outputs": [
    {
     "name": "stdout",
     "output_type": "stream",
     "text": [
      "{'jack': 9000, 'sape': 4139}\n"
     ]
    }
   ],
   "source": [
    "# so what can be keys ? what happens if we add second identical key\n",
    "tel = {'jack': 4098, 'sape': 4139, 'jack': 9000}\n",
    "# here i am overwriting old tel with new tel dictionary\n",
    "# you generally should not do this, keys should be unique\n",
    "print(tel)"
   ]
  },
  {
   "cell_type": "code",
   "execution_count": 10,
   "metadata": {},
   "outputs": [
    {
     "name": "stdout",
     "output_type": "stream",
     "text": [
      "dict_keys(['jack', 'sape', 'guido'])\n",
      "dict_values([9000, 4139, 4127])\n"
     ]
    }
   ],
   "source": [
    "# add a new key-value pair\n",
    "tel['guido'] = 4127\n",
    "print(tel.keys())\n",
    "print(tel.values())"
   ]
  },
  {
   "cell_type": "code",
   "execution_count": 12,
   "metadata": {},
   "outputs": [
    {
     "data": {
      "text/plain": [
       "{'jack': 9000, 'sape': 4139, 'guido': 4127, 'valdis': 4127}"
      ]
     },
     "execution_count": 12,
     "metadata": {},
     "output_type": "execute_result"
    }
   ],
   "source": [
    "# add key 'valdis' with value 4127 to our tel dictionary\n",
    "tel['valdis'] = 4127\n",
    "tel # so values can be same"
   ]
  },
  {
   "cell_type": "code",
   "execution_count": 13,
   "metadata": {},
   "outputs": [
    {
     "data": {
      "text/plain": [
       "{'jack': 9000, 'sape': 4139, 'guido': 4127, 'valdis': 4127, 'Valdis': 4127}"
      ]
     },
     "execution_count": 13,
     "metadata": {},
     "output_type": "execute_result"
    }
   ],
   "source": [
    "tel['Valdis'] = 4127 # so key Valdis is different from key valdis\n",
    "tel"
   ]
  },
  {
   "cell_type": "code",
   "execution_count": 14,
   "metadata": {},
   "outputs": [
    {
     "data": {
      "text/plain": [
       "4127"
      ]
     },
     "execution_count": 14,
     "metadata": {},
     "output_type": "execute_result"
    }
   ],
   "source": [
    "tel['Valdis']"
   ]
  },
  {
   "cell_type": "code",
   "execution_count": 15,
   "metadata": {},
   "outputs": [
    {
     "ename": "KeyError",
     "evalue": "'Liga'",
     "output_type": "error",
     "traceback": [
      "\u001b[1;31m---------------------------------------------------------------------------\u001b[0m",
      "\u001b[1;31mKeyError\u001b[0m                                  Traceback (most recent call last)",
      "\u001b[1;32m<ipython-input-15-1358335fb166>\u001b[0m in \u001b[0;36m<module>\u001b[1;34m\u001b[0m\n\u001b[1;32m----> 1\u001b[1;33m \u001b[0mtel\u001b[0m\u001b[1;33m[\u001b[0m\u001b[1;34m'Liga'\u001b[0m\u001b[1;33m]\u001b[0m\u001b[1;33m\u001b[0m\u001b[1;33m\u001b[0m\u001b[0m\n\u001b[0m",
      "\u001b[1;31mKeyError\u001b[0m: 'Liga'"
     ]
    }
   ],
   "source": [
    "tel['Liga'] \n",
    "# if we do not want to get errors when checking for nonexistant keys we will need some way of dealing with this"
   ]
  },
  {
   "cell_type": "code",
   "execution_count": 17,
   "metadata": {},
   "outputs": [
    {
     "data": {
      "text/plain": [
       "{'jack': 9000,\n",
       " 'sape': 4139,\n",
       " 'guido': 4127,\n",
       " 'valdis': [9000, 2640, 2911],\n",
       " 'Valdis': 4127}"
      ]
     },
     "execution_count": 17,
     "metadata": {},
     "output_type": "execute_result"
    }
   ],
   "source": [
    "tel['valdis'] = [9000,2640,2911] # so values can be nested\n",
    "tel"
   ]
  },
  {
   "cell_type": "code",
   "execution_count": 18,
   "metadata": {},
   "outputs": [
    {
     "data": {
      "text/plain": [
       "[['jack', 9000], ['valdis', 9000]]"
      ]
     },
     "execution_count": 18,
     "metadata": {},
     "output_type": "execute_result"
    }
   ],
   "source": [
    "tel_list = [['jack',9000], ['valdis',9000]]\n",
    "tel_list"
   ]
  },
  {
   "cell_type": "code",
   "execution_count": 19,
   "metadata": {},
   "outputs": [
    {
     "data": {
      "text/plain": [
       "9000"
      ]
     },
     "execution_count": 19,
     "metadata": {},
     "output_type": "execute_result"
    }
   ],
   "source": [
    "#get value from key in dictionary\n",
    "# very fast even in large dictionaries! O(1)\n",
    "# this means even a huge dictionary will retrieve the values in constant time - ie very quickly\n",
    "\n",
    "tel['jack']"
   ]
  },
  {
   "cell_type": "code",
   "execution_count": 10,
   "metadata": {},
   "outputs": [],
   "source": [
    "tel['sape'] = 54545"
   ]
  },
  {
   "cell_type": "code",
   "execution_count": null,
   "metadata": {},
   "outputs": [],
   "source": [
    "# try adding your own name to tel dictionary"
   ]
  },
  {
   "cell_type": "code",
   "execution_count": 11,
   "metadata": {},
   "outputs": [
    {
     "data": {
      "text/plain": [
       "[9000, 2640, 2911]"
      ]
     },
     "execution_count": 11,
     "metadata": {},
     "output_type": "execute_result"
    }
   ],
   "source": [
    "tel['valdis']"
   ]
  },
  {
   "cell_type": "code",
   "execution_count": 20,
   "metadata": {},
   "outputs": [
    {
     "data": {
      "text/plain": [
       "4127"
      ]
     },
     "execution_count": 20,
     "metadata": {},
     "output_type": "execute_result"
    }
   ],
   "source": [
    "tel['Valdis'] # this should give error because no such key exists"
   ]
  },
  {
   "cell_type": "code",
   "execution_count": null,
   "metadata": {},
   "outputs": [],
   "source": []
  },
  {
   "cell_type": "code",
   "execution_count": 21,
   "metadata": {},
   "outputs": [
    {
     "data": {
      "text/plain": [
       "True"
      ]
     },
     "execution_count": 21,
     "metadata": {},
     "output_type": "execute_result"
    }
   ],
   "source": [
    "# check for key in our dictionary\n",
    "'valdis' in tel"
   ]
  },
  {
   "cell_type": "code",
   "execution_count": 22,
   "metadata": {},
   "outputs": [
    {
     "data": {
      "text/plain": [
       "False"
      ]
     },
     "execution_count": 22,
     "metadata": {},
     "output_type": "execute_result"
    }
   ],
   "source": [
    "'peteris' in tel"
   ]
  },
  {
   "cell_type": "code",
   "execution_count": 23,
   "metadata": {},
   "outputs": [
    {
     "name": "stdout",
     "output_type": "stream",
     "text": [
      "[9000, 2640, 2911]\n"
     ]
    }
   ],
   "source": [
    "# key = 'nnevaldis'\n",
    "key = 'valdis'\n",
    "if key in tel:\n",
    "    print(tel[key]) # we print the value of the key if there is such a key\n",
    "else:\n",
    "    print(\"No such key\")"
   ]
  },
  {
   "cell_type": "code",
   "execution_count": 25,
   "metadata": {},
   "outputs": [],
   "source": [
    "def check_key(my_dict, key, default=\"No such key\"):\n",
    "    if key in my_dict:\n",
    "        return my_dict[key]\n",
    "    else:\n",
    "        return default"
   ]
  },
  {
   "cell_type": "code",
   "execution_count": 26,
   "metadata": {},
   "outputs": [
    {
     "data": {
      "text/plain": [
       "4127"
      ]
     },
     "execution_count": 26,
     "metadata": {},
     "output_type": "execute_result"
    }
   ],
   "source": [
    "check_key(tel, 'Valdis')"
   ]
  },
  {
   "cell_type": "code",
   "execution_count": 27,
   "metadata": {},
   "outputs": [
    {
     "data": {
      "text/plain": [
       "'No such key'"
      ]
     },
     "execution_count": 27,
     "metadata": {},
     "output_type": "execute_result"
    }
   ],
   "source": [
    "check_key(tel, \"Liga\")"
   ]
  },
  {
   "cell_type": "code",
   "execution_count": 28,
   "metadata": {},
   "outputs": [
    {
     "data": {
      "text/plain": [
       "'No peter here!'"
      ]
     },
     "execution_count": 28,
     "metadata": {},
     "output_type": "execute_result"
    }
   ],
   "source": [
    "check_key(tel, \"Peter\", \"No peter here!\")"
   ]
  },
  {
   "cell_type": "code",
   "execution_count": 29,
   "metadata": {},
   "outputs": [],
   "source": [
    "# Turns all that work on my nice function was not needed because Python already provides this :)"
   ]
  },
  {
   "cell_type": "code",
   "execution_count": null,
   "metadata": {},
   "outputs": [],
   "source": [
    "type(None)"
   ]
  },
  {
   "cell_type": "code",
   "execution_count": 30,
   "metadata": {},
   "outputs": [
    {
     "data": {
      "text/plain": [
       "[9000, 2640, 2911]"
      ]
     },
     "execution_count": 30,
     "metadata": {},
     "output_type": "execute_result"
    }
   ],
   "source": [
    "tel.get('valdis') # gets value by key without errors"
   ]
  },
  {
   "cell_type": "code",
   "execution_count": 31,
   "metadata": {},
   "outputs": [],
   "source": [
    "# so you can use get method on a dictionary and it will return value or None by default if no key exists"
   ]
  },
  {
   "cell_type": "code",
   "execution_count": 32,
   "metadata": {},
   "outputs": [
    {
     "name": "stdout",
     "output_type": "stream",
     "text": [
      "None\n"
     ]
    }
   ],
   "source": [
    "print(tel.get('nevaldis')) #by default on bad key we get None"
   ]
  },
  {
   "cell_type": "code",
   "execution_count": 33,
   "metadata": {},
   "outputs": [
    {
     "data": {
      "text/plain": [
       "-657"
      ]
     },
     "execution_count": 33,
     "metadata": {},
     "output_type": "execute_result"
    }
   ],
   "source": [
    "tel.get('nevaldis', 555-1212) # we can change the return on bad keys to our own "
   ]
  },
  {
   "cell_type": "code",
   "execution_count": 34,
   "metadata": {},
   "outputs": [
    {
     "data": {
      "text/plain": [
       "'555-1212'"
      ]
     },
     "execution_count": 34,
     "metadata": {},
     "output_type": "execute_result"
    }
   ],
   "source": [
    "tel.get('nevaldis', '555-1212') # we can change the return on bad keys to our own "
   ]
  },
  {
   "cell_type": "code",
   "execution_count": 35,
   "metadata": {},
   "outputs": [
    {
     "data": {
      "text/plain": [
       "'Liga where are you?'"
      ]
     },
     "execution_count": 35,
     "metadata": {},
     "output_type": "execute_result"
    }
   ],
   "source": [
    "tel.get('Liga', \"Liga where are you?\")"
   ]
  },
  {
   "cell_type": "code",
   "execution_count": 36,
   "metadata": {},
   "outputs": [],
   "source": [
    "tel['Liga'] = 911 # so we set key Liga to value 911"
   ]
  },
  {
   "cell_type": "code",
   "execution_count": 37,
   "metadata": {},
   "outputs": [
    {
     "data": {
      "text/plain": [
       "911"
      ]
     },
     "execution_count": 37,
     "metadata": {},
     "output_type": "execute_result"
    }
   ],
   "source": [
    "tel.get('Liga', \"Liga where are you?\")"
   ]
  },
  {
   "cell_type": "code",
   "execution_count": 38,
   "metadata": {},
   "outputs": [
    {
     "data": {
      "text/plain": [
       "{'jack': 9000,\n",
       " 'guido': 4127,\n",
       " 'valdis': [9000, 2640, 2911],\n",
       " 'Valdis': 4127,\n",
       " 'Liga': 911}"
      ]
     },
     "execution_count": 38,
     "metadata": {},
     "output_type": "execute_result"
    }
   ],
   "source": [
    "# remove key value pair # rarer\n",
    "tel['sape'] = 665453 # create key or overwrite if it existed\n",
    "del tel['sape']\n",
    "tel"
   ]
  },
  {
   "cell_type": "code",
   "execution_count": 39,
   "metadata": {},
   "outputs": [
    {
     "data": {
      "text/plain": [
       "'Sorry no such key'"
      ]
     },
     "execution_count": 39,
     "metadata": {},
     "output_type": "execute_result"
    }
   ],
   "source": [
    "tel.get('sape', 'Sorry no such key')"
   ]
  },
  {
   "cell_type": "code",
   "execution_count": 40,
   "metadata": {},
   "outputs": [
    {
     "data": {
      "text/plain": [
       "True"
      ]
     },
     "execution_count": 40,
     "metadata": {},
     "output_type": "execute_result"
    }
   ],
   "source": [
    "'valdis' in tel.keys()"
   ]
  },
  {
   "cell_type": "code",
   "execution_count": 41,
   "metadata": {},
   "outputs": [
    {
     "data": {
      "text/plain": [
       "True"
      ]
     },
     "execution_count": 41,
     "metadata": {},
     "output_type": "execute_result"
    }
   ],
   "source": [
    "# this will be slower going through all the key:value pairs\n",
    "4127 in tel.values()"
   ]
  },
  {
   "cell_type": "code",
   "execution_count": 42,
   "metadata": {},
   "outputs": [
    {
     "data": {
      "text/plain": [
       "False"
      ]
     },
     "execution_count": 42,
     "metadata": {},
     "output_type": "execute_result"
    }
   ],
   "source": [
    "112 in tel.values()"
   ]
  },
  {
   "cell_type": "code",
   "execution_count": 43,
   "metadata": {},
   "outputs": [
    {
     "data": {
      "text/plain": [
       "dict_values"
      ]
     },
     "execution_count": 43,
     "metadata": {},
     "output_type": "execute_result"
    }
   ],
   "source": [
    "type(tel.values())"
   ]
  },
  {
   "cell_type": "code",
   "execution_count": 44,
   "metadata": {},
   "outputs": [
    {
     "data": {
      "text/plain": [
       "dict_values([9000, 4127, [9000, 2640, 2911], 4127, 911])"
      ]
     },
     "execution_count": 44,
     "metadata": {},
     "output_type": "execute_result"
    }
   ],
   "source": [
    "tel.values()"
   ]
  },
  {
   "cell_type": "code",
   "execution_count": 31,
   "metadata": {},
   "outputs": [
    {
     "data": {
      "text/plain": [
       "['__class__',\n",
       " '__delattr__',\n",
       " '__dir__',\n",
       " '__doc__',\n",
       " '__eq__',\n",
       " '__format__',\n",
       " '__ge__',\n",
       " '__getattribute__',\n",
       " '__gt__',\n",
       " '__hash__',\n",
       " '__init__',\n",
       " '__init_subclass__',\n",
       " '__iter__',\n",
       " '__le__',\n",
       " '__len__',\n",
       " '__lt__',\n",
       " '__ne__',\n",
       " '__new__',\n",
       " '__reduce__',\n",
       " '__reduce_ex__',\n",
       " '__repr__',\n",
       " '__reversed__',\n",
       " '__setattr__',\n",
       " '__sizeof__',\n",
       " '__str__',\n",
       " '__subclasshook__']"
      ]
     },
     "execution_count": 31,
     "metadata": {},
     "output_type": "execute_result"
    }
   ],
   "source": [
    "dir(tel.values())"
   ]
  },
  {
   "cell_type": "code",
   "execution_count": null,
   "metadata": {},
   "outputs": [],
   "source": [
    "tel.values()"
   ]
  },
  {
   "cell_type": "code",
   "execution_count": 45,
   "metadata": {},
   "outputs": [
    {
     "data": {
      "text/plain": [
       "[9000, 4127, [9000, 2640, 2911], 4127, 911]"
      ]
     },
     "execution_count": 45,
     "metadata": {},
     "output_type": "execute_result"
    }
   ],
   "source": [
    "value_list = list(tel.values())\n",
    "value_list # now this list lives separately from our tel dictionary"
   ]
  },
  {
   "cell_type": "code",
   "execution_count": 47,
   "metadata": {},
   "outputs": [
    {
     "data": {
      "text/plain": [
       "['jack', 'guido', 'valdis', 'Valdis', 'Liga']"
      ]
     },
     "execution_count": 47,
     "metadata": {},
     "output_type": "execute_result"
    }
   ],
   "source": [
    "key_list = list(tel.keys())\n",
    "key_list # again are living their lives separate from our dictionary"
   ]
  },
  {
   "cell_type": "code",
   "execution_count": 48,
   "metadata": {},
   "outputs": [],
   "source": [
    "tel['irv'] = 4127"
   ]
  },
  {
   "cell_type": "code",
   "execution_count": 49,
   "metadata": {},
   "outputs": [
    {
     "data": {
      "text/plain": [
       "{'jack': 9000,\n",
       " 'guido': 4127,\n",
       " 'valdis': [9000, 2640, 2911],\n",
       " 'Valdis': 4127,\n",
       " 'Liga': 911,\n",
       " 'irv': 4127}"
      ]
     },
     "execution_count": 49,
     "metadata": {},
     "output_type": "execute_result"
    }
   ],
   "source": [
    "tel"
   ]
  },
  {
   "cell_type": "code",
   "execution_count": 50,
   "metadata": {},
   "outputs": [
    {
     "ename": "AttributeError",
     "evalue": "'dict_values' object has no attribute 'count'",
     "output_type": "error",
     "traceback": [
      "\u001b[1;31m---------------------------------------------------------------------------\u001b[0m",
      "\u001b[1;31mAttributeError\u001b[0m                            Traceback (most recent call last)",
      "\u001b[1;32m<ipython-input-50-79a9347ba3b0>\u001b[0m in \u001b[0;36m<module>\u001b[1;34m\u001b[0m\n\u001b[1;32m----> 1\u001b[1;33m \u001b[0mtel\u001b[0m\u001b[1;33m.\u001b[0m\u001b[0mvalues\u001b[0m\u001b[1;33m(\u001b[0m\u001b[1;33m)\u001b[0m\u001b[1;33m.\u001b[0m\u001b[0mcount\u001b[0m\u001b[1;33m(\u001b[0m\u001b[1;36m4127\u001b[0m\u001b[1;33m)\u001b[0m\u001b[1;33m\u001b[0m\u001b[1;33m\u001b[0m\u001b[0m\n\u001b[0m",
      "\u001b[1;31mAttributeError\u001b[0m: 'dict_values' object has no attribute 'count'"
     ]
    }
   ],
   "source": [
    "# tel.values().count(4127) will not work we need list"
   ]
  },
  {
   "cell_type": "code",
   "execution_count": 51,
   "metadata": {},
   "outputs": [
    {
     "data": {
      "text/plain": [
       "3"
      ]
     },
     "execution_count": 51,
     "metadata": {},
     "output_type": "execute_result"
    }
   ],
   "source": [
    "# tel.values.count(4127) dict_values has no count\n",
    "telvalues = list(tel.values())\n",
    "telvalues.count(4127)"
   ]
  },
  {
   "cell_type": "code",
   "execution_count": 52,
   "metadata": {},
   "outputs": [
    {
     "data": {
      "text/plain": [
       "3"
      ]
     },
     "execution_count": 52,
     "metadata": {},
     "output_type": "execute_result"
    }
   ],
   "source": [
    "list(tel.values()).count(4127)"
   ]
  },
  {
   "cell_type": "code",
   "execution_count": 53,
   "metadata": {},
   "outputs": [
    {
     "data": {
      "text/plain": [
       "0"
      ]
     },
     "execution_count": 53,
     "metadata": {},
     "output_type": "execute_result"
    }
   ],
   "source": [
    "list(tel.values()).count(9004127)"
   ]
  },
  {
   "cell_type": "code",
   "execution_count": null,
   "metadata": {},
   "outputs": [],
   "source": [
    "tel['jack'] = 9999"
   ]
  },
  {
   "cell_type": "code",
   "execution_count": 54,
   "metadata": {},
   "outputs": [
    {
     "name": "stdout",
     "output_type": "stream",
     "text": [
      "Added new key police value 911 pair\n"
     ]
    }
   ],
   "source": [
    "def set_key_value(my_dict, key, value):\n",
    "    if key not in my_dict:\n",
    "        my_dict[key] = value\n",
    "        print(f\"Added new key {key} value {value} pair\")\n",
    "    else:\n",
    "        print(\"You already have key\", key, \"value\", tel[key])\n",
    "set_key_value(tel, \"police\", 911)"
   ]
  },
  {
   "cell_type": "code",
   "execution_count": 55,
   "metadata": {},
   "outputs": [
    {
     "data": {
      "text/plain": [
       "{'jack': 9000,\n",
       " 'guido': 4127,\n",
       " 'valdis': [9000, 2640, 2911],\n",
       " 'Valdis': 4127,\n",
       " 'Liga': 911,\n",
       " 'irv': 4127,\n",
       " 'police': 911}"
      ]
     },
     "execution_count": 55,
     "metadata": {},
     "output_type": "execute_result"
    }
   ],
   "source": [
    "tel"
   ]
  },
  {
   "cell_type": "code",
   "execution_count": 56,
   "metadata": {},
   "outputs": [
    {
     "name": "stdout",
     "output_type": "stream",
     "text": [
      "You already have key police value 911\n"
     ]
    }
   ],
   "source": [
    "set_key_value(tel, \"police\", 911)"
   ]
  },
  {
   "cell_type": "code",
   "execution_count": 57,
   "metadata": {},
   "outputs": [
    {
     "data": {
      "text/plain": [
       "{'jack': 9000,\n",
       " 'guido': 4127,\n",
       " 'valdis': [9000, 2640, 2911],\n",
       " 'Valdis': 4127,\n",
       " 'Liga': 911,\n",
       " 'irv': 4127,\n",
       " 'police': 911,\n",
       " 'rtu': 777700}"
      ]
     },
     "execution_count": 57,
     "metadata": {},
     "output_type": "execute_result"
    }
   ],
   "source": [
    "# the above code can be written using setdefault method\n",
    "tel.setdefault(\"rtu\", 777700) # so this will only work once\n",
    "tel"
   ]
  },
  {
   "cell_type": "code",
   "execution_count": 58,
   "metadata": {},
   "outputs": [
    {
     "data": {
      "text/plain": [
       "dict"
      ]
     },
     "execution_count": 58,
     "metadata": {},
     "output_type": "execute_result"
    }
   ],
   "source": [
    "type(tel)"
   ]
  },
  {
   "cell_type": "code",
   "execution_count": 60,
   "metadata": {},
   "outputs": [
    {
     "data": {
      "text/plain": [
       "{'jack': 9000,\n",
       " 'guido': 4127,\n",
       " 'valdis': [9000, 2640, 2911],\n",
       " 'Valdis': 4127,\n",
       " 'Liga': 911,\n",
       " 'irv': 4127,\n",
       " 'police': 911,\n",
       " 'rtu': 777700}"
      ]
     },
     "execution_count": 60,
     "metadata": {},
     "output_type": "execute_result"
    }
   ],
   "source": [
    "# the above code can be written using setdefault method\n",
    "tel.setdefault(\"rtu\", 9635678) # so this will only work once, if key exists nothing will happen\n",
    "tel"
   ]
  },
  {
   "cell_type": "code",
   "execution_count": 61,
   "metadata": {},
   "outputs": [
    {
     "data": {
      "text/plain": [
       "(9000, 9000)"
      ]
     },
     "execution_count": 61,
     "metadata": {},
     "output_type": "execute_result"
    }
   ],
   "source": [
    "tel.get('jack'), tel['jack'] # the diffence being that get doesnt throw errors, but gives None for no key"
   ]
  },
  {
   "cell_type": "code",
   "execution_count": 62,
   "metadata": {},
   "outputs": [
    {
     "name": "stdout",
     "output_type": "stream",
     "text": [
      "366 ns ± 35.2 ns per loop (mean ± std. dev. of 7 runs, 1000000 loops each)\n"
     ]
    }
   ],
   "source": [
    "%%timeit \n",
    "tel.get('jack')"
   ]
  },
  {
   "cell_type": "code",
   "execution_count": null,
   "metadata": {},
   "outputs": [],
   "source": [
    "# so that was about 0.4 millionth of a second operation, quite fast"
   ]
  },
  {
   "cell_type": "code",
   "execution_count": 63,
   "metadata": {},
   "outputs": [
    {
     "name": "stdout",
     "output_type": "stream",
     "text": [
      "240 ns ± 22.6 ns per loop (mean ± std. dev. of 7 runs, 1000000 loops each)\n"
     ]
    }
   ],
   "source": [
    "%%timeit\n",
    "tel['jack']"
   ]
  },
  {
   "cell_type": "code",
   "execution_count": null,
   "metadata": {},
   "outputs": [],
   "source": [
    "# so get is about 50 % slower due to extra check for key existance "
   ]
  },
  {
   "cell_type": "code",
   "execution_count": 64,
   "metadata": {},
   "outputs": [
    {
     "data": {
      "text/plain": [
       "{'jack': 9000,\n",
       " 'guido': 4127,\n",
       " 'valdis': [9000, 2640, 2911],\n",
       " 'Valdis': 4127,\n",
       " 'Liga': 911,\n",
       " 'irv': 4127,\n",
       " 'police': 911,\n",
       " 'rtu': 777700,\n",
       " 1: 5555}"
      ]
     },
     "execution_count": 64,
     "metadata": {},
     "output_type": "execute_result"
    }
   ],
   "source": [
    "tel[1] = 5555 # we can use numbers as keys in our dictionary but generally best avoided\n",
    "tel"
   ]
  },
  {
   "cell_type": "code",
   "execution_count": 65,
   "metadata": {},
   "outputs": [
    {
     "data": {
      "text/plain": [
       "5555"
      ]
     },
     "execution_count": 65,
     "metadata": {},
     "output_type": "execute_result"
    }
   ],
   "source": [
    "tel[1]"
   ]
  },
  {
   "cell_type": "code",
   "execution_count": 66,
   "metadata": {},
   "outputs": [],
   "source": [
    "# problem is that numbers as keys look like list but dictionaries work differently"
   ]
  },
  {
   "cell_type": "code",
   "execution_count": 67,
   "metadata": {},
   "outputs": [
    {
     "data": {
      "text/plain": [
       "242342"
      ]
     },
     "execution_count": 67,
     "metadata": {},
     "output_type": "execute_result"
    }
   ],
   "source": [
    "myphonelist=[3432432,242342,24,234,2432]\n",
    "myphonelist[1] # hard to distinguish without type or smart IDE (development enivorment)"
   ]
  },
  {
   "cell_type": "code",
   "execution_count": 68,
   "metadata": {},
   "outputs": [
    {
     "data": {
      "text/plain": [
       "[9000, 2640, 2911]"
      ]
     },
     "execution_count": 68,
     "metadata": {},
     "output_type": "execute_result"
    }
   ],
   "source": [
    "valdisphones = tel.get('valdis')\n",
    "valdisphones # this is just a reference to a list"
   ]
  },
  {
   "cell_type": "code",
   "execution_count": 69,
   "metadata": {},
   "outputs": [
    {
     "data": {
      "text/plain": [
       "2911"
      ]
     },
     "execution_count": 69,
     "metadata": {},
     "output_type": "execute_result"
    }
   ],
   "source": [
    "# how to get last phone number from irvingphones ?\n",
    "valdisphones[-1]"
   ]
  },
  {
   "cell_type": "code",
   "execution_count": null,
   "metadata": {},
   "outputs": [],
   "source": [
    "# since Python 3.7 the original insertion order of keys is preserved"
   ]
  },
  {
   "cell_type": "code",
   "execution_count": 71,
   "metadata": {},
   "outputs": [
    {
     "name": "stdout",
     "output_type": "stream",
     "text": [
      "{'jack': 9000, 'guido': 4127, 'valdis': [9000, 2640, 2911], 'Valdis': 4127, 'Liga': 911, 'irv': 4127, 'police': 911, 'rtu': 777700, 1: 5555}\n"
     ]
    }
   ],
   "source": [
    "print(tel)"
   ]
  },
  {
   "cell_type": "code",
   "execution_count": 72,
   "metadata": {},
   "outputs": [
    {
     "data": {
      "text/plain": [
       "{'jack': 9000,\n",
       " 'guido': 4127,\n",
       " 'valdis': [9000, 2640, 2911],\n",
       " 'Valdis': 4127,\n",
       " 'Liga': 911,\n",
       " 'irv': 4127,\n",
       " 'police': 911,\n",
       " 'rtu': 777700}"
      ]
     },
     "execution_count": 72,
     "metadata": {},
     "output_type": "execute_result"
    }
   ],
   "source": [
    "del tel[1]\n",
    "tel"
   ]
  },
  {
   "cell_type": "code",
   "execution_count": 51,
   "metadata": {},
   "outputs": [
    {
     "data": {
      "text/plain": [
       "['guido', 'irv', 'jack', 'police', 'rtu', 'valdis']"
      ]
     },
     "execution_count": 51,
     "metadata": {},
     "output_type": "execute_result"
    }
   ],
   "source": [
    "sorted(tel.keys())"
   ]
  },
  {
   "cell_type": "code",
   "execution_count": 73,
   "metadata": {},
   "outputs": [
    {
     "data": {
      "text/plain": [
       "{'Liga': 911,\n",
       " 'Valdis': 4127,\n",
       " 'guido': 4127,\n",
       " 'irv': 4127,\n",
       " 'jack': 9000,\n",
       " 'police': 911,\n",
       " 'rtu': 777700,\n",
       " 'valdis': [9000, 2640, 2911]}"
      ]
     },
     "execution_count": 73,
     "metadata": {},
     "output_type": "execute_result"
    }
   ],
   "source": [
    "sorted_tel = {}\n",
    "for key in sorted(tel.keys()):\n",
    "    sorted_tel[key] = tel[key]\n",
    "# this looping is not free and would take the size the whole dictionary plus sorting is also takes time\n",
    "sorted_tel"
   ]
  },
  {
   "cell_type": "code",
   "execution_count": null,
   "metadata": {},
   "outputs": [],
   "source": [
    "telkeys = list(tel.keys())\n",
    "telkeys"
   ]
  },
  {
   "cell_type": "code",
   "execution_count": null,
   "metadata": {},
   "outputs": [],
   "source": [
    "newkeys = []\n",
    "for key in telkeys:\n",
    "    newkeys.append(str(key))\n",
    "newkeys"
   ]
  },
  {
   "cell_type": "code",
   "execution_count": 74,
   "metadata": {},
   "outputs": [
    {
     "data": {
      "text/plain": [
       "{'potatoes': 8, 'carrots': 5, 'beets': 3, 'pumpkins': 2, 'chocolate': 10}"
      ]
     },
     "execution_count": 74,
     "metadata": {},
     "output_type": "execute_result"
    }
   ],
   "source": [
    "shopdict = {\"potatoes\":8, \"carrots\": 5, \"beets\": 3, \"pumpkins\":2, \"chocolate\":10}\n",
    "shopdict"
   ]
  },
  {
   "cell_type": "code",
   "execution_count": 76,
   "metadata": {},
   "outputs": [
    {
     "name": "stdout",
     "output_type": "stream",
     "text": [
      "potatoes 8\n",
      "Buying 8 kgs of potatoes\n",
      "carrots 5\n",
      "Buying 5 kgs of carrots\n",
      "beets 3\n",
      "Buying 3 kgs of beets\n",
      "pumpkins 2\n",
      "Buying 2 kgs of pumpkins\n",
      "chocolate 10\n",
      "Buying 10 kgs of chocolate\n"
     ]
    }
   ],
   "source": [
    "for key,value in shopdict.items(): # key and value are just names we made up also common is k,v\n",
    "    print(key,value)\n",
    "    print(f\"Buying {value} kgs of {key}\")"
   ]
  },
  {
   "cell_type": "code",
   "execution_count": 77,
   "metadata": {},
   "outputs": [
    {
     "name": "stdout",
     "output_type": "stream",
     "text": [
      "potatoes 8\n",
      "carrots 5\n",
      "beets 3\n",
      "pumpkins 2\n",
      "chocolate 10\n"
     ]
    }
   ],
   "source": [
    "# another method of looping is to just use key\n",
    "for key in shopdict: # so only key is provided\n",
    "    print(key, shopdict[key]) # no need for shopdict.get since key is guaranteed here"
   ]
  },
  {
   "cell_type": "code",
   "execution_count": 79,
   "metadata": {},
   "outputs": [
    {
     "data": {
      "text/plain": [
       "{'potatoes': 28, 'carrots': 25, 'beets': 23, 'pumpkins': 22, 'chocolate': 30}"
      ]
     },
     "execution_count": 79,
     "metadata": {},
     "output_type": "execute_result"
    }
   ],
   "source": [
    "# it is normal to adjust values in a dictionary inside loop\n",
    "for key in shopdict:\n",
    "    shopdict[key] += 10 # same as shopdict[key] = shopdict[key] + 10\n",
    "shopdict"
   ]
  },
  {
   "cell_type": "code",
   "execution_count": null,
   "metadata": {},
   "outputs": [],
   "source": [
    "# however you should not add new keys to dictionary through which we are looping through that will leaad to no good !\n"
   ]
  },
  {
   "cell_type": "code",
   "execution_count": 81,
   "metadata": {},
   "outputs": [
    {
     "name": "stdout",
     "output_type": "stream",
     "text": [
      "101 potatoes 28\n",
      "102 carrots 25\n",
      "103 beets 23\n",
      "104 pumpkins 22\n",
      "105 chocolate 30\n",
      "[[101, 'potatoes', 28], [102, 'carrots', 25], [103, 'beets', 23], [104, 'pumpkins', 22], [105, 'chocolate', 30]]\n",
      "{'potatoes': (101, 28), 'carrots': (102, 25), 'beets': (103, 23), 'pumpkins': (104, 22), 'chocolate': (105, 30)}\n"
     ]
    }
   ],
   "source": [
    "newlist = []\n",
    "newdict = {}\n",
    "for index,(key,value) in enumerate(shopdict.items(), start=101):\n",
    "    print(index,key,value)\n",
    "    newlist.append([index,key,value])\n",
    "    newdict[key] = (index,value)\n",
    "print(newlist)\n",
    "print(newdict)"
   ]
  },
  {
   "cell_type": "code",
   "execution_count": 60,
   "metadata": {},
   "outputs": [
    {
     "data": {
      "text/plain": [
       "('carrots', 15)"
      ]
     },
     "execution_count": 60,
     "metadata": {},
     "output_type": "execute_result"
    }
   ],
   "source": [
    "newdict[102] # looks like a list but it's a dictionary"
   ]
  },
  {
   "cell_type": "code",
   "execution_count": 82,
   "metadata": {},
   "outputs": [
    {
     "data": {
      "text/plain": [
       "{'potatoes': {'id': 101, 'quantity': 28},\n",
       " 'carrots': {'id': 102, 'quantity': 25},\n",
       " 'beets': {'id': 103, 'quantity': 23},\n",
       " 'pumpkins': {'id': 104, 'quantity': 22},\n",
       " 'chocolate': {'id': 105, 'quantity': 30}}"
      ]
     },
     "execution_count": 82,
     "metadata": {},
     "output_type": "execute_result"
    }
   ],
   "source": [
    "newdict2 = {}\n",
    "for item in newlist:\n",
    "    newdict2[item[1]] = {'id':item[0],'quantity':item[2]}\n",
    "newdict2 # so this will be dictionary with values being separate dictionaries"
   ]
  },
  {
   "cell_type": "code",
   "execution_count": null,
   "metadata": {},
   "outputs": [],
   "source": [
    "# so we created a new dictionary which holds dictionaries inside, so nested structure\n",
    "# working with JSON type of data this is quite common"
   ]
  },
  {
   "cell_type": "code",
   "execution_count": null,
   "metadata": {},
   "outputs": [],
   "source": []
  },
  {
   "cell_type": "code",
   "execution_count": 84,
   "metadata": {},
   "outputs": [
    {
     "data": {
      "text/plain": [
       "{'id': 103, 'quantity': 23}"
      ]
     },
     "execution_count": 84,
     "metadata": {},
     "output_type": "execute_result"
    }
   ],
   "source": [
    "# can you get me quantity of beets needed from newdict2 ?\n",
    "newdict2['beets'] # this would work as well newdict2.get('beets')"
   ]
  },
  {
   "cell_type": "code",
   "execution_count": 85,
   "metadata": {},
   "outputs": [
    {
     "data": {
      "text/plain": [
       "23"
      ]
     },
     "execution_count": 85,
     "metadata": {},
     "output_type": "execute_result"
    }
   ],
   "source": [
    "newdict2['beets']['quantity']"
   ]
  },
  {
   "cell_type": "code",
   "execution_count": 86,
   "metadata": {},
   "outputs": [
    {
     "data": {
      "text/plain": [
       "23"
      ]
     },
     "execution_count": 86,
     "metadata": {},
     "output_type": "execute_result"
    }
   ],
   "source": [
    "newdict2.get('beets').get('quantity') # somewhat less common due to mostly laziness i think :0"
   ]
  },
  {
   "cell_type": "code",
   "execution_count": 87,
   "metadata": {},
   "outputs": [
    {
     "data": {
      "text/plain": [
       "{'a': 1, 'b': 2, 3: 'c', '3': '3c'}"
      ]
     },
     "execution_count": 87,
     "metadata": {},
     "output_type": "execute_result"
    }
   ],
   "source": [
    "# there are other of creating dictionaries\n",
    "t3 = dict([['a', 1],['b',2],[3, 'c'], ['3', '3c']]) # so passing 2-D list (tuple would work as well)\n",
    "t3"
   ]
  },
  {
   "cell_type": "code",
   "execution_count": 88,
   "metadata": {},
   "outputs": [
    {
     "data": {
      "text/plain": [
       "('c', '3c')"
      ]
     },
     "execution_count": 88,
     "metadata": {},
     "output_type": "execute_result"
    }
   ],
   "source": [
    "t3[3],t3['3'] # two different keys integer 3 and string 3"
   ]
  },
  {
   "cell_type": "code",
   "execution_count": 89,
   "metadata": {
    "scrolled": true
   },
   "outputs": [
    {
     "name": "stdout",
     "output_type": "stream",
     "text": [
      "{'sape': 4139, 'guido': 4127, 'jack': 4098}\n"
     ]
    }
   ],
   "source": [
    "# alternative way of creating a dictionary using list of tuples ()\n",
    "t2=dict([('sape', 4139), ('guido', 4127), ('jack', 4098)])\n",
    "print(t2)"
   ]
  },
  {
   "cell_type": "code",
   "execution_count": 90,
   "metadata": {},
   "outputs": [
    {
     "data": {
      "text/plain": [
       "['Valdis', 'valdis', 'Antons', 'Anna', 'Kārlis', 'karlis']"
      ]
     },
     "execution_count": 90,
     "metadata": {},
     "output_type": "execute_result"
    }
   ],
   "source": [
    "names = ['Valdis', 'valdis', 'Antons', 'Anna', 'Kārlis', 'karlis']\n",
    "names"
   ]
  },
  {
   "cell_type": "code",
   "execution_count": null,
   "metadata": {},
   "outputs": [],
   "source": [
    "sorted(names)"
   ]
  },
  {
   "cell_type": "markdown",
   "metadata": {},
   "source": [
    "* `globals()` always returns the dictionary of the module namespace\n",
    "* `locals()` always returns a dictionary of the current namespace\n",
    "* `vars()` returns either a dictionary of the current namespace (if called with no argument) or the dictionary of the argument."
   ]
  },
  {
   "cell_type": "code",
   "execution_count": 91,
   "metadata": {},
   "outputs": [
    {
     "data": {
      "text/plain": [
       "{'__name__': '__main__',\n",
       " '__doc__': 'Automatically created module for IPython interactive environment',\n",
       " '__package__': None,\n",
       " '__loader__': None,\n",
       " '__spec__': None,\n",
       " '__builtin__': <module 'builtins' (built-in)>,\n",
       " '__builtins__': <module 'builtins' (built-in)>,\n",
       " '_ih': ['',\n",
       "  'emptyd = {}\\nlen(emptyd)',\n",
       "  'type(emptyd)',\n",
       "  'empty_dict_2 = dict()\\nempty_dict_2',\n",
       "  'emptyd',\n",
       "  'emptyd = {} #shortest using curly braces\\nlen(emptyd)',\n",
       "  \"tel = {'jack': 4098, 'sape': 4139} # so  { key: value, key2:value2, and so on}\\nprint(tel)\",\n",
       "  \"tel = {'jack': 4098, 'sape': 4139} # so  { key: value, key2:value2, and so on}\\n# there is no string requirement for values to be of same type\\nprint(tel)\",\n",
       "  \"# so what can be keys ? what happens if we add second identical key\\ntel = {'jack': 4098, 'sape': 4139, 'jack': 9000} # you generally should not do this, keys should be unique\\nprint(tel)\",\n",
       "  \"# so what can be keys ? what happens if we add second identical key\\ntel = {'jack': 4098, 'sape': 4139, 'jack': 9000}\\n# you generally should not do this, keys should be unique\\nprint(tel)\",\n",
       "  \"# add a new key-value pair\\ntel['guido'] = 4127\\nprint(tel.keys())\\nprint(tel.values())\",\n",
       "  \"# add key 'valdis' with value 4127 to our tel dictionary\\ntel['valdis'] = 4127\\ntel # so values can be same\",\n",
       "  \"# add key 'valdis' with value 4127 to our tel dictionary\\ntel['valdis'] = 4127\\ntel # so values can be same\",\n",
       "  \"tel['Valdis'] = 4127\\ntel\",\n",
       "  \"tel['Valdis']\",\n",
       "  \"tel['Liga']\",\n",
       "  \"tel['valdis'] = [9000,2640,2911]\\ntel\",\n",
       "  \"tel['valdis'] = [9000,2640,2911] # so values can be nested\\ntel\",\n",
       "  \"tel_list = [['jack',9000], ['valdis',9000]]\\ntel_list\",\n",
       "  \"#get value from key in dictionary\\n# very fast even in large dictionaries! O(1)\\n# this means even a huge dictionary will retrieve the values in constant time - ie very quickly\\n\\ntel['jack']\",\n",
       "  \"tel['Valdis'] # this should give error because no such key exists\",\n",
       "  \"# check for key in our dictionary\\n'valdis' in tel\",\n",
       "  \"'peteris' in tel\",\n",
       "  '# key = \\'nnevaldis\\'\\nkey = \\'valdis\\'\\nif key in tel:\\n    print(tel[key]) # we print the value of the key if there is such a key\\nelse:\\n    print(\"No such key\")',\n",
       "  'def check_key(my_dict, key, default=\"No such key\"):\\n    if key in my_dict:\\n        return my_dict[key]\\n    else\\n        return default',\n",
       "  'def check_key(my_dict, key, default=\"No such key\"):\\n    if key in my_dict:\\n        return my_dict[key]\\n    else:\\n        return default',\n",
       "  \"check_key(tel, 'Valdis')\",\n",
       "  'check_key(tel, \"Liga\")',\n",
       "  'check_key(tel, \"Peter\", \"No peter here!\")',\n",
       "  '# Turns all that work on my nice function was not needed because Python already provides this :)',\n",
       "  \"tel.get('valdis') # gets value by key without errors\",\n",
       "  '# so you can use get method on a dictionary and it will return value or None by default if no key exists',\n",
       "  \"print(tel.get('nevaldis')) #by default on bad key we get None\",\n",
       "  \"tel.get('nevaldis', 555-1212) # we can change the return on bad keys to our own \",\n",
       "  \"tel.get('nevaldis', '555-1212') # we can change the return on bad keys to our own \",\n",
       "  'tel.get(\\'Liga\\', \"Liga where are you?\")',\n",
       "  \"tel['Liga'] = 911\",\n",
       "  'tel.get(\\'Liga\\', \"Liga where are you?\")',\n",
       "  \"# remove key value pair # rarer\\ntel['sape'] = 665453 # create key or overwrite if it existed\\ndel tel['sape']\\ntel\",\n",
       "  \"tel.get('sape', 'Sorry no such key')\",\n",
       "  \"'valdis' in tel.keys()\",\n",
       "  '# this will be slower going through all the key:value pairs\\n4127 in tel.values()',\n",
       "  '112 in tel.values()',\n",
       "  'type(tel.values())',\n",
       "  'tel.values()',\n",
       "  'value_list = list(tel.values())\\nvalue_list',\n",
       "  'key_list = list(tel.keys())\\nkey_list',\n",
       "  'key_list = list(tel.keys())\\nkey_list # again are living their lives separate from our dictionary',\n",
       "  \"tel['irv'] = 4127\",\n",
       "  'tel',\n",
       "  'tel.values().count(4127)',\n",
       "  '# tel.values.count(4127) dict_values has no count\\ntelvalues = list(tel.values())\\ntelvalues.count(4127)',\n",
       "  'list(tel.values()).count(4127)',\n",
       "  'list(tel.values()).count(9004127)',\n",
       "  'def set_key_value(my_dict, key, value):\\n    if key not in my_dict:\\n        my_dict[key] = value\\n        print(f\"Added new key {key} value {value} pair\")\\n    else:\\n        print(\"You already have key\", key, \"value\", tel[key])\\nset_key_value(tel, \"police\", 911)',\n",
       "  'tel',\n",
       "  'set_key_value(tel, \"police\", 911)',\n",
       "  '# the above code can be written using setdefault method\\ntel.setdefault(\"rtu\", 777700) # so this will only work once\\ntel',\n",
       "  'type(tel)',\n",
       "  '# the above code can be written using setdefault method\\ntel.setdefault(\"rtu\", 777700) # so this will only work once\\ntel',\n",
       "  '# the above code can be written using setdefault method\\ntel.setdefault(\"rtu\", 9635678) # so this will only work once\\ntel',\n",
       "  \"tel.get('jack'), tel['jack'] # the diffence being that get doesnt throw errors\",\n",
       "  'get_ipython().run_cell_magic(\\'timeit\\', \\'\\', \"tel.get(\\'jack\\')\\\\n\")',\n",
       "  'get_ipython().run_cell_magic(\\'timeit\\', \\'\\', \"tel[\\'jack\\']\\\\n\")',\n",
       "  'tel[1] = 5555 # we can use numbers as keys in our dictionary but generally best avoided\\ntel',\n",
       "  'tel[1]',\n",
       "  '# problem is that numbers as keys look like list but dictionaries work differently',\n",
       "  'myphonelist=[3432432,242342,24,234,2432]\\nmyphonelist[1]',\n",
       "  \"valdisphones = tel.get('valdis')\\nvaldisphones # this is just a reference to a list\",\n",
       "  '# how to get last phone number from irvingphones ?\\nvaldisphones[-1]',\n",
       "  \"tel['irv']\",\n",
       "  'print(tel)',\n",
       "  'del tel[1]\\ntel',\n",
       "  'sorted_tel = {}\\nfor key in sorted(tel.keys()):\\n    sorted_tel[key] = tel[key]\\n# this looping is not free and would take the size the whole dictionary plus sorting is also takes time\\nsorted_tel',\n",
       "  'shopdict = {\"potatoes\":8, \"carrots\": 5, \"beets\": 3, \"pumpkins\":2, \"chocolate\":10}\\nshopdict',\n",
       "  'for key,value in shopdict.items(): # key and value are just names we made up also common is k,v\\n    print(key,value)\\n    print(f\"Buying {value}kgs of {key}\")',\n",
       "  'for key,value in shopdict.items(): # key and value are just names we made up also common is k,v\\n    print(key,value)\\n    print(f\"Buying {value} kgs of {key}\")',\n",
       "  '# another method of looping is to just use key\\nfor key in shopdict: # so only key is provided\\n    print(key, shopdict[key]) # no need for shopdict.get since key is guaranteed here',\n",
       "  'for key in shopdict:\\n    shopdict[key] += 10 # same as shopdict[key] = shopdict[key] + 10\\nshopdict',\n",
       "  '# it is normal to adjust values in a dictionary inside loop\\nfor key in shopdict:\\n    shopdict[key] += 10 # same as shopdict[key] = shopdict[key] + 10\\nshopdict',\n",
       "  'newlist = []\\nnewdict = {}\\nfor index,(key,value) in enumerate(shopdict.items(), start=101):\\n    print(index,key,value)\\n    newlist.append([index,key,value])\\n    newdict[index] = (key,value)\\nprint(newlist)\\nprint(newdict)',\n",
       "  'newlist = []\\nnewdict = {}\\nfor index,(key,value) in enumerate(shopdict.items(), start=101):\\n    print(index,key,value)\\n    newlist.append([index,key,value])\\n    newdict[key] = (index,value)\\nprint(newlist)\\nprint(newdict)',\n",
       "  \"newdict2 = {}\\nfor item in newlist:\\n    newdict2[item[1]] = {'id':item[0],'quantity':item[2]}\\nnewdict2 # so this will be dictionary with values being separate dictionaries\",\n",
       "  \"# can you get me quantity of beets needed from newdict2 ?\\nnewdict2['beets'], newdict2.get('beets')\",\n",
       "  \"# can you get me quantity of beets needed from newdict2 ?\\nnewdict2['beets'] # this would work as well newdict2.get('beets')\",\n",
       "  \"newdict2['beets']['quantity']\",\n",
       "  \"newdict2.get('beets').get('quantity') # somewhat less common due to mostly laziness i think :0\",\n",
       "  \"# there are other of creating dictionaries\\nt3 = dict([['a', 1],['b',2],[3, 'c'], ['3', '3c']]) # so passing 2-D list (tuple would work as well)\\nt3\",\n",
       "  \"t3[3],t3['3'] # two different keys integer 3 and string 3\",\n",
       "  \"# alternative way of creating a dictionary using list of tuples ()\\nt2=dict([('sape', 4139), ('guido', 4127), ('jack', 4098)])\\nprint(t2)\",\n",
       "  \"names = ['Valdis', 'valdis', 'Antons', 'Anna', 'Kārlis', 'karlis']\\nnames\",\n",
       "  'globals()'],\n",
       " '_oh': {1: 0,\n",
       "  2: dict,\n",
       "  3: {},\n",
       "  4: {},\n",
       "  5: 0,\n",
       "  11: {'jack': 9000,\n",
       "   'guido': 4127,\n",
       "   'valdis': [9000, 2640, 2911],\n",
       "   'Valdis': 4127,\n",
       "   'Liga': 911,\n",
       "   'irv': 4127,\n",
       "   'police': 911,\n",
       "   'rtu': 777700},\n",
       "  12: {'jack': 9000,\n",
       "   'guido': 4127,\n",
       "   'valdis': [9000, 2640, 2911],\n",
       "   'Valdis': 4127,\n",
       "   'Liga': 911,\n",
       "   'irv': 4127,\n",
       "   'police': 911,\n",
       "   'rtu': 777700},\n",
       "  13: {'jack': 9000,\n",
       "   'guido': 4127,\n",
       "   'valdis': [9000, 2640, 2911],\n",
       "   'Valdis': 4127,\n",
       "   'Liga': 911,\n",
       "   'irv': 4127,\n",
       "   'police': 911,\n",
       "   'rtu': 777700},\n",
       "  14: 4127,\n",
       "  16: {'jack': 9000,\n",
       "   'guido': 4127,\n",
       "   'valdis': [9000, 2640, 2911],\n",
       "   'Valdis': 4127,\n",
       "   'Liga': 911,\n",
       "   'irv': 4127,\n",
       "   'police': 911,\n",
       "   'rtu': 777700},\n",
       "  17: {'jack': 9000,\n",
       "   'guido': 4127,\n",
       "   'valdis': [9000, 2640, 2911],\n",
       "   'Valdis': 4127,\n",
       "   'Liga': 911,\n",
       "   'irv': 4127,\n",
       "   'police': 911,\n",
       "   'rtu': 777700},\n",
       "  18: [['jack', 9000], ['valdis', 9000]],\n",
       "  19: 9000,\n",
       "  20: 4127,\n",
       "  21: True,\n",
       "  22: False,\n",
       "  26: 4127,\n",
       "  27: 'No such key',\n",
       "  28: 'No peter here!',\n",
       "  30: [9000, 2640, 2911],\n",
       "  33: -657,\n",
       "  34: '555-1212',\n",
       "  35: 'Liga where are you?',\n",
       "  37: 911,\n",
       "  38: {'jack': 9000,\n",
       "   'guido': 4127,\n",
       "   'valdis': [9000, 2640, 2911],\n",
       "   'Valdis': 4127,\n",
       "   'Liga': 911,\n",
       "   'irv': 4127,\n",
       "   'police': 911,\n",
       "   'rtu': 777700},\n",
       "  39: 'Sorry no such key',\n",
       "  40: True,\n",
       "  41: True,\n",
       "  42: False,\n",
       "  43: dict_values,\n",
       "  44: dict_values([9000, 4127, [9000, 2640, 2911], 4127, 911, 4127, 911, 777700]),\n",
       "  45: [9000, 4127, [9000, 2640, 2911], 4127, 911],\n",
       "  46: ['jack', 'guido', 'valdis', 'Valdis', 'Liga'],\n",
       "  47: ['jack', 'guido', 'valdis', 'Valdis', 'Liga'],\n",
       "  49: {'jack': 9000,\n",
       "   'guido': 4127,\n",
       "   'valdis': [9000, 2640, 2911],\n",
       "   'Valdis': 4127,\n",
       "   'Liga': 911,\n",
       "   'irv': 4127,\n",
       "   'police': 911,\n",
       "   'rtu': 777700},\n",
       "  51: 3,\n",
       "  52: 3,\n",
       "  53: 0,\n",
       "  55: {'jack': 9000,\n",
       "   'guido': 4127,\n",
       "   'valdis': [9000, 2640, 2911],\n",
       "   'Valdis': 4127,\n",
       "   'Liga': 911,\n",
       "   'irv': 4127,\n",
       "   'police': 911,\n",
       "   'rtu': 777700},\n",
       "  57: {'jack': 9000,\n",
       "   'guido': 4127,\n",
       "   'valdis': [9000, 2640, 2911],\n",
       "   'Valdis': 4127,\n",
       "   'Liga': 911,\n",
       "   'irv': 4127,\n",
       "   'police': 911,\n",
       "   'rtu': 777700},\n",
       "  58: dict,\n",
       "  59: {'jack': 9000,\n",
       "   'guido': 4127,\n",
       "   'valdis': [9000, 2640, 2911],\n",
       "   'Valdis': 4127,\n",
       "   'Liga': 911,\n",
       "   'irv': 4127,\n",
       "   'police': 911,\n",
       "   'rtu': 777700},\n",
       "  60: {'jack': 9000,\n",
       "   'guido': 4127,\n",
       "   'valdis': [9000, 2640, 2911],\n",
       "   'Valdis': 4127,\n",
       "   'Liga': 911,\n",
       "   'irv': 4127,\n",
       "   'police': 911,\n",
       "   'rtu': 777700},\n",
       "  61: (9000, 9000),\n",
       "  64: {'jack': 9000,\n",
       "   'guido': 4127,\n",
       "   'valdis': [9000, 2640, 2911],\n",
       "   'Valdis': 4127,\n",
       "   'Liga': 911,\n",
       "   'irv': 4127,\n",
       "   'police': 911,\n",
       "   'rtu': 777700},\n",
       "  65: 5555,\n",
       "  67: 242342,\n",
       "  68: [9000, 2640, 2911],\n",
       "  69: 2911,\n",
       "  70: 4127,\n",
       "  72: {'jack': 9000,\n",
       "   'guido': 4127,\n",
       "   'valdis': [9000, 2640, 2911],\n",
       "   'Valdis': 4127,\n",
       "   'Liga': 911,\n",
       "   'irv': 4127,\n",
       "   'police': 911,\n",
       "   'rtu': 777700},\n",
       "  73: {'Liga': 911,\n",
       "   'Valdis': 4127,\n",
       "   'guido': 4127,\n",
       "   'irv': 4127,\n",
       "   'jack': 9000,\n",
       "   'police': 911,\n",
       "   'rtu': 777700,\n",
       "   'valdis': [9000, 2640, 2911]},\n",
       "  74: {'potatoes': 28,\n",
       "   'carrots': 25,\n",
       "   'beets': 23,\n",
       "   'pumpkins': 22,\n",
       "   'chocolate': 30},\n",
       "  78: {'potatoes': 28,\n",
       "   'carrots': 25,\n",
       "   'beets': 23,\n",
       "   'pumpkins': 22,\n",
       "   'chocolate': 30},\n",
       "  79: {'potatoes': 28,\n",
       "   'carrots': 25,\n",
       "   'beets': 23,\n",
       "   'pumpkins': 22,\n",
       "   'chocolate': 30},\n",
       "  82: {'potatoes': {'id': 101, 'quantity': 28},\n",
       "   'carrots': {'id': 102, 'quantity': 25},\n",
       "   'beets': {'id': 103, 'quantity': 23},\n",
       "   'pumpkins': {'id': 104, 'quantity': 22},\n",
       "   'chocolate': {'id': 105, 'quantity': 30}},\n",
       "  83: ({'id': 103, 'quantity': 23}, {'id': 103, 'quantity': 23}),\n",
       "  84: {'id': 103, 'quantity': 23},\n",
       "  85: 23,\n",
       "  86: 23,\n",
       "  87: {'a': 1, 'b': 2, 3: 'c', '3': '3c'},\n",
       "  88: ('c', '3c'),\n",
       "  90: ['Valdis', 'valdis', 'Antons', 'Anna', 'Kārlis', 'karlis']},\n",
       " '_dh': ['C:\\\\Users\\\\liga\\\\Github\\\\Python_DIP720_RTU_Spring_2021\\\\core'],\n",
       " 'In': ['',\n",
       "  'emptyd = {}\\nlen(emptyd)',\n",
       "  'type(emptyd)',\n",
       "  'empty_dict_2 = dict()\\nempty_dict_2',\n",
       "  'emptyd',\n",
       "  'emptyd = {} #shortest using curly braces\\nlen(emptyd)',\n",
       "  \"tel = {'jack': 4098, 'sape': 4139} # so  { key: value, key2:value2, and so on}\\nprint(tel)\",\n",
       "  \"tel = {'jack': 4098, 'sape': 4139} # so  { key: value, key2:value2, and so on}\\n# there is no string requirement for values to be of same type\\nprint(tel)\",\n",
       "  \"# so what can be keys ? what happens if we add second identical key\\ntel = {'jack': 4098, 'sape': 4139, 'jack': 9000} # you generally should not do this, keys should be unique\\nprint(tel)\",\n",
       "  \"# so what can be keys ? what happens if we add second identical key\\ntel = {'jack': 4098, 'sape': 4139, 'jack': 9000}\\n# you generally should not do this, keys should be unique\\nprint(tel)\",\n",
       "  \"# add a new key-value pair\\ntel['guido'] = 4127\\nprint(tel.keys())\\nprint(tel.values())\",\n",
       "  \"# add key 'valdis' with value 4127 to our tel dictionary\\ntel['valdis'] = 4127\\ntel # so values can be same\",\n",
       "  \"# add key 'valdis' with value 4127 to our tel dictionary\\ntel['valdis'] = 4127\\ntel # so values can be same\",\n",
       "  \"tel['Valdis'] = 4127\\ntel\",\n",
       "  \"tel['Valdis']\",\n",
       "  \"tel['Liga']\",\n",
       "  \"tel['valdis'] = [9000,2640,2911]\\ntel\",\n",
       "  \"tel['valdis'] = [9000,2640,2911] # so values can be nested\\ntel\",\n",
       "  \"tel_list = [['jack',9000], ['valdis',9000]]\\ntel_list\",\n",
       "  \"#get value from key in dictionary\\n# very fast even in large dictionaries! O(1)\\n# this means even a huge dictionary will retrieve the values in constant time - ie very quickly\\n\\ntel['jack']\",\n",
       "  \"tel['Valdis'] # this should give error because no such key exists\",\n",
       "  \"# check for key in our dictionary\\n'valdis' in tel\",\n",
       "  \"'peteris' in tel\",\n",
       "  '# key = \\'nnevaldis\\'\\nkey = \\'valdis\\'\\nif key in tel:\\n    print(tel[key]) # we print the value of the key if there is such a key\\nelse:\\n    print(\"No such key\")',\n",
       "  'def check_key(my_dict, key, default=\"No such key\"):\\n    if key in my_dict:\\n        return my_dict[key]\\n    else\\n        return default',\n",
       "  'def check_key(my_dict, key, default=\"No such key\"):\\n    if key in my_dict:\\n        return my_dict[key]\\n    else:\\n        return default',\n",
       "  \"check_key(tel, 'Valdis')\",\n",
       "  'check_key(tel, \"Liga\")',\n",
       "  'check_key(tel, \"Peter\", \"No peter here!\")',\n",
       "  '# Turns all that work on my nice function was not needed because Python already provides this :)',\n",
       "  \"tel.get('valdis') # gets value by key without errors\",\n",
       "  '# so you can use get method on a dictionary and it will return value or None by default if no key exists',\n",
       "  \"print(tel.get('nevaldis')) #by default on bad key we get None\",\n",
       "  \"tel.get('nevaldis', 555-1212) # we can change the return on bad keys to our own \",\n",
       "  \"tel.get('nevaldis', '555-1212') # we can change the return on bad keys to our own \",\n",
       "  'tel.get(\\'Liga\\', \"Liga where are you?\")',\n",
       "  \"tel['Liga'] = 911\",\n",
       "  'tel.get(\\'Liga\\', \"Liga where are you?\")',\n",
       "  \"# remove key value pair # rarer\\ntel['sape'] = 665453 # create key or overwrite if it existed\\ndel tel['sape']\\ntel\",\n",
       "  \"tel.get('sape', 'Sorry no such key')\",\n",
       "  \"'valdis' in tel.keys()\",\n",
       "  '# this will be slower going through all the key:value pairs\\n4127 in tel.values()',\n",
       "  '112 in tel.values()',\n",
       "  'type(tel.values())',\n",
       "  'tel.values()',\n",
       "  'value_list = list(tel.values())\\nvalue_list',\n",
       "  'key_list = list(tel.keys())\\nkey_list',\n",
       "  'key_list = list(tel.keys())\\nkey_list # again are living their lives separate from our dictionary',\n",
       "  \"tel['irv'] = 4127\",\n",
       "  'tel',\n",
       "  'tel.values().count(4127)',\n",
       "  '# tel.values.count(4127) dict_values has no count\\ntelvalues = list(tel.values())\\ntelvalues.count(4127)',\n",
       "  'list(tel.values()).count(4127)',\n",
       "  'list(tel.values()).count(9004127)',\n",
       "  'def set_key_value(my_dict, key, value):\\n    if key not in my_dict:\\n        my_dict[key] = value\\n        print(f\"Added new key {key} value {value} pair\")\\n    else:\\n        print(\"You already have key\", key, \"value\", tel[key])\\nset_key_value(tel, \"police\", 911)',\n",
       "  'tel',\n",
       "  'set_key_value(tel, \"police\", 911)',\n",
       "  '# the above code can be written using setdefault method\\ntel.setdefault(\"rtu\", 777700) # so this will only work once\\ntel',\n",
       "  'type(tel)',\n",
       "  '# the above code can be written using setdefault method\\ntel.setdefault(\"rtu\", 777700) # so this will only work once\\ntel',\n",
       "  '# the above code can be written using setdefault method\\ntel.setdefault(\"rtu\", 9635678) # so this will only work once\\ntel',\n",
       "  \"tel.get('jack'), tel['jack'] # the diffence being that get doesnt throw errors\",\n",
       "  'get_ipython().run_cell_magic(\\'timeit\\', \\'\\', \"tel.get(\\'jack\\')\\\\n\")',\n",
       "  'get_ipython().run_cell_magic(\\'timeit\\', \\'\\', \"tel[\\'jack\\']\\\\n\")',\n",
       "  'tel[1] = 5555 # we can use numbers as keys in our dictionary but generally best avoided\\ntel',\n",
       "  'tel[1]',\n",
       "  '# problem is that numbers as keys look like list but dictionaries work differently',\n",
       "  'myphonelist=[3432432,242342,24,234,2432]\\nmyphonelist[1]',\n",
       "  \"valdisphones = tel.get('valdis')\\nvaldisphones # this is just a reference to a list\",\n",
       "  '# how to get last phone number from irvingphones ?\\nvaldisphones[-1]',\n",
       "  \"tel['irv']\",\n",
       "  'print(tel)',\n",
       "  'del tel[1]\\ntel',\n",
       "  'sorted_tel = {}\\nfor key in sorted(tel.keys()):\\n    sorted_tel[key] = tel[key]\\n# this looping is not free and would take the size the whole dictionary plus sorting is also takes time\\nsorted_tel',\n",
       "  'shopdict = {\"potatoes\":8, \"carrots\": 5, \"beets\": 3, \"pumpkins\":2, \"chocolate\":10}\\nshopdict',\n",
       "  'for key,value in shopdict.items(): # key and value are just names we made up also common is k,v\\n    print(key,value)\\n    print(f\"Buying {value}kgs of {key}\")',\n",
       "  'for key,value in shopdict.items(): # key and value are just names we made up also common is k,v\\n    print(key,value)\\n    print(f\"Buying {value} kgs of {key}\")',\n",
       "  '# another method of looping is to just use key\\nfor key in shopdict: # so only key is provided\\n    print(key, shopdict[key]) # no need for shopdict.get since key is guaranteed here',\n",
       "  'for key in shopdict:\\n    shopdict[key] += 10 # same as shopdict[key] = shopdict[key] + 10\\nshopdict',\n",
       "  '# it is normal to adjust values in a dictionary inside loop\\nfor key in shopdict:\\n    shopdict[key] += 10 # same as shopdict[key] = shopdict[key] + 10\\nshopdict',\n",
       "  'newlist = []\\nnewdict = {}\\nfor index,(key,value) in enumerate(shopdict.items(), start=101):\\n    print(index,key,value)\\n    newlist.append([index,key,value])\\n    newdict[index] = (key,value)\\nprint(newlist)\\nprint(newdict)',\n",
       "  'newlist = []\\nnewdict = {}\\nfor index,(key,value) in enumerate(shopdict.items(), start=101):\\n    print(index,key,value)\\n    newlist.append([index,key,value])\\n    newdict[key] = (index,value)\\nprint(newlist)\\nprint(newdict)',\n",
       "  \"newdict2 = {}\\nfor item in newlist:\\n    newdict2[item[1]] = {'id':item[0],'quantity':item[2]}\\nnewdict2 # so this will be dictionary with values being separate dictionaries\",\n",
       "  \"# can you get me quantity of beets needed from newdict2 ?\\nnewdict2['beets'], newdict2.get('beets')\",\n",
       "  \"# can you get me quantity of beets needed from newdict2 ?\\nnewdict2['beets'] # this would work as well newdict2.get('beets')\",\n",
       "  \"newdict2['beets']['quantity']\",\n",
       "  \"newdict2.get('beets').get('quantity') # somewhat less common due to mostly laziness i think :0\",\n",
       "  \"# there are other of creating dictionaries\\nt3 = dict([['a', 1],['b',2],[3, 'c'], ['3', '3c']]) # so passing 2-D list (tuple would work as well)\\nt3\",\n",
       "  \"t3[3],t3['3'] # two different keys integer 3 and string 3\",\n",
       "  \"# alternative way of creating a dictionary using list of tuples ()\\nt2=dict([('sape', 4139), ('guido', 4127), ('jack', 4098)])\\nprint(t2)\",\n",
       "  \"names = ['Valdis', 'valdis', 'Antons', 'Anna', 'Kārlis', 'karlis']\\nnames\",\n",
       "  'globals()'],\n",
       " 'Out': {1: 0,\n",
       "  2: dict,\n",
       "  3: {},\n",
       "  4: {},\n",
       "  5: 0,\n",
       "  11: {'jack': 9000,\n",
       "   'guido': 4127,\n",
       "   'valdis': [9000, 2640, 2911],\n",
       "   'Valdis': 4127,\n",
       "   'Liga': 911,\n",
       "   'irv': 4127,\n",
       "   'police': 911,\n",
       "   'rtu': 777700},\n",
       "  12: {'jack': 9000,\n",
       "   'guido': 4127,\n",
       "   'valdis': [9000, 2640, 2911],\n",
       "   'Valdis': 4127,\n",
       "   'Liga': 911,\n",
       "   'irv': 4127,\n",
       "   'police': 911,\n",
       "   'rtu': 777700},\n",
       "  13: {'jack': 9000,\n",
       "   'guido': 4127,\n",
       "   'valdis': [9000, 2640, 2911],\n",
       "   'Valdis': 4127,\n",
       "   'Liga': 911,\n",
       "   'irv': 4127,\n",
       "   'police': 911,\n",
       "   'rtu': 777700},\n",
       "  14: 4127,\n",
       "  16: {'jack': 9000,\n",
       "   'guido': 4127,\n",
       "   'valdis': [9000, 2640, 2911],\n",
       "   'Valdis': 4127,\n",
       "   'Liga': 911,\n",
       "   'irv': 4127,\n",
       "   'police': 911,\n",
       "   'rtu': 777700},\n",
       "  17: {'jack': 9000,\n",
       "   'guido': 4127,\n",
       "   'valdis': [9000, 2640, 2911],\n",
       "   'Valdis': 4127,\n",
       "   'Liga': 911,\n",
       "   'irv': 4127,\n",
       "   'police': 911,\n",
       "   'rtu': 777700},\n",
       "  18: [['jack', 9000], ['valdis', 9000]],\n",
       "  19: 9000,\n",
       "  20: 4127,\n",
       "  21: True,\n",
       "  22: False,\n",
       "  26: 4127,\n",
       "  27: 'No such key',\n",
       "  28: 'No peter here!',\n",
       "  30: [9000, 2640, 2911],\n",
       "  33: -657,\n",
       "  34: '555-1212',\n",
       "  35: 'Liga where are you?',\n",
       "  37: 911,\n",
       "  38: {'jack': 9000,\n",
       "   'guido': 4127,\n",
       "   'valdis': [9000, 2640, 2911],\n",
       "   'Valdis': 4127,\n",
       "   'Liga': 911,\n",
       "   'irv': 4127,\n",
       "   'police': 911,\n",
       "   'rtu': 777700},\n",
       "  39: 'Sorry no such key',\n",
       "  40: True,\n",
       "  41: True,\n",
       "  42: False,\n",
       "  43: dict_values,\n",
       "  44: dict_values([9000, 4127, [9000, 2640, 2911], 4127, 911, 4127, 911, 777700]),\n",
       "  45: [9000, 4127, [9000, 2640, 2911], 4127, 911],\n",
       "  46: ['jack', 'guido', 'valdis', 'Valdis', 'Liga'],\n",
       "  47: ['jack', 'guido', 'valdis', 'Valdis', 'Liga'],\n",
       "  49: {'jack': 9000,\n",
       "   'guido': 4127,\n",
       "   'valdis': [9000, 2640, 2911],\n",
       "   'Valdis': 4127,\n",
       "   'Liga': 911,\n",
       "   'irv': 4127,\n",
       "   'police': 911,\n",
       "   'rtu': 777700},\n",
       "  51: 3,\n",
       "  52: 3,\n",
       "  53: 0,\n",
       "  55: {'jack': 9000,\n",
       "   'guido': 4127,\n",
       "   'valdis': [9000, 2640, 2911],\n",
       "   'Valdis': 4127,\n",
       "   'Liga': 911,\n",
       "   'irv': 4127,\n",
       "   'police': 911,\n",
       "   'rtu': 777700},\n",
       "  57: {'jack': 9000,\n",
       "   'guido': 4127,\n",
       "   'valdis': [9000, 2640, 2911],\n",
       "   'Valdis': 4127,\n",
       "   'Liga': 911,\n",
       "   'irv': 4127,\n",
       "   'police': 911,\n",
       "   'rtu': 777700},\n",
       "  58: dict,\n",
       "  59: {'jack': 9000,\n",
       "   'guido': 4127,\n",
       "   'valdis': [9000, 2640, 2911],\n",
       "   'Valdis': 4127,\n",
       "   'Liga': 911,\n",
       "   'irv': 4127,\n",
       "   'police': 911,\n",
       "   'rtu': 777700},\n",
       "  60: {'jack': 9000,\n",
       "   'guido': 4127,\n",
       "   'valdis': [9000, 2640, 2911],\n",
       "   'Valdis': 4127,\n",
       "   'Liga': 911,\n",
       "   'irv': 4127,\n",
       "   'police': 911,\n",
       "   'rtu': 777700},\n",
       "  61: (9000, 9000),\n",
       "  64: {'jack': 9000,\n",
       "   'guido': 4127,\n",
       "   'valdis': [9000, 2640, 2911],\n",
       "   'Valdis': 4127,\n",
       "   'Liga': 911,\n",
       "   'irv': 4127,\n",
       "   'police': 911,\n",
       "   'rtu': 777700},\n",
       "  65: 5555,\n",
       "  67: 242342,\n",
       "  68: [9000, 2640, 2911],\n",
       "  69: 2911,\n",
       "  70: 4127,\n",
       "  72: {'jack': 9000,\n",
       "   'guido': 4127,\n",
       "   'valdis': [9000, 2640, 2911],\n",
       "   'Valdis': 4127,\n",
       "   'Liga': 911,\n",
       "   'irv': 4127,\n",
       "   'police': 911,\n",
       "   'rtu': 777700},\n",
       "  73: {'Liga': 911,\n",
       "   'Valdis': 4127,\n",
       "   'guido': 4127,\n",
       "   'irv': 4127,\n",
       "   'jack': 9000,\n",
       "   'police': 911,\n",
       "   'rtu': 777700,\n",
       "   'valdis': [9000, 2640, 2911]},\n",
       "  74: {'potatoes': 28,\n",
       "   'carrots': 25,\n",
       "   'beets': 23,\n",
       "   'pumpkins': 22,\n",
       "   'chocolate': 30},\n",
       "  78: {'potatoes': 28,\n",
       "   'carrots': 25,\n",
       "   'beets': 23,\n",
       "   'pumpkins': 22,\n",
       "   'chocolate': 30},\n",
       "  79: {'potatoes': 28,\n",
       "   'carrots': 25,\n",
       "   'beets': 23,\n",
       "   'pumpkins': 22,\n",
       "   'chocolate': 30},\n",
       "  82: {'potatoes': {'id': 101, 'quantity': 28},\n",
       "   'carrots': {'id': 102, 'quantity': 25},\n",
       "   'beets': {'id': 103, 'quantity': 23},\n",
       "   'pumpkins': {'id': 104, 'quantity': 22},\n",
       "   'chocolate': {'id': 105, 'quantity': 30}},\n",
       "  83: ({'id': 103, 'quantity': 23}, {'id': 103, 'quantity': 23}),\n",
       "  84: {'id': 103, 'quantity': 23},\n",
       "  85: 23,\n",
       "  86: 23,\n",
       "  87: {'a': 1, 'b': 2, 3: 'c', '3': '3c'},\n",
       "  88: ('c', '3c'),\n",
       "  90: ['Valdis', 'valdis', 'Antons', 'Anna', 'Kārlis', 'karlis']},\n",
       " 'get_ipython': <bound method InteractiveShell.get_ipython of <ipykernel.zmqshell.ZMQInteractiveShell object at 0x000002243A65A100>>,\n",
       " 'exit': <IPython.core.autocall.ZMQExitAutocall at 0x2243a6f1e20>,\n",
       " 'quit': <IPython.core.autocall.ZMQExitAutocall at 0x2243a6f1e20>,\n",
       " '_': ['Valdis', 'valdis', 'Antons', 'Anna', 'Kārlis', 'karlis'],\n",
       " '__': ('c', '3c'),\n",
       " '___': {'a': 1, 'b': 2, 3: 'c', '3': '3c'},\n",
       " '_i': \"names = ['Valdis', 'valdis', 'Antons', 'Anna', 'Kārlis', 'karlis']\\nnames\",\n",
       " '_ii': \"# alternative way of creating a dictionary using list of tuples ()\\nt2=dict([('sape', 4139), ('guido', 4127), ('jack', 4098)])\\nprint(t2)\",\n",
       " '_iii': \"t3[3],t3['3'] # two different keys integer 3 and string 3\",\n",
       " '_i1': 'emptyd = {}\\nlen(emptyd)',\n",
       " 'emptyd': {},\n",
       " '_1': 0,\n",
       " '_i2': 'type(emptyd)',\n",
       " '_2': dict,\n",
       " '_i3': 'empty_dict_2 = dict()\\nempty_dict_2',\n",
       " 'empty_dict_2': {},\n",
       " '_3': {},\n",
       " '_i4': 'emptyd',\n",
       " '_4': {},\n",
       " '_i5': 'emptyd = {} #shortest using curly braces\\nlen(emptyd)',\n",
       " '_5': 0,\n",
       " '_i6': \"tel = {'jack': 4098, 'sape': 4139} # so  { key: value, key2:value2, and so on}\\nprint(tel)\",\n",
       " 'tel': {'jack': 9000,\n",
       "  'guido': 4127,\n",
       "  'valdis': [9000, 2640, 2911],\n",
       "  'Valdis': 4127,\n",
       "  'Liga': 911,\n",
       "  'irv': 4127,\n",
       "  'police': 911,\n",
       "  'rtu': 777700},\n",
       " '_i7': \"tel = {'jack': 4098, 'sape': 4139} # so  { key: value, key2:value2, and so on}\\n# there is no string requirement for values to be of same type\\nprint(tel)\",\n",
       " '_i8': \"# so what can be keys ? what happens if we add second identical key\\ntel = {'jack': 4098, 'sape': 4139, 'jack': 9000} # you generally should not do this, keys should be unique\\nprint(tel)\",\n",
       " '_i9': \"# so what can be keys ? what happens if we add second identical key\\ntel = {'jack': 4098, 'sape': 4139, 'jack': 9000}\\n# you generally should not do this, keys should be unique\\nprint(tel)\",\n",
       " '_i10': \"# add a new key-value pair\\ntel['guido'] = 4127\\nprint(tel.keys())\\nprint(tel.values())\",\n",
       " '_i11': \"# add key 'valdis' with value 4127 to our tel dictionary\\ntel['valdis'] = 4127\\ntel # so values can be same\",\n",
       " '_11': {'jack': 9000,\n",
       "  'guido': 4127,\n",
       "  'valdis': [9000, 2640, 2911],\n",
       "  'Valdis': 4127,\n",
       "  'Liga': 911,\n",
       "  'irv': 4127,\n",
       "  'police': 911,\n",
       "  'rtu': 777700},\n",
       " '_i12': \"# add key 'valdis' with value 4127 to our tel dictionary\\ntel['valdis'] = 4127\\ntel # so values can be same\",\n",
       " '_12': {'jack': 9000,\n",
       "  'guido': 4127,\n",
       "  'valdis': [9000, 2640, 2911],\n",
       "  'Valdis': 4127,\n",
       "  'Liga': 911,\n",
       "  'irv': 4127,\n",
       "  'police': 911,\n",
       "  'rtu': 777700},\n",
       " '_i13': \"tel['Valdis'] = 4127\\ntel\",\n",
       " '_13': {'jack': 9000,\n",
       "  'guido': 4127,\n",
       "  'valdis': [9000, 2640, 2911],\n",
       "  'Valdis': 4127,\n",
       "  'Liga': 911,\n",
       "  'irv': 4127,\n",
       "  'police': 911,\n",
       "  'rtu': 777700},\n",
       " '_i14': \"tel['Valdis']\",\n",
       " '_14': 4127,\n",
       " '_i15': \"tel['Liga']\",\n",
       " '_i16': \"tel['valdis'] = [9000,2640,2911]\\ntel\",\n",
       " '_16': {'jack': 9000,\n",
       "  'guido': 4127,\n",
       "  'valdis': [9000, 2640, 2911],\n",
       "  'Valdis': 4127,\n",
       "  'Liga': 911,\n",
       "  'irv': 4127,\n",
       "  'police': 911,\n",
       "  'rtu': 777700},\n",
       " '_i17': \"tel['valdis'] = [9000,2640,2911] # so values can be nested\\ntel\",\n",
       " '_17': {'jack': 9000,\n",
       "  'guido': 4127,\n",
       "  'valdis': [9000, 2640, 2911],\n",
       "  'Valdis': 4127,\n",
       "  'Liga': 911,\n",
       "  'irv': 4127,\n",
       "  'police': 911,\n",
       "  'rtu': 777700},\n",
       " '_i18': \"tel_list = [['jack',9000], ['valdis',9000]]\\ntel_list\",\n",
       " 'tel_list': [['jack', 9000], ['valdis', 9000]],\n",
       " '_18': [['jack', 9000], ['valdis', 9000]],\n",
       " '_i19': \"#get value from key in dictionary\\n# very fast even in large dictionaries! O(1)\\n# this means even a huge dictionary will retrieve the values in constant time - ie very quickly\\n\\ntel['jack']\",\n",
       " '_19': 9000,\n",
       " '_i20': \"tel['Valdis'] # this should give error because no such key exists\",\n",
       " '_20': 4127,\n",
       " '_i21': \"# check for key in our dictionary\\n'valdis' in tel\",\n",
       " '_21': True,\n",
       " '_i22': \"'peteris' in tel\",\n",
       " '_22': False,\n",
       " '_i23': '# key = \\'nnevaldis\\'\\nkey = \\'valdis\\'\\nif key in tel:\\n    print(tel[key]) # we print the value of the key if there is such a key\\nelse:\\n    print(\"No such key\")',\n",
       " 'key': 'chocolate',\n",
       " '_i24': 'def check_key(my_dict, key, default=\"No such key\"):\\n    if key in my_dict:\\n        return my_dict[key]\\n    else\\n        return default',\n",
       " '_i25': 'def check_key(my_dict, key, default=\"No such key\"):\\n    if key in my_dict:\\n        return my_dict[key]\\n    else:\\n        return default',\n",
       " 'check_key': <function __main__.check_key(my_dict, key, default='No such key')>,\n",
       " '_i26': \"check_key(tel, 'Valdis')\",\n",
       " '_26': 4127,\n",
       " '_i27': 'check_key(tel, \"Liga\")',\n",
       " '_27': 'No such key',\n",
       " '_i28': 'check_key(tel, \"Peter\", \"No peter here!\")',\n",
       " '_28': 'No peter here!',\n",
       " '_i29': '# Turns all that work on my nice function was not needed because Python already provides this :)',\n",
       " '_i30': \"tel.get('valdis') # gets value by key without errors\",\n",
       " '_30': [9000, 2640, 2911],\n",
       " '_i31': '# so you can use get method on a dictionary and it will return value or None by default if no key exists',\n",
       " '_i32': \"print(tel.get('nevaldis')) #by default on bad key we get None\",\n",
       " '_i33': \"tel.get('nevaldis', 555-1212) # we can change the return on bad keys to our own \",\n",
       " '_33': -657,\n",
       " '_i34': \"tel.get('nevaldis', '555-1212') # we can change the return on bad keys to our own \",\n",
       " '_34': '555-1212',\n",
       " '_i35': 'tel.get(\\'Liga\\', \"Liga where are you?\")',\n",
       " '_35': 'Liga where are you?',\n",
       " '_i36': \"tel['Liga'] = 911\",\n",
       " '_i37': 'tel.get(\\'Liga\\', \"Liga where are you?\")',\n",
       " '_37': 911,\n",
       " '_i38': \"# remove key value pair # rarer\\ntel['sape'] = 665453 # create key or overwrite if it existed\\ndel tel['sape']\\ntel\",\n",
       " '_38': {'jack': 9000,\n",
       "  'guido': 4127,\n",
       "  'valdis': [9000, 2640, 2911],\n",
       "  'Valdis': 4127,\n",
       "  'Liga': 911,\n",
       "  'irv': 4127,\n",
       "  'police': 911,\n",
       "  'rtu': 777700},\n",
       " '_i39': \"tel.get('sape', 'Sorry no such key')\",\n",
       " '_39': 'Sorry no such key',\n",
       " '_i40': \"'valdis' in tel.keys()\",\n",
       " '_40': True,\n",
       " '_i41': '# this will be slower going through all the key:value pairs\\n4127 in tel.values()',\n",
       " '_41': True,\n",
       " '_i42': '112 in tel.values()',\n",
       " '_42': False,\n",
       " '_i43': 'type(tel.values())',\n",
       " '_43': dict_values,\n",
       " '_i44': 'tel.values()',\n",
       " '_44': dict_values([9000, 4127, [9000, 2640, 2911], 4127, 911, 4127, 911, 777700]),\n",
       " '_i45': 'value_list = list(tel.values())\\nvalue_list',\n",
       " 'value_list': [9000, 4127, [9000, 2640, 2911], 4127, 911],\n",
       " '_45': [9000, 4127, [9000, 2640, 2911], 4127, 911],\n",
       " '_i46': 'key_list = list(tel.keys())\\nkey_list',\n",
       " 'key_list': ['jack', 'guido', 'valdis', 'Valdis', 'Liga'],\n",
       " '_46': ['jack', 'guido', 'valdis', 'Valdis', 'Liga'],\n",
       " '_i47': 'key_list = list(tel.keys())\\nkey_list # again are living their lives separate from our dictionary',\n",
       " '_47': ['jack', 'guido', 'valdis', 'Valdis', 'Liga'],\n",
       " '_i48': \"tel['irv'] = 4127\",\n",
       " '_i49': 'tel',\n",
       " '_49': {'jack': 9000,\n",
       "  'guido': 4127,\n",
       "  'valdis': [9000, 2640, 2911],\n",
       "  'Valdis': 4127,\n",
       "  'Liga': 911,\n",
       "  'irv': 4127,\n",
       "  'police': 911,\n",
       "  'rtu': 777700},\n",
       " '_i50': 'tel.values().count(4127)',\n",
       " '_i51': '# tel.values.count(4127) dict_values has no count\\ntelvalues = list(tel.values())\\ntelvalues.count(4127)',\n",
       " 'telvalues': [9000, 4127, [9000, 2640, 2911], 4127, 911, 4127],\n",
       " '_51': 3,\n",
       " '_i52': 'list(tel.values()).count(4127)',\n",
       " '_52': 3,\n",
       " '_i53': 'list(tel.values()).count(9004127)',\n",
       " '_53': 0,\n",
       " '_i54': 'def set_key_value(my_dict, key, value):\\n    if key not in my_dict:\\n        my_dict[key] = value\\n        print(f\"Added new key {key} value {value} pair\")\\n    else:\\n        print(\"You already have key\", key, \"value\", tel[key])\\nset_key_value(tel, \"police\", 911)',\n",
       " 'set_key_value': <function __main__.set_key_value(my_dict, key, value)>,\n",
       " '_i55': 'tel',\n",
       " '_55': {'jack': 9000,\n",
       "  'guido': 4127,\n",
       "  'valdis': [9000, 2640, 2911],\n",
       "  'Valdis': 4127,\n",
       "  'Liga': 911,\n",
       "  'irv': 4127,\n",
       "  'police': 911,\n",
       "  'rtu': 777700},\n",
       " '_i56': 'set_key_value(tel, \"police\", 911)',\n",
       " '_i57': '# the above code can be written using setdefault method\\ntel.setdefault(\"rtu\", 777700) # so this will only work once\\ntel',\n",
       " '_57': {'jack': 9000,\n",
       "  'guido': 4127,\n",
       "  'valdis': [9000, 2640, 2911],\n",
       "  'Valdis': 4127,\n",
       "  'Liga': 911,\n",
       "  'irv': 4127,\n",
       "  'police': 911,\n",
       "  'rtu': 777700},\n",
       " '_i58': 'type(tel)',\n",
       " '_58': dict,\n",
       " '_i59': '# the above code can be written using setdefault method\\ntel.setdefault(\"rtu\", 777700) # so this will only work once\\ntel',\n",
       " '_59': {'jack': 9000,\n",
       "  'guido': 4127,\n",
       "  'valdis': [9000, 2640, 2911],\n",
       "  'Valdis': 4127,\n",
       "  'Liga': 911,\n",
       "  'irv': 4127,\n",
       "  'police': 911,\n",
       "  'rtu': 777700},\n",
       " '_i60': '# the above code can be written using setdefault method\\ntel.setdefault(\"rtu\", 9635678) # so this will only work once\\ntel',\n",
       " '_60': {'jack': 9000,\n",
       "  'guido': 4127,\n",
       "  'valdis': [9000, 2640, 2911],\n",
       "  'Valdis': 4127,\n",
       "  'Liga': 911,\n",
       "  'irv': 4127,\n",
       "  'police': 911,\n",
       "  'rtu': 777700},\n",
       " '_i61': \"tel.get('jack'), tel['jack'] # the diffence being that get doesnt throw errors\",\n",
       " '_61': (9000, 9000),\n",
       " '_i62': \"%%timeit \\ntel.get('jack')\",\n",
       " '_i63': \"%%timeit\\ntel['jack']\",\n",
       " '_i64': 'tel[1] = 5555 # we can use numbers as keys in our dictionary but generally best avoided\\ntel',\n",
       " '_64': {'jack': 9000,\n",
       "  'guido': 4127,\n",
       "  'valdis': [9000, 2640, 2911],\n",
       "  'Valdis': 4127,\n",
       "  'Liga': 911,\n",
       "  'irv': 4127,\n",
       "  'police': 911,\n",
       "  'rtu': 777700},\n",
       " '_i65': 'tel[1]',\n",
       " '_65': 5555,\n",
       " '_i66': '# problem is that numbers as keys look like list but dictionaries work differently',\n",
       " '_i67': 'myphonelist=[3432432,242342,24,234,2432]\\nmyphonelist[1]',\n",
       " 'myphonelist': [3432432, 242342, 24, 234, 2432],\n",
       " '_67': 242342,\n",
       " '_i68': \"valdisphones = tel.get('valdis')\\nvaldisphones # this is just a reference to a list\",\n",
       " 'valdisphones': [9000, 2640, 2911],\n",
       " '_68': [9000, 2640, 2911],\n",
       " '_i69': '# how to get last phone number from irvingphones ?\\nvaldisphones[-1]',\n",
       " '_69': 2911,\n",
       " '_i70': \"tel['irv']\",\n",
       " '_70': 4127,\n",
       " '_i71': 'print(tel)',\n",
       " '_i72': 'del tel[1]\\ntel',\n",
       " '_72': {'jack': 9000,\n",
       "  'guido': 4127,\n",
       "  'valdis': [9000, 2640, 2911],\n",
       "  'Valdis': 4127,\n",
       "  'Liga': 911,\n",
       "  'irv': 4127,\n",
       "  'police': 911,\n",
       "  'rtu': 777700},\n",
       " '_i73': 'sorted_tel = {}\\nfor key in sorted(tel.keys()):\\n    sorted_tel[key] = tel[key]\\n# this looping is not free and would take the size the whole dictionary plus sorting is also takes time\\nsorted_tel',\n",
       " 'sorted_tel': {'Liga': 911,\n",
       "  'Valdis': 4127,\n",
       "  'guido': 4127,\n",
       "  'irv': 4127,\n",
       "  'jack': 9000,\n",
       "  'police': 911,\n",
       "  'rtu': 777700,\n",
       "  'valdis': [9000, 2640, 2911]},\n",
       " '_73': {'Liga': 911,\n",
       "  'Valdis': 4127,\n",
       "  'guido': 4127,\n",
       "  'irv': 4127,\n",
       "  'jack': 9000,\n",
       "  'police': 911,\n",
       "  'rtu': 777700,\n",
       "  'valdis': [9000, 2640, 2911]},\n",
       " '_i74': 'shopdict = {\"potatoes\":8, \"carrots\": 5, \"beets\": 3, \"pumpkins\":2, \"chocolate\":10}\\nshopdict',\n",
       " 'shopdict': {'potatoes': 28,\n",
       "  'carrots': 25,\n",
       "  'beets': 23,\n",
       "  'pumpkins': 22,\n",
       "  'chocolate': 30},\n",
       " '_74': {'potatoes': 28,\n",
       "  'carrots': 25,\n",
       "  'beets': 23,\n",
       "  'pumpkins': 22,\n",
       "  'chocolate': 30},\n",
       " '_i75': 'for key,value in shopdict.items(): # key and value are just names we made up also common is k,v\\n    print(key,value)\\n    print(f\"Buying {value}kgs of {key}\")',\n",
       " 'value': 30,\n",
       " '_i76': 'for key,value in shopdict.items(): # key and value are just names we made up also common is k,v\\n    print(key,value)\\n    print(f\"Buying {value} kgs of {key}\")',\n",
       " '_i77': '# another method of looping is to just use key\\nfor key in shopdict: # so only key is provided\\n    print(key, shopdict[key]) # no need for shopdict.get since key is guaranteed here',\n",
       " '_i78': 'for key in shopdict:\\n    shopdict[key] += 10 # same as shopdict[key] = shopdict[key] + 10\\nshopdict',\n",
       " '_78': {'potatoes': 28,\n",
       "  'carrots': 25,\n",
       "  'beets': 23,\n",
       "  'pumpkins': 22,\n",
       "  'chocolate': 30},\n",
       " '_i79': '# it is normal to adjust values in a dictionary inside loop\\nfor key in shopdict:\\n    shopdict[key] += 10 # same as shopdict[key] = shopdict[key] + 10\\nshopdict',\n",
       " '_79': {'potatoes': 28,\n",
       "  'carrots': 25,\n",
       "  'beets': 23,\n",
       "  'pumpkins': 22,\n",
       "  'chocolate': 30},\n",
       " '_i80': 'newlist = []\\nnewdict = {}\\nfor index,(key,value) in enumerate(shopdict.items(), start=101):\\n    print(index,key,value)\\n    newlist.append([index,key,value])\\n    newdict[index] = (key,value)\\nprint(newlist)\\nprint(newdict)',\n",
       " 'newlist': [[101, 'potatoes', 28],\n",
       "  [102, 'carrots', 25],\n",
       "  [103, 'beets', 23],\n",
       "  [104, 'pumpkins', 22],\n",
       "  [105, 'chocolate', 30]],\n",
       " 'newdict': {'potatoes': (101, 28),\n",
       "  'carrots': (102, 25),\n",
       "  'beets': (103, 23),\n",
       "  'pumpkins': (104, 22),\n",
       "  'chocolate': (105, 30)},\n",
       " 'index': 105,\n",
       " '_i81': 'newlist = []\\nnewdict = {}\\nfor index,(key,value) in enumerate(shopdict.items(), start=101):\\n    print(index,key,value)\\n    newlist.append([index,key,value])\\n    newdict[key] = (index,value)\\nprint(newlist)\\nprint(newdict)',\n",
       " '_i82': \"newdict2 = {}\\nfor item in newlist:\\n    newdict2[item[1]] = {'id':item[0],'quantity':item[2]}\\nnewdict2 # so this will be dictionary with values being separate dictionaries\",\n",
       " 'newdict2': {'potatoes': {'id': 101, 'quantity': 28},\n",
       "  'carrots': {'id': 102, 'quantity': 25},\n",
       "  'beets': {'id': 103, 'quantity': 23},\n",
       "  'pumpkins': {'id': 104, 'quantity': 22},\n",
       "  'chocolate': {'id': 105, 'quantity': 30}},\n",
       " 'item': [105, 'chocolate', 30],\n",
       " '_82': {'potatoes': {'id': 101, 'quantity': 28},\n",
       "  'carrots': {'id': 102, 'quantity': 25},\n",
       "  'beets': {'id': 103, 'quantity': 23},\n",
       "  'pumpkins': {'id': 104, 'quantity': 22},\n",
       "  'chocolate': {'id': 105, 'quantity': 30}},\n",
       " '_i83': \"# can you get me quantity of beets needed from newdict2 ?\\nnewdict2['beets'], newdict2.get('beets')\",\n",
       " '_83': ({'id': 103, 'quantity': 23}, {'id': 103, 'quantity': 23}),\n",
       " '_i84': \"# can you get me quantity of beets needed from newdict2 ?\\nnewdict2['beets'] # this would work as well newdict2.get('beets')\",\n",
       " '_84': {'id': 103, 'quantity': 23},\n",
       " '_i85': \"newdict2['beets']['quantity']\",\n",
       " '_85': 23,\n",
       " '_i86': \"newdict2.get('beets').get('quantity') # somewhat less common due to mostly laziness i think :0\",\n",
       " '_86': 23,\n",
       " '_i87': \"# there are other of creating dictionaries\\nt3 = dict([['a', 1],['b',2],[3, 'c'], ['3', '3c']]) # so passing 2-D list (tuple would work as well)\\nt3\",\n",
       " 't3': {'a': 1, 'b': 2, 3: 'c', '3': '3c'},\n",
       " '_87': {'a': 1, 'b': 2, 3: 'c', '3': '3c'},\n",
       " '_i88': \"t3[3],t3['3'] # two different keys integer 3 and string 3\",\n",
       " '_88': ('c', '3c'),\n",
       " '_i89': \"# alternative way of creating a dictionary using list of tuples ()\\nt2=dict([('sape', 4139), ('guido', 4127), ('jack', 4098)])\\nprint(t2)\",\n",
       " 't2': {'sape': 4139, 'guido': 4127, 'jack': 4098},\n",
       " '_i90': \"names = ['Valdis', 'valdis', 'Antons', 'Anna', 'Kārlis', 'karlis']\\nnames\",\n",
       " 'names': ['Valdis', 'valdis', 'Antons', 'Anna', 'Kārlis', 'karlis'],\n",
       " '_90': ['Valdis', 'valdis', 'Antons', 'Anna', 'Kārlis', 'karlis'],\n",
       " '_i91': 'globals()'}"
      ]
     },
     "execution_count": 91,
     "metadata": {},
     "output_type": "execute_result"
    }
   ],
   "source": [
    "globals()"
   ]
  },
  {
   "cell_type": "code",
   "execution_count": null,
   "metadata": {},
   "outputs": [],
   "source": [
    "'print(a,b)' in globals()['In']"
   ]
  },
  {
   "cell_type": "code",
   "execution_count": 93,
   "metadata": {},
   "outputs": [
    {
     "data": {
      "text/plain": [
       "dict_keys(['__name__', '__doc__', '__package__', '__loader__', '__spec__', '__builtin__', '__builtins__', '_ih', '_oh', '_dh', 'In', 'Out', 'get_ipython', 'exit', 'quit', '_', '__', '___', '_i', '_ii', '_iii', '_i1', 'emptyd', '_1', '_i2', '_2', '_i3', 'empty_dict_2', '_3', '_i4', '_4', '_i5', '_5', '_i6', 'tel', '_i7', '_i8', '_i9', '_i10', '_i11', '_11', '_i12', '_12', '_i13', '_13', '_i14', '_14', '_i15', '_i16', '_16', '_i17', '_17', '_i18', 'tel_list', '_18', '_i19', '_19', '_i20', '_20', '_i21', '_21', '_i22', '_22', '_i23', 'key', '_i24', '_i25', 'check_key', '_i26', '_26', '_i27', '_27', '_i28', '_28', '_i29', '_i30', '_30', '_i31', '_i32', '_i33', '_33', '_i34', '_34', '_i35', '_35', '_i36', '_i37', '_37', '_i38', '_38', '_i39', '_39', '_i40', '_40', '_i41', '_41', '_i42', '_42', '_i43', '_43', '_i44', '_44', '_i45', 'value_list', '_45', '_i46', 'key_list', '_46', '_i47', '_47', '_i48', '_i49', '_49', '_i50', '_i51', 'telvalues', '_51', '_i52', '_52', '_i53', '_53', '_i54', 'set_key_value', '_i55', '_55', '_i56', '_i57', '_57', '_i58', '_58', '_i59', '_59', '_i60', '_60', '_i61', '_61', '_i62', '_i63', '_i64', '_64', '_i65', '_65', '_i66', '_i67', 'myphonelist', '_67', '_i68', 'valdisphones', '_68', '_i69', '_69', '_i70', '_70', '_i71', '_i72', '_72', '_i73', 'sorted_tel', '_73', '_i74', 'shopdict', '_74', '_i75', 'value', '_i76', '_i77', '_i78', '_78', '_i79', '_79', '_i80', 'newlist', 'newdict', 'index', '_i81', '_i82', 'newdict2', 'item', '_82', '_i83', '_83', '_i84', '_84', '_i85', '_85', '_i86', '_86', '_i87', 't3', '_87', '_i88', '_88', '_i89', 't2', '_i90', 'names', '_90', '_i91', '_91', '_i92', '_i93'])"
      ]
     },
     "execution_count": 93,
     "metadata": {},
     "output_type": "execute_result"
    }
   ],
   "source": [
    "vars().keys()"
   ]
  },
  {
   "cell_type": "code",
   "execution_count": 94,
   "metadata": {},
   "outputs": [
    {
     "data": {
      "text/plain": [
       "(9000, 9000)"
      ]
     },
     "execution_count": 94,
     "metadata": {},
     "output_type": "execute_result"
    }
   ],
   "source": [
    "_61"
   ]
  },
  {
   "cell_type": "code",
   "execution_count": 96,
   "metadata": {
    "scrolled": true
   },
   "outputs": [
    {
     "data": {
      "text/plain": [
       "'emptyd = {}\\nlen(emptyd)'"
      ]
     },
     "execution_count": 96,
     "metadata": {},
     "output_type": "execute_result"
    }
   ],
   "source": [
    "_i1 # so this was my first command today"
   ]
  },
  {
   "cell_type": "markdown",
   "metadata": {},
   "source": [
    "## Let's look a some more dictionary methods\n",
    "https://docs.python.org/3/tutorial/datastructures.html#dictionaries"
   ]
  },
  {
   "cell_type": "code",
   "execution_count": 74,
   "metadata": {},
   "outputs": [
    {
     "data": {
      "text/plain": [
       "{'jack': 9000,\n",
       " 'guido': 4127,\n",
       " 'irv': [333, 333, 13214141],\n",
       " 'police': 911,\n",
       " 'rtu': 7777}"
      ]
     },
     "execution_count": 74,
     "metadata": {},
     "output_type": "execute_result"
    }
   ],
   "source": [
    "tel"
   ]
  },
  {
   "cell_type": "code",
   "execution_count": null,
   "metadata": {},
   "outputs": [],
   "source": [
    "tel['jack']"
   ]
  },
  {
   "cell_type": "code",
   "execution_count": 98,
   "metadata": {},
   "outputs": [
    {
     "data": {
      "text/plain": [
       "9000"
      ]
     },
     "execution_count": 98,
     "metadata": {},
     "output_type": "execute_result"
    }
   ],
   "source": [
    "poppedvalue = tel.pop('jack', \"No KEY Found\")\n",
    "poppedvalue"
   ]
  },
  {
   "cell_type": "code",
   "execution_count": 100,
   "metadata": {},
   "outputs": [
    {
     "data": {
      "text/plain": [
       "{'guido': 4127,\n",
       " 'valdis': [9000, 2640, 2911],\n",
       " 'Valdis': 4127,\n",
       " 'Liga': 911,\n",
       " 'irv': 4127,\n",
       " 'police': 911,\n",
       " 'rtu': 777700}"
      ]
     },
     "execution_count": 100,
     "metadata": {},
     "output_type": "execute_result"
    }
   ],
   "source": [
    "tel # so key jack is gone only its value is saved in poppedvalue"
   ]
  },
  {
   "cell_type": "code",
   "execution_count": 101,
   "metadata": {},
   "outputs": [],
   "source": [
    "# while lists often use pop, dictionaries use pop less"
   ]
  },
  {
   "cell_type": "code",
   "execution_count": 103,
   "metadata": {},
   "outputs": [
    {
     "data": {
      "text/plain": [
       "'No KEY Found'"
      ]
     },
     "execution_count": 103,
     "metadata": {},
     "output_type": "execute_result"
    }
   ],
   "source": [
    "poppedvalue = tel.pop('jack', \"No KEY Found\") # so i set default return if no key found\n",
    "poppedvalue"
   ]
  },
  {
   "cell_type": "code",
   "execution_count": 104,
   "metadata": {},
   "outputs": [
    {
     "ename": "KeyError",
     "evalue": "'jack'",
     "output_type": "error",
     "traceback": [
      "\u001b[1;31m---------------------------------------------------------------------------\u001b[0m",
      "\u001b[1;31mKeyError\u001b[0m                                  Traceback (most recent call last)",
      "\u001b[1;32m<ipython-input-104-5ae51007c198>\u001b[0m in \u001b[0;36m<module>\u001b[1;34m\u001b[0m\n\u001b[1;32m----> 1\u001b[1;33m \u001b[0mpoppedvalue\u001b[0m \u001b[1;33m=\u001b[0m \u001b[0mtel\u001b[0m\u001b[1;33m.\u001b[0m\u001b[0mpop\u001b[0m\u001b[1;33m(\u001b[0m\u001b[1;34m'jack'\u001b[0m\u001b[1;33m)\u001b[0m \u001b[1;31m# we get key error if there is no key and no default\u001b[0m\u001b[1;33m\u001b[0m\u001b[1;33m\u001b[0m\u001b[0m\n\u001b[0m\u001b[0;32m      2\u001b[0m \u001b[0mpoppedvalue\u001b[0m\u001b[1;33m\u001b[0m\u001b[1;33m\u001b[0m\u001b[0m\n",
      "\u001b[1;31mKeyError\u001b[0m: 'jack'"
     ]
    }
   ],
   "source": [
    "poppedvalue = tel.pop('jack') # we get key error if there is no key and no default\n",
    "poppedvalue"
   ]
  },
  {
   "cell_type": "code",
   "execution_count": 105,
   "metadata": {},
   "outputs": [
    {
     "data": {
      "text/plain": [
       "dict"
      ]
     },
     "execution_count": 105,
     "metadata": {},
     "output_type": "execute_result"
    }
   ],
   "source": [
    "type(tel)"
   ]
  },
  {
   "cell_type": "code",
   "execution_count": 107,
   "metadata": {},
   "outputs": [
    {
     "data": {
      "text/plain": [
       "('rtu', 777700)"
      ]
     },
     "execution_count": 107,
     "metadata": {},
     "output_type": "execute_result"
    }
   ],
   "source": [
    "mytuple = tel.popitem() # so this removs and returns poth key AND value which was LAST inserted\n",
    "mytuple"
   ]
  },
  {
   "cell_type": "code",
   "execution_count": 108,
   "metadata": {},
   "outputs": [
    {
     "data": {
      "text/plain": [
       "{'guido': 4127,\n",
       " 'valdis': [9000, 2640, 2911],\n",
       " 'Valdis': 4127,\n",
       " 'Liga': 911,\n",
       " 'irv': 4127,\n",
       " 'police': 911}"
      ]
     },
     "execution_count": 108,
     "metadata": {},
     "output_type": "execute_result"
    }
   ],
   "source": [
    "tel"
   ]
  },
  {
   "cell_type": "code",
   "execution_count": 109,
   "metadata": {},
   "outputs": [
    {
     "data": {
      "text/plain": [
       "{}"
      ]
     },
     "execution_count": 109,
     "metadata": {},
     "output_type": "execute_result"
    }
   ],
   "source": [
    "tel.clear() # IN PLACE deletion of dictionary meaning dictionary remains empty...\n",
    "tel"
   ]
  },
  {
   "cell_type": "code",
   "execution_count": 110,
   "metadata": {},
   "outputs": [
    {
     "data": {
      "text/plain": [
       "{'Valdis': 2640, 'Liga': 2911}"
      ]
     },
     "execution_count": 110,
     "metadata": {},
     "output_type": "execute_result"
    }
   ],
   "source": [
    "tel.update({\"Valdis\":2640, \"Liga\":2911}) # IN PLACE so update takes another dictionary to update ours\n",
    "tel"
   ]
  },
  {
   "cell_type": "code",
   "execution_count": 111,
   "metadata": {},
   "outputs": [
    {
     "data": {
      "text/plain": [
       "{'Valdis': 2640, 'Liga': 2911, 'key1': 'val1', 'key2': 'val2'}"
      ]
     },
     "execution_count": 111,
     "metadata": {},
     "output_type": "execute_result"
    }
   ],
   "source": [
    "tel.update([(\"key1\",\"val1\"), (\"key2\", \"val2\")])\n",
    "tel"
   ]
  },
  {
   "cell_type": "code",
   "execution_count": 112,
   "metadata": {},
   "outputs": [
    {
     "data": {
      "text/plain": [
       "{'Valdis': 2640,\n",
       " 'Liga': 2911,\n",
       " 'key1': 'val100',\n",
       " 'key2': 'val2',\n",
       " 'key3': 'val300'}"
      ]
     },
     "execution_count": 112,
     "metadata": {},
     "output_type": "execute_result"
    }
   ],
   "source": [
    "tel.update([(\"key1\",\"val100\"), (\"key3\", \"val300\")]) # this should UPDATE key1 -> somevalue here val100\n",
    "tel"
   ]
  },
  {
   "cell_type": "code",
   "execution_count": 113,
   "metadata": {},
   "outputs": [],
   "source": [
    "# be very very careful when changing dictionary when looping\n",
    "# you should NOT mutate dictionary when looping\n",
    "# two solutions to this"
   ]
  },
  {
   "cell_type": "code",
   "execution_count": 115,
   "metadata": {},
   "outputs": [
    {
     "name": "stdout",
     "output_type": "stream",
     "text": [
      "Found 00 in val100, key iskey1\n",
      "Found 00 in val300, key iskey3\n"
     ]
    },
    {
     "data": {
      "text/plain": [
       "{'Valdis': 2640, 'Liga': 2911, 'key2': 'val2'}"
      ]
     },
     "execution_count": 115,
     "metadata": {},
     "output_type": "execute_result"
    }
   ],
   "source": [
    "# one solution go through copy and modify original sort of TOP-DOWN approach\n",
    "# so let's see about removing key value pairs with 00 in value\n",
    "needle = \"00\"\n",
    "for key, value in tel.copy().items(): # so we loop through copy\n",
    "    if needle in str(value):\n",
    "        print(f\"Found {needle} in {value}, key is{key}\")\n",
    "        tel.pop(key) \n",
    "tel"
   ]
  },
  {
   "cell_type": "code",
   "execution_count": 116,
   "metadata": {},
   "outputs": [
    {
     "data": {
      "text/plain": [
       "{'Valdis': 2640,\n",
       " 'Liga': 2911,\n",
       " 'key2': 'val2',\n",
       " 'key1': 'val100',\n",
       " 'key3': 'val300'}"
      ]
     },
     "execution_count": 116,
     "metadata": {},
     "output_type": "execute_result"
    }
   ],
   "source": [
    "tel.update([(\"key1\",\"val100\"), (\"key3\", \"val300\")]) # this should UPDATE key1 -> somevalue here val100\n",
    "tel"
   ]
  },
  {
   "cell_type": "code",
   "execution_count": 118,
   "metadata": {},
   "outputs": [
    {
     "name": "stdout",
     "output_type": "stream",
     "text": [
      "Did not find 00 in 2640, key isValdis -> adding to new dict\n",
      "Did not find 00 in 2911, key isLiga -> adding to new dict\n",
      "Did not find 00 in val2, key iskey2 -> adding to new dict\n"
     ]
    },
    {
     "data": {
      "text/plain": [
       "{'Valdis': 2640, 'Liga': 2911, 'key2': 'val2'}"
      ]
     },
     "execution_count": 118,
     "metadata": {},
     "output_type": "execute_result"
    }
   ],
   "source": [
    "# another approach is to build up a new dictionary so BOTTOM-UP approach\n",
    "new_dict = {}\n",
    "needle = \"00\"\n",
    "for key, value in tel.items(): # we could use tel.copy.items() but no need here since we are not changing dict size\n",
    "     if needle not in str(value):\n",
    "        print(f\"Did not find {needle} in {value}, key is{key} -> adding to new dict\")\n",
    "        new_dict[key] = value\n",
    "new_dict\n"
   ]
  },
  {
   "cell_type": "code",
   "execution_count": null,
   "metadata": {},
   "outputs": [],
   "source": [
    "# this approach is so common that there is a shorter way of building dictionaries \n",
    "\n",
    "# called Dictionary Comprehension (remember List Comprehensions?)"
   ]
  },
  {
   "cell_type": "code",
   "execution_count": 121,
   "metadata": {},
   "outputs": [
    {
     "data": {
      "text/plain": [
       "{'Valdis': 2640, 'Liga': 2911, 'key2': 'val2'}"
      ]
     },
     "execution_count": 121,
     "metadata": {},
     "output_type": "execute_result"
    }
   ],
   "source": [
    "new_dict_2 = {k:v for k,v in tel.items() if needle not in str(v)} # not all values were strings\n",
    "new_dict_2"
   ]
  },
  {
   "cell_type": "code",
   "execution_count": 123,
   "metadata": {},
   "outputs": [
    {
     "data": {
      "text/plain": [
       "{'Valdis': '2640', 'Liga': '2911', 'key2': 'val2'}"
      ]
     },
     "execution_count": 123,
     "metadata": {},
     "output_type": "execute_result"
    }
   ],
   "source": [
    "new_dict3 = {k:str(v) for k,v in new_dict_2.items()}\n",
    "new_dict3"
   ]
  },
  {
   "cell_type": "code",
   "execution_count": 124,
   "metadata": {},
   "outputs": [
    {
     "data": {
      "text/plain": [
       "{'0 squared:': 0,\n",
       " '1 squared:': 1,\n",
       " '2 squared:': 4,\n",
       " '3 squared:': 9,\n",
       " '4 squared:': 16,\n",
       " '5 squared:': 25,\n",
       " '6 squared:': 36,\n",
       " '7 squared:': 49,\n",
       " '8 squared:': 64,\n",
       " '9 squared:': 81}"
      ]
     },
     "execution_count": 124,
     "metadata": {},
     "output_type": "execute_result"
    }
   ],
   "source": [
    "square_dict = {f\"{n} squared:\":n*n for n in range(10)}\n",
    "square_dict"
   ]
  },
  {
   "cell_type": "code",
   "execution_count": 127,
   "metadata": {},
   "outputs": [
    {
     "data": {
      "text/plain": [
       "64"
      ]
     },
     "execution_count": 127,
     "metadata": {},
     "output_type": "execute_result"
    }
   ],
   "source": [
    "square_dict['8 squared:'] # in this case list with indexes would be just as good"
   ]
  },
  {
   "cell_type": "code",
   "execution_count": 128,
   "metadata": {},
   "outputs": [
    {
     "data": {
      "text/plain": [
       "{'k': 500,\n",
       " 'a': 500,\n",
       " 'r': 500,\n",
       " 't': 500,\n",
       " 'u': 500,\n",
       " 'p': 500,\n",
       " 'e': 500,\n",
       " 'l': 500,\n",
       " 'i': 500,\n",
       " 's': 500}"
      ]
     },
     "execution_count": 128,
     "metadata": {},
     "output_type": "execute_result"
    }
   ],
   "source": [
    "new_dict4 = dict.fromkeys(\"kartupelis\", 500) # so a way of quickly initializing dictionary counter\n",
    "new_dict4"
   ]
  },
  {
   "cell_type": "code",
   "execution_count": 129,
   "metadata": {},
   "outputs": [],
   "source": [
    "mytext = \"abracadabra my magic\" \n",
    "# how do i count all letter frequency?"
   ]
  },
  {
   "cell_type": "code",
   "execution_count": 131,
   "metadata": {},
   "outputs": [
    {
     "data": {
      "text/plain": [
       "{'a': 6,\n",
       " 'b': 2,\n",
       " 'r': 2,\n",
       " 'c': 2,\n",
       " 'd': 1,\n",
       " ' ': 2,\n",
       " 'm': 2,\n",
       " 'y': 1,\n",
       " 'g': 1,\n",
       " 'i': 1}"
      ]
     },
     "execution_count": 131,
     "metadata": {},
     "output_type": "execute_result"
    }
   ],
   "source": [
    "my_counter = {} # for storing our buckets (keys)\n",
    "for char in mytext:\n",
    "    if char in my_counter:\n",
    "        my_counter[char] += 1 # add 1 to existing value from key char\n",
    "    else:\n",
    "        my_counter[char] = 1 # initialize counter\n",
    "my_counter"
   ]
  },
  {
   "cell_type": "code",
   "execution_count": 132,
   "metadata": {},
   "outputs": [
    {
     "data": {
      "text/plain": [
       "[('a', 6),\n",
       " ('b', 2),\n",
       " ('r', 2),\n",
       " ('c', 2),\n",
       " (' ', 2),\n",
       " ('m', 2),\n",
       " ('d', 1),\n",
       " ('y', 1),\n",
       " ('g', 1),\n",
       " ('i', 1)]"
      ]
     },
     "execution_count": 132,
     "metadata": {},
     "output_type": "execute_result"
    }
   ],
   "source": [
    "# this is so common that Python has a special dictionary just for counting\n",
    "from collections import Counter\n",
    "my_count_2 = Counter(mytext)\n",
    "my_count_2.most_common()"
   ]
  },
  {
   "cell_type": "code",
   "execution_count": 134,
   "metadata": {},
   "outputs": [
    {
     "data": {
      "text/plain": [
       "Counter({'a': 6,\n",
       "         'b': 2,\n",
       "         'r': 2,\n",
       "         'c': 2,\n",
       "         'd': 1,\n",
       "         ' ': 2,\n",
       "         'm': 2,\n",
       "         'y': 1,\n",
       "         'g': 1,\n",
       "         'i': 1})"
      ]
     },
     "execution_count": 134,
     "metadata": {},
     "output_type": "execute_result"
    }
   ],
   "source": [
    "my_count_2"
   ]
  },
  {
   "cell_type": "code",
   "execution_count": null,
   "metadata": {},
   "outputs": [],
   "source": [
    "# we can store anything in dictionaries \n",
    "# including other dictionaries and lists\n",
    "mydict = {'mylist':[1,2,6,6,\"Badac\"], 55:165, 'innerd':{'a':100,'b':[1,2,6]}}\n",
    "mydict"
   ]
  },
  {
   "cell_type": "code",
   "execution_count": null,
   "metadata": {},
   "outputs": [],
   "source": [
    "# get 6 out of mydict\n",
    "mydict['innerd']"
   ]
  },
  {
   "cell_type": "code",
   "execution_count": null,
   "metadata": {},
   "outputs": [],
   "source": [
    "mydict['innerd']['b']"
   ]
  },
  {
   "cell_type": "code",
   "execution_count": null,
   "metadata": {},
   "outputs": [],
   "source": [
    "# get 6 out of mydict\n",
    "mydict['innerd']['b'][-1]"
   ]
  },
  {
   "cell_type": "code",
   "execution_count": null,
   "metadata": {},
   "outputs": [],
   "source": [
    "#sum all values under mydict['innerd']['b']\n",
    "sum(mydict['innerd']['b']),min(mydict['innerd']['b']),max(mydict['innerd']['b'])"
   ]
  },
  {
   "cell_type": "code",
   "execution_count": null,
   "metadata": {},
   "outputs": [],
   "source": [
    "mydict.keys()"
   ]
  },
  {
   "cell_type": "code",
   "execution_count": null,
   "metadata": {},
   "outputs": [],
   "source": [
    "# we can use numeric keys as well!\n",
    "mydict[55]"
   ]
  },
  {
   "cell_type": "code",
   "execution_count": null,
   "metadata": {},
   "outputs": [],
   "source": [
    "mydict['55'] = 330"
   ]
  },
  {
   "cell_type": "code",
   "execution_count": null,
   "metadata": {},
   "outputs": [],
   "source": [
    "mydict"
   ]
  },
  {
   "cell_type": "code",
   "execution_count": null,
   "metadata": {},
   "outputs": [],
   "source": [
    "mlist = mydict['mylist']\n",
    "mlist"
   ]
  },
  {
   "cell_type": "code",
   "execution_count": null,
   "metadata": {},
   "outputs": [],
   "source": [
    "mytext = mlist[-1]\n",
    "mytext"
   ]
  },
  {
   "cell_type": "code",
   "execution_count": null,
   "metadata": {},
   "outputs": [],
   "source": [
    "mychar = mytext[-3]\n",
    "mychar"
   ]
  },
  {
   "cell_type": "code",
   "execution_count": null,
   "metadata": {},
   "outputs": [],
   "source": [
    "mydict"
   ]
  },
  {
   "cell_type": "code",
   "execution_count": null,
   "metadata": {},
   "outputs": [],
   "source": [
    "# get letter d\n",
    "mydict['mylist'][-1][-3]"
   ]
  },
  {
   "cell_type": "code",
   "execution_count": null,
   "metadata": {},
   "outputs": [],
   "source": [
    "# get letter d\n",
    "mydict['mylist'][-1][2]"
   ]
  },
  {
   "cell_type": "code",
   "execution_count": null,
   "metadata": {},
   "outputs": [],
   "source": [
    "mydict"
   ]
  },
  {
   "cell_type": "code",
   "execution_count": null,
   "metadata": {},
   "outputs": [],
   "source": [
    "mydict['mylist'][-1][2]"
   ]
  },
  {
   "cell_type": "code",
   "execution_count": null,
   "metadata": {},
   "outputs": [],
   "source": [
    "mlist[-1][2]"
   ]
  },
  {
   "cell_type": "code",
   "execution_count": null,
   "metadata": {},
   "outputs": [],
   "source": [
    "mydict['real55'] = mydict[55]"
   ]
  },
  {
   "cell_type": "code",
   "execution_count": null,
   "metadata": {},
   "outputs": [],
   "source": [
    "del mydict[55]"
   ]
  },
  {
   "cell_type": "code",
   "execution_count": null,
   "metadata": {},
   "outputs": [],
   "source": [
    "mydict"
   ]
  },
  {
   "cell_type": "code",
   "execution_count": null,
   "metadata": {
    "scrolled": true
   },
   "outputs": [],
   "source": [
    "sorted(mydict.keys())"
   ]
  },
  {
   "cell_type": "code",
   "execution_count": null,
   "metadata": {},
   "outputs": [],
   "source": [
    "myresult = mydict.get('Vadfadfafd')"
   ]
  },
  {
   "cell_type": "code",
   "execution_count": null,
   "metadata": {},
   "outputs": [],
   "source": [
    "type(myresult)"
   ]
  },
  {
   "cell_type": "code",
   "execution_count": null,
   "metadata": {},
   "outputs": [],
   "source": [
    "mydict.keys()"
   ]
  },
  {
   "cell_type": "code",
   "execution_count": null,
   "metadata": {},
   "outputs": [],
   "source": [
    "mydict.get(55)"
   ]
  },
  {
   "cell_type": "code",
   "execution_count": null,
   "metadata": {},
   "outputs": [],
   "source": [
    "mydict.get('innerd')"
   ]
  },
  {
   "cell_type": "code",
   "execution_count": null,
   "metadata": {},
   "outputs": [],
   "source": [
    "mydict.get('55')"
   ]
  },
  {
   "cell_type": "code",
   "execution_count": null,
   "metadata": {},
   "outputs": [],
   "source": [
    "# we get None on nonexisting key instead of KeyError\n",
    "mydict.get('53253242452')"
   ]
  },
  {
   "cell_type": "code",
   "execution_count": null,
   "metadata": {},
   "outputs": [],
   "source": [
    "# here we will get KeyError on nonexisting key\n",
    "mydict['53253242452']"
   ]
  },
  {
   "cell_type": "code",
   "execution_count": null,
   "metadata": {},
   "outputs": [],
   "source": [
    "mydict.get(\"badkey\") == None"
   ]
  },
  {
   "cell_type": "code",
   "execution_count": null,
   "metadata": {},
   "outputs": [],
   "source": [
    "mydict"
   ]
  },
  {
   "cell_type": "code",
   "execution_count": null,
   "metadata": {},
   "outputs": [],
   "source": [
    "# we can check if dictionary has any items without checking len(mydict)\n",
    "if mydict:\n",
    "    print(mydict)"
   ]
  },
  {
   "cell_type": "code",
   "execution_count": null,
   "metadata": {},
   "outputs": [],
   "source": [
    "print(mydict)"
   ]
  },
  {
   "cell_type": "code",
   "execution_count": null,
   "metadata": {},
   "outputs": [],
   "source": [
    "key,value = mydict.popitem()\n",
    "key, value"
   ]
  },
  {
   "cell_type": "code",
   "execution_count": null,
   "metadata": {},
   "outputs": [],
   "source": [
    "mydict['mykey'] ='myvalue'\n",
    "mydict"
   ]
  },
  {
   "cell_type": "code",
   "execution_count": null,
   "metadata": {},
   "outputs": [],
   "source": [
    "mydict"
   ]
  },
  {
   "cell_type": "code",
   "execution_count": null,
   "metadata": {},
   "outputs": [],
   "source": [
    "tel"
   ]
  },
  {
   "cell_type": "code",
   "execution_count": null,
   "metadata": {},
   "outputs": [],
   "source": [
    "del tel[1]\n",
    "tel"
   ]
  },
  {
   "cell_type": "code",
   "execution_count": 75,
   "metadata": {},
   "outputs": [
    {
     "data": {
      "text/plain": [
       "{'jack': 9000,\n",
       " 'guido': 4127,\n",
       " 'irv': [333, 333, 13214141],\n",
       " 'police': 911,\n",
       " 'rtu': 7777,\n",
       " 'valdis': 1800,\n",
       " 'peteris': 900,\n",
       " 'liga': 911}"
      ]
     },
     "execution_count": 75,
     "metadata": {},
     "output_type": "execute_result"
    }
   ],
   "source": [
    "tel.update({'valdis':1800, 'peteris':900, 'liga':911}) # in place addition meaning tel is modified\n",
    "tel"
   ]
  },
  {
   "cell_type": "code",
   "execution_count": 76,
   "metadata": {},
   "outputs": [
    {
     "data": {
      "text/plain": [
       "{'Val': 25, 'Baiba': 25, 'Cālis': 25}"
      ]
     },
     "execution_count": 76,
     "metadata": {},
     "output_type": "execute_result"
    }
   ],
   "source": [
    "tel.fromkeys(['Val','Baiba','Cālis'], 25) # here tel really didnt do anything"
   ]
  },
  {
   "cell_type": "code",
   "execution_count": 78,
   "metadata": {},
   "outputs": [
    {
     "data": {
      "text/plain": [
       "{'Val': 25, 'Baiba': 25, 'Cālis': 25}"
      ]
     },
     "execution_count": 78,
     "metadata": {},
     "output_type": "execute_result"
    }
   ],
   "source": [
    "{}.fromkeys(['Val','Baiba','Cālis'], 25) # we could use {} really didnt do anything"
   ]
  },
  {
   "cell_type": "code",
   "execution_count": 79,
   "metadata": {},
   "outputs": [
    {
     "data": {
      "text/plain": [
       "{'jack': None, 'valdis': None}"
      ]
     },
     "execution_count": 79,
     "metadata": {},
     "output_type": "execute_result"
    }
   ],
   "source": [
    "tel.fromkeys(['jack', 'valdis']) # so again tel really was not needed could use {}"
   ]
  },
  {
   "cell_type": "code",
   "execution_count": 77,
   "metadata": {},
   "outputs": [
    {
     "data": {
      "text/plain": [
       "{'jack': 9000,\n",
       " 'guido': 4127,\n",
       " 'irv': [333, 333, 13214141],\n",
       " 'police': 911,\n",
       " 'rtu': 7777,\n",
       " 'valdis': 1800,\n",
       " 'peteris': 900,\n",
       " 'liga': 911}"
      ]
     },
     "execution_count": 77,
     "metadata": {},
     "output_type": "execute_result"
    }
   ],
   "source": [
    "tel"
   ]
  },
  {
   "cell_type": "code",
   "execution_count": null,
   "metadata": {},
   "outputs": [],
   "source": [
    "newdictwithdefaultvalues = {}.fromkeys(['Val','Baiba','Cālis'], 25)\n",
    "newdictwithdefaultvalues"
   ]
  },
  {
   "cell_type": "code",
   "execution_count": null,
   "metadata": {},
   "outputs": [],
   "source": [
    "# what setdefault does\n",
    "key= \"Valdis\"\n",
    "defaultvalue = 9000\n",
    "if key in tel.keys():\n",
    "    print(\"Returning default\", tel[key])\n",
    "else:\n",
    "    tel[key] = defaultvalue\n",
    "tel"
   ]
  },
  {
   "cell_type": "code",
   "execution_count": null,
   "metadata": {},
   "outputs": [],
   "source": [
    "tel.setdefault('baiba', 4524352455000) \n",
    "tel\n",
    "# notice that value of 'baiba' does not change after the first set "
   ]
  },
  {
   "cell_type": "code",
   "execution_count": 82,
   "metadata": {},
   "outputs": [
    {
     "data": {
      "text/plain": [
       "{'keyb': 53543543333}"
      ]
     },
     "execution_count": 82,
     "metadata": {},
     "output_type": "execute_result"
    }
   ],
   "source": [
    "# same as\n",
    "# if not 'b' in mydict:\n",
    "#     mydict['b'] = 3333\n",
    "mydict = {}\n",
    "mydict.setdefault('keyb', 53543543333)\n",
    "mydict"
   ]
  },
  {
   "cell_type": "code",
   "execution_count": null,
   "metadata": {},
   "outputs": [],
   "source": [
    "mydict.setdefault('emptykey')\n",
    "mydict"
   ]
  },
  {
   "cell_type": "code",
   "execution_count": null,
   "metadata": {},
   "outputs": [],
   "source": [
    "# change dictionary key value pair ONLY if key does not exist\n",
    "mydict.setdefault('a', 'aaaaaaaa')\n",
    "mydict"
   ]
  },
  {
   "cell_type": "code",
   "execution_count": 83,
   "metadata": {},
   "outputs": [
    {
     "data": {
      "text/plain": [
       "{'keyb': 53543543333, 'a': 'changed a value'}"
      ]
     },
     "execution_count": 83,
     "metadata": {},
     "output_type": "execute_result"
    }
   ],
   "source": [
    "# here we overwite no matter what\n",
    "mydict['a'] = 'changed a value'\n",
    "mydict"
   ]
  },
  {
   "cell_type": "code",
   "execution_count": 84,
   "metadata": {},
   "outputs": [
    {
     "data": {
      "text/plain": [
       "{}"
      ]
     },
     "execution_count": 84,
     "metadata": {},
     "output_type": "execute_result"
    }
   ],
   "source": [
    "# and we clear our dictionary\n",
    "mydict.clear() # clear removes all key-value pairs from dictionary IN PLACE\n",
    "mydict"
   ]
  },
  {
   "cell_type": "code",
   "execution_count": null,
   "metadata": {},
   "outputs": [],
   "source": [
    "type(mydict)"
   ]
  },
  {
   "cell_type": "code",
   "execution_count": null,
   "metadata": {},
   "outputs": [],
   "source": [
    "# better not change mydict to int but you could do it\n",
    "mydict = 5\n",
    "type(mydict)"
   ]
  },
  {
   "cell_type": "code",
   "execution_count": 135,
   "metadata": {},
   "outputs": [],
   "source": [
    "import random # this is standart python library for randomness"
   ]
  },
  {
   "cell_type": "code",
   "execution_count": 136,
   "metadata": {},
   "outputs": [
    {
     "data": {
      "text/plain": [
       "6"
      ]
     },
     "execution_count": 136,
     "metadata": {},
     "output_type": "execute_result"
    }
   ],
   "source": [
    "random.randint(1,6) # randint gives includes BOTH and start and end"
   ]
  },
  {
   "cell_type": "markdown",
   "metadata": {},
   "source": [
    "![xkcd](https://imgs.xkcd.com/comics/random_number.png)"
   ]
  },
  {
   "cell_type": "code",
   "execution_count": 138,
   "metadata": {},
   "outputs": [
    {
     "data": {
      "text/plain": [
       "[6, 1, 1, 6, 3, 2, 2, 2, 6, 1, 6, 6, 5, 1, 5]"
      ]
     },
     "execution_count": 138,
     "metadata": {},
     "output_type": "execute_result"
    }
   ],
   "source": [
    "# generate 100 random dice throws and save in myrandoms\n",
    "random.seed(42) # so always get same pseudo-random numbers\n",
    "# myrandoms = []\n",
    "# for _ in range(100):\n",
    "#     myrandoms.append(random.randint(1,6))\n",
    "# list comprehension same as above\n",
    "myrandoms = [random.randint(1,6) for _ in range(1_000)]\n",
    "myrandoms[:15]"
   ]
  },
  {
   "cell_type": "code",
   "execution_count": 139,
   "metadata": {},
   "outputs": [
    {
     "data": {
      "text/plain": [
       "{6: 175, 1: 166, 3: 162, 2: 172, 5: 160, 4: 165}"
      ]
     },
     "execution_count": 139,
     "metadata": {},
     "output_type": "execute_result"
    }
   ],
   "source": [
    "mycounter = {}\n",
    "# count how many time each digit appears in myrandoms\n",
    "# loop through all myrandoms and count\n",
    "for num in myrandoms:\n",
    "    # print(num)\n",
    "    # check key for existance\n",
    "    if num in mycounter:\n",
    "        mycounter[num] += 1 # mycounter[num] = mycounter[num]+1\n",
    "    else: \n",
    "        mycounter[num] = 1\n",
    "mycounter"
   ]
  },
  {
   "cell_type": "code",
   "execution_count": 90,
   "metadata": {},
   "outputs": [],
   "source": [
    "from collections import Counter"
   ]
  },
  {
   "cell_type": "code",
   "execution_count": 140,
   "metadata": {},
   "outputs": [
    {
     "data": {
      "text/plain": [
       "Counter({6: 175, 1: 166, 3: 162, 2: 172, 5: 160, 4: 165})"
      ]
     },
     "execution_count": 140,
     "metadata": {},
     "output_type": "execute_result"
    }
   ],
   "source": [
    "# https://docs.python.org/3/library/collections.html#collections.Counter\n",
    "pycounter = Counter(myrandoms)\n",
    "pycounter"
   ]
  },
  {
   "cell_type": "code",
   "execution_count": 92,
   "metadata": {},
   "outputs": [
    {
     "data": {
      "text/plain": [
       "collections.Counter"
      ]
     },
     "execution_count": 92,
     "metadata": {},
     "output_type": "execute_result"
    }
   ],
   "source": [
    "type(pycounter) # like a dictionary but with some extra benefits"
   ]
  },
  {
   "cell_type": "code",
   "execution_count": 93,
   "metadata": {},
   "outputs": [
    {
     "data": {
      "text/plain": [
       "[(6, 20), (1, 20), (2, 18)]"
      ]
     },
     "execution_count": 93,
     "metadata": {},
     "output_type": "execute_result"
    }
   ],
   "source": [
    "pycounter.most_common(3)"
   ]
  },
  {
   "cell_type": "code",
   "execution_count": 94,
   "metadata": {},
   "outputs": [
    {
     "data": {
      "text/plain": [
       "{6: 20, 1: 20, 3: 17, 2: 18, 5: 14, 4: 11}"
      ]
     },
     "execution_count": 94,
     "metadata": {},
     "output_type": "execute_result"
    }
   ],
   "source": [
    "dict(pycounter) # so you can remove the extra benefits"
   ]
  },
  {
   "cell_type": "code",
   "execution_count": null,
   "metadata": {},
   "outputs": [],
   "source": [
    "dicounter = dict(pycounter)\n",
    "dicounter"
   ]
  },
  {
   "cell_type": "code",
   "execution_count": null,
   "metadata": {},
   "outputs": [],
   "source": [
    "type(mycounter)"
   ]
  },
  {
   "cell_type": "code",
   "execution_count": null,
   "metadata": {},
   "outputs": [],
   "source": [
    "# idiom for looping through dictionary each key - value pair\n",
    "for key, value in mycounter.items():\n",
    "    print(\"key\", key, \"value\", value)"
   ]
  },
  {
   "cell_type": "code",
   "execution_count": 95,
   "metadata": {},
   "outputs": [
    {
     "name": "stdout",
     "output_type": "stream",
     "text": [
      "Working with x 1\n",
      "1 squared\n",
      "Working with x 2\n",
      "2 squared\n",
      "Working with x 3\n",
      "3 squared\n",
      "Working with x 4\n",
      "4 squared\n",
      "Working with x 5\n",
      "5 squared\n",
      "Working with x 6\n",
      "6 squared\n",
      "Working with x 7\n",
      "7 squared\n",
      "Working with x 8\n",
      "8 squared\n",
      "Working with x 9\n",
      "9 squared\n",
      "Working with x 10\n",
      "10 squared\n"
     ]
    },
    {
     "data": {
      "text/plain": [
       "{'1 squared': 1,\n",
       " '2 squared': 4,\n",
       " '3 squared': 9,\n",
       " '4 squared': 16,\n",
       " '5 squared': 25,\n",
       " '6 squared': 36,\n",
       " '7 squared': 49,\n",
       " '8 squared': 64,\n",
       " '9 squared': 81,\n",
       " '10 squared': 100}"
      ]
     },
     "execution_count": 95,
     "metadata": {},
     "output_type": "execute_result"
    }
   ],
   "source": [
    "# squaredict = {\"1 squared\":1, \"2 squared\":4} # lidz 10\n",
    "squaredict = {}\n",
    "for x in range(1,11):\n",
    "    print(\"Working with x\",x)\n",
    "#     print(\"My key should look like:\") \n",
    "    print(f\"{x} squared\")\n",
    "    squaredict[f\"{x} squared\"] = x**2\n",
    "squaredict"
   ]
  },
  {
   "cell_type": "code",
   "execution_count": 96,
   "metadata": {},
   "outputs": [
    {
     "data": {
      "text/plain": [
       "{'1 squared': 1,\n",
       " '2 squared': 4,\n",
       " '3 squared': 9,\n",
       " '4 squared': 16,\n",
       " '5 squared': 25,\n",
       " '6 squared': 36,\n",
       " '7 squared': 49,\n",
       " '8 squared': 64,\n",
       " '9 squared': 81,\n",
       " '10 squared': 100}"
      ]
     },
     "execution_count": 96,
     "metadata": {},
     "output_type": "execute_result"
    }
   ],
   "source": [
    "squares = {f\"{x} squared\":x**2 for x in range(1,11)} # dictionary comprehension\n",
    "squares"
   ]
  },
  {
   "cell_type": "code",
   "execution_count": 97,
   "metadata": {},
   "outputs": [
    {
     "data": {
      "text/plain": [
       "{1: 1, 2: 4, 3: 9, 4: 16, 5: 25}"
      ]
     },
     "execution_count": 97,
     "metadata": {},
     "output_type": "execute_result"
    }
   ],
   "source": [
    "squaredict = {x:x**2 for x in range(1,6)}\n",
    "squaredict"
   ]
  },
  {
   "cell_type": "code",
   "execution_count": 98,
   "metadata": {},
   "outputs": [
    {
     "data": {
      "text/plain": [
       "[1, 4, 9, 16, 25]"
      ]
     },
     "execution_count": 98,
     "metadata": {},
     "output_type": "execute_result"
    }
   ],
   "source": [
    "squarelist = [x**2 for x in range(1,6)] #list comprehension x is a name we came up with\n",
    "squarelist"
   ]
  },
  {
   "cell_type": "code",
   "execution_count": 99,
   "metadata": {},
   "outputs": [
    {
     "data": {
      "text/plain": [
       "{'Letter 1 is': 'k',\n",
       " 'Letter 2 is': 'a',\n",
       " 'Letter 3 is': 'r',\n",
       " 'Letter 4 is': 't',\n",
       " 'Letter 5 is': 'u',\n",
       " 'Letter 6 is': 'p',\n",
       " 'Letter 7 is': 'e',\n",
       " 'Letter 8 is': 'l',\n",
       " 'Letter 9 is': 'i',\n",
       " 'Letter 10 is': 's'}"
      ]
     },
     "execution_count": 99,
     "metadata": {},
     "output_type": "execute_result"
    }
   ],
   "source": [
    "# so we can create a dictionary from our string by enumerating it and using index as key\n",
    "kdict = {f\"Letter {i} is\":c for i,c in enumerate(list(\"kartupelis\"), start=1)}\n",
    "kdict"
   ]
  },
  {
   "cell_type": "code",
   "execution_count": 100,
   "metadata": {},
   "outputs": [
    {
     "data": {
      "text/plain": [
       "'k'"
      ]
     },
     "execution_count": 100,
     "metadata": {},
     "output_type": "execute_result"
    }
   ],
   "source": [
    "kdict['Letter 1 is']"
   ]
  },
  {
   "cell_type": "code",
   "execution_count": 101,
   "metadata": {},
   "outputs": [
    {
     "data": {
      "text/plain": [
       "{'101': 'k',\n",
       " '102': 'a',\n",
       " '103': 'r',\n",
       " '104': 't',\n",
       " '105': 'u',\n",
       " '106': 'p',\n",
       " '107': 'e',\n",
       " '108': 'l',\n",
       " '109': 'i',\n",
       " '110': 's'}"
      ]
     },
     "execution_count": 101,
     "metadata": {},
     "output_type": "execute_result"
    }
   ],
   "source": [
    "ldict = {f\"{i}\" : c for i,c in enumerate(list(\"kartupelis\"), start = 101)}\n",
    "ldict"
   ]
  },
  {
   "cell_type": "code",
   "execution_count": 103,
   "metadata": {},
   "outputs": [
    {
     "data": {
      "text/plain": [
       "{'k': 107,\n",
       " 'a': 97,\n",
       " 'r': 114,\n",
       " 't': 116,\n",
       " 'u': 117,\n",
       " 'p': 112,\n",
       " 'e': 101,\n",
       " 'l': 108,\n",
       " 'i': 105,\n",
       " 's': 115}"
      ]
     },
     "execution_count": 103,
     "metadata": {},
     "output_type": "execute_result"
    }
   ],
   "source": [
    "word = \"kartupelis\"\n",
    "char_codes = {c:ord(c) for c in word}\n",
    "char_codes"
   ]
  },
  {
   "cell_type": "code",
   "execution_count": 104,
   "metadata": {},
   "outputs": [
    {
     "data": {
      "text/plain": [
       "{'jack': 9000,\n",
       " 'guido': 4127,\n",
       " 'irv': [333, 333, 13214141],\n",
       " 'police': 911,\n",
       " 'rtu': 7777,\n",
       " 'valdis': 1800,\n",
       " 'peteris': 900,\n",
       " 'liga': 911}"
      ]
     },
     "execution_count": 104,
     "metadata": {},
     "output_type": "execute_result"
    }
   ],
   "source": [
    "tel"
   ]
  },
  {
   "cell_type": "code",
   "execution_count": 106,
   "metadata": {},
   "outputs": [
    {
     "data": {
      "text/plain": [
       "{'jack': 9000,\n",
       " 'guido': 4127,\n",
       " 'irv': [333, 333, 13214141],\n",
       " 'rtu': 7777,\n",
       " 'valdis': 1800,\n",
       " 'peteris': 900}"
      ]
     },
     "execution_count": 106,
     "metadata": {},
     "output_type": "execute_result"
    }
   ],
   "source": [
    "# One last imporant thing, when looping through dictionary we must NOT modify the key size\n",
    "# we can modify values but we must NOT add or delete keys to what we loop through\n",
    "value_to_delete = 911\n",
    "for k,v in tel.copy().items(): # you need a create a copy for iterating\n",
    "    if v == value_to_delete:\n",
    "        del tel[k]\n",
    "tel"
   ]
  },
  {
   "cell_type": "code",
   "execution_count": 110,
   "metadata": {},
   "outputs": [
    {
     "data": {
      "text/plain": [
       "{'jack': 9000,\n",
       " 'guido': 4127,\n",
       " 'irv': [333, 333, 13214141],\n",
       " 'rtu': 7777,\n",
       " 'valdis': 1800,\n",
       " 'peteris': 900,\n",
       " 'police': 911,\n",
       " 'liga': 911}"
      ]
     },
     "execution_count": 110,
     "metadata": {},
     "output_type": "execute_result"
    }
   ],
   "source": [
    "tel.update({'police':911, 'liga':911})\n",
    "tel"
   ]
  },
  {
   "cell_type": "code",
   "execution_count": 109,
   "metadata": {},
   "outputs": [
    {
     "data": {
      "text/plain": [
       "{'jack': 9000,\n",
       " 'guido': 4127,\n",
       " 'irv': [333, 333, 13214141],\n",
       " 'rtu': 7777,\n",
       " 'valdis': 1800,\n",
       " 'peteris': 900}"
      ]
     },
     "execution_count": 109,
     "metadata": {},
     "output_type": "execute_result"
    }
   ],
   "source": [
    "# Using list comprehension to create a new dictionary and overwite old one is fine too\n",
    "value_to_delete = 911\n",
    "tel = {k:v for k,v in tel.items() if v != value_to_delete}\n",
    "tel"
   ]
  },
  {
   "cell_type": "code",
   "execution_count": 143,
   "metadata": {},
   "outputs": [],
   "source": [
    "# Dictionary Keys have to be immutable - so lists, dictionaries can not be keys but tuple CAN"
   ]
  },
  {
   "cell_type": "code",
   "execution_count": 144,
   "metadata": {},
   "outputs": [
    {
     "data": {
      "text/plain": [
       "{'Valdis': 2640,\n",
       " 'Liga': 2911,\n",
       " 'key2': 'val2',\n",
       " 'key1': 'val100',\n",
       " 'key3': 'val300',\n",
       " ('Valdis', 180): 2910}"
      ]
     },
     "execution_count": 144,
     "metadata": {},
     "output_type": "execute_result"
    }
   ],
   "source": [
    "tel[(\"Valdis\",180)] = 2910 # this is fine\n",
    "tel"
   ]
  },
  {
   "cell_type": "code",
   "execution_count": 141,
   "metadata": {},
   "outputs": [],
   "source": [
    "# Again the whole purpose of dictionary is to get values very quickly from keys"
   ]
  },
  {
   "cell_type": "code",
   "execution_count": 142,
   "metadata": {},
   "outputs": [],
   "source": [
    "# you can use dictionary as a in memory database - temporarily "
   ]
  }
 ],
 "metadata": {
  "kernelspec": {
   "display_name": "Python 3",
   "language": "python",
   "name": "python3"
  },
  "language_info": {
   "codemirror_mode": {
    "name": "ipython",
    "version": 3
   },
   "file_extension": ".py",
   "mimetype": "text/x-python",
   "name": "python",
   "nbconvert_exporter": "python",
   "pygments_lexer": "ipython3",
   "version": "3.8.3"
  }
 },
 "nbformat": 4,
 "nbformat_minor": 2
}
