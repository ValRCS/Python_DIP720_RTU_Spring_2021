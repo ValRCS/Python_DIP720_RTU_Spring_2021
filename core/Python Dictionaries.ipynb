{
 "cells": [
  {
   "cell_type": "markdown",
   "metadata": {},
   "source": [
    "# Python Dictionaries\n"
   ]
  },
  {
   "cell_type": "markdown",
   "metadata": {},
   "source": [
    "## Dictionaries\n",
    "\n",
    "* Collection of Key - Value pairs\n",
    "* also known as associative array\n",
    "* also known as map\n",
    "* unordered\n",
    "* keys unique in one dictionary\n",
    "* storing, extracting\n"
   ]
  },
  {
   "cell_type": "code",
   "execution_count": 1,
   "metadata": {},
   "outputs": [
    {
     "data": {
      "text/plain": [
       "0"
      ]
     },
     "execution_count": 1,
     "metadata": {},
     "output_type": "execute_result"
    }
   ],
   "source": [
    "emptyd = {}\n",
    "len(emptyd)"
   ]
  },
  {
   "cell_type": "code",
   "execution_count": 2,
   "metadata": {},
   "outputs": [
    {
     "data": {
      "text/plain": [
       "dict"
      ]
     },
     "execution_count": 2,
     "metadata": {},
     "output_type": "execute_result"
    }
   ],
   "source": [
    "type(emptyd)"
   ]
  },
  {
   "cell_type": "code",
   "execution_count": 3,
   "metadata": {},
   "outputs": [
    {
     "name": "stdout",
     "output_type": "stream",
     "text": [
      "{'jack': 4098, 'sape': 4139}\n"
     ]
    }
   ],
   "source": [
    "tel = {'jack': 4098, 'sape': 4139} # so  { key: value, key2:value2, and so on}\n",
    "print(tel)"
   ]
  },
  {
   "cell_type": "code",
   "execution_count": 4,
   "metadata": {},
   "outputs": [
    {
     "name": "stdout",
     "output_type": "stream",
     "text": [
      "{'jack': 9000, 'sape': 4139}\n"
     ]
    }
   ],
   "source": [
    "# so what can be keys ? what happens if we add second identical key\n",
    "tel = {'jack': 4098, 'sape': 4139, 'jack': 9000} # you generally should not do this, keys should be unique\n",
    "print(tel)"
   ]
  },
  {
   "cell_type": "code",
   "execution_count": 5,
   "metadata": {},
   "outputs": [
    {
     "name": "stdout",
     "output_type": "stream",
     "text": [
      "dict_keys(['jack', 'sape', 'guido'])\n",
      "dict_values([9000, 4139, 4127])\n"
     ]
    }
   ],
   "source": [
    "# add a new key-value pair\n",
    "tel['guido'] = 4127\n",
    "print(tel.keys())\n",
    "print(tel.values())"
   ]
  },
  {
   "cell_type": "code",
   "execution_count": 6,
   "metadata": {},
   "outputs": [
    {
     "data": {
      "text/plain": [
       "{'jack': 9000, 'sape': 4139, 'guido': 4127, 'valdis': 4127}"
      ]
     },
     "execution_count": 6,
     "metadata": {},
     "output_type": "execute_result"
    }
   ],
   "source": [
    "# add key 'valdis' with value 4127 to our tel dictionary\n",
    "tel['valdis'] = 4127\n",
    "tel # so values can be same"
   ]
  },
  {
   "cell_type": "code",
   "execution_count": 7,
   "metadata": {},
   "outputs": [
    {
     "data": {
      "text/plain": [
       "{'jack': 9000, 'sape': 4139, 'guido': 4127, 'valdis': [9000, 2640, 2911]}"
      ]
     },
     "execution_count": 7,
     "metadata": {},
     "output_type": "execute_result"
    }
   ],
   "source": [
    "tel['valdis'] = [9000,2640,2911]\n",
    "tel"
   ]
  },
  {
   "cell_type": "code",
   "execution_count": 9,
   "metadata": {},
   "outputs": [
    {
     "data": {
      "text/plain": [
       "[['jack', 9000], ['valdis', 9000]]"
      ]
     },
     "execution_count": 9,
     "metadata": {},
     "output_type": "execute_result"
    }
   ],
   "source": [
    "tel_list = [['jack',9000], ['valdis',9000]]\n",
    "tel_list"
   ]
  },
  {
   "cell_type": "code",
   "execution_count": 8,
   "metadata": {},
   "outputs": [
    {
     "data": {
      "text/plain": [
       "9000"
      ]
     },
     "execution_count": 8,
     "metadata": {},
     "output_type": "execute_result"
    }
   ],
   "source": [
    "#get value from key in dictionary\n",
    "# very fast even in large dictionaries! O(1)\n",
    "# this means even a huge dictionary will retrieve the values in constant time - ie very quickly\n",
    "\n",
    "tel['jack']"
   ]
  },
  {
   "cell_type": "code",
   "execution_count": 10,
   "metadata": {},
   "outputs": [],
   "source": [
    "tel['sape'] = 54545"
   ]
  },
  {
   "cell_type": "code",
   "execution_count": null,
   "metadata": {},
   "outputs": [],
   "source": [
    "# try adding your own name to tel dictionary"
   ]
  },
  {
   "cell_type": "code",
   "execution_count": 11,
   "metadata": {},
   "outputs": [
    {
     "data": {
      "text/plain": [
       "[9000, 2640, 2911]"
      ]
     },
     "execution_count": 11,
     "metadata": {},
     "output_type": "execute_result"
    }
   ],
   "source": [
    "tel['valdis']"
   ]
  },
  {
   "cell_type": "code",
   "execution_count": 13,
   "metadata": {},
   "outputs": [
    {
     "ename": "KeyError",
     "evalue": "'Valdis'",
     "output_type": "error",
     "traceback": [
      "\u001b[1;31m---------------------------------------------------------------------------\u001b[0m",
      "\u001b[1;31mKeyError\u001b[0m                                  Traceback (most recent call last)",
      "\u001b[1;32m<ipython-input-13-4970cedd3a66>\u001b[0m in \u001b[0;36m<module>\u001b[1;34m\u001b[0m\n\u001b[1;32m----> 1\u001b[1;33m \u001b[0mtel\u001b[0m\u001b[1;33m[\u001b[0m\u001b[1;34m'Valdis'\u001b[0m\u001b[1;33m]\u001b[0m \u001b[1;31m# this should give error because no such key exists\u001b[0m\u001b[1;33m\u001b[0m\u001b[1;33m\u001b[0m\u001b[0m\n\u001b[0m",
      "\u001b[1;31mKeyError\u001b[0m: 'Valdis'"
     ]
    }
   ],
   "source": [
    "tel['Valdis'] # this should give error because no such key exists"
   ]
  },
  {
   "cell_type": "code",
   "execution_count": null,
   "metadata": {},
   "outputs": [],
   "source": []
  },
  {
   "cell_type": "code",
   "execution_count": 14,
   "metadata": {},
   "outputs": [
    {
     "data": {
      "text/plain": [
       "True"
      ]
     },
     "execution_count": 14,
     "metadata": {},
     "output_type": "execute_result"
    }
   ],
   "source": [
    "# check for key in our dictionary\n",
    "'valdis' in tel"
   ]
  },
  {
   "cell_type": "code",
   "execution_count": 15,
   "metadata": {},
   "outputs": [
    {
     "data": {
      "text/plain": [
       "False"
      ]
     },
     "execution_count": 15,
     "metadata": {},
     "output_type": "execute_result"
    }
   ],
   "source": [
    "'peteris' in tel"
   ]
  },
  {
   "cell_type": "code",
   "execution_count": 19,
   "metadata": {},
   "outputs": [
    {
     "name": "stdout",
     "output_type": "stream",
     "text": [
      "[9000, 2640, 2911]\n"
     ]
    }
   ],
   "source": [
    "# key = 'nnevaldis'\n",
    "key = 'valdis'\n",
    "if key in tel:\n",
    "    print(tel[key]) # we print the value of the key if there is such a key\n",
    "else:\n",
    "    print(\"No such key\")"
   ]
  },
  {
   "cell_type": "code",
   "execution_count": null,
   "metadata": {},
   "outputs": [],
   "source": [
    "type(None)"
   ]
  },
  {
   "cell_type": "code",
   "execution_count": 20,
   "metadata": {},
   "outputs": [
    {
     "data": {
      "text/plain": [
       "[9000, 2640, 2911]"
      ]
     },
     "execution_count": 20,
     "metadata": {},
     "output_type": "execute_result"
    }
   ],
   "source": [
    "tel.get('valdis') # gets value by key without errors"
   ]
  },
  {
   "cell_type": "code",
   "execution_count": 22,
   "metadata": {},
   "outputs": [
    {
     "name": "stdout",
     "output_type": "stream",
     "text": [
      "None\n"
     ]
    }
   ],
   "source": [
    "print(tel.get('nevaldis')) #by default on bad key we get None"
   ]
  },
  {
   "cell_type": "code",
   "execution_count": 23,
   "metadata": {},
   "outputs": [
    {
     "data": {
      "text/plain": [
       "-657"
      ]
     },
     "execution_count": 23,
     "metadata": {},
     "output_type": "execute_result"
    }
   ],
   "source": [
    "tel.get('nevaldis', 555-1212) # we can change the return on bad keys to our own "
   ]
  },
  {
   "cell_type": "code",
   "execution_count": 24,
   "metadata": {},
   "outputs": [
    {
     "data": {
      "text/plain": [
       "'555-1212'"
      ]
     },
     "execution_count": 24,
     "metadata": {},
     "output_type": "execute_result"
    }
   ],
   "source": [
    "tel.get('nevaldis', '555-1212') # we can change the return on bad keys to our own "
   ]
  },
  {
   "cell_type": "code",
   "execution_count": 26,
   "metadata": {},
   "outputs": [
    {
     "data": {
      "text/plain": [
       "{'jack': 9000, 'guido': 4127, 'valdis': [9000, 2640, 2911]}"
      ]
     },
     "execution_count": 26,
     "metadata": {},
     "output_type": "execute_result"
    }
   ],
   "source": [
    "# remove key value pair\n",
    "tel['sape'] = 665453 # create key or overwrite if it existed\n",
    "del tel['sape']\n",
    "tel"
   ]
  },
  {
   "cell_type": "code",
   "execution_count": 27,
   "metadata": {},
   "outputs": [
    {
     "data": {
      "text/plain": [
       "'Sorry no such key'"
      ]
     },
     "execution_count": 27,
     "metadata": {},
     "output_type": "execute_result"
    }
   ],
   "source": [
    "tel.get('sape', 'Sorry no such key')"
   ]
  },
  {
   "cell_type": "code",
   "execution_count": null,
   "metadata": {},
   "outputs": [],
   "source": [
    "'valdis' in tel.keys()"
   ]
  },
  {
   "cell_type": "code",
   "execution_count": null,
   "metadata": {},
   "outputs": [],
   "source": [
    "'karlis' in tel.keys()"
   ]
  },
  {
   "cell_type": "code",
   "execution_count": 28,
   "metadata": {},
   "outputs": [
    {
     "data": {
      "text/plain": [
       "True"
      ]
     },
     "execution_count": 28,
     "metadata": {},
     "output_type": "execute_result"
    }
   ],
   "source": [
    "# this will be slower going through all the key:value pairs\n",
    "4127 in tel.values()"
   ]
  },
  {
   "cell_type": "code",
   "execution_count": 29,
   "metadata": {},
   "outputs": [
    {
     "data": {
      "text/plain": [
       "False"
      ]
     },
     "execution_count": 29,
     "metadata": {},
     "output_type": "execute_result"
    }
   ],
   "source": [
    "112 in tel.values()"
   ]
  },
  {
   "cell_type": "code",
   "execution_count": 30,
   "metadata": {},
   "outputs": [
    {
     "data": {
      "text/plain": [
       "dict_values"
      ]
     },
     "execution_count": 30,
     "metadata": {},
     "output_type": "execute_result"
    }
   ],
   "source": [
    "type(tel.values())"
   ]
  },
  {
   "cell_type": "code",
   "execution_count": 31,
   "metadata": {},
   "outputs": [
    {
     "data": {
      "text/plain": [
       "['__class__',\n",
       " '__delattr__',\n",
       " '__dir__',\n",
       " '__doc__',\n",
       " '__eq__',\n",
       " '__format__',\n",
       " '__ge__',\n",
       " '__getattribute__',\n",
       " '__gt__',\n",
       " '__hash__',\n",
       " '__init__',\n",
       " '__init_subclass__',\n",
       " '__iter__',\n",
       " '__le__',\n",
       " '__len__',\n",
       " '__lt__',\n",
       " '__ne__',\n",
       " '__new__',\n",
       " '__reduce__',\n",
       " '__reduce_ex__',\n",
       " '__repr__',\n",
       " '__reversed__',\n",
       " '__setattr__',\n",
       " '__sizeof__',\n",
       " '__str__',\n",
       " '__subclasshook__']"
      ]
     },
     "execution_count": 31,
     "metadata": {},
     "output_type": "execute_result"
    }
   ],
   "source": [
    "dir(tel.values())"
   ]
  },
  {
   "cell_type": "code",
   "execution_count": null,
   "metadata": {},
   "outputs": [],
   "source": [
    "tel.values()"
   ]
  },
  {
   "cell_type": "code",
   "execution_count": 32,
   "metadata": {},
   "outputs": [
    {
     "data": {
      "text/plain": [
       "[9000, 4127, [9000, 2640, 2911]]"
      ]
     },
     "execution_count": 32,
     "metadata": {},
     "output_type": "execute_result"
    }
   ],
   "source": [
    "telvalues = list(tel.values())\n",
    "telvalues"
   ]
  },
  {
   "cell_type": "code",
   "execution_count": 33,
   "metadata": {},
   "outputs": [
    {
     "data": {
      "text/plain": [
       "['jack', 'guido', 'valdis']"
      ]
     },
     "execution_count": 33,
     "metadata": {},
     "output_type": "execute_result"
    }
   ],
   "source": [
    "telkeys = list(tel.keys())\n",
    "telkeys"
   ]
  },
  {
   "cell_type": "code",
   "execution_count": 34,
   "metadata": {},
   "outputs": [],
   "source": [
    "tel['irv'] = 4127"
   ]
  },
  {
   "cell_type": "code",
   "execution_count": 35,
   "metadata": {},
   "outputs": [
    {
     "data": {
      "text/plain": [
       "{'jack': 9000, 'guido': 4127, 'valdis': [9000, 2640, 2911], 'irv': 4127}"
      ]
     },
     "execution_count": 35,
     "metadata": {},
     "output_type": "execute_result"
    }
   ],
   "source": [
    "tel"
   ]
  },
  {
   "cell_type": "code",
   "execution_count": 37,
   "metadata": {},
   "outputs": [
    {
     "data": {
      "text/plain": [
       "2"
      ]
     },
     "execution_count": 37,
     "metadata": {},
     "output_type": "execute_result"
    }
   ],
   "source": [
    "# tel.values.count(4127) dict_values has no count\n",
    "telvalues = list(tel.values())\n",
    "telvalues.count(4127)"
   ]
  },
  {
   "cell_type": "code",
   "execution_count": 38,
   "metadata": {},
   "outputs": [
    {
     "data": {
      "text/plain": [
       "2"
      ]
     },
     "execution_count": 38,
     "metadata": {},
     "output_type": "execute_result"
    }
   ],
   "source": [
    "list(tel.values()).count(4127)"
   ]
  },
  {
   "cell_type": "code",
   "execution_count": null,
   "metadata": {},
   "outputs": [],
   "source": [
    "list(tel.values()).count(9004127)"
   ]
  },
  {
   "cell_type": "code",
   "execution_count": null,
   "metadata": {},
   "outputs": [],
   "source": [
    "tel['jack'] = 9999"
   ]
  },
  {
   "cell_type": "code",
   "execution_count": 40,
   "metadata": {},
   "outputs": [
    {
     "name": "stdout",
     "output_type": "stream",
     "text": [
      "You already have key police value 911\n"
     ]
    },
    {
     "data": {
      "text/plain": [
       "{'jack': 9000,\n",
       " 'guido': 4127,\n",
       " 'valdis': [9000, 2640, 2911],\n",
       " 'irv': 4127,\n",
       " 'police': 911}"
      ]
     },
     "execution_count": 40,
     "metadata": {},
     "output_type": "execute_result"
    }
   ],
   "source": [
    "key = 'police'\n",
    "value = 911\n",
    "if key not in tel:\n",
    "    tel[key] = value\n",
    "    print(f\"Added new key {key} value {value} pair\")\n",
    "else:\n",
    "    print(\"You already have key\", key, \"value\", tel[key])\n",
    "tel"
   ]
  },
  {
   "cell_type": "code",
   "execution_count": 42,
   "metadata": {},
   "outputs": [
    {
     "data": {
      "text/plain": [
       "{'jack': 9000,\n",
       " 'guido': 4127,\n",
       " 'valdis': [9000, 2640, 2911],\n",
       " 'irv': 4127,\n",
       " 'police': 911,\n",
       " 'rtu': 7777}"
      ]
     },
     "execution_count": 42,
     "metadata": {},
     "output_type": "execute_result"
    }
   ],
   "source": [
    "# the above code can be written using setdefault method\n",
    "tel.setdefault(\"rtu\", 777700) # so this will only work once\n",
    "tel"
   ]
  },
  {
   "cell_type": "code",
   "execution_count": null,
   "metadata": {},
   "outputs": [],
   "source": [
    "type(tel)"
   ]
  },
  {
   "cell_type": "code",
   "execution_count": 43,
   "metadata": {},
   "outputs": [
    {
     "data": {
      "text/plain": [
       "(9000, 9000)"
      ]
     },
     "execution_count": 43,
     "metadata": {},
     "output_type": "execute_result"
    }
   ],
   "source": [
    "tel.get('jack'), tel['jack'] # the diffence being that get doesnt throw errors"
   ]
  },
  {
   "cell_type": "code",
   "execution_count": null,
   "metadata": {},
   "outputs": [],
   "source": [
    "tel[1] = 5555\n",
    "tel"
   ]
  },
  {
   "cell_type": "code",
   "execution_count": null,
   "metadata": {},
   "outputs": [],
   "source": [
    "tel[1]"
   ]
  },
  {
   "cell_type": "code",
   "execution_count": null,
   "metadata": {},
   "outputs": [],
   "source": [
    "myphonelist=[3432432,242342,24,234,2432]\n",
    "myphonelist[1]"
   ]
  },
  {
   "cell_type": "code",
   "execution_count": null,
   "metadata": {},
   "outputs": [],
   "source": [
    "list(tel.keys())"
   ]
  },
  {
   "cell_type": "code",
   "execution_count": null,
   "metadata": {},
   "outputs": [],
   "source": [
    "list(tel.values())"
   ]
  },
  {
   "cell_type": "code",
   "execution_count": null,
   "metadata": {},
   "outputs": [],
   "source": [
    "sorted([5,7,1,66], reverse=True)"
   ]
  },
  {
   "cell_type": "code",
   "execution_count": null,
   "metadata": {},
   "outputs": [],
   "source": [
    "sorted(tel.values())"
   ]
  },
  {
   "cell_type": "code",
   "execution_count": null,
   "metadata": {},
   "outputs": [],
   "source": [
    "# delete irv key\n",
    "# add irv key with new value\n",
    "del tel['irv']\n",
    "tel.keys()"
   ]
  },
  {
   "cell_type": "code",
   "execution_count": 46,
   "metadata": {},
   "outputs": [
    {
     "data": {
      "text/plain": [
       "dict_keys(['jack', 'guido', 'valdis', 'irv', 'police', 'rtu'])"
      ]
     },
     "execution_count": 46,
     "metadata": {},
     "output_type": "execute_result"
    }
   ],
   "source": [
    "tel['irv'] = [333, 333,13214141]\n",
    "tel.keys()"
   ]
  },
  {
   "cell_type": "code",
   "execution_count": null,
   "metadata": {},
   "outputs": [],
   "source": [
    "tel"
   ]
  },
  {
   "cell_type": "code",
   "execution_count": null,
   "metadata": {},
   "outputs": [],
   "source": [
    "len(tel)"
   ]
  },
  {
   "cell_type": "code",
   "execution_count": 44,
   "metadata": {},
   "outputs": [
    {
     "data": {
      "text/plain": [
       "[9000, 2640, 2911]"
      ]
     },
     "execution_count": 44,
     "metadata": {},
     "output_type": "execute_result"
    }
   ],
   "source": [
    "valdisphones = tel.get('valdis')\n",
    "valdisphones # this is just a reference to a list"
   ]
  },
  {
   "cell_type": "code",
   "execution_count": 45,
   "metadata": {},
   "outputs": [
    {
     "data": {
      "text/plain": [
       "2911"
      ]
     },
     "execution_count": 45,
     "metadata": {},
     "output_type": "execute_result"
    }
   ],
   "source": [
    "# how to get last phone number from irvingphones ?\n",
    "valdisphones[-1]"
   ]
  },
  {
   "cell_type": "code",
   "execution_count": 47,
   "metadata": {},
   "outputs": [
    {
     "data": {
      "text/plain": [
       "[333, 333, 13214141]"
      ]
     },
     "execution_count": 47,
     "metadata": {},
     "output_type": "execute_result"
    }
   ],
   "source": [
    "tel['irv']"
   ]
  },
  {
   "cell_type": "code",
   "execution_count": 48,
   "metadata": {},
   "outputs": [
    {
     "data": {
      "text/plain": [
       "13214141"
      ]
     },
     "execution_count": 48,
     "metadata": {},
     "output_type": "execute_result"
    }
   ],
   "source": [
    "tel['irv'][-1] # last value from dictionary by key irv which contains a list"
   ]
  },
  {
   "cell_type": "code",
   "execution_count": 49,
   "metadata": {},
   "outputs": [
    {
     "data": {
      "text/plain": [
       "[333, 333]"
      ]
     },
     "execution_count": 49,
     "metadata": {},
     "output_type": "execute_result"
    }
   ],
   "source": [
    "tel['irv'][:2] # first two value from irv value (which is a list)"
   ]
  },
  {
   "cell_type": "code",
   "execution_count": null,
   "metadata": {},
   "outputs": [],
   "source": [
    "?sorted"
   ]
  },
  {
   "cell_type": "code",
   "execution_count": 50,
   "metadata": {},
   "outputs": [
    {
     "data": {
      "text/plain": [
       "dict_keys(['jack', 'guido', 'valdis', 'irv', 'police', 'rtu'])"
      ]
     },
     "execution_count": 50,
     "metadata": {},
     "output_type": "execute_result"
    }
   ],
   "source": [
    "tel.keys()"
   ]
  },
  {
   "cell_type": "code",
   "execution_count": null,
   "metadata": {},
   "outputs": [],
   "source": [
    "# since Python 3.7 the original insertion order of keys is preserved"
   ]
  },
  {
   "cell_type": "code",
   "execution_count": 51,
   "metadata": {},
   "outputs": [
    {
     "data": {
      "text/plain": [
       "['guido', 'irv', 'jack', 'police', 'rtu', 'valdis']"
      ]
     },
     "execution_count": 51,
     "metadata": {},
     "output_type": "execute_result"
    }
   ],
   "source": [
    "sorted(tel.keys())"
   ]
  },
  {
   "cell_type": "code",
   "execution_count": 53,
   "metadata": {},
   "outputs": [
    {
     "data": {
      "text/plain": [
       "{'guido': 4127,\n",
       " 'irv': [333, 333, 13214141],\n",
       " 'jack': 9000,\n",
       " 'police': 911,\n",
       " 'rtu': 7777,\n",
       " 'valdis': [9000, 2640, 2911]}"
      ]
     },
     "execution_count": 53,
     "metadata": {},
     "output_type": "execute_result"
    }
   ],
   "source": [
    "sorted_tel = {}\n",
    "for key in sorted(tel.keys()):\n",
    "    sorted_tel[key] = tel[key]\n",
    "# this looping is not free and would take the size the whole dictionary plus sorting is also takes time\n",
    "sorted_tel"
   ]
  },
  {
   "cell_type": "code",
   "execution_count": null,
   "metadata": {},
   "outputs": [],
   "source": [
    "telkeys = list(tel.keys())\n",
    "telkeys"
   ]
  },
  {
   "cell_type": "code",
   "execution_count": null,
   "metadata": {},
   "outputs": [],
   "source": [
    "newkeys = []\n",
    "for key in telkeys:\n",
    "    newkeys.append(str(key))\n",
    "newkeys"
   ]
  },
  {
   "cell_type": "code",
   "execution_count": 54,
   "metadata": {},
   "outputs": [
    {
     "data": {
      "text/plain": [
       "{'potatoes': 8, 'carrots': 5, 'beets': 3, 'pumpkins': 2, 'chocolate': 10}"
      ]
     },
     "execution_count": 54,
     "metadata": {},
     "output_type": "execute_result"
    }
   ],
   "source": [
    "shopdict = {\"potatoes\":8, \"carrots\": 5, \"beets\": 3, \"pumpkins\":2, \"chocolate\":10}\n",
    "shopdict"
   ]
  },
  {
   "cell_type": "code",
   "execution_count": 55,
   "metadata": {},
   "outputs": [
    {
     "name": "stdout",
     "output_type": "stream",
     "text": [
      "potatoes 8\n",
      "Buying 8kgs of potatoes\n",
      "carrots 5\n",
      "Buying 5kgs of carrots\n",
      "beets 3\n",
      "Buying 3kgs of beets\n",
      "pumpkins 2\n",
      "Buying 2kgs of pumpkins\n",
      "chocolate 10\n",
      "Buying 10kgs of chocolate\n"
     ]
    }
   ],
   "source": [
    "for key,value in shopdict.items(): # key and value are just names we made up also common is k,v\n",
    "    print(key,value)\n",
    "    print(f\"Buying {value}kgs of {key}\")"
   ]
  },
  {
   "cell_type": "code",
   "execution_count": 56,
   "metadata": {},
   "outputs": [
    {
     "name": "stdout",
     "output_type": "stream",
     "text": [
      "potatoes 8\n",
      "carrots 5\n",
      "beets 3\n",
      "pumpkins 2\n",
      "chocolate 10\n"
     ]
    }
   ],
   "source": [
    "for key in shopdict: # so only key is provided\n",
    "    print(key, shopdict[key])"
   ]
  },
  {
   "cell_type": "code",
   "execution_count": 57,
   "metadata": {},
   "outputs": [
    {
     "data": {
      "text/plain": [
       "{'potatoes': 18, 'carrots': 15, 'beets': 13, 'pumpkins': 12, 'chocolate': 20}"
      ]
     },
     "execution_count": 57,
     "metadata": {},
     "output_type": "execute_result"
    }
   ],
   "source": [
    "for key in shopdict:\n",
    "    shopdict[key] += 10 # same as shopdict[key] = shopdict[key] + 10\n",
    "shopdict"
   ]
  },
  {
   "cell_type": "code",
   "execution_count": 59,
   "metadata": {},
   "outputs": [
    {
     "name": "stdout",
     "output_type": "stream",
     "text": [
      "101 potatoes 18\n",
      "102 carrots 15\n",
      "103 beets 13\n",
      "104 pumpkins 12\n",
      "105 chocolate 20\n",
      "[[101, 'potatoes', 18], [102, 'carrots', 15], [103, 'beets', 13], [104, 'pumpkins', 12], [105, 'chocolate', 20]]\n",
      "{101: ('potatoes', 18), 102: ('carrots', 15), 103: ('beets', 13), 104: ('pumpkins', 12), 105: ('chocolate', 20)}\n"
     ]
    }
   ],
   "source": [
    "newlist = []\n",
    "newdict = {}\n",
    "for index,(key,value) in enumerate(shopdict.items(), start=101):\n",
    "    print(index,key,value)\n",
    "    newlist.append([index,key,value])\n",
    "    newdict[index] = (key,value)\n",
    "print(newlist)\n",
    "print(newdict)"
   ]
  },
  {
   "cell_type": "code",
   "execution_count": 60,
   "metadata": {},
   "outputs": [
    {
     "data": {
      "text/plain": [
       "('carrots', 15)"
      ]
     },
     "execution_count": 60,
     "metadata": {},
     "output_type": "execute_result"
    }
   ],
   "source": [
    "newdict[102] # looks like a list but it's a dictionary"
   ]
  },
  {
   "cell_type": "code",
   "execution_count": 61,
   "metadata": {},
   "outputs": [
    {
     "data": {
      "text/plain": [
       "{'potatoes': {'id': 101, 'quantity': 18},\n",
       " 'carrots': {'id': 102, 'quantity': 15},\n",
       " 'beets': {'id': 103, 'quantity': 13},\n",
       " 'pumpkins': {'id': 104, 'quantity': 12},\n",
       " 'chocolate': {'id': 105, 'quantity': 20}}"
      ]
     },
     "execution_count": 61,
     "metadata": {},
     "output_type": "execute_result"
    }
   ],
   "source": [
    "newdict2 = {}\n",
    "for item in newlist:\n",
    "    newdict2[item[1]] = {'id':item[0],'quantity':item[2]}\n",
    "newdict2 # so this will be dictionary with values being separate dictionaries"
   ]
  },
  {
   "cell_type": "code",
   "execution_count": 62,
   "metadata": {},
   "outputs": [
    {
     "data": {
      "text/plain": [
       "{'id': 103, 'quantity': 13}"
      ]
     },
     "execution_count": 62,
     "metadata": {},
     "output_type": "execute_result"
    }
   ],
   "source": [
    "# can you get me quantity of beets needed from newdict2 ?\n",
    "newdict2['beets']"
   ]
  },
  {
   "cell_type": "code",
   "execution_count": 63,
   "metadata": {},
   "outputs": [
    {
     "data": {
      "text/plain": [
       "13"
      ]
     },
     "execution_count": 63,
     "metadata": {},
     "output_type": "execute_result"
    }
   ],
   "source": [
    "newdict2['beets']['quantity']"
   ]
  },
  {
   "cell_type": "code",
   "execution_count": 64,
   "metadata": {},
   "outputs": [
    {
     "data": {
      "text/plain": [
       "13"
      ]
     },
     "execution_count": 64,
     "metadata": {},
     "output_type": "execute_result"
    }
   ],
   "source": [
    "newdict2.get('beets').get('quantity') # somewhat less common due to mostly laziness i think :0"
   ]
  },
  {
   "cell_type": "code",
   "execution_count": 65,
   "metadata": {},
   "outputs": [
    {
     "data": {
      "text/plain": [
       "{'a': 1, 'b': 2, 3: 'c', '3': '3c'}"
      ]
     },
     "execution_count": 65,
     "metadata": {},
     "output_type": "execute_result"
    }
   ],
   "source": [
    "# there are other of creating dictionaries\n",
    "t3 = dict([['a', 1],['b',2],[3, 'c'], ['3', '3c']])\n",
    "t3"
   ]
  },
  {
   "cell_type": "code",
   "execution_count": 66,
   "metadata": {},
   "outputs": [
    {
     "data": {
      "text/plain": [
       "('c', '3c')"
      ]
     },
     "execution_count": 66,
     "metadata": {},
     "output_type": "execute_result"
    }
   ],
   "source": [
    "t3[3],t3['3']"
   ]
  },
  {
   "cell_type": "code",
   "execution_count": 67,
   "metadata": {
    "scrolled": true
   },
   "outputs": [
    {
     "name": "stdout",
     "output_type": "stream",
     "text": [
      "{'sape': 4139, 'guido': 4127, 'jack': 4098}\n"
     ]
    }
   ],
   "source": [
    "# alternative way of creating a dictionary using tuples ()\n",
    "t2=dict([('sape', 4139), ('guido', 4127), ('jack', 4098)])\n",
    "print(t2)"
   ]
  },
  {
   "cell_type": "code",
   "execution_count": null,
   "metadata": {},
   "outputs": [],
   "source": [
    "names = ['Valdis', 'valdis', 'Antons', 'Anna', 'Kārlis', 'karlis']\n",
    "names"
   ]
  },
  {
   "cell_type": "code",
   "execution_count": null,
   "metadata": {},
   "outputs": [],
   "source": [
    "sorted(names)"
   ]
  },
  {
   "cell_type": "markdown",
   "metadata": {},
   "source": [
    "* `globals()` always returns the dictionary of the module namespace\n",
    "* `locals()` always returns a dictionary of the current namespace\n",
    "* `vars()` returns either a dictionary of the current namespace (if called with no argument) or the dictionary of the argument."
   ]
  },
  {
   "cell_type": "code",
   "execution_count": 68,
   "metadata": {},
   "outputs": [
    {
     "data": {
      "text/plain": [
       "{'__name__': '__main__',\n",
       " '__doc__': 'Automatically created module for IPython interactive environment',\n",
       " '__package__': None,\n",
       " '__loader__': None,\n",
       " '__spec__': None,\n",
       " '__builtin__': <module 'builtins' (built-in)>,\n",
       " '__builtins__': <module 'builtins' (built-in)>,\n",
       " '_ih': ['',\n",
       "  'emptyd = {}\\nlen(emptyd)',\n",
       "  'type(emptyd)',\n",
       "  \"tel = {'jack': 4098, 'sape': 4139}\\nprint(tel)\",\n",
       "  \"# so what can be keys ? what happens if we add second identical key\\ntel = {'jack': 4098, 'sape': 4139, 'jack': 9000}\\nprint(tel)\",\n",
       "  \"# add a new key-value pair\\ntel['guido'] = 4127\\nprint(tel.keys())\\nprint(tel.values())\",\n",
       "  \"# add key 'valdis' with value 4127 to our tel dictionary\\ntel['valdis'] = 4127\\ntel\",\n",
       "  \"tel['valdis'] = [9000,2640,2911]\\ntel\",\n",
       "  \"#get value from key in dictionary\\n# very fast even in large dictionaries! O(1)\\ntel['jack']\",\n",
       "  \"tel_list = [['jack',9000], ['valdis',9000]]\\ntel_list\",\n",
       "  \"tel['sape'] = 54545\",\n",
       "  \"tel['valdis']\",\n",
       "  \"tel['peteris'] # this should give error because no such key exists\",\n",
       "  \"tel['Valdis'] # this should give error because no such key exists\",\n",
       "  \"# check for key in our dictionary\\n'valdis' in tel\",\n",
       "  \"'peteris' in tel\",\n",
       "  'key = \\'nnevaldis\\'\\nif key in tel:\\n    print(tel[key]) # we print the value of the key if there is such a key\\nelse:\\n    print(\"No such key\")',\n",
       "  '# key = \\'nnevaldis\\'\\nkey = \\'valdis\\'\\nif key in tel:\\n    print(tel[key]) # we print the value of the key if there is such a key\\nelse:\\n    print(\"No such key\")',\n",
       "  '# key = \\'nnevaldis\\'\\nkey = \\'Valdis\\'\\nif key in tel:\\n    print(tel[key]) # we print the value of the key if there is such a key\\nelse:\\n    print(\"No such key\")',\n",
       "  '# key = \\'nnevaldis\\'\\nkey = \\'valdis\\'\\nif key in tel:\\n    print(tel[key]) # we print the value of the key if there is such a key\\nelse:\\n    print(\"No such key\")',\n",
       "  \"tel.get('valdis') # gets value by key without errors\",\n",
       "  \"tel.get('nevaldis') #by default on bad key we get None\",\n",
       "  \"print(tel.get('nevaldis')) #by default on bad key we get None\",\n",
       "  \"tel.get('nevaldis', 555-1212) # we can change the return on bad keys to our own \",\n",
       "  \"tel.get('nevaldis', '555-1212') # we can change the return on bad keys to our own \",\n",
       "  \"# remove key value pair\\ntel['sape'] = 665453 # create key or overwrite if it existed\\ndel tel['sape']\",\n",
       "  \"# remove key value pair\\ntel['sape'] = 665453 # create key or overwrite if it existed\\ndel tel['sape']\\ntel\",\n",
       "  \"tel.get('sape', 'Sorry no such key')\",\n",
       "  '# this will be slower going through all the key:value pairs\\n4127 in tel.values()',\n",
       "  '112 in tel.values()',\n",
       "  'type(tel.values())',\n",
       "  'dir(tel.values())',\n",
       "  'telvalues = list(tel.values())\\ntelvalues',\n",
       "  'telkeys = list(tel.keys())\\ntelkeys',\n",
       "  \"tel['irv'] = 4127\",\n",
       "  'tel',\n",
       "  'tel.values.count(4127), telvalues.count(4127)',\n",
       "  '# tel.values.count(4127) dict_values has no count\\ntelvalues = list(tel.values())\\ntelvalues.count(4127)',\n",
       "  'list(tel.values()).count(4127)',\n",
       "  'key = \\'police\\'\\nvalue = 911\\nif key not in tel:\\n    tel[key] = value\\n    print(f\"Added new key {key} value {value} pair\")\\nelse:\\n    print(\"You already have key\", key, \"value\", tel[key])\\ntel',\n",
       "  'key = \\'police\\'\\nvalue = 911\\nif key not in tel:\\n    tel[key] = value\\n    print(f\"Added new key {key} value {value} pair\")\\nelse:\\n    print(\"You already have key\", key, \"value\", tel[key])\\ntel',\n",
       "  '# the above code can be written using setdefault method\\ntel.setdefault(\"rtu\", 7777)\\ntel',\n",
       "  '# the above code can be written using setdefault method\\ntel.setdefault(\"rtu\", 777700) # so this will only work once\\ntel',\n",
       "  \"tel.get('jack'), tel['jack']\",\n",
       "  \"valdisphones = tel.get('valdis')\\nvaldisphones\",\n",
       "  '# how to get last phone number from irvingphones ?\\nvaldisphones[-1]',\n",
       "  \"tel['irv'] = [333, 333,13214141]\\ntel.keys()\",\n",
       "  \"tel['irv']\",\n",
       "  \"tel['irv'][-1] # last value from dictionary by key irv which contains a list\",\n",
       "  \"tel['irv'][:2] # first two value from irv value (which is a list)\",\n",
       "  'tel.keys()',\n",
       "  'sorted(tel.keys())',\n",
       "  'sorted_tel = {}\\nfor key in sorted(tel.keys()):\\n    sorted_tel[key] = tel[key]\\n# this looping is not free and would take the size the whole dictionary plus sorting is also takes time\\nsorted_teld',\n",
       "  'sorted_tel = {}\\nfor key in sorted(tel.keys()):\\n    sorted_tel[key] = tel[key]\\n# this looping is not free and would take the size the whole dictionary plus sorting is also takes time\\nsorted_tel',\n",
       "  'shopdict = {\"potatoes\":8, \"carrots\": 5, \"beets\": 3, \"pumpkins\":2, \"chocolate\":10}\\nshopdict',\n",
       "  'for key,value in shopdict.items(): # key and value are just names we made up also common is k,v\\n    print(key,value)\\n    print(f\"Buying {value}kgs of {key}\")',\n",
       "  'for key in shopdict: # so only key is provided\\n    print(key, shopdict[key])',\n",
       "  'for key in shopdict:\\n    shopdict[key] += 10 # same as shopdict[key] = shopdict[key] + 10\\nshopdict',\n",
       "  'newlist = []\\nfor index,(key,value) in enumerate(shopdict.items(), start=101):\\n    print(index,key,value)\\n    newlist.append([index,key,value])\\nnewlist',\n",
       "  'newlist = []\\nnewdict = {}\\nfor index,(key,value) in enumerate(shopdict.items(), start=101):\\n    print(index,key,value)\\n    newlist.append([index,key,value])\\n    newdict[index] = (key,value)\\nprint(newlist)\\nprint(newdict)',\n",
       "  \"newdict[102] # looks like a list but it's a dictionary\",\n",
       "  \"newdict2 = {}\\nfor item in newlist:\\n    newdict2[item[1]] = {'id':item[0],'quantity':item[2]}\\nnewdict2\",\n",
       "  \"# can you get me quantity of beets needed from newdict2 ?\\nnewdict2['beets']\",\n",
       "  \"newdict2['beets']['quantity']\",\n",
       "  \"newdict2.get('beets').get('quantity')\",\n",
       "  \"# there are other of creating dictionaries\\nt3 = dict([['a', 1],['b',2],[3, 'c'], ['3', '3c']])\\nt3\",\n",
       "  \"t3[3],t3['3']\",\n",
       "  \"# alternative way of creating a dictionary using tuples ()\\nt2=dict([('sape', 4139), ('guido', 4127), ('jack', 4098)])\\nprint(t2)\",\n",
       "  'globals()'],\n",
       " '_oh': {1: 0,\n",
       "  2: dict,\n",
       "  6: {'jack': 9000,\n",
       "   'guido': 4127,\n",
       "   'valdis': [9000, 2640, 2911],\n",
       "   'irv': [333, 333, 13214141],\n",
       "   'police': 911,\n",
       "   'rtu': 7777},\n",
       "  7: {'jack': 9000,\n",
       "   'guido': 4127,\n",
       "   'valdis': [9000, 2640, 2911],\n",
       "   'irv': [333, 333, 13214141],\n",
       "   'police': 911,\n",
       "   'rtu': 7777},\n",
       "  8: 9000,\n",
       "  9: [['jack', 9000], ['valdis', 9000]],\n",
       "  11: [9000, 2640, 2911],\n",
       "  14: True,\n",
       "  15: False,\n",
       "  20: [9000, 2640, 2911],\n",
       "  23: -657,\n",
       "  24: '555-1212',\n",
       "  26: {'jack': 9000,\n",
       "   'guido': 4127,\n",
       "   'valdis': [9000, 2640, 2911],\n",
       "   'irv': [333, 333, 13214141],\n",
       "   'police': 911,\n",
       "   'rtu': 7777},\n",
       "  27: 'Sorry no such key',\n",
       "  28: True,\n",
       "  29: False,\n",
       "  30: dict_values,\n",
       "  31: ['__class__',\n",
       "   '__delattr__',\n",
       "   '__dir__',\n",
       "   '__doc__',\n",
       "   '__eq__',\n",
       "   '__format__',\n",
       "   '__ge__',\n",
       "   '__getattribute__',\n",
       "   '__gt__',\n",
       "   '__hash__',\n",
       "   '__init__',\n",
       "   '__init_subclass__',\n",
       "   '__iter__',\n",
       "   '__le__',\n",
       "   '__len__',\n",
       "   '__lt__',\n",
       "   '__ne__',\n",
       "   '__new__',\n",
       "   '__reduce__',\n",
       "   '__reduce_ex__',\n",
       "   '__repr__',\n",
       "   '__reversed__',\n",
       "   '__setattr__',\n",
       "   '__sizeof__',\n",
       "   '__str__',\n",
       "   '__subclasshook__'],\n",
       "  32: [9000, 4127, [9000, 2640, 2911]],\n",
       "  33: ['jack', 'guido', 'valdis'],\n",
       "  35: {'jack': 9000,\n",
       "   'guido': 4127,\n",
       "   'valdis': [9000, 2640, 2911],\n",
       "   'irv': [333, 333, 13214141],\n",
       "   'police': 911,\n",
       "   'rtu': 7777},\n",
       "  37: 2,\n",
       "  38: 2,\n",
       "  39: {'jack': 9000,\n",
       "   'guido': 4127,\n",
       "   'valdis': [9000, 2640, 2911],\n",
       "   'irv': [333, 333, 13214141],\n",
       "   'police': 911,\n",
       "   'rtu': 7777},\n",
       "  40: {'jack': 9000,\n",
       "   'guido': 4127,\n",
       "   'valdis': [9000, 2640, 2911],\n",
       "   'irv': [333, 333, 13214141],\n",
       "   'police': 911,\n",
       "   'rtu': 7777},\n",
       "  41: {'jack': 9000,\n",
       "   'guido': 4127,\n",
       "   'valdis': [9000, 2640, 2911],\n",
       "   'irv': [333, 333, 13214141],\n",
       "   'police': 911,\n",
       "   'rtu': 7777},\n",
       "  42: {'jack': 9000,\n",
       "   'guido': 4127,\n",
       "   'valdis': [9000, 2640, 2911],\n",
       "   'irv': [333, 333, 13214141],\n",
       "   'police': 911,\n",
       "   'rtu': 7777},\n",
       "  43: (9000, 9000),\n",
       "  44: [9000, 2640, 2911],\n",
       "  45: 2911,\n",
       "  46: dict_keys(['jack', 'guido', 'valdis', 'irv', 'police', 'rtu']),\n",
       "  47: [333, 333, 13214141],\n",
       "  48: 13214141,\n",
       "  49: [333, 333],\n",
       "  50: dict_keys(['jack', 'guido', 'valdis', 'irv', 'police', 'rtu']),\n",
       "  51: ['guido', 'irv', 'jack', 'police', 'rtu', 'valdis'],\n",
       "  53: {'guido': 4127,\n",
       "   'irv': [333, 333, 13214141],\n",
       "   'jack': 9000,\n",
       "   'police': 911,\n",
       "   'rtu': 7777,\n",
       "   'valdis': [9000, 2640, 2911]},\n",
       "  54: {'potatoes': 18,\n",
       "   'carrots': 15,\n",
       "   'beets': 13,\n",
       "   'pumpkins': 12,\n",
       "   'chocolate': 20},\n",
       "  57: {'potatoes': 18,\n",
       "   'carrots': 15,\n",
       "   'beets': 13,\n",
       "   'pumpkins': 12,\n",
       "   'chocolate': 20},\n",
       "  58: [[101, 'potatoes', 18],\n",
       "   [102, 'carrots', 15],\n",
       "   [103, 'beets', 13],\n",
       "   [104, 'pumpkins', 12],\n",
       "   [105, 'chocolate', 20]],\n",
       "  60: ('carrots', 15),\n",
       "  61: {'potatoes': {'id': 101, 'quantity': 18},\n",
       "   'carrots': {'id': 102, 'quantity': 15},\n",
       "   'beets': {'id': 103, 'quantity': 13},\n",
       "   'pumpkins': {'id': 104, 'quantity': 12},\n",
       "   'chocolate': {'id': 105, 'quantity': 20}},\n",
       "  62: {'id': 103, 'quantity': 13},\n",
       "  63: 13,\n",
       "  64: 13,\n",
       "  65: {'a': 1, 'b': 2, 3: 'c', '3': '3c'},\n",
       "  66: ('c', '3c')},\n",
       " '_dh': ['C:\\\\Users\\\\liga\\\\Github\\\\RTU_Python_720_Fall_2020\\\\core'],\n",
       " 'In': ['',\n",
       "  'emptyd = {}\\nlen(emptyd)',\n",
       "  'type(emptyd)',\n",
       "  \"tel = {'jack': 4098, 'sape': 4139}\\nprint(tel)\",\n",
       "  \"# so what can be keys ? what happens if we add second identical key\\ntel = {'jack': 4098, 'sape': 4139, 'jack': 9000}\\nprint(tel)\",\n",
       "  \"# add a new key-value pair\\ntel['guido'] = 4127\\nprint(tel.keys())\\nprint(tel.values())\",\n",
       "  \"# add key 'valdis' with value 4127 to our tel dictionary\\ntel['valdis'] = 4127\\ntel\",\n",
       "  \"tel['valdis'] = [9000,2640,2911]\\ntel\",\n",
       "  \"#get value from key in dictionary\\n# very fast even in large dictionaries! O(1)\\ntel['jack']\",\n",
       "  \"tel_list = [['jack',9000], ['valdis',9000]]\\ntel_list\",\n",
       "  \"tel['sape'] = 54545\",\n",
       "  \"tel['valdis']\",\n",
       "  \"tel['peteris'] # this should give error because no such key exists\",\n",
       "  \"tel['Valdis'] # this should give error because no such key exists\",\n",
       "  \"# check for key in our dictionary\\n'valdis' in tel\",\n",
       "  \"'peteris' in tel\",\n",
       "  'key = \\'nnevaldis\\'\\nif key in tel:\\n    print(tel[key]) # we print the value of the key if there is such a key\\nelse:\\n    print(\"No such key\")',\n",
       "  '# key = \\'nnevaldis\\'\\nkey = \\'valdis\\'\\nif key in tel:\\n    print(tel[key]) # we print the value of the key if there is such a key\\nelse:\\n    print(\"No such key\")',\n",
       "  '# key = \\'nnevaldis\\'\\nkey = \\'Valdis\\'\\nif key in tel:\\n    print(tel[key]) # we print the value of the key if there is such a key\\nelse:\\n    print(\"No such key\")',\n",
       "  '# key = \\'nnevaldis\\'\\nkey = \\'valdis\\'\\nif key in tel:\\n    print(tel[key]) # we print the value of the key if there is such a key\\nelse:\\n    print(\"No such key\")',\n",
       "  \"tel.get('valdis') # gets value by key without errors\",\n",
       "  \"tel.get('nevaldis') #by default on bad key we get None\",\n",
       "  \"print(tel.get('nevaldis')) #by default on bad key we get None\",\n",
       "  \"tel.get('nevaldis', 555-1212) # we can change the return on bad keys to our own \",\n",
       "  \"tel.get('nevaldis', '555-1212') # we can change the return on bad keys to our own \",\n",
       "  \"# remove key value pair\\ntel['sape'] = 665453 # create key or overwrite if it existed\\ndel tel['sape']\",\n",
       "  \"# remove key value pair\\ntel['sape'] = 665453 # create key or overwrite if it existed\\ndel tel['sape']\\ntel\",\n",
       "  \"tel.get('sape', 'Sorry no such key')\",\n",
       "  '# this will be slower going through all the key:value pairs\\n4127 in tel.values()',\n",
       "  '112 in tel.values()',\n",
       "  'type(tel.values())',\n",
       "  'dir(tel.values())',\n",
       "  'telvalues = list(tel.values())\\ntelvalues',\n",
       "  'telkeys = list(tel.keys())\\ntelkeys',\n",
       "  \"tel['irv'] = 4127\",\n",
       "  'tel',\n",
       "  'tel.values.count(4127), telvalues.count(4127)',\n",
       "  '# tel.values.count(4127) dict_values has no count\\ntelvalues = list(tel.values())\\ntelvalues.count(4127)',\n",
       "  'list(tel.values()).count(4127)',\n",
       "  'key = \\'police\\'\\nvalue = 911\\nif key not in tel:\\n    tel[key] = value\\n    print(f\"Added new key {key} value {value} pair\")\\nelse:\\n    print(\"You already have key\", key, \"value\", tel[key])\\ntel',\n",
       "  'key = \\'police\\'\\nvalue = 911\\nif key not in tel:\\n    tel[key] = value\\n    print(f\"Added new key {key} value {value} pair\")\\nelse:\\n    print(\"You already have key\", key, \"value\", tel[key])\\ntel',\n",
       "  '# the above code can be written using setdefault method\\ntel.setdefault(\"rtu\", 7777)\\ntel',\n",
       "  '# the above code can be written using setdefault method\\ntel.setdefault(\"rtu\", 777700) # so this will only work once\\ntel',\n",
       "  \"tel.get('jack'), tel['jack']\",\n",
       "  \"valdisphones = tel.get('valdis')\\nvaldisphones\",\n",
       "  '# how to get last phone number from irvingphones ?\\nvaldisphones[-1]',\n",
       "  \"tel['irv'] = [333, 333,13214141]\\ntel.keys()\",\n",
       "  \"tel['irv']\",\n",
       "  \"tel['irv'][-1] # last value from dictionary by key irv which contains a list\",\n",
       "  \"tel['irv'][:2] # first two value from irv value (which is a list)\",\n",
       "  'tel.keys()',\n",
       "  'sorted(tel.keys())',\n",
       "  'sorted_tel = {}\\nfor key in sorted(tel.keys()):\\n    sorted_tel[key] = tel[key]\\n# this looping is not free and would take the size the whole dictionary plus sorting is also takes time\\nsorted_teld',\n",
       "  'sorted_tel = {}\\nfor key in sorted(tel.keys()):\\n    sorted_tel[key] = tel[key]\\n# this looping is not free and would take the size the whole dictionary plus sorting is also takes time\\nsorted_tel',\n",
       "  'shopdict = {\"potatoes\":8, \"carrots\": 5, \"beets\": 3, \"pumpkins\":2, \"chocolate\":10}\\nshopdict',\n",
       "  'for key,value in shopdict.items(): # key and value are just names we made up also common is k,v\\n    print(key,value)\\n    print(f\"Buying {value}kgs of {key}\")',\n",
       "  'for key in shopdict: # so only key is provided\\n    print(key, shopdict[key])',\n",
       "  'for key in shopdict:\\n    shopdict[key] += 10 # same as shopdict[key] = shopdict[key] + 10\\nshopdict',\n",
       "  'newlist = []\\nfor index,(key,value) in enumerate(shopdict.items(), start=101):\\n    print(index,key,value)\\n    newlist.append([index,key,value])\\nnewlist',\n",
       "  'newlist = []\\nnewdict = {}\\nfor index,(key,value) in enumerate(shopdict.items(), start=101):\\n    print(index,key,value)\\n    newlist.append([index,key,value])\\n    newdict[index] = (key,value)\\nprint(newlist)\\nprint(newdict)',\n",
       "  \"newdict[102] # looks like a list but it's a dictionary\",\n",
       "  \"newdict2 = {}\\nfor item in newlist:\\n    newdict2[item[1]] = {'id':item[0],'quantity':item[2]}\\nnewdict2\",\n",
       "  \"# can you get me quantity of beets needed from newdict2 ?\\nnewdict2['beets']\",\n",
       "  \"newdict2['beets']['quantity']\",\n",
       "  \"newdict2.get('beets').get('quantity')\",\n",
       "  \"# there are other of creating dictionaries\\nt3 = dict([['a', 1],['b',2],[3, 'c'], ['3', '3c']])\\nt3\",\n",
       "  \"t3[3],t3['3']\",\n",
       "  \"# alternative way of creating a dictionary using tuples ()\\nt2=dict([('sape', 4139), ('guido', 4127), ('jack', 4098)])\\nprint(t2)\",\n",
       "  'globals()'],\n",
       " 'Out': {1: 0,\n",
       "  2: dict,\n",
       "  6: {'jack': 9000,\n",
       "   'guido': 4127,\n",
       "   'valdis': [9000, 2640, 2911],\n",
       "   'irv': [333, 333, 13214141],\n",
       "   'police': 911,\n",
       "   'rtu': 7777},\n",
       "  7: {'jack': 9000,\n",
       "   'guido': 4127,\n",
       "   'valdis': [9000, 2640, 2911],\n",
       "   'irv': [333, 333, 13214141],\n",
       "   'police': 911,\n",
       "   'rtu': 7777},\n",
       "  8: 9000,\n",
       "  9: [['jack', 9000], ['valdis', 9000]],\n",
       "  11: [9000, 2640, 2911],\n",
       "  14: True,\n",
       "  15: False,\n",
       "  20: [9000, 2640, 2911],\n",
       "  23: -657,\n",
       "  24: '555-1212',\n",
       "  26: {'jack': 9000,\n",
       "   'guido': 4127,\n",
       "   'valdis': [9000, 2640, 2911],\n",
       "   'irv': [333, 333, 13214141],\n",
       "   'police': 911,\n",
       "   'rtu': 7777},\n",
       "  27: 'Sorry no such key',\n",
       "  28: True,\n",
       "  29: False,\n",
       "  30: dict_values,\n",
       "  31: ['__class__',\n",
       "   '__delattr__',\n",
       "   '__dir__',\n",
       "   '__doc__',\n",
       "   '__eq__',\n",
       "   '__format__',\n",
       "   '__ge__',\n",
       "   '__getattribute__',\n",
       "   '__gt__',\n",
       "   '__hash__',\n",
       "   '__init__',\n",
       "   '__init_subclass__',\n",
       "   '__iter__',\n",
       "   '__le__',\n",
       "   '__len__',\n",
       "   '__lt__',\n",
       "   '__ne__',\n",
       "   '__new__',\n",
       "   '__reduce__',\n",
       "   '__reduce_ex__',\n",
       "   '__repr__',\n",
       "   '__reversed__',\n",
       "   '__setattr__',\n",
       "   '__sizeof__',\n",
       "   '__str__',\n",
       "   '__subclasshook__'],\n",
       "  32: [9000, 4127, [9000, 2640, 2911]],\n",
       "  33: ['jack', 'guido', 'valdis'],\n",
       "  35: {'jack': 9000,\n",
       "   'guido': 4127,\n",
       "   'valdis': [9000, 2640, 2911],\n",
       "   'irv': [333, 333, 13214141],\n",
       "   'police': 911,\n",
       "   'rtu': 7777},\n",
       "  37: 2,\n",
       "  38: 2,\n",
       "  39: {'jack': 9000,\n",
       "   'guido': 4127,\n",
       "   'valdis': [9000, 2640, 2911],\n",
       "   'irv': [333, 333, 13214141],\n",
       "   'police': 911,\n",
       "   'rtu': 7777},\n",
       "  40: {'jack': 9000,\n",
       "   'guido': 4127,\n",
       "   'valdis': [9000, 2640, 2911],\n",
       "   'irv': [333, 333, 13214141],\n",
       "   'police': 911,\n",
       "   'rtu': 7777},\n",
       "  41: {'jack': 9000,\n",
       "   'guido': 4127,\n",
       "   'valdis': [9000, 2640, 2911],\n",
       "   'irv': [333, 333, 13214141],\n",
       "   'police': 911,\n",
       "   'rtu': 7777},\n",
       "  42: {'jack': 9000,\n",
       "   'guido': 4127,\n",
       "   'valdis': [9000, 2640, 2911],\n",
       "   'irv': [333, 333, 13214141],\n",
       "   'police': 911,\n",
       "   'rtu': 7777},\n",
       "  43: (9000, 9000),\n",
       "  44: [9000, 2640, 2911],\n",
       "  45: 2911,\n",
       "  46: dict_keys(['jack', 'guido', 'valdis', 'irv', 'police', 'rtu']),\n",
       "  47: [333, 333, 13214141],\n",
       "  48: 13214141,\n",
       "  49: [333, 333],\n",
       "  50: dict_keys(['jack', 'guido', 'valdis', 'irv', 'police', 'rtu']),\n",
       "  51: ['guido', 'irv', 'jack', 'police', 'rtu', 'valdis'],\n",
       "  53: {'guido': 4127,\n",
       "   'irv': [333, 333, 13214141],\n",
       "   'jack': 9000,\n",
       "   'police': 911,\n",
       "   'rtu': 7777,\n",
       "   'valdis': [9000, 2640, 2911]},\n",
       "  54: {'potatoes': 18,\n",
       "   'carrots': 15,\n",
       "   'beets': 13,\n",
       "   'pumpkins': 12,\n",
       "   'chocolate': 20},\n",
       "  57: {'potatoes': 18,\n",
       "   'carrots': 15,\n",
       "   'beets': 13,\n",
       "   'pumpkins': 12,\n",
       "   'chocolate': 20},\n",
       "  58: [[101, 'potatoes', 18],\n",
       "   [102, 'carrots', 15],\n",
       "   [103, 'beets', 13],\n",
       "   [104, 'pumpkins', 12],\n",
       "   [105, 'chocolate', 20]],\n",
       "  60: ('carrots', 15),\n",
       "  61: {'potatoes': {'id': 101, 'quantity': 18},\n",
       "   'carrots': {'id': 102, 'quantity': 15},\n",
       "   'beets': {'id': 103, 'quantity': 13},\n",
       "   'pumpkins': {'id': 104, 'quantity': 12},\n",
       "   'chocolate': {'id': 105, 'quantity': 20}},\n",
       "  62: {'id': 103, 'quantity': 13},\n",
       "  63: 13,\n",
       "  64: 13,\n",
       "  65: {'a': 1, 'b': 2, 3: 'c', '3': '3c'},\n",
       "  66: ('c', '3c')},\n",
       " 'get_ipython': <bound method InteractiveShell.get_ipython of <ipykernel.zmqshell.ZMQInteractiveShell object at 0x000002BE5E4E85B0>>,\n",
       " 'exit': <IPython.core.autocall.ZMQExitAutocall at 0x2be5e57edc0>,\n",
       " 'quit': <IPython.core.autocall.ZMQExitAutocall at 0x2be5e57edc0>,\n",
       " '_': ('c', '3c'),\n",
       " '__': {'a': 1, 'b': 2, 3: 'c', '3': '3c'},\n",
       " '___': 13,\n",
       " '_i': \"# alternative way of creating a dictionary using tuples ()\\nt2=dict([('sape', 4139), ('guido', 4127), ('jack', 4098)])\\nprint(t2)\",\n",
       " '_ii': \"t3[3],t3['3']\",\n",
       " '_iii': \"# there are other of creating dictionaries\\nt3 = dict([['a', 1],['b',2],[3, 'c'], ['3', '3c']])\\nt3\",\n",
       " '_i1': 'emptyd = {}\\nlen(emptyd)',\n",
       " 'emptyd': {},\n",
       " '_1': 0,\n",
       " '_i2': 'type(emptyd)',\n",
       " '_2': dict,\n",
       " '_i3': \"tel = {'jack': 4098, 'sape': 4139}\\nprint(tel)\",\n",
       " 'tel': {'jack': 9000,\n",
       "  'guido': 4127,\n",
       "  'valdis': [9000, 2640, 2911],\n",
       "  'irv': [333, 333, 13214141],\n",
       "  'police': 911,\n",
       "  'rtu': 7777},\n",
       " '_i4': \"# so what can be keys ? what happens if we add second identical key\\ntel = {'jack': 4098, 'sape': 4139, 'jack': 9000}\\nprint(tel)\",\n",
       " '_i5': \"# add a new key-value pair\\ntel['guido'] = 4127\\nprint(tel.keys())\\nprint(tel.values())\",\n",
       " '_i6': \"# add key 'valdis' with value 4127 to our tel dictionary\\ntel['valdis'] = 4127\\ntel\",\n",
       " '_6': {'jack': 9000,\n",
       "  'guido': 4127,\n",
       "  'valdis': [9000, 2640, 2911],\n",
       "  'irv': [333, 333, 13214141],\n",
       "  'police': 911,\n",
       "  'rtu': 7777},\n",
       " '_i7': \"tel['valdis'] = [9000,2640,2911]\\ntel\",\n",
       " '_7': {'jack': 9000,\n",
       "  'guido': 4127,\n",
       "  'valdis': [9000, 2640, 2911],\n",
       "  'irv': [333, 333, 13214141],\n",
       "  'police': 911,\n",
       "  'rtu': 7777},\n",
       " '_i8': \"#get value from key in dictionary\\n# very fast even in large dictionaries! O(1)\\ntel['jack']\",\n",
       " '_8': 9000,\n",
       " '_i9': \"tel_list = [['jack',9000], ['valdis',9000]]\\ntel_list\",\n",
       " 'tel_list': [['jack', 9000], ['valdis', 9000]],\n",
       " '_9': [['jack', 9000], ['valdis', 9000]],\n",
       " '_i10': \"tel['sape'] = 54545\",\n",
       " '_i11': \"tel['valdis']\",\n",
       " '_11': [9000, 2640, 2911],\n",
       " '_i12': \"tel['peteris'] # this should give error because no such key exists\",\n",
       " '_i13': \"tel['Valdis'] # this should give error because no such key exists\",\n",
       " '_i14': \"# check for key in our dictionary\\n'valdis' in tel\",\n",
       " '_14': True,\n",
       " '_i15': \"'peteris' in tel\",\n",
       " '_15': False,\n",
       " '_i16': 'key = \\'nnevaldis\\'\\nif key in tel:\\n    print(tel[key]) # we print the value of the key if there is such a key\\nelse:\\n    print(\"No such key\")',\n",
       " 'key': 'chocolate',\n",
       " '_i17': '# key = \\'nnevaldis\\'\\nkey = \\'valdis\\'\\nif key in tel:\\n    print(tel[key]) # we print the value of the key if there is such a key\\nelse:\\n    print(\"No such key\")',\n",
       " '_i18': '# key = \\'nnevaldis\\'\\nkey = \\'Valdis\\'\\nif key in tel:\\n    print(tel[key]) # we print the value of the key if there is such a key\\nelse:\\n    print(\"No such key\")',\n",
       " '_i19': '# key = \\'nnevaldis\\'\\nkey = \\'valdis\\'\\nif key in tel:\\n    print(tel[key]) # we print the value of the key if there is such a key\\nelse:\\n    print(\"No such key\")',\n",
       " '_i20': \"tel.get('valdis') # gets value by key without errors\",\n",
       " '_20': [9000, 2640, 2911],\n",
       " '_i21': \"tel.get('nevaldis') #by default on bad key we get None\",\n",
       " '_i22': \"print(tel.get('nevaldis')) #by default on bad key we get None\",\n",
       " '_i23': \"tel.get('nevaldis', 555-1212) # we can change the return on bad keys to our own \",\n",
       " '_23': -657,\n",
       " '_i24': \"tel.get('nevaldis', '555-1212') # we can change the return on bad keys to our own \",\n",
       " '_24': '555-1212',\n",
       " '_i25': \"# remove key value pair\\ntel['sape'] = 665453 # create key or overwrite if it existed\\ndel tel['sape']\",\n",
       " '_i26': \"# remove key value pair\\ntel['sape'] = 665453 # create key or overwrite if it existed\\ndel tel['sape']\\ntel\",\n",
       " '_26': {'jack': 9000,\n",
       "  'guido': 4127,\n",
       "  'valdis': [9000, 2640, 2911],\n",
       "  'irv': [333, 333, 13214141],\n",
       "  'police': 911,\n",
       "  'rtu': 7777},\n",
       " '_i27': \"tel.get('sape', 'Sorry no such key')\",\n",
       " '_27': 'Sorry no such key',\n",
       " '_i28': '# this will be slower going through all the key:value pairs\\n4127 in tel.values()',\n",
       " '_28': True,\n",
       " '_i29': '112 in tel.values()',\n",
       " '_29': False,\n",
       " '_i30': 'type(tel.values())',\n",
       " '_30': dict_values,\n",
       " '_i31': 'dir(tel.values())',\n",
       " '_31': ['__class__',\n",
       "  '__delattr__',\n",
       "  '__dir__',\n",
       "  '__doc__',\n",
       "  '__eq__',\n",
       "  '__format__',\n",
       "  '__ge__',\n",
       "  '__getattribute__',\n",
       "  '__gt__',\n",
       "  '__hash__',\n",
       "  '__init__',\n",
       "  '__init_subclass__',\n",
       "  '__iter__',\n",
       "  '__le__',\n",
       "  '__len__',\n",
       "  '__lt__',\n",
       "  '__ne__',\n",
       "  '__new__',\n",
       "  '__reduce__',\n",
       "  '__reduce_ex__',\n",
       "  '__repr__',\n",
       "  '__reversed__',\n",
       "  '__setattr__',\n",
       "  '__sizeof__',\n",
       "  '__str__',\n",
       "  '__subclasshook__'],\n",
       " '_i32': 'telvalues = list(tel.values())\\ntelvalues',\n",
       " 'telvalues': [9000, 4127, [9000, 2640, 2911], 4127],\n",
       " '_32': [9000, 4127, [9000, 2640, 2911]],\n",
       " '_i33': 'telkeys = list(tel.keys())\\ntelkeys',\n",
       " 'telkeys': ['jack', 'guido', 'valdis'],\n",
       " '_33': ['jack', 'guido', 'valdis'],\n",
       " '_i34': \"tel['irv'] = 4127\",\n",
       " '_i35': 'tel',\n",
       " '_35': {'jack': 9000,\n",
       "  'guido': 4127,\n",
       "  'valdis': [9000, 2640, 2911],\n",
       "  'irv': [333, 333, 13214141],\n",
       "  'police': 911,\n",
       "  'rtu': 7777},\n",
       " '_i36': 'tel.values.count(4127), telvalues.count(4127)',\n",
       " '_i37': '# tel.values.count(4127) dict_values has no count\\ntelvalues = list(tel.values())\\ntelvalues.count(4127)',\n",
       " '_37': 2,\n",
       " '_i38': 'list(tel.values()).count(4127)',\n",
       " '_38': 2,\n",
       " '_i39': 'key = \\'police\\'\\nvalue = 911\\nif key not in tel:\\n    tel[key] = value\\n    print(f\"Added new key {key} value {value} pair\")\\nelse:\\n    print(\"You already have key\", key, \"value\", tel[key])\\ntel',\n",
       " 'value': 20,\n",
       " '_39': {'jack': 9000,\n",
       "  'guido': 4127,\n",
       "  'valdis': [9000, 2640, 2911],\n",
       "  'irv': [333, 333, 13214141],\n",
       "  'police': 911,\n",
       "  'rtu': 7777},\n",
       " '_i40': 'key = \\'police\\'\\nvalue = 911\\nif key not in tel:\\n    tel[key] = value\\n    print(f\"Added new key {key} value {value} pair\")\\nelse:\\n    print(\"You already have key\", key, \"value\", tel[key])\\ntel',\n",
       " '_40': {'jack': 9000,\n",
       "  'guido': 4127,\n",
       "  'valdis': [9000, 2640, 2911],\n",
       "  'irv': [333, 333, 13214141],\n",
       "  'police': 911,\n",
       "  'rtu': 7777},\n",
       " '_i41': '# the above code can be written using setdefault method\\ntel.setdefault(\"rtu\", 7777)\\ntel',\n",
       " '_41': {'jack': 9000,\n",
       "  'guido': 4127,\n",
       "  'valdis': [9000, 2640, 2911],\n",
       "  'irv': [333, 333, 13214141],\n",
       "  'police': 911,\n",
       "  'rtu': 7777},\n",
       " '_i42': '# the above code can be written using setdefault method\\ntel.setdefault(\"rtu\", 777700) # so this will only work once\\ntel',\n",
       " '_42': {'jack': 9000,\n",
       "  'guido': 4127,\n",
       "  'valdis': [9000, 2640, 2911],\n",
       "  'irv': [333, 333, 13214141],\n",
       "  'police': 911,\n",
       "  'rtu': 7777},\n",
       " '_i43': \"tel.get('jack'), tel['jack']\",\n",
       " '_43': (9000, 9000),\n",
       " '_i44': \"valdisphones = tel.get('valdis')\\nvaldisphones\",\n",
       " 'valdisphones': [9000, 2640, 2911],\n",
       " '_44': [9000, 2640, 2911],\n",
       " '_i45': '# how to get last phone number from irvingphones ?\\nvaldisphones[-1]',\n",
       " '_45': 2911,\n",
       " '_i46': \"tel['irv'] = [333, 333,13214141]\\ntel.keys()\",\n",
       " '_46': dict_keys(['jack', 'guido', 'valdis', 'irv', 'police', 'rtu']),\n",
       " '_i47': \"tel['irv']\",\n",
       " '_47': [333, 333, 13214141],\n",
       " '_i48': \"tel['irv'][-1] # last value from dictionary by key irv which contains a list\",\n",
       " '_48': 13214141,\n",
       " '_i49': \"tel['irv'][:2] # first two value from irv value (which is a list)\",\n",
       " '_49': [333, 333],\n",
       " '_i50': 'tel.keys()',\n",
       " '_50': dict_keys(['jack', 'guido', 'valdis', 'irv', 'police', 'rtu']),\n",
       " '_i51': 'sorted(tel.keys())',\n",
       " '_51': ['guido', 'irv', 'jack', 'police', 'rtu', 'valdis'],\n",
       " '_i52': 'sorted_tel = {}\\nfor key in sorted(tel.keys()):\\n    sorted_tel[key] = tel[key]\\n# this looping is not free and would take the size the whole dictionary plus sorting is also takes time\\nsorted_teld',\n",
       " 'sorted_tel': {'guido': 4127,\n",
       "  'irv': [333, 333, 13214141],\n",
       "  'jack': 9000,\n",
       "  'police': 911,\n",
       "  'rtu': 7777,\n",
       "  'valdis': [9000, 2640, 2911]},\n",
       " '_i53': 'sorted_tel = {}\\nfor key in sorted(tel.keys()):\\n    sorted_tel[key] = tel[key]\\n# this looping is not free and would take the size the whole dictionary plus sorting is also takes time\\nsorted_tel',\n",
       " '_53': {'guido': 4127,\n",
       "  'irv': [333, 333, 13214141],\n",
       "  'jack': 9000,\n",
       "  'police': 911,\n",
       "  'rtu': 7777,\n",
       "  'valdis': [9000, 2640, 2911]},\n",
       " '_i54': 'shopdict = {\"potatoes\":8, \"carrots\": 5, \"beets\": 3, \"pumpkins\":2, \"chocolate\":10}\\nshopdict',\n",
       " 'shopdict': {'potatoes': 18,\n",
       "  'carrots': 15,\n",
       "  'beets': 13,\n",
       "  'pumpkins': 12,\n",
       "  'chocolate': 20},\n",
       " '_54': {'potatoes': 18,\n",
       "  'carrots': 15,\n",
       "  'beets': 13,\n",
       "  'pumpkins': 12,\n",
       "  'chocolate': 20},\n",
       " '_i55': 'for key,value in shopdict.items(): # key and value are just names we made up also common is k,v\\n    print(key,value)\\n    print(f\"Buying {value}kgs of {key}\")',\n",
       " '_i56': 'for key in shopdict: # so only key is provided\\n    print(key, shopdict[key])',\n",
       " '_i57': 'for key in shopdict:\\n    shopdict[key] += 10 # same as shopdict[key] = shopdict[key] + 10\\nshopdict',\n",
       " '_57': {'potatoes': 18,\n",
       "  'carrots': 15,\n",
       "  'beets': 13,\n",
       "  'pumpkins': 12,\n",
       "  'chocolate': 20},\n",
       " '_i58': 'newlist = []\\nfor index,(key,value) in enumerate(shopdict.items(), start=101):\\n    print(index,key,value)\\n    newlist.append([index,key,value])\\nnewlist',\n",
       " 'newlist': [[101, 'potatoes', 18],\n",
       "  [102, 'carrots', 15],\n",
       "  [103, 'beets', 13],\n",
       "  [104, 'pumpkins', 12],\n",
       "  [105, 'chocolate', 20]],\n",
       " 'index': 105,\n",
       " '_58': [[101, 'potatoes', 18],\n",
       "  [102, 'carrots', 15],\n",
       "  [103, 'beets', 13],\n",
       "  [104, 'pumpkins', 12],\n",
       "  [105, 'chocolate', 20]],\n",
       " '_i59': 'newlist = []\\nnewdict = {}\\nfor index,(key,value) in enumerate(shopdict.items(), start=101):\\n    print(index,key,value)\\n    newlist.append([index,key,value])\\n    newdict[index] = (key,value)\\nprint(newlist)\\nprint(newdict)',\n",
       " 'newdict': {101: ('potatoes', 18),\n",
       "  102: ('carrots', 15),\n",
       "  103: ('beets', 13),\n",
       "  104: ('pumpkins', 12),\n",
       "  105: ('chocolate', 20)},\n",
       " '_i60': \"newdict[102] # looks like a list but it's a dictionary\",\n",
       " '_60': ('carrots', 15),\n",
       " '_i61': \"newdict2 = {}\\nfor item in newlist:\\n    newdict2[item[1]] = {'id':item[0],'quantity':item[2]}\\nnewdict2\",\n",
       " 'newdict2': {'potatoes': {'id': 101, 'quantity': 18},\n",
       "  'carrots': {'id': 102, 'quantity': 15},\n",
       "  'beets': {'id': 103, 'quantity': 13},\n",
       "  'pumpkins': {'id': 104, 'quantity': 12},\n",
       "  'chocolate': {'id': 105, 'quantity': 20}},\n",
       " 'item': [105, 'chocolate', 20],\n",
       " '_61': {'potatoes': {'id': 101, 'quantity': 18},\n",
       "  'carrots': {'id': 102, 'quantity': 15},\n",
       "  'beets': {'id': 103, 'quantity': 13},\n",
       "  'pumpkins': {'id': 104, 'quantity': 12},\n",
       "  'chocolate': {'id': 105, 'quantity': 20}},\n",
       " '_i62': \"# can you get me quantity of beets needed from newdict2 ?\\nnewdict2['beets']\",\n",
       " '_62': {'id': 103, 'quantity': 13},\n",
       " '_i63': \"newdict2['beets']['quantity']\",\n",
       " '_63': 13,\n",
       " '_i64': \"newdict2.get('beets').get('quantity')\",\n",
       " '_64': 13,\n",
       " '_i65': \"# there are other of creating dictionaries\\nt3 = dict([['a', 1],['b',2],[3, 'c'], ['3', '3c']])\\nt3\",\n",
       " 't3': {'a': 1, 'b': 2, 3: 'c', '3': '3c'},\n",
       " '_65': {'a': 1, 'b': 2, 3: 'c', '3': '3c'},\n",
       " '_i66': \"t3[3],t3['3']\",\n",
       " '_66': ('c', '3c'),\n",
       " '_i67': \"# alternative way of creating a dictionary using tuples ()\\nt2=dict([('sape', 4139), ('guido', 4127), ('jack', 4098)])\\nprint(t2)\",\n",
       " 't2': {'sape': 4139, 'guido': 4127, 'jack': 4098},\n",
       " '_i68': 'globals()'}"
      ]
     },
     "execution_count": 68,
     "metadata": {},
     "output_type": "execute_result"
    }
   ],
   "source": [
    "globals()"
   ]
  },
  {
   "cell_type": "code",
   "execution_count": null,
   "metadata": {},
   "outputs": [],
   "source": [
    "'print(a,b)' in globals()['In']"
   ]
  },
  {
   "cell_type": "code",
   "execution_count": 69,
   "metadata": {},
   "outputs": [
    {
     "data": {
      "text/plain": [
       "dict_keys(['__name__', '__doc__', '__package__', '__loader__', '__spec__', '__builtin__', '__builtins__', '_ih', '_oh', '_dh', 'In', 'Out', 'get_ipython', 'exit', 'quit', '_', '__', '___', '_i', '_ii', '_iii', '_i1', 'emptyd', '_1', '_i2', '_2', '_i3', 'tel', '_i4', '_i5', '_i6', '_6', '_i7', '_7', '_i8', '_8', '_i9', 'tel_list', '_9', '_i10', '_i11', '_11', '_i12', '_i13', '_i14', '_14', '_i15', '_15', '_i16', 'key', '_i17', '_i18', '_i19', '_i20', '_20', '_i21', '_i22', '_i23', '_23', '_i24', '_24', '_i25', '_i26', '_26', '_i27', '_27', '_i28', '_28', '_i29', '_29', '_i30', '_30', '_i31', '_31', '_i32', 'telvalues', '_32', '_i33', 'telkeys', '_33', '_i34', '_i35', '_35', '_i36', '_i37', '_37', '_i38', '_38', '_i39', 'value', '_39', '_i40', '_40', '_i41', '_41', '_i42', '_42', '_i43', '_43', '_i44', 'valdisphones', '_44', '_i45', '_45', '_i46', '_46', '_i47', '_47', '_i48', '_48', '_i49', '_49', '_i50', '_50', '_i51', '_51', '_i52', 'sorted_tel', '_i53', '_53', '_i54', 'shopdict', '_54', '_i55', '_i56', '_i57', '_57', '_i58', 'newlist', 'index', '_58', '_i59', 'newdict', '_i60', '_60', '_i61', 'newdict2', 'item', '_61', '_i62', '_62', '_i63', '_63', '_i64', '_64', '_i65', 't3', '_65', '_i66', '_66', '_i67', 't2', '_i68', '_68', '_i69'])"
      ]
     },
     "execution_count": 69,
     "metadata": {},
     "output_type": "execute_result"
    }
   ],
   "source": [
    "vars().keys()"
   ]
  },
  {
   "cell_type": "code",
   "execution_count": 72,
   "metadata": {},
   "outputs": [
    {
     "data": {
      "text/plain": [
       "{'id': 103, 'quantity': 13}"
      ]
     },
     "execution_count": 72,
     "metadata": {},
     "output_type": "execute_result"
    }
   ],
   "source": [
    "_62"
   ]
  },
  {
   "cell_type": "code",
   "execution_count": null,
   "metadata": {},
   "outputs": [],
   "source": [
    "sorted(vars().keys())"
   ]
  },
  {
   "cell_type": "code",
   "execution_count": 73,
   "metadata": {},
   "outputs": [
    {
     "data": {
      "text/plain": [
       "[9000, 2640, 2911]"
      ]
     },
     "execution_count": 73,
     "metadata": {},
     "output_type": "execute_result"
    }
   ],
   "source": [
    "# return value of the key AND destroy the key:value\n",
    "# if key does not exist, then KeyError will appear\n",
    "mynumbers = tel.pop('valdis')\n",
    "mynumbers"
   ]
  },
  {
   "cell_type": "code",
   "execution_count": 74,
   "metadata": {},
   "outputs": [
    {
     "data": {
      "text/plain": [
       "{'jack': 9000,\n",
       " 'guido': 4127,\n",
       " 'irv': [333, 333, 13214141],\n",
       " 'police': 911,\n",
       " 'rtu': 7777}"
      ]
     },
     "execution_count": 74,
     "metadata": {},
     "output_type": "execute_result"
    }
   ],
   "source": [
    "tel"
   ]
  },
  {
   "cell_type": "code",
   "execution_count": null,
   "metadata": {},
   "outputs": [],
   "source": [
    "tel['jack']"
   ]
  },
  {
   "cell_type": "code",
   "execution_count": null,
   "metadata": {},
   "outputs": [],
   "source": [
    "poppedvalue = tel.pop('jack', \"No KEY Found\")\n",
    "poppedvalue"
   ]
  },
  {
   "cell_type": "code",
   "execution_count": null,
   "metadata": {},
   "outputs": [],
   "source": [
    "poppedvalue = tel.pop('jack', \"No KEY Found\")\n",
    "poppedvalue"
   ]
  },
  {
   "cell_type": "code",
   "execution_count": null,
   "metadata": {},
   "outputs": [],
   "source": [
    "poppedvalue = tel.pop('jack') # we get key error if there is no key and no default\n",
    "poppedvalue"
   ]
  },
  {
   "cell_type": "code",
   "execution_count": null,
   "metadata": {},
   "outputs": [],
   "source": [
    "type(tel)"
   ]
  },
  {
   "cell_type": "code",
   "execution_count": null,
   "metadata": {},
   "outputs": [],
   "source": [
    "tel."
   ]
  },
  {
   "cell_type": "code",
   "execution_count": null,
   "metadata": {},
   "outputs": [],
   "source": [
    "# return value of the key AND destroy the key:value\n",
    "# if key does not exist, then KeyError will appear\n",
    "tel.pop('valdis')"
   ]
  },
  {
   "cell_type": "code",
   "execution_count": null,
   "metadata": {},
   "outputs": [],
   "source": [
    "# this does not destroy the key:value, just returns\n",
    "tel['guido']"
   ]
  },
  {
   "cell_type": "code",
   "execution_count": null,
   "metadata": {},
   "outputs": [],
   "source": [
    "# we can store anything in dictionaries \n",
    "# including other dictionaries and lists\n",
    "mydict = {'mylist':[1,2,6,6,\"Badac\"], 55:165, 'innerd':{'a':100,'b':[1,2,6]}}\n",
    "mydict"
   ]
  },
  {
   "cell_type": "code",
   "execution_count": null,
   "metadata": {},
   "outputs": [],
   "source": [
    "# get 6 out of mydict\n",
    "mydict['innerd']"
   ]
  },
  {
   "cell_type": "code",
   "execution_count": null,
   "metadata": {},
   "outputs": [],
   "source": [
    "mydict['innerd']['b']"
   ]
  },
  {
   "cell_type": "code",
   "execution_count": null,
   "metadata": {},
   "outputs": [],
   "source": [
    "# get 6 out of mydict\n",
    "mydict['innerd']['b'][-1]"
   ]
  },
  {
   "cell_type": "code",
   "execution_count": null,
   "metadata": {},
   "outputs": [],
   "source": [
    "#sum all values under mydict['innerd']['b']\n",
    "sum(mydict['innerd']['b']),min(mydict['innerd']['b']),max(mydict['innerd']['b'])"
   ]
  },
  {
   "cell_type": "code",
   "execution_count": null,
   "metadata": {},
   "outputs": [],
   "source": [
    "mydict.keys()"
   ]
  },
  {
   "cell_type": "code",
   "execution_count": null,
   "metadata": {},
   "outputs": [],
   "source": [
    "# we can use numeric keys as well!\n",
    "mydict[55]"
   ]
  },
  {
   "cell_type": "code",
   "execution_count": null,
   "metadata": {},
   "outputs": [],
   "source": [
    "mydict['55'] = 330"
   ]
  },
  {
   "cell_type": "code",
   "execution_count": null,
   "metadata": {},
   "outputs": [],
   "source": [
    "mydict"
   ]
  },
  {
   "cell_type": "code",
   "execution_count": null,
   "metadata": {},
   "outputs": [],
   "source": [
    "mlist = mydict['mylist']\n",
    "mlist"
   ]
  },
  {
   "cell_type": "code",
   "execution_count": null,
   "metadata": {},
   "outputs": [],
   "source": [
    "mytext = mlist[-1]\n",
    "mytext"
   ]
  },
  {
   "cell_type": "code",
   "execution_count": null,
   "metadata": {},
   "outputs": [],
   "source": [
    "mychar = mytext[-3]\n",
    "mychar"
   ]
  },
  {
   "cell_type": "code",
   "execution_count": null,
   "metadata": {},
   "outputs": [],
   "source": [
    "mydict"
   ]
  },
  {
   "cell_type": "code",
   "execution_count": null,
   "metadata": {},
   "outputs": [],
   "source": [
    "# get letter d\n",
    "mydict['mylist'][-1][-3]"
   ]
  },
  {
   "cell_type": "code",
   "execution_count": null,
   "metadata": {},
   "outputs": [],
   "source": [
    "# get letter d\n",
    "mydict['mylist'][-1][2]"
   ]
  },
  {
   "cell_type": "code",
   "execution_count": null,
   "metadata": {},
   "outputs": [],
   "source": [
    "mydict"
   ]
  },
  {
   "cell_type": "code",
   "execution_count": null,
   "metadata": {},
   "outputs": [],
   "source": [
    "mydict['mylist'][-1][2]"
   ]
  },
  {
   "cell_type": "code",
   "execution_count": null,
   "metadata": {},
   "outputs": [],
   "source": [
    "mlist[-1][2]"
   ]
  },
  {
   "cell_type": "code",
   "execution_count": null,
   "metadata": {},
   "outputs": [],
   "source": [
    "mydict['real55'] = mydict[55]"
   ]
  },
  {
   "cell_type": "code",
   "execution_count": null,
   "metadata": {},
   "outputs": [],
   "source": [
    "del mydict[55]"
   ]
  },
  {
   "cell_type": "code",
   "execution_count": null,
   "metadata": {},
   "outputs": [],
   "source": [
    "mydict"
   ]
  },
  {
   "cell_type": "code",
   "execution_count": null,
   "metadata": {
    "scrolled": true
   },
   "outputs": [],
   "source": [
    "sorted(mydict.keys())"
   ]
  },
  {
   "cell_type": "code",
   "execution_count": null,
   "metadata": {},
   "outputs": [],
   "source": [
    "myresult = mydict.get('Vadfadfafd')"
   ]
  },
  {
   "cell_type": "code",
   "execution_count": null,
   "metadata": {},
   "outputs": [],
   "source": [
    "type(myresult)"
   ]
  },
  {
   "cell_type": "code",
   "execution_count": null,
   "metadata": {},
   "outputs": [],
   "source": [
    "mydict.keys()"
   ]
  },
  {
   "cell_type": "code",
   "execution_count": null,
   "metadata": {},
   "outputs": [],
   "source": [
    "mydict.get(55)"
   ]
  },
  {
   "cell_type": "code",
   "execution_count": null,
   "metadata": {},
   "outputs": [],
   "source": [
    "mydict.get('innerd')"
   ]
  },
  {
   "cell_type": "code",
   "execution_count": null,
   "metadata": {},
   "outputs": [],
   "source": [
    "mydict.get('55')"
   ]
  },
  {
   "cell_type": "code",
   "execution_count": null,
   "metadata": {},
   "outputs": [],
   "source": [
    "# we get None on nonexisting key instead of KeyError\n",
    "mydict.get('53253242452')"
   ]
  },
  {
   "cell_type": "code",
   "execution_count": null,
   "metadata": {},
   "outputs": [],
   "source": [
    "# here we will get KeyError on nonexisting key\n",
    "mydict['53253242452']"
   ]
  },
  {
   "cell_type": "code",
   "execution_count": null,
   "metadata": {},
   "outputs": [],
   "source": [
    "mydict.get(\"badkey\") == None"
   ]
  },
  {
   "cell_type": "code",
   "execution_count": null,
   "metadata": {},
   "outputs": [],
   "source": [
    "mydict"
   ]
  },
  {
   "cell_type": "code",
   "execution_count": null,
   "metadata": {},
   "outputs": [],
   "source": [
    "# we can check if dictionary has any items without checking len(mydict)\n",
    "if mydict:\n",
    "    print(mydict)"
   ]
  },
  {
   "cell_type": "code",
   "execution_count": null,
   "metadata": {},
   "outputs": [],
   "source": [
    "print(mydict)"
   ]
  },
  {
   "cell_type": "code",
   "execution_count": null,
   "metadata": {},
   "outputs": [],
   "source": [
    "key,value = mydict.popitem()\n",
    "key, value"
   ]
  },
  {
   "cell_type": "code",
   "execution_count": null,
   "metadata": {},
   "outputs": [],
   "source": [
    "mydict['mykey'] ='myvalue'\n",
    "mydict"
   ]
  },
  {
   "cell_type": "code",
   "execution_count": null,
   "metadata": {},
   "outputs": [],
   "source": [
    "mydict"
   ]
  },
  {
   "cell_type": "code",
   "execution_count": null,
   "metadata": {},
   "outputs": [],
   "source": [
    "tel"
   ]
  },
  {
   "cell_type": "code",
   "execution_count": null,
   "metadata": {},
   "outputs": [],
   "source": [
    "del tel[1]\n",
    "tel"
   ]
  },
  {
   "cell_type": "code",
   "execution_count": 75,
   "metadata": {},
   "outputs": [
    {
     "data": {
      "text/plain": [
       "{'jack': 9000,\n",
       " 'guido': 4127,\n",
       " 'irv': [333, 333, 13214141],\n",
       " 'police': 911,\n",
       " 'rtu': 7777,\n",
       " 'valdis': 1800,\n",
       " 'peteris': 900,\n",
       " 'liga': 911}"
      ]
     },
     "execution_count": 75,
     "metadata": {},
     "output_type": "execute_result"
    }
   ],
   "source": [
    "tel.update({'valdis':1800, 'peteris':900, 'liga':911}) # in place addition meaning tel is modified\n",
    "tel"
   ]
  },
  {
   "cell_type": "code",
   "execution_count": 76,
   "metadata": {},
   "outputs": [
    {
     "data": {
      "text/plain": [
       "{'Val': 25, 'Baiba': 25, 'Cālis': 25}"
      ]
     },
     "execution_count": 76,
     "metadata": {},
     "output_type": "execute_result"
    }
   ],
   "source": [
    "tel.fromkeys(['Val','Baiba','Cālis'], 25) # here tel really didnt do anything"
   ]
  },
  {
   "cell_type": "code",
   "execution_count": 78,
   "metadata": {},
   "outputs": [
    {
     "data": {
      "text/plain": [
       "{'Val': 25, 'Baiba': 25, 'Cālis': 25}"
      ]
     },
     "execution_count": 78,
     "metadata": {},
     "output_type": "execute_result"
    }
   ],
   "source": [
    "{}.fromkeys(['Val','Baiba','Cālis'], 25) # we could use {} really didnt do anything"
   ]
  },
  {
   "cell_type": "code",
   "execution_count": 79,
   "metadata": {},
   "outputs": [
    {
     "data": {
      "text/plain": [
       "{'jack': None, 'valdis': None}"
      ]
     },
     "execution_count": 79,
     "metadata": {},
     "output_type": "execute_result"
    }
   ],
   "source": [
    "tel.fromkeys(['jack', 'valdis']) # so again tel really was not needed could use {}"
   ]
  },
  {
   "cell_type": "code",
   "execution_count": 77,
   "metadata": {},
   "outputs": [
    {
     "data": {
      "text/plain": [
       "{'jack': 9000,\n",
       " 'guido': 4127,\n",
       " 'irv': [333, 333, 13214141],\n",
       " 'police': 911,\n",
       " 'rtu': 7777,\n",
       " 'valdis': 1800,\n",
       " 'peteris': 900,\n",
       " 'liga': 911}"
      ]
     },
     "execution_count": 77,
     "metadata": {},
     "output_type": "execute_result"
    }
   ],
   "source": [
    "tel"
   ]
  },
  {
   "cell_type": "code",
   "execution_count": null,
   "metadata": {},
   "outputs": [],
   "source": [
    "newdictwithdefaultvalues = {}.fromkeys(['Val','Baiba','Cālis'], 25)\n",
    "newdictwithdefaultvalues"
   ]
  },
  {
   "cell_type": "code",
   "execution_count": null,
   "metadata": {},
   "outputs": [],
   "source": [
    "# what setdefault does\n",
    "key= \"Valdis\"\n",
    "defaultvalue = 9000\n",
    "if key in tel.keys():\n",
    "    print(\"Returning default\", tel[key])\n",
    "else:\n",
    "    tel[key] = defaultvalue\n",
    "tel"
   ]
  },
  {
   "cell_type": "code",
   "execution_count": null,
   "metadata": {},
   "outputs": [],
   "source": [
    "tel.setdefault('baiba', 4524352455000) \n",
    "tel\n",
    "# notice that value of 'baiba' does not change after the first set "
   ]
  },
  {
   "cell_type": "code",
   "execution_count": 82,
   "metadata": {},
   "outputs": [
    {
     "data": {
      "text/plain": [
       "{'keyb': 53543543333}"
      ]
     },
     "execution_count": 82,
     "metadata": {},
     "output_type": "execute_result"
    }
   ],
   "source": [
    "# same as\n",
    "# if not 'b' in mydict:\n",
    "#     mydict['b'] = 3333\n",
    "mydict = {}\n",
    "mydict.setdefault('keyb', 53543543333)\n",
    "mydict"
   ]
  },
  {
   "cell_type": "code",
   "execution_count": null,
   "metadata": {},
   "outputs": [],
   "source": [
    "mydict.setdefault('emptykey')\n",
    "mydict"
   ]
  },
  {
   "cell_type": "code",
   "execution_count": null,
   "metadata": {},
   "outputs": [],
   "source": [
    "# change dictionary key value pair ONLY if key does not exist\n",
    "mydict.setdefault('a', 'aaaaaaaa')\n",
    "mydict"
   ]
  },
  {
   "cell_type": "code",
   "execution_count": 83,
   "metadata": {},
   "outputs": [
    {
     "data": {
      "text/plain": [
       "{'keyb': 53543543333, 'a': 'changed a value'}"
      ]
     },
     "execution_count": 83,
     "metadata": {},
     "output_type": "execute_result"
    }
   ],
   "source": [
    "# here we overwite no matter what\n",
    "mydict['a'] = 'changed a value'\n",
    "mydict"
   ]
  },
  {
   "cell_type": "code",
   "execution_count": 84,
   "metadata": {},
   "outputs": [
    {
     "data": {
      "text/plain": [
       "{}"
      ]
     },
     "execution_count": 84,
     "metadata": {},
     "output_type": "execute_result"
    }
   ],
   "source": [
    "# and we clear our dictionary\n",
    "mydict.clear() # clear removes all key-value pairs from dictionary IN PLACE\n",
    "mydict"
   ]
  },
  {
   "cell_type": "code",
   "execution_count": null,
   "metadata": {},
   "outputs": [],
   "source": [
    "type(mydict)"
   ]
  },
  {
   "cell_type": "code",
   "execution_count": null,
   "metadata": {},
   "outputs": [],
   "source": [
    "# better not change mydict to int but you could do it\n",
    "mydict = 5\n",
    "type(mydict)"
   ]
  },
  {
   "cell_type": "code",
   "execution_count": 85,
   "metadata": {},
   "outputs": [],
   "source": [
    "import random # this is standart python library for randomness"
   ]
  },
  {
   "cell_type": "code",
   "execution_count": 87,
   "metadata": {},
   "outputs": [
    {
     "data": {
      "text/plain": [
       "2"
      ]
     },
     "execution_count": 87,
     "metadata": {},
     "output_type": "execute_result"
    }
   ],
   "source": [
    "random.randint(1,6) # randint gives includes BOTH and start and end"
   ]
  },
  {
   "cell_type": "markdown",
   "metadata": {},
   "source": [
    "![xkcd](https://imgs.xkcd.com/comics/random_number.png)"
   ]
  },
  {
   "cell_type": "code",
   "execution_count": 88,
   "metadata": {},
   "outputs": [
    {
     "data": {
      "text/plain": [
       "[6,\n",
       " 1,\n",
       " 1,\n",
       " 6,\n",
       " 3,\n",
       " 2,\n",
       " 2,\n",
       " 2,\n",
       " 6,\n",
       " 1,\n",
       " 6,\n",
       " 6,\n",
       " 5,\n",
       " 1,\n",
       " 5,\n",
       " 4,\n",
       " 1,\n",
       " 1,\n",
       " 1,\n",
       " 2,\n",
       " 2,\n",
       " 5,\n",
       " 5,\n",
       " 1,\n",
       " 5,\n",
       " 2,\n",
       " 6,\n",
       " 6,\n",
       " 6,\n",
       " 5,\n",
       " 4,\n",
       " 2,\n",
       " 4,\n",
       " 5,\n",
       " 3,\n",
       " 1,\n",
       " 2,\n",
       " 6,\n",
       " 4,\n",
       " 3,\n",
       " 3,\n",
       " 2,\n",
       " 2,\n",
       " 3,\n",
       " 1,\n",
       " 1,\n",
       " 4,\n",
       " 1,\n",
       " 3,\n",
       " 3,\n",
       " 5,\n",
       " 3,\n",
       " 1,\n",
       " 6,\n",
       " 4,\n",
       " 5,\n",
       " 1,\n",
       " 4,\n",
       " 1,\n",
       " 5,\n",
       " 3,\n",
       " 6,\n",
       " 5,\n",
       " 3,\n",
       " 5,\n",
       " 2,\n",
       " 6,\n",
       " 1,\n",
       " 1,\n",
       " 6,\n",
       " 2,\n",
       " 3,\n",
       " 1,\n",
       " 2,\n",
       " 1,\n",
       " 4,\n",
       " 3,\n",
       " 4,\n",
       " 6,\n",
       " 3,\n",
       " 2,\n",
       " 3,\n",
       " 3,\n",
       " 2,\n",
       " 6,\n",
       " 3,\n",
       " 6,\n",
       " 6,\n",
       " 6,\n",
       " 1,\n",
       " 5,\n",
       " 6,\n",
       " 2,\n",
       " 5,\n",
       " 6,\n",
       " 2,\n",
       " 2,\n",
       " 4,\n",
       " 4,\n",
       " 3]"
      ]
     },
     "execution_count": 88,
     "metadata": {},
     "output_type": "execute_result"
    }
   ],
   "source": [
    "# generate 100 random dice throws and save in myrandoms\n",
    "random.seed(42)\n",
    "# myrandoms = []\n",
    "# for _ in range(100):\n",
    "#     myrandoms.append(random.randint(1,6))\n",
    "# list comprehension same as above\n",
    "myrandoms = [random.randint(1,6) for _ in range(100)]\n",
    "myrandoms"
   ]
  },
  {
   "cell_type": "code",
   "execution_count": 89,
   "metadata": {},
   "outputs": [
    {
     "data": {
      "text/plain": [
       "{6: 20, 1: 20, 3: 17, 2: 18, 5: 14, 4: 11}"
      ]
     },
     "execution_count": 89,
     "metadata": {},
     "output_type": "execute_result"
    }
   ],
   "source": [
    "mycounter = {}\n",
    "# count how many time each digit appears in myrandoms\n",
    "# loop through all myrandoms and count\n",
    "for num in myrandoms:\n",
    "    # print(num)\n",
    "    # check key for existance\n",
    "    if num in mycounter:\n",
    "        mycounter[num] += 1 # mycounter[num] = mycounter[num]+1\n",
    "    else: \n",
    "        mycounter[num] = 1\n",
    "mycounter"
   ]
  },
  {
   "cell_type": "code",
   "execution_count": 90,
   "metadata": {},
   "outputs": [],
   "source": [
    "from collections import Counter"
   ]
  },
  {
   "cell_type": "code",
   "execution_count": 91,
   "metadata": {},
   "outputs": [
    {
     "data": {
      "text/plain": [
       "Counter({6: 20, 1: 20, 3: 17, 2: 18, 5: 14, 4: 11})"
      ]
     },
     "execution_count": 91,
     "metadata": {},
     "output_type": "execute_result"
    }
   ],
   "source": [
    "# https://docs.python.org/3/library/collections.html#collections.Counter\n",
    "pycounter = Counter(myrandoms)\n",
    "pycounter"
   ]
  },
  {
   "cell_type": "code",
   "execution_count": 92,
   "metadata": {},
   "outputs": [
    {
     "data": {
      "text/plain": [
       "collections.Counter"
      ]
     },
     "execution_count": 92,
     "metadata": {},
     "output_type": "execute_result"
    }
   ],
   "source": [
    "type(pycounter) # like a dictionary but with some extra benefits"
   ]
  },
  {
   "cell_type": "code",
   "execution_count": 93,
   "metadata": {},
   "outputs": [
    {
     "data": {
      "text/plain": [
       "[(6, 20), (1, 20), (2, 18)]"
      ]
     },
     "execution_count": 93,
     "metadata": {},
     "output_type": "execute_result"
    }
   ],
   "source": [
    "pycounter.most_common(3)"
   ]
  },
  {
   "cell_type": "code",
   "execution_count": 94,
   "metadata": {},
   "outputs": [
    {
     "data": {
      "text/plain": [
       "{6: 20, 1: 20, 3: 17, 2: 18, 5: 14, 4: 11}"
      ]
     },
     "execution_count": 94,
     "metadata": {},
     "output_type": "execute_result"
    }
   ],
   "source": [
    "dict(pycounter) # so you can remove the extra benefits"
   ]
  },
  {
   "cell_type": "code",
   "execution_count": null,
   "metadata": {},
   "outputs": [],
   "source": [
    "dicounter = dict(pycounter)\n",
    "dicounter"
   ]
  },
  {
   "cell_type": "code",
   "execution_count": null,
   "metadata": {},
   "outputs": [],
   "source": [
    "type(mycounter)"
   ]
  },
  {
   "cell_type": "code",
   "execution_count": null,
   "metadata": {},
   "outputs": [],
   "source": [
    "# idiom for looping through dictionary each key - value pair\n",
    "for key, value in mycounter.items():\n",
    "    print(\"key\", key, \"value\", value)"
   ]
  },
  {
   "cell_type": "code",
   "execution_count": 95,
   "metadata": {},
   "outputs": [
    {
     "name": "stdout",
     "output_type": "stream",
     "text": [
      "Working with x 1\n",
      "1 squared\n",
      "Working with x 2\n",
      "2 squared\n",
      "Working with x 3\n",
      "3 squared\n",
      "Working with x 4\n",
      "4 squared\n",
      "Working with x 5\n",
      "5 squared\n",
      "Working with x 6\n",
      "6 squared\n",
      "Working with x 7\n",
      "7 squared\n",
      "Working with x 8\n",
      "8 squared\n",
      "Working with x 9\n",
      "9 squared\n",
      "Working with x 10\n",
      "10 squared\n"
     ]
    },
    {
     "data": {
      "text/plain": [
       "{'1 squared': 1,\n",
       " '2 squared': 4,\n",
       " '3 squared': 9,\n",
       " '4 squared': 16,\n",
       " '5 squared': 25,\n",
       " '6 squared': 36,\n",
       " '7 squared': 49,\n",
       " '8 squared': 64,\n",
       " '9 squared': 81,\n",
       " '10 squared': 100}"
      ]
     },
     "execution_count": 95,
     "metadata": {},
     "output_type": "execute_result"
    }
   ],
   "source": [
    "# squaredict = {\"1 squared\":1, \"2 squared\":4} # lidz 10\n",
    "squaredict = {}\n",
    "for x in range(1,11):\n",
    "    print(\"Working with x\",x)\n",
    "#     print(\"My key should look like:\") \n",
    "    print(f\"{x} squared\")\n",
    "    squaredict[f\"{x} squared\"] = x**2\n",
    "squaredict"
   ]
  },
  {
   "cell_type": "code",
   "execution_count": 96,
   "metadata": {},
   "outputs": [
    {
     "data": {
      "text/plain": [
       "{'1 squared': 1,\n",
       " '2 squared': 4,\n",
       " '3 squared': 9,\n",
       " '4 squared': 16,\n",
       " '5 squared': 25,\n",
       " '6 squared': 36,\n",
       " '7 squared': 49,\n",
       " '8 squared': 64,\n",
       " '9 squared': 81,\n",
       " '10 squared': 100}"
      ]
     },
     "execution_count": 96,
     "metadata": {},
     "output_type": "execute_result"
    }
   ],
   "source": [
    "squares = {f\"{x} squared\":x**2 for x in range(1,11)} # dictionary comprehension\n",
    "squares"
   ]
  },
  {
   "cell_type": "code",
   "execution_count": 97,
   "metadata": {},
   "outputs": [
    {
     "data": {
      "text/plain": [
       "{1: 1, 2: 4, 3: 9, 4: 16, 5: 25}"
      ]
     },
     "execution_count": 97,
     "metadata": {},
     "output_type": "execute_result"
    }
   ],
   "source": [
    "squaredict = {x:x**2 for x in range(1,6)}\n",
    "squaredict"
   ]
  },
  {
   "cell_type": "code",
   "execution_count": 98,
   "metadata": {},
   "outputs": [
    {
     "data": {
      "text/plain": [
       "[1, 4, 9, 16, 25]"
      ]
     },
     "execution_count": 98,
     "metadata": {},
     "output_type": "execute_result"
    }
   ],
   "source": [
    "squarelist = [x**2 for x in range(1,6)] #list comprehension x is a name we came up with\n",
    "squarelist"
   ]
  },
  {
   "cell_type": "code",
   "execution_count": 99,
   "metadata": {},
   "outputs": [
    {
     "data": {
      "text/plain": [
       "{'Letter 1 is': 'k',\n",
       " 'Letter 2 is': 'a',\n",
       " 'Letter 3 is': 'r',\n",
       " 'Letter 4 is': 't',\n",
       " 'Letter 5 is': 'u',\n",
       " 'Letter 6 is': 'p',\n",
       " 'Letter 7 is': 'e',\n",
       " 'Letter 8 is': 'l',\n",
       " 'Letter 9 is': 'i',\n",
       " 'Letter 10 is': 's'}"
      ]
     },
     "execution_count": 99,
     "metadata": {},
     "output_type": "execute_result"
    }
   ],
   "source": [
    "# so we can create a dictionary from our string by enumerating it and using index as key\n",
    "kdict = {f\"Letter {i} is\":c for i,c in enumerate(list(\"kartupelis\"), start=1)}\n",
    "kdict"
   ]
  },
  {
   "cell_type": "code",
   "execution_count": 100,
   "metadata": {},
   "outputs": [
    {
     "data": {
      "text/plain": [
       "'k'"
      ]
     },
     "execution_count": 100,
     "metadata": {},
     "output_type": "execute_result"
    }
   ],
   "source": [
    "kdict['Letter 1 is']"
   ]
  },
  {
   "cell_type": "code",
   "execution_count": 101,
   "metadata": {},
   "outputs": [
    {
     "data": {
      "text/plain": [
       "{'101': 'k',\n",
       " '102': 'a',\n",
       " '103': 'r',\n",
       " '104': 't',\n",
       " '105': 'u',\n",
       " '106': 'p',\n",
       " '107': 'e',\n",
       " '108': 'l',\n",
       " '109': 'i',\n",
       " '110': 's'}"
      ]
     },
     "execution_count": 101,
     "metadata": {},
     "output_type": "execute_result"
    }
   ],
   "source": [
    "ldict = {f\"{i}\" : c for i,c in enumerate(list(\"kartupelis\"), start = 101)}\n",
    "ldict"
   ]
  },
  {
   "cell_type": "code",
   "execution_count": 103,
   "metadata": {},
   "outputs": [
    {
     "data": {
      "text/plain": [
       "{'k': 107,\n",
       " 'a': 97,\n",
       " 'r': 114,\n",
       " 't': 116,\n",
       " 'u': 117,\n",
       " 'p': 112,\n",
       " 'e': 101,\n",
       " 'l': 108,\n",
       " 'i': 105,\n",
       " 's': 115}"
      ]
     },
     "execution_count": 103,
     "metadata": {},
     "output_type": "execute_result"
    }
   ],
   "source": [
    "word = \"kartupelis\"\n",
    "char_codes = {c:ord(c) for c in word}\n",
    "char_codes"
   ]
  },
  {
   "cell_type": "code",
   "execution_count": 104,
   "metadata": {},
   "outputs": [
    {
     "data": {
      "text/plain": [
       "{'jack': 9000,\n",
       " 'guido': 4127,\n",
       " 'irv': [333, 333, 13214141],\n",
       " 'police': 911,\n",
       " 'rtu': 7777,\n",
       " 'valdis': 1800,\n",
       " 'peteris': 900,\n",
       " 'liga': 911}"
      ]
     },
     "execution_count": 104,
     "metadata": {},
     "output_type": "execute_result"
    }
   ],
   "source": [
    "tel"
   ]
  },
  {
   "cell_type": "code",
   "execution_count": 106,
   "metadata": {},
   "outputs": [
    {
     "data": {
      "text/plain": [
       "{'jack': 9000,\n",
       " 'guido': 4127,\n",
       " 'irv': [333, 333, 13214141],\n",
       " 'rtu': 7777,\n",
       " 'valdis': 1800,\n",
       " 'peteris': 900}"
      ]
     },
     "execution_count": 106,
     "metadata": {},
     "output_type": "execute_result"
    }
   ],
   "source": [
    "# One last imporant thing, when looping through dictionary we must NOT modify the key size\n",
    "# we can modify values but we must NOT add or delete keys to what we loop through\n",
    "value_to_delete = 911\n",
    "for k,v in tel.copy().items(): # you need a create a copy for iterating\n",
    "    if v == value_to_delete:\n",
    "        del tel[k]\n",
    "tel"
   ]
  },
  {
   "cell_type": "code",
   "execution_count": 110,
   "metadata": {},
   "outputs": [
    {
     "data": {
      "text/plain": [
       "{'jack': 9000,\n",
       " 'guido': 4127,\n",
       " 'irv': [333, 333, 13214141],\n",
       " 'rtu': 7777,\n",
       " 'valdis': 1800,\n",
       " 'peteris': 900,\n",
       " 'police': 911,\n",
       " 'liga': 911}"
      ]
     },
     "execution_count": 110,
     "metadata": {},
     "output_type": "execute_result"
    }
   ],
   "source": [
    "tel.update({'police':911, 'liga':911})\n",
    "tel"
   ]
  },
  {
   "cell_type": "code",
   "execution_count": 109,
   "metadata": {},
   "outputs": [
    {
     "data": {
      "text/plain": [
       "{'jack': 9000,\n",
       " 'guido': 4127,\n",
       " 'irv': [333, 333, 13214141],\n",
       " 'rtu': 7777,\n",
       " 'valdis': 1800,\n",
       " 'peteris': 900}"
      ]
     },
     "execution_count": 109,
     "metadata": {},
     "output_type": "execute_result"
    }
   ],
   "source": [
    "# Using list comprehension to create a new dictionary and overwite old one is fine too\n",
    "value_to_delete = 911\n",
    "tel = {k:v for k,v in tel.items() if v != value_to_delete}\n",
    "tel"
   ]
  },
  {
   "cell_type": "code",
   "execution_count": null,
   "metadata": {},
   "outputs": [],
   "source": []
  }
 ],
 "metadata": {
  "kernelspec": {
   "display_name": "Python 3",
   "language": "python",
   "name": "python3"
  },
  "language_info": {
   "codemirror_mode": {
    "name": "ipython",
    "version": 3
   },
   "file_extension": ".py",
   "mimetype": "text/x-python",
   "name": "python",
   "nbconvert_exporter": "python",
   "pygments_lexer": "ipython3",
   "version": "3.8.3"
  }
 },
 "nbformat": 4,
 "nbformat_minor": 2
}
