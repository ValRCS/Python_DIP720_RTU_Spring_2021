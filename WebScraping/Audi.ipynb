{
 "cells": [
  {
   "cell_type": "code",
   "execution_count": 1,
   "metadata": {},
   "outputs": [],
   "source": [
    "import requests\n",
    "import time\n",
    "import pandas as pd\n",
    "from bs4 import BeautifulSoup"
   ]
  },
  {
   "cell_type": "code",
   "execution_count": 2,
   "metadata": {},
   "outputs": [],
   "source": [
    "audi_allroad = \"https://www.ss.lv/lv/transport/cars/audi/allroad/sell/\""
   ]
  },
  {
   "cell_type": "code",
   "execution_count": 3,
   "metadata": {},
   "outputs": [
    {
     "data": {
      "text/plain": [
       "'<!DOCTYPE html>\\r\\n<HTML><HEAD>\\r\\n<title>SS.LV Audi Allroad, Cenas, Pārdod - Sludinājumi</title>\\r\\n<meta http-equiv=\"Content-Type\" CONTENT=\"text/html; charset=UTF-8\">\\r\\n<meta name=\"viewport\" content=\"user-'"
      ]
     },
     "execution_count": 3,
     "metadata": {},
     "output_type": "execute_result"
    }
   ],
   "source": [
    "req = requests.get(audi_allroad)\n",
    "req.text[:200]\n"
   ]
  },
  {
   "cell_type": "code",
   "execution_count": 4,
   "metadata": {},
   "outputs": [],
   "source": [
    "soup = BeautifulSoup(req.text, 'lxml')\n"
   ]
  },
  {
   "cell_type": "code",
   "execution_count": 5,
   "metadata": {},
   "outputs": [],
   "source": [
    "def getColList(soup):\n",
    "    column_list = [\"description\",\"url\"] # we decided to that we need these two column names no matter the html\n",
    "    headline = soup.find(\"tr\", {\"id\":\"head_line\"})\n",
    "    headtds = headline.find_all(\"td\")\n",
    "    headcolumns = [el.text for el in headtds[1:]] # this will get all column names starting with 2nd in HTML\n",
    "    column_list += headcolumns\n",
    "    return column_list"
   ]
  },
  {
   "cell_type": "code",
   "execution_count": 6,
   "metadata": {},
   "outputs": [
    {
     "data": {
      "text/plain": [
       "['description', 'url', 'Gads', 'Tilp.', 'Nobrauk.', 'Cena']"
      ]
     },
     "execution_count": 6,
     "metadata": {},
     "output_type": "execute_result"
    }
   ],
   "source": [
    "column_names = getColList(soup)\n",
    "column_names"
   ]
  },
  {
   "cell_type": "code",
   "execution_count": 7,
   "metadata": {},
   "outputs": [],
   "source": [
    "trows = soup.find_all('tr')\n",
    "\n",
    "def getRowList(soup):\n",
    "    trows = soup.find_all('tr')\n",
    "    aprows = [row for row in trows if row.get('id',\"\").startswith(\"tr_\") and not row.get('id',\"\").startswith(\"tr_bnr\") ]\n",
    "    return aprows"
   ]
  },
  {
   "cell_type": "code",
   "execution_count": 8,
   "metadata": {},
   "outputs": [],
   "source": [
    "def getRow(row,colist=column_names):\n",
    "    row_tds = row.find_all('td')\n",
    "    rowDict = {}\n",
    "    if len(row_tds) <3: # a little sanity check\n",
    "        print(\"Hmm bad row\")\n",
    "        return rowDict\n",
    "    \n",
    "    rowDict[colist[0]] = row_tds[2].text # so the big assumption is that we always get description in 3rd column\n",
    "    rowDict[colist[1]] = \"https://ss.com\" + row_tds[1].find('a').get('href')\n",
    "    for td,key in zip(row_tds[3:],colist[2:]): \n",
    "        rowDict[key] = td.text\n",
    "    return rowDict"
   ]
  },
  {
   "cell_type": "code",
   "execution_count": 9,
   "metadata": {},
   "outputs": [],
   "source": [
    "def getRows(rowlist,colist=column_names):\n",
    "    return [getRow(row, colist=colist) for row in rowlist]"
   ]
  },
  {
   "cell_type": "code",
   "execution_count": 10,
   "metadata": {},
   "outputs": [],
   "source": [
    "def getDFfromURL(url):\n",
    "    # print(\"getting data from\", url)\n",
    "    req = requests.get(url)\n",
    "    if req.status_code != 200:\n",
    "        print(\"Request Fail with\", req.status_code)\n",
    "        return None # maybe return empty dataframe here\n",
    "    soup = BeautifulSoup(req.text, 'lxml')\n",
    "    column_names = getColList(soup)\n",
    "    rowlist = getRowList(soup)\n",
    "    rows = getRows(rowlist,colist=column_names)\n",
    "    return pd.DataFrame(rows, columns=column_names)"
   ]
  },
  {
   "cell_type": "code",
   "execution_count": 11,
   "metadata": {},
   "outputs": [
    {
     "data": {
      "text/html": [
       "<div>\n",
       "<style scoped>\n",
       "    .dataframe tbody tr th:only-of-type {\n",
       "        vertical-align: middle;\n",
       "    }\n",
       "\n",
       "    .dataframe tbody tr th {\n",
       "        vertical-align: top;\n",
       "    }\n",
       "\n",
       "    .dataframe thead th {\n",
       "        text-align: right;\n",
       "    }\n",
       "</style>\n",
       "<table border=\"1\" class=\"dataframe\">\n",
       "  <thead>\n",
       "    <tr style=\"text-align: right;\">\n",
       "      <th></th>\n",
       "      <th>description</th>\n",
       "      <th>url</th>\n",
       "      <th>Gads</th>\n",
       "      <th>Tilp.</th>\n",
       "      <th>Nobrauk.</th>\n",
       "      <th>Cena</th>\n",
       "    </tr>\n",
       "  </thead>\n",
       "  <tbody>\n",
       "    <tr>\n",
       "      <th>0</th>\n",
       "      <td>Sīkāk informāciju zemāk uz otro norādīto talru...</td>\n",
       "      <td>https://ss.com/msg/lv/transport/cars/audi/allr...</td>\n",
       "      <td>2001</td>\n",
       "      <td>2.5D</td>\n",
       "      <td>-</td>\n",
       "      <td>2,500  €</td>\n",
       "    </tr>\n",
       "    <tr>\n",
       "      <th>1</th>\n",
       "      <td>Pārdodu ļoti uzticamu un labu auto perfektā te...</td>\n",
       "      <td>https://ss.com/msg/lv/transport/cars/audi/allr...</td>\n",
       "      <td>2013</td>\n",
       "      <td>2.0D</td>\n",
       "      <td>220 tūkst.</td>\n",
       "      <td>9,900  €</td>\n",
       "    </tr>\n",
       "    <tr>\n",
       "      <th>2</th>\n",
       "      <td>Tiek pārdots Audi A6 Allroad, 2006.gada, 3.0D,...</td>\n",
       "      <td>https://ss.com/msg/lv/transport/cars/audi/allr...</td>\n",
       "      <td>2006</td>\n",
       "      <td>3.0D</td>\n",
       "      <td>271 tūkst.</td>\n",
       "      <td>6,500  €</td>\n",
       "    </tr>\n",
       "    <tr>\n",
       "      <th>3</th>\n",
       "      <td>Audi Allroad Quattro , 3.0 dizelis/automats (1...</td>\n",
       "      <td>https://ss.com/msg/lv/transport/cars/audi/allr...</td>\n",
       "      <td>2007</td>\n",
       "      <td>3.0D</td>\n",
       "      <td>-</td>\n",
       "      <td>5,950  €</td>\n",
       "    </tr>\n",
       "    <tr>\n",
       "      <th>4</th>\n",
       "      <td>Продаю Audi Allroad 2, 7 biturbo , пушка а не ...</td>\n",
       "      <td>https://ss.com/msg/lv/transport/cars/audi/allr...</td>\n",
       "      <td>2003</td>\n",
       "      <td>2.7</td>\n",
       "      <td>240 tūkst.</td>\n",
       "      <td>4,900  €</td>\n",
       "    </tr>\n",
       "  </tbody>\n",
       "</table>\n",
       "</div>"
      ],
      "text/plain": [
       "                                         description  \\\n",
       "0  Sīkāk informāciju zemāk uz otro norādīto talru...   \n",
       "1  Pārdodu ļoti uzticamu un labu auto perfektā te...   \n",
       "2  Tiek pārdots Audi A6 Allroad, 2006.gada, 3.0D,...   \n",
       "3  Audi Allroad Quattro , 3.0 dizelis/automats (1...   \n",
       "4  Продаю Audi Allroad 2, 7 biturbo , пушка а не ...   \n",
       "\n",
       "                                                 url  Gads Tilp.    Nobrauk.  \\\n",
       "0  https://ss.com/msg/lv/transport/cars/audi/allr...  2001  2.5D           -   \n",
       "1  https://ss.com/msg/lv/transport/cars/audi/allr...  2013  2.0D  220 tūkst.   \n",
       "2  https://ss.com/msg/lv/transport/cars/audi/allr...  2006  3.0D  271 tūkst.   \n",
       "3  https://ss.com/msg/lv/transport/cars/audi/allr...  2007  3.0D           -   \n",
       "4  https://ss.com/msg/lv/transport/cars/audi/allr...  2003   2.7  240 tūkst.   \n",
       "\n",
       "       Cena  \n",
       "0  2,500  €  \n",
       "1  9,900  €  \n",
       "2  6,500  €  \n",
       "3  5,950  €  \n",
       "4  4,900  €  "
      ]
     },
     "execution_count": 11,
     "metadata": {},
     "output_type": "execute_result"
    }
   ],
   "source": [
    "df = getDFfromURL(audi_allroad)\n",
    "\n",
    "df.head()"
   ]
  },
  {
   "cell_type": "code",
   "execution_count": 12,
   "metadata": {},
   "outputs": [
    {
     "data": {
      "text/plain": [
       "2"
      ]
     },
     "execution_count": 12,
     "metadata": {},
     "output_type": "execute_result"
    }
   ],
   "source": [
    "anchors = soup.find_all(\"a\")\n",
    "\n",
    "navs = [anchor for anchor in anchors if anchor.get(\"name\") == \"nav_id\"] # get will get us None if no \"name\" exists\n",
    "len(navs)\n",
    "\n",
    "# could use regular expression here but we can use split \n",
    "afterpage = navs[0]['href'].split(\"/page\")[-1] # -1 might be safer than 1 in case there is region with name page\n",
    "\n",
    "beforedot = afterpage.split(\".html\")[0]\n",
    "\n",
    "lastpage = int(beforedot)\n",
    "lastpage\n"
   ]
  },
  {
   "cell_type": "code",
   "execution_count": 13,
   "metadata": {},
   "outputs": [],
   "source": [
    "def getAllLocalUrls(url):\n",
    "    \"\"\"Get a list of all urls including paginated pages\"\"\"\n",
    "    results = [url] # default is just the url if no extra pages found\n",
    "    req = requests.get(url)\n",
    "    if req.status_code != 200:\n",
    "        print(f\"Bad response! {req.status_code}\")\n",
    "        return []\n",
    "    soup = BeautifulSoup(req.text, 'lxml')\n",
    "    # we just need a one element\n",
    "    prevanchor = soup.find('a', {\"rel\":\"prev\"})\n",
    "    if prevanchor == None: # means there is only one page of ads\n",
    "        return results\n",
    "    href = prevanchor.attrs.get('href')\n",
    "    lastPageNum = int(href.split('/page')[-1].split('.html')[0])\n",
    "    print(\"Last page is\",lastPageNum)\n",
    "    nurls = [f\"{url}page{n}.html\" for n in range(2,lastPageNum+1)]\n",
    "    results += nurls\n",
    "    return results"
   ]
  },
  {
   "cell_type": "code",
   "execution_count": 14,
   "metadata": {},
   "outputs": [
    {
     "name": "stdout",
     "output_type": "stream",
     "text": [
      "Last page is 2\n"
     ]
    },
    {
     "data": {
      "text/plain": [
       "(2,\n",
       " ['https://www.ss.lv/lv/transport/cars/audi/allroad/sell/',\n",
       "  'https://www.ss.lv/lv/transport/cars/audi/allroad/sell/page2.html'],\n",
       " 'https://www.ss.lv/lv/transport/cars/audi/allroad/sell/page2.html')"
      ]
     },
     "execution_count": 14,
     "metadata": {},
     "output_type": "execute_result"
    }
   ],
   "source": [
    "local_urls = getAllLocalUrls(audi_allroad)\n",
    "len(local_urls),local_urls[:3],local_urls[-1]"
   ]
  },
  {
   "cell_type": "code",
   "execution_count": 15,
   "metadata": {},
   "outputs": [
    {
     "data": {
      "text/plain": [
       "(20, 6)"
      ]
     },
     "execution_count": 15,
     "metadata": {},
     "output_type": "execute_result"
    }
   ],
   "source": [
    "dlast = getDFfromURL(local_urls[-1])\n",
    "dlast.shape"
   ]
  },
  {
   "cell_type": "code",
   "execution_count": 16,
   "metadata": {},
   "outputs": [],
   "source": [
    "def get_all_ads_df(start_url, save_excel_path=None):\n",
    "    df_list=[] # so we will save our dataframes in a list\n",
    "    local_urls = getAllLocalUrls(start_url)\n",
    "    for url in local_urls:\n",
    "        print(f\"Gathering data from {url}\")\n",
    "        df_list.append(getDFfromURL(url))\n",
    "        time.sleep(0.3) # we need this to play nice!\n",
    "    # https://pandas.pydata.org/pandas-docs/stable/reference/api/pandas.concat.html\n",
    "    big_df = pd.concat(df_list) # then make a big dataframe from all the small dataframes\n",
    "    if save_excel_path:\n",
    "        big_df.to_excel(save_excel_path)\n",
    "    return big_df\n",
    "\n"
   ]
  },
  {
   "cell_type": "code",
   "execution_count": 17,
   "metadata": {},
   "outputs": [
    {
     "name": "stdout",
     "output_type": "stream",
     "text": [
      "Last page is 2\n",
      "Gathering data from https://www.ss.lv/lv/transport/cars/audi/allroad/sell/\n",
      "Gathering data from https://www.ss.lv/lv/transport/cars/audi/allroad/sell/page2.html\n"
     ]
    }
   ],
   "source": [
    "df = get_all_ads_df(audi_allroad, \"audi_allroad_28_01.xlsx\")"
   ]
  },
  {
   "cell_type": "code",
   "execution_count": null,
   "metadata": {},
   "outputs": [],
   "source": []
  },
  {
   "cell_type": "code",
   "execution_count": null,
   "metadata": {},
   "outputs": [],
   "source": []
  },
  {
   "cell_type": "code",
   "execution_count": null,
   "metadata": {},
   "outputs": [],
   "source": []
  },
  {
   "cell_type": "code",
   "execution_count": 18,
   "metadata": {},
   "outputs": [
    {
     "data": {
      "text/html": [
       "<div>\n",
       "<style scoped>\n",
       "    .dataframe tbody tr th:only-of-type {\n",
       "        vertical-align: middle;\n",
       "    }\n",
       "\n",
       "    .dataframe tbody tr th {\n",
       "        vertical-align: top;\n",
       "    }\n",
       "\n",
       "    .dataframe thead th {\n",
       "        text-align: right;\n",
       "    }\n",
       "</style>\n",
       "<table border=\"1\" class=\"dataframe\">\n",
       "  <thead>\n",
       "    <tr style=\"text-align: right;\">\n",
       "      <th></th>\n",
       "      <th>description</th>\n",
       "      <th>url</th>\n",
       "      <th>Gads</th>\n",
       "      <th>Tilp.</th>\n",
       "      <th>Nobrauk.</th>\n",
       "      <th>Cena</th>\n",
       "    </tr>\n",
       "  </thead>\n",
       "  <tbody>\n",
       "    <tr>\n",
       "      <th>0</th>\n",
       "      <td>Sīkāk informāciju zemāk uz otro norādīto talru...</td>\n",
       "      <td>https://ss.com/msg/lv/transport/cars/audi/allr...</td>\n",
       "      <td>2001</td>\n",
       "      <td>2.5D</td>\n",
       "      <td>-</td>\n",
       "      <td>2,500  €</td>\n",
       "    </tr>\n",
       "    <tr>\n",
       "      <th>1</th>\n",
       "      <td>Pārdodu ļoti uzticamu un labu auto perfektā te...</td>\n",
       "      <td>https://ss.com/msg/lv/transport/cars/audi/allr...</td>\n",
       "      <td>2013</td>\n",
       "      <td>2.0D</td>\n",
       "      <td>220 tūkst.</td>\n",
       "      <td>9,900  €</td>\n",
       "    </tr>\n",
       "    <tr>\n",
       "      <th>2</th>\n",
       "      <td>Tiek pārdots Audi A6 Allroad, 2006.gada, 3.0D,...</td>\n",
       "      <td>https://ss.com/msg/lv/transport/cars/audi/allr...</td>\n",
       "      <td>2006</td>\n",
       "      <td>3.0D</td>\n",
       "      <td>271 tūkst.</td>\n",
       "      <td>6,500  €</td>\n",
       "    </tr>\n",
       "    <tr>\n",
       "      <th>3</th>\n",
       "      <td>Audi Allroad Quattro , 3.0 dizelis/automats (1...</td>\n",
       "      <td>https://ss.com/msg/lv/transport/cars/audi/allr...</td>\n",
       "      <td>2007</td>\n",
       "      <td>3.0D</td>\n",
       "      <td>-</td>\n",
       "      <td>5,950  €</td>\n",
       "    </tr>\n",
       "    <tr>\n",
       "      <th>4</th>\n",
       "      <td>Продаю Audi Allroad 2, 7 biturbo , пушка а не ...</td>\n",
       "      <td>https://ss.com/msg/lv/transport/cars/audi/allr...</td>\n",
       "      <td>2003</td>\n",
       "      <td>2.7</td>\n",
       "      <td>240 tūkst.</td>\n",
       "      <td>4,900  €</td>\n",
       "    </tr>\n",
       "  </tbody>\n",
       "</table>\n",
       "</div>"
      ],
      "text/plain": [
       "                                         description  \\\n",
       "0  Sīkāk informāciju zemāk uz otro norādīto talru...   \n",
       "1  Pārdodu ļoti uzticamu un labu auto perfektā te...   \n",
       "2  Tiek pārdots Audi A6 Allroad, 2006.gada, 3.0D,...   \n",
       "3  Audi Allroad Quattro , 3.0 dizelis/automats (1...   \n",
       "4  Продаю Audi Allroad 2, 7 biturbo , пушка а не ...   \n",
       "\n",
       "                                                 url  Gads Tilp.    Nobrauk.  \\\n",
       "0  https://ss.com/msg/lv/transport/cars/audi/allr...  2001  2.5D           -   \n",
       "1  https://ss.com/msg/lv/transport/cars/audi/allr...  2013  2.0D  220 tūkst.   \n",
       "2  https://ss.com/msg/lv/transport/cars/audi/allr...  2006  3.0D  271 tūkst.   \n",
       "3  https://ss.com/msg/lv/transport/cars/audi/allr...  2007  3.0D           -   \n",
       "4  https://ss.com/msg/lv/transport/cars/audi/allr...  2003   2.7  240 tūkst.   \n",
       "\n",
       "       Cena  \n",
       "0  2,500  €  \n",
       "1  9,900  €  \n",
       "2  6,500  €  \n",
       "3  5,950  €  \n",
       "4  4,900  €  "
      ]
     },
     "execution_count": 18,
     "metadata": {},
     "output_type": "execute_result"
    }
   ],
   "source": [
    "df.head()"
   ]
  },
  {
   "cell_type": "code",
   "execution_count": 19,
   "metadata": {},
   "outputs": [
    {
     "data": {
      "text/html": [
       "<div>\n",
       "<style scoped>\n",
       "    .dataframe tbody tr th:only-of-type {\n",
       "        vertical-align: middle;\n",
       "    }\n",
       "\n",
       "    .dataframe tbody tr th {\n",
       "        vertical-align: top;\n",
       "    }\n",
       "\n",
       "    .dataframe thead th {\n",
       "        text-align: right;\n",
       "    }\n",
       "</style>\n",
       "<table border=\"1\" class=\"dataframe\">\n",
       "  <thead>\n",
       "    <tr style=\"text-align: right;\">\n",
       "      <th></th>\n",
       "      <th>description</th>\n",
       "      <th>url</th>\n",
       "      <th>Gads</th>\n",
       "      <th>Tilp.</th>\n",
       "      <th>Nobrauk.</th>\n",
       "      <th>Cena</th>\n",
       "      <th>price</th>\n",
       "    </tr>\n",
       "  </thead>\n",
       "  <tbody>\n",
       "    <tr>\n",
       "      <th>0</th>\n",
       "      <td>Sīkāk informāciju zemāk uz otro norādīto talru...</td>\n",
       "      <td>https://ss.com/msg/lv/transport/cars/audi/allr...</td>\n",
       "      <td>2001</td>\n",
       "      <td>2.5D</td>\n",
       "      <td>-</td>\n",
       "      <td>2,500  €</td>\n",
       "      <td>2,500</td>\n",
       "    </tr>\n",
       "    <tr>\n",
       "      <th>1</th>\n",
       "      <td>Pārdodu ļoti uzticamu un labu auto perfektā te...</td>\n",
       "      <td>https://ss.com/msg/lv/transport/cars/audi/allr...</td>\n",
       "      <td>2013</td>\n",
       "      <td>2.0D</td>\n",
       "      <td>220 tūkst.</td>\n",
       "      <td>9,900  €</td>\n",
       "      <td>9,900</td>\n",
       "    </tr>\n",
       "    <tr>\n",
       "      <th>2</th>\n",
       "      <td>Tiek pārdots Audi A6 Allroad, 2006.gada, 3.0D,...</td>\n",
       "      <td>https://ss.com/msg/lv/transport/cars/audi/allr...</td>\n",
       "      <td>2006</td>\n",
       "      <td>3.0D</td>\n",
       "      <td>271 tūkst.</td>\n",
       "      <td>6,500  €</td>\n",
       "      <td>6,500</td>\n",
       "    </tr>\n",
       "    <tr>\n",
       "      <th>3</th>\n",
       "      <td>Audi Allroad Quattro , 3.0 dizelis/automats (1...</td>\n",
       "      <td>https://ss.com/msg/lv/transport/cars/audi/allr...</td>\n",
       "      <td>2007</td>\n",
       "      <td>3.0D</td>\n",
       "      <td>-</td>\n",
       "      <td>5,950  €</td>\n",
       "      <td>5,950</td>\n",
       "    </tr>\n",
       "    <tr>\n",
       "      <th>4</th>\n",
       "      <td>Продаю Audi Allroad 2, 7 biturbo , пушка а не ...</td>\n",
       "      <td>https://ss.com/msg/lv/transport/cars/audi/allr...</td>\n",
       "      <td>2003</td>\n",
       "      <td>2.7</td>\n",
       "      <td>240 tūkst.</td>\n",
       "      <td>4,900  €</td>\n",
       "      <td>4,900</td>\n",
       "    </tr>\n",
       "  </tbody>\n",
       "</table>\n",
       "</div>"
      ],
      "text/plain": [
       "                                         description  \\\n",
       "0  Sīkāk informāciju zemāk uz otro norādīto talru...   \n",
       "1  Pārdodu ļoti uzticamu un labu auto perfektā te...   \n",
       "2  Tiek pārdots Audi A6 Allroad, 2006.gada, 3.0D,...   \n",
       "3  Audi Allroad Quattro , 3.0 dizelis/automats (1...   \n",
       "4  Продаю Audi Allroad 2, 7 biturbo , пушка а не ...   \n",
       "\n",
       "                                                 url  Gads Tilp.    Nobrauk.  \\\n",
       "0  https://ss.com/msg/lv/transport/cars/audi/allr...  2001  2.5D           -   \n",
       "1  https://ss.com/msg/lv/transport/cars/audi/allr...  2013  2.0D  220 tūkst.   \n",
       "2  https://ss.com/msg/lv/transport/cars/audi/allr...  2006  3.0D  271 tūkst.   \n",
       "3  https://ss.com/msg/lv/transport/cars/audi/allr...  2007  3.0D           -   \n",
       "4  https://ss.com/msg/lv/transport/cars/audi/allr...  2003   2.7  240 tūkst.   \n",
       "\n",
       "       Cena  price  \n",
       "0  2,500  €  2,500  \n",
       "1  9,900  €  9,900  \n",
       "2  6,500  €  6,500  \n",
       "3  5,950  €  5,950  \n",
       "4  4,900  €  4,900  "
      ]
     },
     "execution_count": 19,
     "metadata": {},
     "output_type": "execute_result"
    }
   ],
   "source": [
    "# price, delete euro symbol\n",
    "df[\"price\"] = df.Cena.str.split(' ').str[0]\n",
    "df.head()"
   ]
  },
  {
   "cell_type": "code",
   "execution_count": 20,
   "metadata": {},
   "outputs": [
    {
     "data": {
      "text/html": [
       "<div>\n",
       "<style scoped>\n",
       "    .dataframe tbody tr th:only-of-type {\n",
       "        vertical-align: middle;\n",
       "    }\n",
       "\n",
       "    .dataframe tbody tr th {\n",
       "        vertical-align: top;\n",
       "    }\n",
       "\n",
       "    .dataframe thead th {\n",
       "        text-align: right;\n",
       "    }\n",
       "</style>\n",
       "<table border=\"1\" class=\"dataframe\">\n",
       "  <thead>\n",
       "    <tr style=\"text-align: right;\">\n",
       "      <th></th>\n",
       "      <th>description</th>\n",
       "      <th>url</th>\n",
       "      <th>Gads</th>\n",
       "      <th>Tilp.</th>\n",
       "      <th>Nobrauk.</th>\n",
       "      <th>Cena</th>\n",
       "      <th>price</th>\n",
       "    </tr>\n",
       "  </thead>\n",
       "  <tbody>\n",
       "    <tr>\n",
       "      <th>0</th>\n",
       "      <td>Sīkāk informāciju zemāk uz otro norādīto talru...</td>\n",
       "      <td>https://ss.com/msg/lv/transport/cars/audi/allr...</td>\n",
       "      <td>2001</td>\n",
       "      <td>2.5D</td>\n",
       "      <td>-</td>\n",
       "      <td>2,500  €</td>\n",
       "      <td>2500</td>\n",
       "    </tr>\n",
       "    <tr>\n",
       "      <th>1</th>\n",
       "      <td>Pārdodu ļoti uzticamu un labu auto perfektā te...</td>\n",
       "      <td>https://ss.com/msg/lv/transport/cars/audi/allr...</td>\n",
       "      <td>2013</td>\n",
       "      <td>2.0D</td>\n",
       "      <td>220 tūkst.</td>\n",
       "      <td>9,900  €</td>\n",
       "      <td>9900</td>\n",
       "    </tr>\n",
       "    <tr>\n",
       "      <th>2</th>\n",
       "      <td>Tiek pārdots Audi A6 Allroad, 2006.gada, 3.0D,...</td>\n",
       "      <td>https://ss.com/msg/lv/transport/cars/audi/allr...</td>\n",
       "      <td>2006</td>\n",
       "      <td>3.0D</td>\n",
       "      <td>271 tūkst.</td>\n",
       "      <td>6,500  €</td>\n",
       "      <td>6500</td>\n",
       "    </tr>\n",
       "    <tr>\n",
       "      <th>3</th>\n",
       "      <td>Audi Allroad Quattro , 3.0 dizelis/automats (1...</td>\n",
       "      <td>https://ss.com/msg/lv/transport/cars/audi/allr...</td>\n",
       "      <td>2007</td>\n",
       "      <td>3.0D</td>\n",
       "      <td>-</td>\n",
       "      <td>5,950  €</td>\n",
       "      <td>5950</td>\n",
       "    </tr>\n",
       "    <tr>\n",
       "      <th>4</th>\n",
       "      <td>Продаю Audi Allroad 2, 7 biturbo , пушка а не ...</td>\n",
       "      <td>https://ss.com/msg/lv/transport/cars/audi/allr...</td>\n",
       "      <td>2003</td>\n",
       "      <td>2.7</td>\n",
       "      <td>240 tūkst.</td>\n",
       "      <td>4,900  €</td>\n",
       "      <td>4900</td>\n",
       "    </tr>\n",
       "  </tbody>\n",
       "</table>\n",
       "</div>"
      ],
      "text/plain": [
       "                                         description  \\\n",
       "0  Sīkāk informāciju zemāk uz otro norādīto talru...   \n",
       "1  Pārdodu ļoti uzticamu un labu auto perfektā te...   \n",
       "2  Tiek pārdots Audi A6 Allroad, 2006.gada, 3.0D,...   \n",
       "3  Audi Allroad Quattro , 3.0 dizelis/automats (1...   \n",
       "4  Продаю Audi Allroad 2, 7 biturbo , пушка а не ...   \n",
       "\n",
       "                                                 url  Gads Tilp.    Nobrauk.  \\\n",
       "0  https://ss.com/msg/lv/transport/cars/audi/allr...  2001  2.5D           -   \n",
       "1  https://ss.com/msg/lv/transport/cars/audi/allr...  2013  2.0D  220 tūkst.   \n",
       "2  https://ss.com/msg/lv/transport/cars/audi/allr...  2006  3.0D  271 tūkst.   \n",
       "3  https://ss.com/msg/lv/transport/cars/audi/allr...  2007  3.0D           -   \n",
       "4  https://ss.com/msg/lv/transport/cars/audi/allr...  2003   2.7  240 tūkst.   \n",
       "\n",
       "       Cena  price  \n",
       "0  2,500  €   2500  \n",
       "1  9,900  €   9900  \n",
       "2  6,500  €   6500  \n",
       "3  5,950  €   5950  \n",
       "4  4,900  €   4900  "
      ]
     },
     "execution_count": 20,
     "metadata": {},
     "output_type": "execute_result"
    }
   ],
   "source": [
    "df.price = df.price.str.replace(\",\",\"\").astype('int32')\n",
    "df.head()"
   ]
  },
  {
   "cell_type": "code",
   "execution_count": 22,
   "metadata": {},
   "outputs": [],
   "source": [
    "# save file\n",
    "df.to_excel(\"C:/temp/my_audis.xlsx\")"
   ]
  },
  {
   "cell_type": "code",
   "execution_count": 24,
   "metadata": {},
   "outputs": [
    {
     "data": {
      "text/html": [
       "<div>\n",
       "<style scoped>\n",
       "    .dataframe tbody tr th:only-of-type {\n",
       "        vertical-align: middle;\n",
       "    }\n",
       "\n",
       "    .dataframe tbody tr th {\n",
       "        vertical-align: top;\n",
       "    }\n",
       "\n",
       "    .dataframe thead th {\n",
       "        text-align: right;\n",
       "    }\n",
       "</style>\n",
       "<table border=\"1\" class=\"dataframe\">\n",
       "  <thead>\n",
       "    <tr style=\"text-align: right;\">\n",
       "      <th></th>\n",
       "      <th>Unnamed: 0</th>\n",
       "      <th>description</th>\n",
       "      <th>url</th>\n",
       "      <th>Gads</th>\n",
       "      <th>Tilp.</th>\n",
       "      <th>Nobrauk.</th>\n",
       "      <th>Cena</th>\n",
       "      <th>price</th>\n",
       "    </tr>\n",
       "  </thead>\n",
       "  <tbody>\n",
       "    <tr>\n",
       "      <th>0</th>\n",
       "      <td>0</td>\n",
       "      <td>Sīkāk informāciju zemāk uz otro norādīto talru...</td>\n",
       "      <td>https://ss.com/msg/lv/transport/cars/audi/allr...</td>\n",
       "      <td>2001</td>\n",
       "      <td>2.5D</td>\n",
       "      <td>-</td>\n",
       "      <td>2,500  €</td>\n",
       "      <td>2500</td>\n",
       "    </tr>\n",
       "    <tr>\n",
       "      <th>1</th>\n",
       "      <td>1</td>\n",
       "      <td>Pārdodu ļoti uzticamu un labu auto perfektā te...</td>\n",
       "      <td>https://ss.com/msg/lv/transport/cars/audi/allr...</td>\n",
       "      <td>2013</td>\n",
       "      <td>2.0D</td>\n",
       "      <td>220 tūkst.</td>\n",
       "      <td>9,900  €</td>\n",
       "      <td>9900</td>\n",
       "    </tr>\n",
       "    <tr>\n",
       "      <th>2</th>\n",
       "      <td>2</td>\n",
       "      <td>Tiek pārdots Audi A6 Allroad, 2006.gada, 3.0D,...</td>\n",
       "      <td>https://ss.com/msg/lv/transport/cars/audi/allr...</td>\n",
       "      <td>2006</td>\n",
       "      <td>3.0D</td>\n",
       "      <td>271 tūkst.</td>\n",
       "      <td>6,500  €</td>\n",
       "      <td>6500</td>\n",
       "    </tr>\n",
       "    <tr>\n",
       "      <th>3</th>\n",
       "      <td>3</td>\n",
       "      <td>Audi Allroad Quattro , 3.0 dizelis/automats (1...</td>\n",
       "      <td>https://ss.com/msg/lv/transport/cars/audi/allr...</td>\n",
       "      <td>2007</td>\n",
       "      <td>3.0D</td>\n",
       "      <td>-</td>\n",
       "      <td>5,950  €</td>\n",
       "      <td>5950</td>\n",
       "    </tr>\n",
       "    <tr>\n",
       "      <th>4</th>\n",
       "      <td>4</td>\n",
       "      <td>Продаю Audi Allroad 2, 7 biturbo , пушка а не ...</td>\n",
       "      <td>https://ss.com/msg/lv/transport/cars/audi/allr...</td>\n",
       "      <td>2003</td>\n",
       "      <td>2.7</td>\n",
       "      <td>240 tūkst.</td>\n",
       "      <td>4,900  €</td>\n",
       "      <td>4900</td>\n",
       "    </tr>\n",
       "  </tbody>\n",
       "</table>\n",
       "</div>"
      ],
      "text/plain": [
       "   Unnamed: 0                                        description  \\\n",
       "0           0  Sīkāk informāciju zemāk uz otro norādīto talru...   \n",
       "1           1  Pārdodu ļoti uzticamu un labu auto perfektā te...   \n",
       "2           2  Tiek pārdots Audi A6 Allroad, 2006.gada, 3.0D,...   \n",
       "3           3  Audi Allroad Quattro , 3.0 dizelis/automats (1...   \n",
       "4           4  Продаю Audi Allroad 2, 7 biturbo , пушка а не ...   \n",
       "\n",
       "                                                 url  Gads Tilp.    Nobrauk.  \\\n",
       "0  https://ss.com/msg/lv/transport/cars/audi/allr...  2001  2.5D           -   \n",
       "1  https://ss.com/msg/lv/transport/cars/audi/allr...  2013  2.0D  220 tūkst.   \n",
       "2  https://ss.com/msg/lv/transport/cars/audi/allr...  2006  3.0D  271 tūkst.   \n",
       "3  https://ss.com/msg/lv/transport/cars/audi/allr...  2007  3.0D           -   \n",
       "4  https://ss.com/msg/lv/transport/cars/audi/allr...  2003   2.7  240 tūkst.   \n",
       "\n",
       "       Cena  price  \n",
       "0  2,500  €   2500  \n",
       "1  9,900  €   9900  \n",
       "2  6,500  €   6500  \n",
       "3  5,950  €   5950  \n",
       "4  4,900  €   4900  "
      ]
     },
     "execution_count": 24,
     "metadata": {},
     "output_type": "execute_result"
    }
   ],
   "source": [
    "df = pd.read_excel(\"C:/temp/my_audis.xlsx\")\n",
    "df.head()"
   ]
  },
  {
   "cell_type": "code",
   "execution_count": 25,
   "metadata": {},
   "outputs": [
    {
     "data": {
      "text/plain": [
       "<matplotlib.axes._subplots.AxesSubplot at 0x2538e49ac40>"
      ]
     },
     "execution_count": 25,
     "metadata": {},
     "output_type": "execute_result"
    },
    {
     "data": {
      "image/png": "[encoded data removed]",
      "text/plain": [
       "<Figure size 432x288 with 1 Axes>"
      ]
     },
     "metadata": {
      "needs_background": "light"
     },
     "output_type": "display_data"
    }
   ],
   "source": [
    "df.price.hist()"
   ]
  },
  {
   "cell_type": "code",
   "execution_count": 26,
   "metadata": {},
   "outputs": [
    {
     "data": {
      "text/html": [
       "<div>\n",
       "<style scoped>\n",
       "    .dataframe tbody tr th:only-of-type {\n",
       "        vertical-align: middle;\n",
       "    }\n",
       "\n",
       "    .dataframe tbody tr th {\n",
       "        vertical-align: top;\n",
       "    }\n",
       "\n",
       "    .dataframe thead th {\n",
       "        text-align: right;\n",
       "    }\n",
       "</style>\n",
       "<table border=\"1\" class=\"dataframe\">\n",
       "  <thead>\n",
       "    <tr style=\"text-align: right;\">\n",
       "      <th></th>\n",
       "      <th>Unnamed: 0</th>\n",
       "      <th>price</th>\n",
       "    </tr>\n",
       "    <tr>\n",
       "      <th>Gads</th>\n",
       "      <th></th>\n",
       "      <th></th>\n",
       "    </tr>\n",
       "  </thead>\n",
       "  <tbody>\n",
       "    <tr>\n",
       "      <th>2000</th>\n",
       "      <td>5.000000</td>\n",
       "      <td>3000.000000</td>\n",
       "    </tr>\n",
       "    <tr>\n",
       "      <th>2001</th>\n",
       "      <td>14.600000</td>\n",
       "      <td>2596.000000</td>\n",
       "    </tr>\n",
       "    <tr>\n",
       "      <th>2002</th>\n",
       "      <td>17.000000</td>\n",
       "      <td>2763.333333</td>\n",
       "    </tr>\n",
       "    <tr>\n",
       "      <th>2003</th>\n",
       "      <td>7.500000</td>\n",
       "      <td>3800.000000</td>\n",
       "    </tr>\n",
       "    <tr>\n",
       "      <th>2004</th>\n",
       "      <td>5.000000</td>\n",
       "      <td>4075.000000</td>\n",
       "    </tr>\n",
       "    <tr>\n",
       "      <th>2005</th>\n",
       "      <td>28.000000</td>\n",
       "      <td>5600.000000</td>\n",
       "    </tr>\n",
       "    <tr>\n",
       "      <th>2006</th>\n",
       "      <td>8.600000</td>\n",
       "      <td>5902.000000</td>\n",
       "    </tr>\n",
       "    <tr>\n",
       "      <th>2007</th>\n",
       "      <td>18.200000</td>\n",
       "      <td>6000.000000</td>\n",
       "    </tr>\n",
       "    <tr>\n",
       "      <th>2009</th>\n",
       "      <td>11.000000</td>\n",
       "      <td>7530.000000</td>\n",
       "    </tr>\n",
       "    <tr>\n",
       "      <th>2010</th>\n",
       "      <td>13.285714</td>\n",
       "      <td>9220.000000</td>\n",
       "    </tr>\n",
       "    <tr>\n",
       "      <th>2012</th>\n",
       "      <td>9.250000</td>\n",
       "      <td>14935.000000</td>\n",
       "    </tr>\n",
       "    <tr>\n",
       "      <th>2013</th>\n",
       "      <td>7.500000</td>\n",
       "      <td>14397.500000</td>\n",
       "    </tr>\n",
       "    <tr>\n",
       "      <th>2014</th>\n",
       "      <td>16.500000</td>\n",
       "      <td>20400.000000</td>\n",
       "    </tr>\n",
       "    <tr>\n",
       "      <th>2015</th>\n",
       "      <td>8.000000</td>\n",
       "      <td>20100.000000</td>\n",
       "    </tr>\n",
       "    <tr>\n",
       "      <th>2016</th>\n",
       "      <td>17.500000</td>\n",
       "      <td>23000.000000</td>\n",
       "    </tr>\n",
       "    <tr>\n",
       "      <th>2017</th>\n",
       "      <td>18.000000</td>\n",
       "      <td>21500.000000</td>\n",
       "    </tr>\n",
       "  </tbody>\n",
       "</table>\n",
       "</div>"
      ],
      "text/plain": [
       "      Unnamed: 0         price\n",
       "Gads                          \n",
       "2000    5.000000   3000.000000\n",
       "2001   14.600000   2596.000000\n",
       "2002   17.000000   2763.333333\n",
       "2003    7.500000   3800.000000\n",
       "2004    5.000000   4075.000000\n",
       "2005   28.000000   5600.000000\n",
       "2006    8.600000   5902.000000\n",
       "2007   18.200000   6000.000000\n",
       "2009   11.000000   7530.000000\n",
       "2010   13.285714   9220.000000\n",
       "2012    9.250000  14935.000000\n",
       "2013    7.500000  14397.500000\n",
       "2014   16.500000  20400.000000\n",
       "2015    8.000000  20100.000000\n",
       "2016   17.500000  23000.000000\n",
       "2017   18.000000  21500.000000"
      ]
     },
     "execution_count": 26,
     "metadata": {},
     "output_type": "execute_result"
    }
   ],
   "source": [
    "df.groupby(['Gads']).mean()"
   ]
  },
  {
   "cell_type": "code",
   "execution_count": null,
   "metadata": {},
   "outputs": [],
   "source": []
  },
  {
   "cell_type": "code",
   "execution_count": null,
   "metadata": {},
   "outputs": [],
   "source": []
  }
 ],
 "metadata": {
  "kernelspec": {
   "display_name": "Python 3",
   "language": "python",
   "name": "python3"
  },
  "language_info": {
   "codemirror_mode": {
    "name": "ipython",
    "version": 3
   },
   "file_extension": ".py",
   "mimetype": "text/x-python",
   "name": "python",
   "nbconvert_exporter": "python",
   "pygments_lexer": "ipython3",
   "version": "3.8.3"
  }
 },
 "nbformat": 4,
 "nbformat_minor": 4
}
