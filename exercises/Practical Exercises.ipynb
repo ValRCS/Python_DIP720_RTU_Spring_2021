{
 "cells": [
  {
   "cell_type": "code",
   "execution_count": 6,
   "metadata": {},
   "outputs": [
    {
     "name": "stdout",
     "output_type": "stream",
     "text": [
      "Please enter a number334\n",
      "You entered 334.0\n"
     ]
    }
   ],
   "source": [
    "myval = float(input(\"Please enter a number\")) #input by default is string\n",
    "print(f\"You entered {myval}\")\n",
    "# you can calculate or do an if statement here"
   ]
  }
 ],
 "metadata": {
  "kernelspec": {
   "display_name": "Python 3",
   "language": "python",
   "name": "python3"
  },
  "language_info": {
   "codemirror_mode": {
    "name": "ipython",
    "version": 3
   },
   "file_extension": ".py",
   "mimetype": "text/x-python",
   "name": "python",
   "nbconvert_exporter": "python",
   "pygments_lexer": "ipython3",
   "version": "3.7.3"
  }
 },
 "nbformat": 4,
 "nbformat_minor": 2
}
