{
 "cells": [
  {
   "cell_type": "markdown",
   "metadata": {},
   "source": [
    "# Project Ideas\n",
    "\n",
    "## Beginner programs\n",
    "* 99 Bottles of Beer Program\n",
    "* Mad Libs story program\n",
    "\n",
    "Thank you www.reddit.com/r/learnpython for the above 2 ideas!\n",
    "\n",
    "## More advanced programs\n",
    "\n",
    "* Process data from Web using API\n",
    "* Peform Stylometry Analysis\n",
    "* Build a text Summarizer"
   ]
  },
  {
   "cell_type": "markdown",
   "metadata": {},
   "source": [
    "### 99 Bottles of Beer Program GOAL\n",
    "\n",
    "Create a program that prints out every line to the song \"99 bottles of beer on the wall.\" This should be a pretty simple program, so to make it a bit harder, here are some rules to follow.\n",
    "\n",
    "###  RULES\n",
    "\n",
    "1. If you are going to use a list for all of the numbers, do not manually type them all in. Instead, use a built in function.\n",
    "\n",
    "2. Besides the phrase \"take one down,\" you may not type in any numbers/names of numbers directly into your song lyrics.\n",
    "\n",
    "3. Remember, when you reach 1 bottle left, the word \"bottles\" becomes singular.\n",
    "\n",
    "4. Put a blank line between each verse of the song."
   ]
  },
  {
   "cell_type": "markdown",
   "metadata": {},
   "source": [
    "## Mad Libs Program Rules\n",
    "## Background\n",
    "\n",
    "Ever played Mad Libs? If you haven't, here's the basic's of it.\n",
    "\n",
    "\"Mad Libs consist of a book that has a short story on each page with many key words replaced with blanks. Beneath each blank is specified a lexical or other category, such as \"noun\", \"verb\", \"place\", or \"part of the body\".[10] One player asks the other players, in turn, to contribute some word for the specified type for each blank, but without revealing the context for that word. Finally, the completed story is read aloud. The result is usually comic, surreal and somewhat nonsensical.\"\n",
    "\n",
    "## Goal\n",
    "\n",
    "Create a Mad Libs style game, where the program asks the user for certain types of words, and then prints out a story with the words that the user inputted. The story doesn't have to be too long, but it should have some sort of story line.\n",
    "\n",
    "Tip - It's easiest to write out a quick story on a piece of paper or a word document, and then go back through and see which words the user should be able to change.\n",
    "\n",
    "## Subgoals\n",
    "\n",
    "If the user has to put in a name, change the first letter to a capital letter.\n",
    "\n",
    "Change the word \"a\" to \"an\" when the next word in the sentence begins with a vowel."
   ]
  },
  {
   "cell_type": "markdown",
   "metadata": {},
   "source": [
    "## Process Data from the Web "
   ]
  },
  {
   "cell_type": "code",
   "execution_count": null,
   "metadata": {},
   "outputs": [],
   "source": [
    "import wikipedia"
   ]
  },
  {
   "cell_type": "code",
   "execution_count": null,
   "metadata": {},
   "outputs": [],
   "source": [
    "!pip install wikipedia"
   ]
  },
  {
   "cell_type": "code",
   "execution_count": null,
   "metadata": {},
   "outputs": [],
   "source": [
    "import wikipedia"
   ]
  },
  {
   "cell_type": "code",
   "execution_count": null,
   "metadata": {},
   "outputs": [],
   "source": [
    "wikipedia.search(\"Riga\")"
   ]
  },
  {
   "cell_type": "code",
   "execution_count": null,
   "metadata": {},
   "outputs": [],
   "source": [
    "wikipedia.summary('Riga')"
   ]
  },
  {
   "cell_type": "code",
   "execution_count": null,
   "metadata": {},
   "outputs": [],
   "source": [
    "wikipedia.summary('Riga (moped)')"
   ]
  },
  {
   "cell_type": "code",
   "execution_count": null,
   "metadata": {},
   "outputs": [],
   "source": [
    "wikipedia.search('Latvian National Library')"
   ]
  },
  {
   "cell_type": "code",
   "execution_count": null,
   "metadata": {},
   "outputs": [],
   "source": [
    "myresults = wikipedia.summary('National Library of Latvia')"
   ]
  },
  {
   "cell_type": "code",
   "execution_count": null,
   "metadata": {},
   "outputs": [],
   "source": [
    "myresults[:101]"
   ]
  },
  {
   "cell_type": "code",
   "execution_count": null,
   "metadata": {},
   "outputs": [],
   "source": [
    "# To find out more read the quickstart https://wikipedia.readthedocs.io/en/latest/quickstart.html"
   ]
  },
  {
   "cell_type": "code",
   "execution_count": null,
   "metadata": {},
   "outputs": [],
   "source": [
    "### Bonus: What can you do with this data? Try to use NLTK library on your downloaded data."
   ]
  },
  {
   "cell_type": "code",
   "execution_count": null,
   "metadata": {},
   "outputs": [],
   "source": [
    "# Alternative use requests Python library\n",
    "# https://realpython.com/python-requests/"
   ]
  },
  {
   "cell_type": "markdown",
   "metadata": {},
   "source": [
    "## Perform Stylometry Analysis on text"
   ]
  },
  {
   "cell_type": "markdown",
   "metadata": {},
   "source": [
    "\n",
    "### Stylometry Lessons\n",
    "https://programminghistorian.org/en/lessons/introduction-to-stylometry-with-python\n",
    "\n",
    "* How to apply several stylometric methods to infer authorship of an anonymous text or set of texts.\n",
    "* How to use relatively advanced data structures, including dictionaries of strings and dictionaries of dictionaries, in Python.\n",
    "* The basics of the Natural Languate Toolkit (NLTK), a popular Python module dedicated to natural language processing."
   ]
  },
  {
   "cell_type": "markdown",
   "metadata": {},
   "source": [
    "## Build a Summarizer\n",
    "\n",
    "### 4 steps to build a Summarizer\n",
    "1. Remove stop words (defined below) for the analysis\n",
    "2. Create frequency table of words - how many times each word appears in the text\n",
    "3. Assign score to each sentence depending on the words it contains and the frequency table\n",
    "4. Build summary by adding every sentence above a certain score threshold"
   ]
  },
  {
   "cell_type": "markdown",
   "metadata": {},
   "source": [
    "### Sources\n",
    "* https://dev.to/davidisrawi/build-a-quick-summarizer-with-python-and-nltk\n",
    "* https://towardsdatascience.com/write-a-simple-summarizer-in-python-e9ca6138a08e\n",
    "* https://becominghuman.ai/text-summarization-in-5-steps-using-nltk-65b21e352b65"
   ]
  },
  {
   "cell_type": "markdown",
   "metadata": {},
   "source": [
    "### Extra credit, future ideas that can be implemented in Python\n",
    "* Build a function that takes a web address (URL) and returns the summary\n",
    "* Allow exporting of the summary to PDF\n",
    "* Add e-mailing of the summary to the address of our choosing\n"
   ]
  },
  {
   "cell_type": "code",
   "execution_count": null,
   "metadata": {},
   "outputs": [],
   "source": [
    "## If you get stuck?\n",
    "## Google-Fu is your friend \n",
    "## recommend adding Python3 to your search query\n",
    "## Limit search to more recent times(last year, last few years)\n",
    "## Stack Overflow answer question site is highly recommended\n"
   ]
  }
 ],
 "metadata": {
  "kernelspec": {
   "display_name": "Python 3",
   "language": "python",
   "name": "python3"
  },
  "language_info": {
   "codemirror_mode": {
    "name": "ipython",
    "version": 3
   },
   "file_extension": ".py",
   "mimetype": "text/x-python",
   "name": "python",
   "nbconvert_exporter": "python",
   "pygments_lexer": "ipython3",
   "version": "3.7.3"
  }
 },
 "nbformat": 4,
 "nbformat_minor": 2
}
