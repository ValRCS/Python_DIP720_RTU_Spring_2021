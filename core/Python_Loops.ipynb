{
 "cells": [
  {
   "cell_type": "code",
   "execution_count": 1,
   "metadata": {},
   "outputs": [
    {
     "name": "stdout",
     "output_type": "stream",
     "text": [
      "Hello\n",
      "Hello\n",
      "how about 100 times?\n"
     ]
    }
   ],
   "source": [
    "print(\"Hello\")\n",
    "print(\"Hello\")\n",
    "print(\"how about 100 times?\")\n",
    "# idea of looping is to repeat some action multiple times\n",
    "# instead of copy pasting same or similar code"
   ]
  },
  {
   "cell_type": "markdown",
   "metadata": {},
   "source": [
    "![While](https://upload.wikimedia.org/wikipedia/commons/thumb/4/43/While-loop-diagram.svg/440px-While-loop-diagram.svg.png)"
   ]
  },
  {
   "cell_type": "code",
   "execution_count": 4,
   "metadata": {},
   "outputs": [
    {
     "name": "stdout",
     "output_type": "stream",
     "text": [
      "Always happens once loop is finished\n",
      "i is now 30\n"
     ]
    }
   ],
   "source": [
    "# while loop example\n",
    "# while loops are best for indefinite iteration\n",
    "# but can be used for definite\n",
    "i = 30 # i stands for iterator or index if you will\n",
    "\n",
    "while i < 5: # some sort of condition to be true to go inside the loop\n",
    "    print(\"Hello No.\", i)\n",
    "    # could do more here\n",
    "    i += 1 # same as i = i + 1\n",
    "    # crucial that we change the condition otherwise we will loop forever\n",
    "    # and we go back to the start of while to check condition again\n",
    "\n",
    "# program keeps going\n",
    "print(\"Always happens once loop is finished\")\n",
    "print(\"i is now\", i)\n"
   ]
  },
  {
   "cell_type": "code",
   "execution_count": 3,
   "metadata": {},
   "outputs": [
    {
     "data": {
      "text/plain": [
       "5"
      ]
     },
     "execution_count": 3,
     "metadata": {},
     "output_type": "execute_result"
    }
   ],
   "source": [
    "i"
   ]
  },
  {
   "cell_type": "code",
   "execution_count": null,
   "metadata": {},
   "outputs": [],
   "source": []
  },
  {
   "cell_type": "code",
   "execution_count": 7,
   "metadata": {},
   "outputs": [
    {
     "name": "stdout",
     "output_type": "stream",
     "text": [
      "Going down the floor: 10\n",
      "Going down the floor: 8\n",
      "Going down the floor: 6\n",
      "Going down the floor: 4\n",
      "Going down the floor: 2\n",
      "Whew we are done with this i: 0\n"
     ]
    }
   ],
   "source": [
    "# we could go down\n",
    "i = 10\n",
    "while i > 0:\n",
    "    print(\"Going down the floor:\", i)\n",
    "    # i could do more stuff\n",
    "    i -= 2 # i = i - 2\n",
    "print(\"Whew we are done with this i:\", i)\n"
   ]
  },
  {
   "cell_type": "code",
   "execution_count": 9,
   "metadata": {},
   "outputs": [
    {
     "name": "stdout",
     "output_type": "stream",
     "text": [
      "Enter a number or 0 to quit5\n",
      "Current is 5.0 and total so far is 5.0\n",
      "Enter a number or 0 to quit7.7\n",
      "Current is 7.7 and total so far is 12.7\n",
      "Enter a number or 0 to quit3\n",
      "Current is 3.0 and total so far is 15.7\n",
      "Enter a number or 0 to quit0\n",
      "Current is 0.0 and total so far is 15.7\n",
      "Whew we are done here our total is 15.7\n"
     ]
    }
   ],
   "source": [
    "# an example of truly indefinite loop depending on us to enter quit condition\n",
    "text =  \"\"\n",
    "total = 0\n",
    "while text != '0':\n",
    "    text = input(\"Enter a number or 0 to quit\")\n",
    "    # the check for 0 will o nly happen after we perform the rest of cycle\n",
    "    num = float(text) \n",
    "    total += num\n",
    "    print(f\"Current is {num} and total so far is {total}\")\n",
    "print(f\"Whew we are done here our total is {total}\")"
   ]
  },
  {
   "cell_type": "code",
   "execution_count": 13,
   "metadata": {},
   "outputs": [
    {
     "name": "stdout",
     "output_type": "stream",
     "text": [
      "i is 31\n",
      "Out of loop with i 31\n"
     ]
    }
   ],
   "source": [
    "i = 31\n",
    "while True: # so you would think this is a forever loop\n",
    "    print(\"i is\",i)\n",
    "    if i > 28:\n",
    "        break # this exit the loop but not the program\n",
    "    i += 2\n",
    "print(\"Out of loop with i\", i) #what will i be?   "
   ]
  },
  {
   "cell_type": "code",
   "execution_count": 14,
   "metadata": {},
   "outputs": [
    {
     "name": "stdout",
     "output_type": "stream",
     "text": [
      "Enter a number or letter q to quit44\n",
      "Current is 44.0 and total so far is 44.0\n",
      "Enter a number or letter q to quit36.6\n",
      "Current is 36.6 and total so far is 80.6\n",
      "Enter a number or letter q to quit16\n",
      "Current is 16.0 and total so far is 96.6\n",
      "Enter a number or letter q to quitq\n",
      "q entered going to break out of loop!\n",
      "Whew we are done here our total is 96.6\n"
     ]
    }
   ],
   "source": [
    "# an example of truly indefinite loop depending on us to enter quit condition\n",
    "text =  \"\"\n",
    "total = 0\n",
    "while True:\n",
    "    text = input(\"Enter a number or letter q to quit\")\n",
    "    # the check for 0 will o nly happen after we perform the rest of cycle\n",
    "    if text == \"q\":\n",
    "        print(\"q entered going to break out of loop!\")\n",
    "        break # here we break out of the loop,early exit from loop\n",
    "    num = float(text) # still possible to get errors since we are not checking for all letters\n",
    "    total += num\n",
    "    print(f\"Current is {num} and total so far is {total}\")\n",
    "print(f\"Whew we are done here our total is {total}\")"
   ]
  },
  {
   "cell_type": "code",
   "execution_count": null,
   "metadata": {},
   "outputs": [],
   "source": [
    "# so if break is early exit from loop\n",
    "# continue continues loop without doing the rest of current cycle instructions\n",
    "# in practice continue is less often needed or used"
   ]
  },
  {
   "cell_type": "code",
   "execution_count": 16,
   "metadata": {},
   "outputs": [
    {
     "name": "stdout",
     "output_type": "stream",
     "text": [
      "Enter number or q to quit 3.1\n",
      "My calculator says cube of 3.1 is 29.79\n",
      "Enter number or q to quit 25\n",
      "My calculator says cube of 25.0 is 15625.0\n",
      "Enter number or q to quit a\n",
      "I can't cube a letter a\n",
      "Enter number or q to quit q\n",
      "No more calculations today\n",
      "All done whew!\n"
     ]
    }
   ],
   "source": [
    "# so knowing about break we can use it to improve our little text input program\n",
    "while True:\n",
    "    res = input(\"Enter number or q to quit \")\n",
    "    if res == \"q\":\n",
    "        print(\"No more calculations today\")\n",
    "        break\n",
    "    elif res == \"a\": # TODO check if if the input is text\n",
    "        print(\"I can't cube a letter a\")\n",
    "        continue # means we are not going to try to convert \"a\" to float\n",
    "        # we go immediately to start of while loop\n",
    "    num = float(res)\n",
    "    print(f\"My calculator says cube of {num} is {round(num**3, 2)}\")\n",
    "\n",
    "print(\"All done whew!\")"
   ]
  },
  {
   "cell_type": "code",
   "execution_count": 18,
   "metadata": {},
   "outputs": [
    {
     "name": "stdout",
     "output_type": "stream",
     "text": [
      "Total 0 and i 0\n",
      "Total 2 and i 1\n",
      "Total 6 and i 2\n",
      "Total 12 and i 3\n",
      "Total 20 and i 4\n",
      "Total 30 and i 5\n",
      "Total 42 and i 6\n",
      "Total 56 and i 7\n",
      "Total 72 and i 8\n",
      "Total 90 and i 9\n",
      "OUT OF LOOP Total 90 and i 10\n"
     ]
    }
   ],
   "source": [
    "total = 0\n",
    "i = 0\n",
    "while i < 10 and total < 100: # so you can have multiple exit conditions in while loop\n",
    "#     total += i*10 # same as total = total + i * 10\n",
    "    total += i*2\n",
    "    print(f\"Total {total} and i {i}\")\n",
    "    i += 1\n",
    "print(f\"OUT OF LOOP Total {total} and i {i}\")"
   ]
  },
  {
   "cell_type": "code",
   "execution_count": null,
   "metadata": {},
   "outputs": [],
   "source": [
    "# else as part of while loop ( not if else !)\n",
    "# not often but idea:\n",
    "# do something ONLY when loop ended normally (without break)"
   ]
  },
  {
   "cell_type": "code",
   "execution_count": 20,
   "metadata": {},
   "outputs": [
    {
     "name": "stdout",
     "output_type": "stream",
     "text": [
      "Total 0 and i 1\n",
      "Total 1 and i 2\n",
      "Total 3 and i 3\n",
      "Total 6 and i 4\n",
      "Breaking since > 5\n",
      "Always runs\n"
     ]
    }
   ],
   "source": [
    "i = 0\n",
    "total = 0\n",
    "while i < 5:\n",
    "    total += i\n",
    "    i += 1\n",
    "    print(f\"Total {total} and i {i}\")\n",
    "    if total > 5:\n",
    "        print(\"Breaking since > 5\")\n",
    "        break\n",
    "    else: # this is normal if else\n",
    "        print(\"total <= 5 still we good\", total)\n",
    "else: # this while else should have been something else (pun intended)\n",
    "    print(\"only runs when loop ends normally\")\n",
    "print(\"Always runs\")"
   ]
  },
  {
   "cell_type": "markdown",
   "metadata": {},
   "source": [
    "![DoWhile](https://upload.wikimedia.org/wikipedia/commons/thumb/9/92/Do-while-loop-diagram.svg/440px-Do-while-loop-diagram.svg.png)"
   ]
  },
  {
   "cell_type": "code",
   "execution_count": null,
   "metadata": {},
   "outputs": [],
   "source": [
    "# do while loops are like shooting first and asking questions later"
   ]
  },
  {
   "cell_type": "code",
   "execution_count": 24,
   "metadata": {},
   "outputs": [
    {
     "name": "stdout",
     "output_type": "stream",
     "text": [
      "Value of i 10\n",
      "Value of i 9\n",
      "Value of i 8\n",
      "Value of i 7\n",
      "Value of i 6\n",
      "Value of i 5\n",
      "breaking since i < 5 4\n",
      "This always runs after the loop is done i: 4\n"
     ]
    }
   ],
   "source": [
    "# emulating do while\n",
    "# do while loop property is that the loop runs at least once\n",
    "i = 10\n",
    "while True: # the only way to quit a True forever loop is to use break\n",
    "    print(\"Value of i\", i)\n",
    "    i -= 1 # remember we do need some change if we ever want to get out of this loop...\n",
    "    if i < 5:\n",
    "        print(\"breaking since i < 5\", i)\n",
    "        break\n",
    "print(\"This always runs after the loop is done i:\", i)"
   ]
  },
  {
   "cell_type": "code",
   "execution_count": null,
   "metadata": {},
   "outputs": [],
   "source": [
    "# so far we have been  using while loops for everything including definite looping\n",
    "# definite looping meaning we know how many loops we need to run\n",
    "\n",
    "# turns out in Python like most programming languages we have a for loop which lets us loop through definite times"
   ]
  },
  {
   "cell_type": "code",
   "execution_count": 25,
   "metadata": {},
   "outputs": [
    {
     "name": "stdout",
     "output_type": "stream",
     "text": [
      "Number is 0\n",
      "Number is 1\n",
      "Number is 2\n",
      "Number is 3\n",
      "Number is 4\n",
      "Number is 5\n",
      "Number is 6\n",
      "Number is 7\n",
      "Number is 8\n",
      "Number is 9\n"
     ]
    }
   ],
   "source": [
    "# for loops\n",
    "for n in range(10): #range object sort of like half read numbers on demand\n",
    "    print(\"Number is\", n)"
   ]
  },
  {
   "cell_type": "code",
   "execution_count": 26,
   "metadata": {},
   "outputs": [
    {
     "data": {
      "text/plain": [
       "9"
      ]
     },
     "execution_count": 26,
     "metadata": {},
     "output_type": "execute_result"
    }
   ],
   "source": [
    "n # so n is not incremented past the value"
   ]
  },
  {
   "cell_type": "code",
   "execution_count": 27,
   "metadata": {},
   "outputs": [
    {
     "name": "stdout",
     "output_type": "stream",
     "text": [
      "Number is 2\n",
      "Number is 3\n",
      "Number is 4\n",
      "Number is 5\n",
      "Number is 6\n"
     ]
    }
   ],
   "source": [
    "for n in range(2,7): #range object sort of like half read numbers on demand\n",
    "    print(\"Number is\", n)\n",
    "# so last number is not included!"
   ]
  },
  {
   "cell_type": "markdown",
   "metadata": {},
   "source": [
    "![For Loop](https://media.geeksforgeeks.org/wp-content/uploads/20191101172216/for-loop-python.jpg)\n",
    "From: https://www.geeksforgeeks.org/python-for-loops/"
   ]
  },
  {
   "cell_type": "code",
   "execution_count": 28,
   "metadata": {},
   "outputs": [
    {
     "name": "stdout",
     "output_type": "stream",
     "text": [
      "Letter  V <class 'str'>\n",
      "Letter  a <class 'str'>\n",
      "Letter  l <class 'str'>\n",
      "Letter  d <class 'str'>\n",
      "Letter  i <class 'str'>\n",
      "Letter  s <class 'str'>\n",
      "This happens after the loop is done\n"
     ]
    }
   ],
   "source": [
    "my_name = \"Valdis\"\n",
    "for c in my_name: # so my_name is a string which we can think of as sequence of tiny one character strings\n",
    "    #(PS Python only has strings not characters)\n",
    "    print(\"Letter \", c, type(c))    \n",
    "print(\"This happens after the loop is done\")"
   ]
  },
  {
   "cell_type": "code",
   "execution_count": 29,
   "metadata": {},
   "outputs": [
    {
     "name": "stdout",
     "output_type": "stream",
     "text": [
      "20\n",
      "21\n",
      "22\n",
      "23\n",
      "24\n"
     ]
    }
   ],
   "source": [
    "for n in range(20,25):\n",
    "    print(n)"
   ]
  },
  {
   "cell_type": "code",
   "execution_count": 30,
   "metadata": {},
   "outputs": [
    {
     "name": "stdout",
     "output_type": "stream",
     "text": [
      "100\n",
      "102\n",
      "104\n",
      "106\n",
      "108\n"
     ]
    }
   ],
   "source": [
    "for my_num in range(100,110,2): # i can add step to range \n",
    "    print(my_num)\n",
    "    "
   ]
  },
  {
   "cell_type": "code",
   "execution_count": 32,
   "metadata": {},
   "outputs": [
    {
     "name": "stdout",
     "output_type": "stream",
     "text": [
      "20\n",
      "16\n",
      "12\n",
      "Out of loop 12\n"
     ]
    }
   ],
   "source": [
    "for my_num in range(20,10, -4):\n",
    "    print(my_num)\n",
    "print(\"Out of loop\", my_num)"
   ]
  },
  {
   "cell_type": "code",
   "execution_count": 33,
   "metadata": {},
   "outputs": [
    {
     "name": "stdout",
     "output_type": "stream",
     "text": [
      "Working with item:  1\n",
      "Working with item:  2\n",
      "Working with item:  100\n",
      "Working with item:  105\n",
      "Working with item:  Valdis\n",
      "Working with item:  potatoes\n",
      "Working with item:  9000\n",
      "Working with item:  107.35\n",
      "total 9315.35\n",
      "We had big ticket items: 3\n"
     ]
    }
   ],
   "source": [
    "# could iterate over any sequence\n",
    "my_list = [1,2,100,105,\"Valdis\",\"potatoes\", 9000, 107.35] # this is list type, a collection of different data types in one sequence\n",
    "total = 0\n",
    "big_items = 0\n",
    "for item in my_list:\n",
    "    print(\"Working with item: \", item)\n",
    "    if type(item) == int or type(item) == float:\n",
    "        total += item\n",
    "        if item > 100:\n",
    "            big_items += 1\n",
    "print(\"total\", total)\n",
    "print(\"We had big ticket items:\", big_items)"
   ]
  },
  {
   "cell_type": "code",
   "execution_count": 34,
   "metadata": {},
   "outputs": [
    {
     "name": "stdout",
     "output_type": "stream",
     "text": [
      "New high! 1\n",
      "New high! 6\n",
      "New high! 17\n",
      "New high! 49\n",
      "My max is  642\n"
     ]
    }
   ],
   "source": [
    "# Find maximum value in a list             \n",
    "my_num_list = [1,6,17,7,-6,49,642,6,2,-5555]\n",
    "\n",
    "my_max = None\n",
    "for num in my_num_list:\n",
    "    if my_max == None: # this will happen with first item\n",
    "        my_max = num\n",
    "    if num > my_max:\n",
    "        print('New high!', my_max)\n",
    "        my_max = num\n",
    "print(\"My max is \", my_max)\n",
    "\n",
    "# Intermediate skill       \n",
    "# Python has a built in max method so you could unroll your list\n",
    "# print(max(*my_num_list))\n",
    "    "
   ]
  },
  {
   "cell_type": "code",
   "execution_count": null,
   "metadata": {},
   "outputs": [],
   "source": [
    "# FizzBuzz test is a common test to see if you know the basics of programming"
   ]
  },
  {
   "cell_type": "markdown",
   "metadata": {},
   "source": [
    "## Practice \n",
    "### Write a program that goes over(iterates) numbers from 1 to 100(included)\n",
    "* For each number it prints Fizz if number divides by 5 even\n",
    "* For each number it prints Buzz if number divides by 7 evenly\n",
    "* If number divides by 5 AND 7 print FizzBuzz\n",
    "* print number if it does not divide by 5 nor 7\n",
    "* 1,2,3,4,Fizz,6,Buzz,8,9,Fizz,11,.......34,FizzBuzz,36"
   ]
  },
  {
   "cell_type": "code",
   "execution_count": 36,
   "metadata": {},
   "outputs": [
    {
     "data": {
      "text/plain": [
       "True"
      ]
     },
     "execution_count": 36,
     "metadata": {},
     "output_type": "execute_result"
    }
   ],
   "source": [
    "10 % 5 == 0 "
   ]
  },
  {
   "cell_type": "code",
   "execution_count": 35,
   "metadata": {},
   "outputs": [
    {
     "data": {
      "text/plain": [
       "(1, 2, 3, 4, 'Fizz', 6, 'Buzz', 8, 9, 'Fizz', 11, 34, 'FizzBuzz', 36)"
      ]
     },
     "execution_count": 35,
     "metadata": {},
     "output_type": "execute_result"
    }
   ],
   "source": [
    "1,2,3,4,\"Fizz\",6, \"Buzz\", 8, 9, \"Fizz\", 11,34, \"FizzBuzz\", 36"
   ]
  },
  {
   "cell_type": "code",
   "execution_count": null,
   "metadata": {},
   "outputs": [],
   "source": [
    "# could use a while loop but for loops are better here since we have an definite number of loops\n",
    "for x in range(1,101):\n",
    "    print(x)"
   ]
  }
 ],
 "metadata": {
  "kernelspec": {
   "display_name": "Python 3",
   "language": "python",
   "name": "python3"
  },
  "language_info": {
   "codemirror_mode": {
    "name": "ipython",
    "version": 3
   },
   "file_extension": ".py",
   "mimetype": "text/x-python",
   "name": "python",
   "nbconvert_exporter": "python",
   "pygments_lexer": "ipython3",
   "version": "3.8.3"
  }
 },
 "nbformat": 4,
 "nbformat_minor": 2
}
