{
 "cells": [
  {
   "cell_type": "code",
   "execution_count": null,
   "metadata": {},
   "outputs": [],
   "source": [
    "# print(\"Hello\")\n",
    "# print(\"Hello\")"
   ]
  },
  {
   "cell_type": "markdown",
   "metadata": {},
   "source": [
    "![While](https://upload.wikimedia.org/wikipedia/commons/thumb/4/43/While-loop-diagram.svg/440px-While-loop-diagram.svg.png)"
   ]
  },
  {
   "cell_type": "code",
   "execution_count": null,
   "metadata": {},
   "outputs": [],
   "source": [
    "i = 0\n",
    "while i < 5:\n",
    "    print(\"Hello No.\", i)\n",
    "    i += 1\n",
    "print(\"Always happens once loop is finished\")\n",
    "print(\"i is now\", i)"
   ]
  },
  {
   "cell_type": "code",
   "execution_count": null,
   "metadata": {},
   "outputs": [],
   "source": [
    "i = 10\n",
    "while i > 0:\n",
    "    print(\"Going down the floor:\", i)\n",
    "    # i could do more stuff\n",
    "    i -= 2\n",
    "print(\"Whew we are done with this i:\", i)\n"
   ]
  },
  {
   "cell_type": "code",
   "execution_count": null,
   "metadata": {},
   "outputs": [],
   "source": [
    "i = 20\n",
    "while True:\n",
    "    print(\"i is\",i)\n",
    "    if i > 28:\n",
    "        break\n",
    "    i += 2\n",
    "    "
   ]
  },
  {
   "cell_type": "code",
   "execution_count": 8,
   "metadata": {},
   "outputs": [
    {
     "name": "stdout",
     "output_type": "stream",
     "text": [
      "Enter number or q to quit 3432\n",
      "My calculator says cube of 3432.0 is 40424237568.0\n",
      "Enter number or q to quit 3.6\n",
      "My calculator says cube of 3.6 is 46.656000000000006\n",
      "Enter number or q to quit a\n",
      "I can't cube a letter a\n",
      "Enter number or q to quit q\n",
      "No more calculations today\n",
      "All done whew!\n"
     ]
    }
   ],
   "source": [
    "while True:\n",
    "    res = input(\"Enter number or q to quit \")\n",
    "    if res == \"q\":\n",
    "        print(\"No more calculations today\")\n",
    "        break\n",
    "    elif res == \"a\": # TODO check if if the input is text\n",
    "        print(\"I can't cube a letter a\")\n",
    "        continue # means we are not going to try to convert \"a\" to float\n",
    "    num = float(res)\n",
    "    print(f\"My calculator says cube of {num} is {num**3}\")\n",
    "\n",
    "print(\"All done whew!\")"
   ]
  },
  {
   "cell_type": "markdown",
   "metadata": {},
   "source": [
    "![DoWhile](https://upload.wikimedia.org/wikipedia/commons/thumb/9/92/Do-while-loop-diagram.svg/440px-Do-while-loop-diagram.svg.png)"
   ]
  },
  {
   "cell_type": "code",
   "execution_count": null,
   "metadata": {},
   "outputs": [],
   "source": [
    "# emulating do while\n",
    "# do while loop property is that the loop runs at least once\n",
    "i = -50\n",
    "while True:\n",
    "    print(\"Value of i\", i)\n",
    "    i -= 1\n",
    "    if i < 5:\n",
    "        break\n",
    "print(\"This always runs after the loop is done\")"
   ]
  },
  {
   "cell_type": "markdown",
   "metadata": {},
   "source": [
    "![For Loop](https://media.geeksforgeeks.org/wp-content/uploads/20191101172216/for-loop-python.jpg)\n",
    "From: https://www.geeksforgeeks.org/python-for-loops/"
   ]
  },
  {
   "cell_type": "code",
   "execution_count": null,
   "metadata": {},
   "outputs": [],
   "source": [
    "# for loops\n",
    "for n in range(10):\n",
    "    print(\"Number is\", n)"
   ]
  },
  {
   "cell_type": "code",
   "execution_count": null,
   "metadata": {},
   "outputs": [],
   "source": [
    "my_name = \"Valdis\"\n",
    "for c in my_name:\n",
    "    print(\"Letter \", c)    \n",
    "print(\"This happens after the loop is done\")"
   ]
  },
  {
   "cell_type": "code",
   "execution_count": null,
   "metadata": {},
   "outputs": [],
   "source": [
    "for n in range(20,25):\n",
    "    print(n)"
   ]
  },
  {
   "cell_type": "code",
   "execution_count": null,
   "metadata": {},
   "outputs": [],
   "source": [
    "for my_num in range(100,110,2): # i can add step to range\n",
    "    print(my_num)\n",
    "    "
   ]
  },
  {
   "cell_type": "code",
   "execution_count": null,
   "metadata": {},
   "outputs": [],
   "source": [
    "# could iterate over any sequence\n",
    "my_list = [1,2,100,105,\"Valdis\",\"potatoes\", 9000, 107.35]\n",
    "total = 0\n",
    "big_items = 0\n",
    "for item in my_list:\n",
    "    print(\"Working with item: \", item)\n",
    "    if type(item) == int or type(item) == float:\n",
    "        total += item\n",
    "        if item > 100:\n",
    "            big_items += 1"
   ]
  },
  {
   "cell_type": "code",
   "execution_count": 12,
   "metadata": {},
   "outputs": [
    {
     "name": "stdout",
     "output_type": "stream",
     "text": [
      "642\n"
     ]
    }
   ],
   "source": [
    "# Find maximum value in a list             \n",
    "my_num_list = [1,6,17,7,-6,49,642,6,2,-5555]\n",
    "\n",
    "my_max = None\n",
    "for num in my_num_list:\n",
    "    if my_max == None: # this will happen with first item\n",
    "        my_max = num\n",
    "    if num > my_max:\n",
    "        my_max = num\n",
    "\n",
    "# Intermediate skill       \n",
    "# Python has a built in max method so you could unroll your list\n",
    "# print(max(*my_num_list))\n",
    "    "
   ]
  },
  {
   "cell_type": "markdown",
   "metadata": {},
   "source": [
    "## Practice \n",
    "### Write a program that goes over(iterates) numbers from 1 to 100(included)\n",
    "* For each number it prints Fizz if number divides by 5 even\n",
    "* For each number it prints Buzz if number divides by 7 evenly\n",
    "* If number divides by 5 AND 7 print FizzBuzz\n",
    "* print number if it does not divide by 5 nor 7\n",
    "* 1,2,3,4,Fizz,6,Buzz,8,9,Fizz,11,.......34,FizzBuzz,36"
   ]
  },
  {
   "cell_type": "code",
   "execution_count": null,
   "metadata": {},
   "outputs": [],
   "source": [
    "1,2,3,4,\"Fizz\""
   ]
  },
  {
   "cell_type": "code",
   "execution_count": null,
   "metadata": {},
   "outputs": [],
   "source": [
    "for x in range(1,101):\n",
    "    print(x)"
   ]
  }
 ],
 "metadata": {
  "kernelspec": {
   "display_name": "Python 3",
   "language": "python",
   "name": "python3"
  },
  "language_info": {
   "codemirror_mode": {
    "name": "ipython",
    "version": 3
   },
   "file_extension": ".py",
   "mimetype": "text/x-python",
   "name": "python",
   "nbconvert_exporter": "python",
   "pygments_lexer": "ipython3",
   "version": "3.8.3"
  }
 },
 "nbformat": 4,
 "nbformat_minor": 2
}
