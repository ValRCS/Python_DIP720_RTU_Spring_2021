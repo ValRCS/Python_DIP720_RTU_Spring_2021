{
 "cells": [
  {
   "cell_type": "code",
   "execution_count": 1,
   "metadata": {},
   "outputs": [],
   "source": [
    "import pandas as pd"
   ]
  },
  {
   "cell_type": "code",
   "execution_count": 3,
   "metadata": {},
   "outputs": [],
   "source": [
    "url = \"https://www.ss.com/lv/real-estate/flats/riga/centre/sell/\" \n",
    "# notice how we can specify some parameters in the url - so called pretty URLs\n"
   ]
  },
  {
   "cell_type": "code",
   "execution_count": 4,
   "metadata": {},
   "outputs": [
    {
     "data": {
      "text/plain": [
       "list"
      ]
     },
     "execution_count": 4,
     "metadata": {},
     "output_type": "execute_result"
    }
   ],
   "source": [
    "# pandas can do some web scraping as long as there are tables\n",
    "dfs = pd.read_html(url, header=0) # i know that i want the first row to server for column names\n",
    "type(dfs)"
   ]
  },
  {
   "cell_type": "code",
   "execution_count": 5,
   "metadata": {},
   "outputs": [
    {
     "data": {
      "text/plain": [
       "7"
      ]
     },
     "execution_count": 5,
     "metadata": {},
     "output_type": "execute_result"
    }
   ],
   "source": [
    "len(dfs) # why list and why such length ?\n",
    "# well ss.com was made in early 2000s when tables were used for everything"
   ]
  },
  {
   "cell_type": "code",
   "execution_count": null,
   "metadata": {},
   "outputs": [],
   "source": [
    "# https://pandas.pydata.org/pandas-docs/stable/reference/api/pandas.read_html.html\n",
    "# pandas reads tables by default ALL tables on the page\n"
   ]
  },
  {
   "cell_type": "code",
   "execution_count": 6,
   "metadata": {},
   "outputs": [
    {
     "data": {
      "text/html": [
       "<div>\n",
       "<style scoped>\n",
       "    .dataframe tbody tr th:only-of-type {\n",
       "        vertical-align: middle;\n",
       "    }\n",
       "\n",
       "    .dataframe tbody tr th {\n",
       "        vertical-align: top;\n",
       "    }\n",
       "\n",
       "    .dataframe thead th {\n",
       "        text-align: right;\n",
       "    }\n",
       "</style>\n",
       "<table border=\"1\" class=\"dataframe\">\n",
       "  <thead>\n",
       "    <tr style=\"text-align: right;\">\n",
       "      <th></th>\n",
       "      <th>Sludinājumi \\tdatums</th>\n",
       "      <th>Sludinājumi \\tdatums.1</th>\n",
       "      <th>Sludinājumi \\tdatums.2</th>\n",
       "      <th>Iela</th>\n",
       "      <th>Ist.</th>\n",
       "      <th>m2</th>\n",
       "      <th>Stāvs</th>\n",
       "      <th>Sērija</th>\n",
       "      <th>Cena, m2</th>\n",
       "      <th>Cena</th>\n",
       "    </tr>\n",
       "  </thead>\n",
       "  <tbody>\n",
       "    <tr>\n",
       "      <th>0</th>\n",
       "      <td>NaN</td>\n",
       "      <td>NaN</td>\n",
       "      <td>Фасадный вход с ул. Гертрудес, окна выходят на...</td>\n",
       "      <td>Ģertrūdes 26</td>\n",
       "      <td>2</td>\n",
       "      <td>49</td>\n",
       "      <td>2/6</td>\n",
       "      <td>P. kara</td>\n",
       "      <td>2,245 €</td>\n",
       "      <td>110,000 €</td>\n",
       "    </tr>\n",
       "    <tr>\n",
       "      <th>1</th>\n",
       "      <td>NaN</td>\n",
       "      <td>NaN</td>\n",
       "      <td>Tiek pārdots brīnišķīgs, moderns 3-istabu dzīv...</td>\n",
       "      <td>Grostonas 21</td>\n",
       "      <td>3</td>\n",
       "      <td>98</td>\n",
       "      <td>4/8</td>\n",
       "      <td>Jaun.</td>\n",
       "      <td>2,347 €</td>\n",
       "      <td>230,000 €</td>\n",
       "    </tr>\n",
       "    <tr>\n",
       "      <th>2</th>\n",
       "      <td>NaN</td>\n",
       "      <td>NaN</td>\n",
       "      <td>Pērkot dzīvokli - virtuves iekārta dāvanā. Ēka...</td>\n",
       "      <td>Stabu 100</td>\n",
       "      <td>4</td>\n",
       "      <td>103</td>\n",
       "      <td>4/7</td>\n",
       "      <td>Jaun.</td>\n",
       "      <td>2,059 €</td>\n",
       "      <td>212,100 €</td>\n",
       "    </tr>\n",
       "    <tr>\n",
       "      <th>3</th>\n",
       "      <td>NaN</td>\n",
       "      <td>NaN</td>\n",
       "      <td>Pērkot dzīvokli - virtuves iekārta dāvanā. Ēka...</td>\n",
       "      <td>Stabu 100</td>\n",
       "      <td>4</td>\n",
       "      <td>82</td>\n",
       "      <td>3/7</td>\n",
       "      <td>Jaun.</td>\n",
       "      <td>2,098 €</td>\n",
       "      <td>172,000 €</td>\n",
       "    </tr>\n",
       "    <tr>\n",
       "      <th>4</th>\n",
       "      <td>NaN</td>\n",
       "      <td>NaN</td>\n",
       "      <td>Pārdodam skaistu trīsistabu dzīvokli centrā. I...</td>\n",
       "      <td>Dzirnavu 115</td>\n",
       "      <td>3</td>\n",
       "      <td>71</td>\n",
       "      <td>4/4</td>\n",
       "      <td>P. kara</td>\n",
       "      <td>1,620 €</td>\n",
       "      <td>115,000 €</td>\n",
       "    </tr>\n",
       "  </tbody>\n",
       "</table>\n",
       "</div>"
      ],
      "text/plain": [
       "   Sludinājumi \\tdatums  Sludinājumi \\tdatums.1  \\\n",
       "0                   NaN                     NaN   \n",
       "1                   NaN                     NaN   \n",
       "2                   NaN                     NaN   \n",
       "3                   NaN                     NaN   \n",
       "4                   NaN                     NaN   \n",
       "\n",
       "                              Sludinājumi \\tdatums.2          Iela  Ist.   m2  \\\n",
       "0  Фасадный вход с ул. Гертрудес, окна выходят на...  Ģertrūdes 26     2   49   \n",
       "1  Tiek pārdots brīnišķīgs, moderns 3-istabu dzīv...  Grostonas 21     3   98   \n",
       "2  Pērkot dzīvokli - virtuves iekārta dāvanā. Ēka...     Stabu 100     4  103   \n",
       "3  Pērkot dzīvokli - virtuves iekārta dāvanā. Ēka...     Stabu 100     4   82   \n",
       "4  Pārdodam skaistu trīsistabu dzīvokli centrā. I...  Dzirnavu 115     3   71   \n",
       "\n",
       "  Stāvs   Sērija Cena, m2       Cena  \n",
       "0   2/6  P. kara  2,245 €  110,000 €  \n",
       "1   4/8    Jaun.  2,347 €  230,000 €  \n",
       "2   4/7    Jaun.  2,059 €  212,100 €  \n",
       "3   3/7    Jaun.  2,098 €  172,000 €  \n",
       "4   4/4  P. kara  1,620 €  115,000 €  "
      ]
     },
     "execution_count": 6,
     "metadata": {},
     "output_type": "execute_result"
    }
   ],
   "source": [
    "df = dfs[4] # the 5th table on our page has our info, remember we have Python with 0 based indexing\n",
    "df.head()"
   ]
  },
  {
   "cell_type": "code",
   "execution_count": 7,
   "metadata": {},
   "outputs": [
    {
     "data": {
      "text/plain": [
       "(30, 10)"
      ]
     },
     "execution_count": 7,
     "metadata": {},
     "output_type": "execute_result"
    }
   ],
   "source": [
    "df.shape"
   ]
  },
  {
   "cell_type": "code",
   "execution_count": 8,
   "metadata": {},
   "outputs": [],
   "source": [
    "df.to_json(\"center.json\")"
   ]
  },
  {
   "cell_type": "code",
   "execution_count": 9,
   "metadata": {},
   "outputs": [],
   "source": [
    "df.to_excel(\"center.xlsx\")"
   ]
  },
  {
   "cell_type": "code",
   "execution_count": 10,
   "metadata": {},
   "outputs": [],
   "source": [
    "url2 = \"https://www.ss.com/lv/real-estate/flats/riga/centre/sell/page2.html\""
   ]
  },
  {
   "cell_type": "code",
   "execution_count": 11,
   "metadata": {},
   "outputs": [
    {
     "data": {
      "text/plain": [
       "7"
      ]
     },
     "execution_count": 11,
     "metadata": {},
     "output_type": "execute_result"
    }
   ],
   "source": [
    "dflist = pd.read_html(url2, header=0) # web scraping happens here\n",
    "len(dflist)"
   ]
  },
  {
   "cell_type": "code",
   "execution_count": 12,
   "metadata": {},
   "outputs": [
    {
     "data": {
      "text/html": [
       "<div>\n",
       "<style scoped>\n",
       "    .dataframe tbody tr th:only-of-type {\n",
       "        vertical-align: middle;\n",
       "    }\n",
       "\n",
       "    .dataframe tbody tr th {\n",
       "        vertical-align: top;\n",
       "    }\n",
       "\n",
       "    .dataframe thead th {\n",
       "        text-align: right;\n",
       "    }\n",
       "</style>\n",
       "<table border=\"1\" class=\"dataframe\">\n",
       "  <thead>\n",
       "    <tr style=\"text-align: right;\">\n",
       "      <th></th>\n",
       "      <th>Sludinājumi \\tdatums</th>\n",
       "      <th>Sludinājumi \\tdatums.1</th>\n",
       "      <th>Sludinājumi \\tdatums.2</th>\n",
       "      <th>Iela</th>\n",
       "      <th>Ist.</th>\n",
       "      <th>m2</th>\n",
       "      <th>Stāvs</th>\n",
       "      <th>Sērija</th>\n",
       "      <th>Cena, m2</th>\n",
       "      <th>Cena</th>\n",
       "    </tr>\n",
       "  </thead>\n",
       "  <tbody>\n",
       "    <tr>\n",
       "      <th>0</th>\n",
       "      <td>NaN</td>\n",
       "      <td>NaN</td>\n",
       "      <td>Pārdodas telpas ar remontu Rīgas darījumu cent...</td>\n",
       "      <td>Valdemāra 39</td>\n",
       "      <td>3</td>\n",
       "      <td>82</td>\n",
       "      <td>1/5</td>\n",
       "      <td>P. kara</td>\n",
       "      <td>973 €</td>\n",
       "      <td>79,800 €</td>\n",
       "    </tr>\n",
       "    <tr>\n",
       "      <th>1</th>\n",
       "      <td>NaN</td>\n",
       "      <td>NaN</td>\n",
       "      <td>Dizainera veidota apdare, pilnībā mēbelēts, st...</td>\n",
       "      <td>Sadovņikova 23</td>\n",
       "      <td>3</td>\n",
       "      <td>77</td>\n",
       "      <td>5/6</td>\n",
       "      <td>P. kara</td>\n",
       "      <td>2,273 €</td>\n",
       "      <td>175,000 €</td>\n",
       "    </tr>\n",
       "    <tr>\n",
       "      <th>2</th>\n",
       "      <td>NaN</td>\n",
       "      <td>NaN</td>\n",
       "      <td>Izremontēts dzīvoklis Klusajā centrā, skaistāk...</td>\n",
       "      <td>Alberta 7</td>\n",
       "      <td>6</td>\n",
       "      <td>173</td>\n",
       "      <td>4/6</td>\n",
       "      <td>P. kara</td>\n",
       "      <td>2,630 €</td>\n",
       "      <td>455,000 €</td>\n",
       "    </tr>\n",
       "    <tr>\n",
       "      <th>3</th>\n",
       "      <td>NaN</td>\n",
       "      <td>NaN</td>\n",
       "      <td>Tiek pārdots vienistabas dzīvoklis renovētā na...</td>\n",
       "      <td>Blaumaņa 9A</td>\n",
       "      <td>1</td>\n",
       "      <td>33</td>\n",
       "      <td>1/6</td>\n",
       "      <td>Renov.</td>\n",
       "      <td>1,545 €</td>\n",
       "      <td>51,000 €</td>\n",
       "    </tr>\n",
       "    <tr>\n",
       "      <th>4</th>\n",
       "      <td>NaN</td>\n",
       "      <td>NaN</td>\n",
       "      <td>Nepalaid garām iespēju iegādāties dzīvokli ren...</td>\n",
       "      <td>Avotu 4</td>\n",
       "      <td>1</td>\n",
       "      <td>18</td>\n",
       "      <td>1/5</td>\n",
       "      <td>Renov.</td>\n",
       "      <td>1,874 €</td>\n",
       "      <td>33,730 €</td>\n",
       "    </tr>\n",
       "  </tbody>\n",
       "</table>\n",
       "</div>"
      ],
      "text/plain": [
       "   Sludinājumi \\tdatums  Sludinājumi \\tdatums.1  \\\n",
       "0                   NaN                     NaN   \n",
       "1                   NaN                     NaN   \n",
       "2                   NaN                     NaN   \n",
       "3                   NaN                     NaN   \n",
       "4                   NaN                     NaN   \n",
       "\n",
       "                              Sludinājumi \\tdatums.2            Iela  Ist.  \\\n",
       "0  Pārdodas telpas ar remontu Rīgas darījumu cent...    Valdemāra 39     3   \n",
       "1  Dizainera veidota apdare, pilnībā mēbelēts, st...  Sadovņikova 23     3   \n",
       "2  Izremontēts dzīvoklis Klusajā centrā, skaistāk...       Alberta 7     6   \n",
       "3  Tiek pārdots vienistabas dzīvoklis renovētā na...     Blaumaņa 9A     1   \n",
       "4  Nepalaid garām iespēju iegādāties dzīvokli ren...         Avotu 4     1   \n",
       "\n",
       "    m2 Stāvs   Sērija Cena, m2       Cena  \n",
       "0   82   1/5  P. kara    973 €   79,800 €  \n",
       "1   77   5/6  P. kara  2,273 €  175,000 €  \n",
       "2  173   4/6  P. kara  2,630 €  455,000 €  \n",
       "3   33   1/6   Renov.  1,545 €   51,000 €  \n",
       "4   18   1/5   Renov.  1,874 €   33,730 €  "
      ]
     },
     "execution_count": 12,
     "metadata": {},
     "output_type": "execute_result"
    }
   ],
   "source": [
    "dflist[4].head() # getting start of 5th table from our 2nd html page"
   ]
  },
  {
   "cell_type": "code",
   "execution_count": 12,
   "metadata": {},
   "outputs": [
    {
     "data": {
      "text/html": [
       "<div>\n",
       "<style scoped>\n",
       "    .dataframe tbody tr th:only-of-type {\n",
       "        vertical-align: middle;\n",
       "    }\n",
       "\n",
       "    .dataframe tbody tr th {\n",
       "        vertical-align: top;\n",
       "    }\n",
       "\n",
       "    .dataframe thead th {\n",
       "        text-align: right;\n",
       "    }\n",
       "</style>\n",
       "<table border=\"1\" class=\"dataframe\">\n",
       "  <thead>\n",
       "    <tr style=\"text-align: right;\">\n",
       "      <th></th>\n",
       "      <th>Sludinājumi \\tdatums</th>\n",
       "      <th>Sludinājumi \\tdatums.1</th>\n",
       "      <th>Sludinājumi \\tdatums.2</th>\n",
       "      <th>Iela</th>\n",
       "      <th>Ist.</th>\n",
       "      <th>m2</th>\n",
       "      <th>Stāvs</th>\n",
       "      <th>Sērija</th>\n",
       "      <th>Cena, m2</th>\n",
       "      <th>Cena</th>\n",
       "    </tr>\n",
       "  </thead>\n",
       "  <tbody>\n",
       "    <tr>\n",
       "      <th>0</th>\n",
       "      <td>NaN</td>\n",
       "      <td>NaN</td>\n",
       "      <td>3 istabu dzīvoklis Viktora Štama projektētā jū...</td>\n",
       "      <td>Gogoļa 10</td>\n",
       "      <td>3</td>\n",
       "      <td>70</td>\n",
       "      <td>2/5</td>\n",
       "      <td>P. kara</td>\n",
       "      <td>1,257 €</td>\n",
       "      <td>88,000 €</td>\n",
       "    </tr>\n",
       "    <tr>\n",
       "      <th>1</th>\n",
       "      <td>NaN</td>\n",
       "      <td>NaN</td>\n",
       "      <td>Laba cena par dzīvokli izcilā vietā. Panorāmas...</td>\n",
       "      <td>Teātra 12</td>\n",
       "      <td>5</td>\n",
       "      <td>136</td>\n",
       "      <td>6/7</td>\n",
       "      <td>P. kara</td>\n",
       "      <td>2,022 €</td>\n",
       "      <td>275,000 €</td>\n",
       "    </tr>\n",
       "    <tr>\n",
       "      <th>2</th>\n",
       "      <td>NaN</td>\n",
       "      <td>NaN</td>\n",
       "      <td>Izbaudiet Rīgas pilsētas dzīvi, atrodoties tās...</td>\n",
       "      <td>Dzirnavu 83</td>\n",
       "      <td>2</td>\n",
       "      <td>68</td>\n",
       "      <td>6/7</td>\n",
       "      <td>Jaun.</td>\n",
       "      <td>3,750 €</td>\n",
       "      <td>255,000 €</td>\n",
       "    </tr>\n",
       "    <tr>\n",
       "      <th>3</th>\n",
       "      <td>NaN</td>\n",
       "      <td>NaN</td>\n",
       "      <td>Наслаждайся прелестями городской жизни, находя...</td>\n",
       "      <td>Dzirnavu 81</td>\n",
       "      <td>3</td>\n",
       "      <td>90</td>\n",
       "      <td>4/7</td>\n",
       "      <td>Jaun.</td>\n",
       "      <td>3,167 €</td>\n",
       "      <td>285,000 €</td>\n",
       "    </tr>\n",
       "    <tr>\n",
       "      <th>4</th>\n",
       "      <td>NaN</td>\n",
       "      <td>NaN</td>\n",
       "      <td>Продается просторная, солнечная с изолированны...</td>\n",
       "      <td>Zaļā 4</td>\n",
       "      <td>3</td>\n",
       "      <td>94</td>\n",
       "      <td>7/7</td>\n",
       "      <td>Specpr.</td>\n",
       "      <td>1,649 €</td>\n",
       "      <td>155,000 €</td>\n",
       "    </tr>\n",
       "  </tbody>\n",
       "</table>\n",
       "</div>"
      ],
      "text/plain": [
       "   Sludinājumi \\tdatums  Sludinājumi \\tdatums.1  \\\n",
       "0                   NaN                     NaN   \n",
       "1                   NaN                     NaN   \n",
       "2                   NaN                     NaN   \n",
       "3                   NaN                     NaN   \n",
       "4                   NaN                     NaN   \n",
       "\n",
       "                              Sludinājumi \\tdatums.2         Iela  Ist.   m2  \\\n",
       "0  3 istabu dzīvoklis Viktora Štama projektētā jū...    Gogoļa 10     3   70   \n",
       "1  Laba cena par dzīvokli izcilā vietā. Panorāmas...    Teātra 12     5  136   \n",
       "2  Izbaudiet Rīgas pilsētas dzīvi, atrodoties tās...  Dzirnavu 83     2   68   \n",
       "3  Наслаждайся прелестями городской жизни, находя...  Dzirnavu 81     3   90   \n",
       "4  Продается просторная, солнечная с изолированны...       Zaļā 4     3   94   \n",
       "\n",
       "  Stāvs   Sērija Cena, m2       Cena  \n",
       "0   2/5  P. kara  1,257 €   88,000 €  \n",
       "1   6/7  P. kara  2,022 €  275,000 €  \n",
       "2   6/7    Jaun.  3,750 €  255,000 €  \n",
       "3   4/7    Jaun.  3,167 €  285,000 €  \n",
       "4   7/7  Specpr.  1,649 €  155,000 €  "
      ]
     },
     "execution_count": 12,
     "metadata": {},
     "output_type": "execute_result"
    }
   ],
   "source": [
    "bigdf = pd.concat([df, dflist[4]]) # concat creates a new dataframe from an iterable! of dataframes\n",
    "# https://pandas.pydata.org/pandas-docs/stable/reference/api/pandas.concat.html\n",
    "bigdf.head()"
   ]
  },
  {
   "cell_type": "code",
   "execution_count": 13,
   "metadata": {},
   "outputs": [
    {
     "data": {
      "text/plain": [
       "((30, 10), (30, 10), (60, 10))"
      ]
     },
     "execution_count": 13,
     "metadata": {},
     "output_type": "execute_result"
    }
   ],
   "source": [
    "df.shape, dflist[4].shape, bigdf.shape"
   ]
  },
  {
   "cell_type": "code",
   "execution_count": 14,
   "metadata": {},
   "outputs": [],
   "source": [
    "bigdf.to_excel(\"riga_center_60.xlsx\")"
   ]
  },
  {
   "cell_type": "code",
   "execution_count": null,
   "metadata": {},
   "outputs": [],
   "source": [
    "# so if we know the last page of\n"
   ]
  },
  {
   "cell_type": "code",
   "execution_count": null,
   "metadata": {},
   "outputs": [],
   "source": [
    "# Challenge how to automatically get all pages no matter how many ads?\n",
    "# how to scrape web address for each ad (in case we want to look in to the ad more in depth)"
   ]
  },
  {
   "cell_type": "code",
   "execution_count": 15,
   "metadata": {},
   "outputs": [],
   "source": [
    "last_page = 25\n",
    "def get_url_list(prefix=\"https://www.ss.com/lv/real-estate/flats/riga/centre/sell/\", last_page = last_page):\n",
    "    url_list = [prefix] # we always start with the prefix page\n",
    "    for n in range(2,last_page+1):\n",
    "        url_list.append(f\"{prefix}page{n}.html\")\n",
    "    return url_list"
   ]
  },
  {
   "cell_type": "code",
   "execution_count": 16,
   "metadata": {},
   "outputs": [
    {
     "data": {
      "text/plain": [
       "['https://www.ss.com/lv/real-estate/flats/riga/centre/sell/',\n",
       " 'https://www.ss.com/lv/real-estate/flats/riga/centre/sell/page2.html',\n",
       " 'https://www.ss.com/lv/real-estate/flats/riga/centre/sell/page3.html',\n",
       " 'https://www.ss.com/lv/real-estate/flats/riga/centre/sell/page4.html',\n",
       " 'https://www.ss.com/lv/real-estate/flats/riga/centre/sell/page5.html']"
      ]
     },
     "execution_count": 16,
     "metadata": {},
     "output_type": "execute_result"
    }
   ],
   "source": [
    "my_urls = get_url_list()\n",
    "my_urls[:5]"
   ]
  },
  {
   "cell_type": "code",
   "execution_count": 17,
   "metadata": {},
   "outputs": [
    {
     "data": {
      "text/plain": [
       "['https://www.ss.com/lv/real-estate/flats/riga/centre/sell/page21.html',\n",
       " 'https://www.ss.com/lv/real-estate/flats/riga/centre/sell/page22.html',\n",
       " 'https://www.ss.com/lv/real-estate/flats/riga/centre/sell/page23.html',\n",
       " 'https://www.ss.com/lv/real-estate/flats/riga/centre/sell/page24.html',\n",
       " 'https://www.ss.com/lv/real-estate/flats/riga/centre/sell/page25.html']"
      ]
     },
     "execution_count": 17,
     "metadata": {},
     "output_type": "execute_result"
    }
   ],
   "source": [
    "my_urls[-5:]"
   ]
  },
  {
   "cell_type": "code",
   "execution_count": 18,
   "metadata": {},
   "outputs": [],
   "source": [
    "import time # we need a slight delay otherwise page owner might get annoyed"
   ]
  },
  {
   "cell_type": "code",
   "execution_count": 19,
   "metadata": {},
   "outputs": [
    {
     "name": "stdout",
     "output_type": "stream",
     "text": [
      "Scraping https://www.ss.com/lv/real-estate/flats/riga/centre/sell/\n",
      "Scraping https://www.ss.com/lv/real-estate/flats/riga/centre/sell/page2.html\n",
      "Scraping https://www.ss.com/lv/real-estate/flats/riga/centre/sell/page3.html\n",
      "Scraping https://www.ss.com/lv/real-estate/flats/riga/centre/sell/page4.html\n",
      "Scraping https://www.ss.com/lv/real-estate/flats/riga/centre/sell/page5.html\n",
      "Scraping https://www.ss.com/lv/real-estate/flats/riga/centre/sell/page6.html\n",
      "Scraping https://www.ss.com/lv/real-estate/flats/riga/centre/sell/page7.html\n",
      "Scraping https://www.ss.com/lv/real-estate/flats/riga/centre/sell/page8.html\n",
      "Scraping https://www.ss.com/lv/real-estate/flats/riga/centre/sell/page9.html\n",
      "Scraping https://www.ss.com/lv/real-estate/flats/riga/centre/sell/page10.html\n",
      "Scraping https://www.ss.com/lv/real-estate/flats/riga/centre/sell/page11.html\n",
      "Scraping https://www.ss.com/lv/real-estate/flats/riga/centre/sell/page12.html\n",
      "Scraping https://www.ss.com/lv/real-estate/flats/riga/centre/sell/page13.html\n",
      "Scraping https://www.ss.com/lv/real-estate/flats/riga/centre/sell/page14.html\n",
      "Scraping https://www.ss.com/lv/real-estate/flats/riga/centre/sell/page15.html\n",
      "Scraping https://www.ss.com/lv/real-estate/flats/riga/centre/sell/page16.html\n",
      "Scraping https://www.ss.com/lv/real-estate/flats/riga/centre/sell/page17.html\n",
      "Scraping https://www.ss.com/lv/real-estate/flats/riga/centre/sell/page18.html\n",
      "Scraping https://www.ss.com/lv/real-estate/flats/riga/centre/sell/page19.html\n",
      "Scraping https://www.ss.com/lv/real-estate/flats/riga/centre/sell/page20.html\n",
      "Scraping https://www.ss.com/lv/real-estate/flats/riga/centre/sell/page21.html\n",
      "Scraping https://www.ss.com/lv/real-estate/flats/riga/centre/sell/page22.html\n",
      "Scraping https://www.ss.com/lv/real-estate/flats/riga/centre/sell/page23.html\n",
      "Scraping https://www.ss.com/lv/real-estate/flats/riga/centre/sell/page24.html\n",
      "Scraping https://www.ss.com/lv/real-estate/flats/riga/centre/sell/page25.html\n"
     ]
    }
   ],
   "source": [
    "all_dfs = []\n",
    "for url in my_urls:\n",
    "    print(f\"Scraping {url}\")\n",
    "    dflist = pd.read_html(url, header=0)\n",
    "    all_dfs.append(dflist[4]) # remember these pages the 5th table is the one we want\n",
    "    time.sleep(1.5) # we want at least a few hundred milliseconds delay in this case using 1.5 seconds\n",
    "    "
   ]
  },
  {
   "cell_type": "code",
   "execution_count": 20,
   "metadata": {
    "scrolled": true
   },
   "outputs": [
    {
     "data": {
      "text/html": [
       "<div>\n",
       "<style scoped>\n",
       "    .dataframe tbody tr th:only-of-type {\n",
       "        vertical-align: middle;\n",
       "    }\n",
       "\n",
       "    .dataframe tbody tr th {\n",
       "        vertical-align: top;\n",
       "    }\n",
       "\n",
       "    .dataframe thead th {\n",
       "        text-align: right;\n",
       "    }\n",
       "</style>\n",
       "<table border=\"1\" class=\"dataframe\">\n",
       "  <thead>\n",
       "    <tr style=\"text-align: right;\">\n",
       "      <th></th>\n",
       "      <th>Sludinājumi \\tdatums</th>\n",
       "      <th>Sludinājumi \\tdatums.1</th>\n",
       "      <th>Sludinājumi \\tdatums.2</th>\n",
       "      <th>Iela</th>\n",
       "      <th>Ist.</th>\n",
       "      <th>m2</th>\n",
       "      <th>Stāvs</th>\n",
       "      <th>Sērija</th>\n",
       "      <th>Cena, m2</th>\n",
       "      <th>Cena</th>\n",
       "    </tr>\n",
       "  </thead>\n",
       "  <tbody>\n",
       "    <tr>\n",
       "      <th>0</th>\n",
       "      <td>NaN</td>\n",
       "      <td>NaN</td>\n",
       "      <td>Pārdošanā četru istabu dzīvoklis ar praktisku ...</td>\n",
       "      <td>Maskavas 48</td>\n",
       "      <td>4</td>\n",
       "      <td>66</td>\n",
       "      <td>3/4</td>\n",
       "      <td>Renov.</td>\n",
       "      <td>1,894 €</td>\n",
       "      <td>125,000 €</td>\n",
       "    </tr>\n",
       "    <tr>\n",
       "      <th>1</th>\n",
       "      <td>NaN</td>\n",
       "      <td>NaN</td>\n",
       "      <td>Divistabu dzīvoklis Rīgas centrā ar skatu uz D...</td>\n",
       "      <td>Maskavas 48</td>\n",
       "      <td>2</td>\n",
       "      <td>31</td>\n",
       "      <td>2/6</td>\n",
       "      <td>Renov.</td>\n",
       "      <td>2,194 €</td>\n",
       "      <td>68,000 €</td>\n",
       "    </tr>\n",
       "    <tr>\n",
       "      <th>2</th>\n",
       "      <td>NaN</td>\n",
       "      <td>NaN</td>\n",
       "      <td>Divistabu dzīvoklis Rīgas centrā. Mājoklis tie...</td>\n",
       "      <td>Maskavas 48</td>\n",
       "      <td>2</td>\n",
       "      <td>41</td>\n",
       "      <td>3/6</td>\n",
       "      <td>Renov.</td>\n",
       "      <td>1,951 €</td>\n",
       "      <td>80,000 €</td>\n",
       "    </tr>\n",
       "    <tr>\n",
       "      <th>3</th>\n",
       "      <td>NaN</td>\n",
       "      <td>NaN</td>\n",
       "      <td>Studijas tipa vienistabas dzīvoklis Rīgas cent...</td>\n",
       "      <td>Maskavas 48</td>\n",
       "      <td>1</td>\n",
       "      <td>21</td>\n",
       "      <td>1/6</td>\n",
       "      <td>Renov.</td>\n",
       "      <td>2,143 €</td>\n",
       "      <td>45,000 €</td>\n",
       "    </tr>\n",
       "    <tr>\n",
       "      <th>4</th>\n",
       "      <td>NaN</td>\n",
       "      <td>NaN</td>\n",
       "      <td>Pārdod kompaktu 4 istabu dzīvokli Rīgas Centrā...</td>\n",
       "      <td>Valdemāra 24</td>\n",
       "      <td>4</td>\n",
       "      <td>87</td>\n",
       "      <td>2/5</td>\n",
       "      <td>P. kara</td>\n",
       "      <td>1,782 €</td>\n",
       "      <td>155,000 €</td>\n",
       "    </tr>\n",
       "  </tbody>\n",
       "</table>\n",
       "</div>"
      ],
      "text/plain": [
       "   Sludinājumi \\tdatums  Sludinājumi \\tdatums.1  \\\n",
       "0                   NaN                     NaN   \n",
       "1                   NaN                     NaN   \n",
       "2                   NaN                     NaN   \n",
       "3                   NaN                     NaN   \n",
       "4                   NaN                     NaN   \n",
       "\n",
       "                              Sludinājumi \\tdatums.2          Iela  Ist.  m2  \\\n",
       "0  Pārdošanā četru istabu dzīvoklis ar praktisku ...   Maskavas 48     4  66   \n",
       "1  Divistabu dzīvoklis Rīgas centrā ar skatu uz D...   Maskavas 48     2  31   \n",
       "2  Divistabu dzīvoklis Rīgas centrā. Mājoklis tie...   Maskavas 48     2  41   \n",
       "3  Studijas tipa vienistabas dzīvoklis Rīgas cent...   Maskavas 48     1  21   \n",
       "4  Pārdod kompaktu 4 istabu dzīvokli Rīgas Centrā...  Valdemāra 24     4  87   \n",
       "\n",
       "  Stāvs   Sērija Cena, m2       Cena  \n",
       "0   3/4   Renov.  1,894 €  125,000 €  \n",
       "1   2/6   Renov.  2,194 €   68,000 €  \n",
       "2   3/6   Renov.  1,951 €   80,000 €  \n",
       "3   1/6   Renov.  2,143 €   45,000 €  \n",
       "4   2/5  P. kara  1,782 €  155,000 €  "
      ]
     },
     "execution_count": 20,
     "metadata": {},
     "output_type": "execute_result"
    }
   ],
   "source": [
    "all_dfs[17].head()"
   ]
  },
  {
   "cell_type": "code",
   "execution_count": 21,
   "metadata": {},
   "outputs": [
    {
     "data": {
      "text/plain": [
       "25"
      ]
     },
     "execution_count": 21,
     "metadata": {},
     "output_type": "execute_result"
    }
   ],
   "source": [
    "len(all_dfs)"
   ]
  },
  {
   "cell_type": "code",
   "execution_count": 26,
   "metadata": {},
   "outputs": [
    {
     "data": {
      "text/plain": [
       "(749, 10)"
      ]
     },
     "execution_count": 26,
     "metadata": {},
     "output_type": "execute_result"
    }
   ],
   "source": [
    "bigdf = pd.concat(all_dfs, ignore_index=True)\n",
    "bigdf.shape"
   ]
  },
  {
   "cell_type": "code",
   "execution_count": 27,
   "metadata": {
    "scrolled": true
   },
   "outputs": [
    {
     "data": {
      "text/html": [
       "<div>\n",
       "<style scoped>\n",
       "    .dataframe tbody tr th:only-of-type {\n",
       "        vertical-align: middle;\n",
       "    }\n",
       "\n",
       "    .dataframe tbody tr th {\n",
       "        vertical-align: top;\n",
       "    }\n",
       "\n",
       "    .dataframe thead th {\n",
       "        text-align: right;\n",
       "    }\n",
       "</style>\n",
       "<table border=\"1\" class=\"dataframe\">\n",
       "  <thead>\n",
       "    <tr style=\"text-align: right;\">\n",
       "      <th></th>\n",
       "      <th>Sludinājumi \\tdatums</th>\n",
       "      <th>Sludinājumi \\tdatums.1</th>\n",
       "      <th>Sludinājumi \\tdatums.2</th>\n",
       "      <th>Iela</th>\n",
       "      <th>Ist.</th>\n",
       "      <th>m2</th>\n",
       "      <th>Stāvs</th>\n",
       "      <th>Sērija</th>\n",
       "      <th>Cena, m2</th>\n",
       "      <th>Cena</th>\n",
       "    </tr>\n",
       "  </thead>\n",
       "  <tbody>\n",
       "    <tr>\n",
       "      <th>0</th>\n",
       "      <td>NaN</td>\n",
       "      <td>NaN</td>\n",
       "      <td>(Eng) Beautiful, high-status property in a pri...</td>\n",
       "      <td>Dzirnavu 60</td>\n",
       "      <td>3</td>\n",
       "      <td>118</td>\n",
       "      <td>4/5</td>\n",
       "      <td>Renov.</td>\n",
       "      <td>1,907 €</td>\n",
       "      <td>225,000 €</td>\n",
       "    </tr>\n",
       "    <tr>\n",
       "      <th>1</th>\n",
       "      <td>NaN</td>\n",
       "      <td>NaN</td>\n",
       "      <td>Фасадный вход с ул. Гертрудес, окна выходят на...</td>\n",
       "      <td>Ģertrūdes 26</td>\n",
       "      <td>2</td>\n",
       "      <td>49</td>\n",
       "      <td>2/6</td>\n",
       "      <td>P. kara</td>\n",
       "      <td>2,245 €</td>\n",
       "      <td>110,000 €</td>\n",
       "    </tr>\n",
       "    <tr>\n",
       "      <th>2</th>\n",
       "      <td>NaN</td>\n",
       "      <td>NaN</td>\n",
       "      <td>Tiek pārdots brīnišķīgs, moderns 3-istabu dzīv...</td>\n",
       "      <td>Grostonas 21</td>\n",
       "      <td>3</td>\n",
       "      <td>98</td>\n",
       "      <td>4/8</td>\n",
       "      <td>Jaun.</td>\n",
       "      <td>2,347 €</td>\n",
       "      <td>230,000 €</td>\n",
       "    </tr>\n",
       "    <tr>\n",
       "      <th>3</th>\n",
       "      <td>NaN</td>\n",
       "      <td>NaN</td>\n",
       "      <td>Pērkot dzīvokli - virtuves iekārta dāvanā. Ēka...</td>\n",
       "      <td>Stabu 100</td>\n",
       "      <td>4</td>\n",
       "      <td>103</td>\n",
       "      <td>4/7</td>\n",
       "      <td>Jaun.</td>\n",
       "      <td>2,059 €</td>\n",
       "      <td>212,100 €</td>\n",
       "    </tr>\n",
       "    <tr>\n",
       "      <th>4</th>\n",
       "      <td>NaN</td>\n",
       "      <td>NaN</td>\n",
       "      <td>Pērkot dzīvokli - virtuves iekārta dāvanā. Ēka...</td>\n",
       "      <td>Stabu 100</td>\n",
       "      <td>4</td>\n",
       "      <td>82</td>\n",
       "      <td>3/7</td>\n",
       "      <td>Jaun.</td>\n",
       "      <td>2,098 €</td>\n",
       "      <td>172,000 €</td>\n",
       "    </tr>\n",
       "  </tbody>\n",
       "</table>\n",
       "</div>"
      ],
      "text/plain": [
       "   Sludinājumi \\tdatums  Sludinājumi \\tdatums.1  \\\n",
       "0                   NaN                     NaN   \n",
       "1                   NaN                     NaN   \n",
       "2                   NaN                     NaN   \n",
       "3                   NaN                     NaN   \n",
       "4                   NaN                     NaN   \n",
       "\n",
       "                              Sludinājumi \\tdatums.2          Iela Ist.   m2  \\\n",
       "0  (Eng) Beautiful, high-status property in a pri...   Dzirnavu 60    3  118   \n",
       "1  Фасадный вход с ул. Гертрудес, окна выходят на...  Ģertrūdes 26    2   49   \n",
       "2  Tiek pārdots brīnišķīgs, moderns 3-istabu dzīv...  Grostonas 21    3   98   \n",
       "3  Pērkot dzīvokli - virtuves iekārta dāvanā. Ēka...     Stabu 100    4  103   \n",
       "4  Pērkot dzīvokli - virtuves iekārta dāvanā. Ēka...     Stabu 100    4   82   \n",
       "\n",
       "  Stāvs   Sērija Cena, m2       Cena  \n",
       "0   4/5   Renov.  1,907 €  225,000 €  \n",
       "1   2/6  P. kara  2,245 €  110,000 €  \n",
       "2   4/8    Jaun.  2,347 €  230,000 €  \n",
       "3   4/7    Jaun.  2,059 €  212,100 €  \n",
       "4   3/7    Jaun.  2,098 €  172,000 €  "
      ]
     },
     "execution_count": 27,
     "metadata": {},
     "output_type": "execute_result"
    }
   ],
   "source": [
    "bigdf.head()"
   ]
  },
  {
   "cell_type": "code",
   "execution_count": 28,
   "metadata": {},
   "outputs": [
    {
     "data": {
      "text/html": [
       "<div>\n",
       "<style scoped>\n",
       "    .dataframe tbody tr th:only-of-type {\n",
       "        vertical-align: middle;\n",
       "    }\n",
       "\n",
       "    .dataframe tbody tr th {\n",
       "        vertical-align: top;\n",
       "    }\n",
       "\n",
       "    .dataframe thead th {\n",
       "        text-align: right;\n",
       "    }\n",
       "</style>\n",
       "<table border=\"1\" class=\"dataframe\">\n",
       "  <thead>\n",
       "    <tr style=\"text-align: right;\">\n",
       "      <th></th>\n",
       "      <th>Sludinājumi \\tdatums</th>\n",
       "      <th>Sludinājumi \\tdatums.1</th>\n",
       "      <th>Sludinājumi \\tdatums.2</th>\n",
       "      <th>Iela</th>\n",
       "      <th>Ist.</th>\n",
       "      <th>m2</th>\n",
       "      <th>Stāvs</th>\n",
       "      <th>Sērija</th>\n",
       "      <th>Cena, m2</th>\n",
       "      <th>Cena</th>\n",
       "    </tr>\n",
       "  </thead>\n",
       "  <tbody>\n",
       "    <tr>\n",
       "      <th>744</th>\n",
       "      <td>NaN</td>\n",
       "      <td>NaN</td>\n",
       "      <td>Pārdod pilnībā aprīkotu, plašu un mājīgu 3 ist...</td>\n",
       "      <td>Matīsa 58</td>\n",
       "      <td>3</td>\n",
       "      <td>90</td>\n",
       "      <td>2/3</td>\n",
       "      <td>P. kara</td>\n",
       "      <td>1,278 €</td>\n",
       "      <td>115,000 €</td>\n",
       "    </tr>\n",
       "    <tr>\n",
       "      <th>745</th>\n",
       "      <td>NaN</td>\n",
       "      <td>NaN</td>\n",
       "      <td>Pārdod gaišu un mūsdienīgu divistabu dzīvokli ...</td>\n",
       "      <td>Katrīnas d. 20a</td>\n",
       "      <td>2</td>\n",
       "      <td>56</td>\n",
       "      <td>3/5</td>\n",
       "      <td>P. kara</td>\n",
       "      <td>1,518 €</td>\n",
       "      <td>85,000 €</td>\n",
       "    </tr>\n",
       "    <tr>\n",
       "      <th>746</th>\n",
       "      <td>NaN</td>\n",
       "      <td>NaN</td>\n",
       "      <td>Elegants četru istabu dzīvoklis Rīgas centrā a...</td>\n",
       "      <td>Artilērijas 6A</td>\n",
       "      <td>4</td>\n",
       "      <td>140</td>\n",
       "      <td>1/3</td>\n",
       "      <td>Renov.</td>\n",
       "      <td>2,071 €</td>\n",
       "      <td>290,000 €</td>\n",
       "    </tr>\n",
       "    <tr>\n",
       "      <th>747</th>\n",
       "      <td>NaN</td>\n",
       "      <td>NaN</td>\n",
       "      <td>Tiek pārdots trīsistabu dzīvoklis pašā pilsēta...</td>\n",
       "      <td>Pulkv. Brieža 35</td>\n",
       "      <td>3</td>\n",
       "      <td>73</td>\n",
       "      <td>3/7</td>\n",
       "      <td>Jaun.</td>\n",
       "      <td>2,315 €</td>\n",
       "      <td>169,000 €</td>\n",
       "    </tr>\n",
       "    <tr>\n",
       "      <th>748</th>\n",
       "      <td>NaN</td>\n",
       "      <td>NaN</td>\n",
       "      <td>Dzīvoklis Klusajā centrā rekonstruētajā vēstur...</td>\n",
       "      <td>Valdemāra 37</td>\n",
       "      <td>3</td>\n",
       "      <td>111</td>\n",
       "      <td>6/6</td>\n",
       "      <td>Renov.</td>\n",
       "      <td>2,593 €</td>\n",
       "      <td>287,820 €</td>\n",
       "    </tr>\n",
       "  </tbody>\n",
       "</table>\n",
       "</div>"
      ],
      "text/plain": [
       "     Sludinājumi \\tdatums  Sludinājumi \\tdatums.1  \\\n",
       "744                   NaN                     NaN   \n",
       "745                   NaN                     NaN   \n",
       "746                   NaN                     NaN   \n",
       "747                   NaN                     NaN   \n",
       "748                   NaN                     NaN   \n",
       "\n",
       "                                Sludinājumi \\tdatums.2              Iela Ist.  \\\n",
       "744  Pārdod pilnībā aprīkotu, plašu un mājīgu 3 ist...         Matīsa 58    3   \n",
       "745  Pārdod gaišu un mūsdienīgu divistabu dzīvokli ...   Katrīnas d. 20a    2   \n",
       "746  Elegants četru istabu dzīvoklis Rīgas centrā a...    Artilērijas 6A    4   \n",
       "747  Tiek pārdots trīsistabu dzīvoklis pašā pilsēta...  Pulkv. Brieža 35    3   \n",
       "748  Dzīvoklis Klusajā centrā rekonstruētajā vēstur...      Valdemāra 37    3   \n",
       "\n",
       "      m2 Stāvs   Sērija Cena, m2       Cena  \n",
       "744   90   2/3  P. kara  1,278 €  115,000 €  \n",
       "745   56   3/5  P. kara  1,518 €   85,000 €  \n",
       "746  140   1/3   Renov.  2,071 €  290,000 €  \n",
       "747   73   3/7    Jaun.  2,315 €  169,000 €  \n",
       "748  111   6/6   Renov.  2,593 €  287,820 €  "
      ]
     },
     "execution_count": 28,
     "metadata": {},
     "output_type": "execute_result"
    }
   ],
   "source": [
    "bigdf.tail()"
   ]
  },
  {
   "cell_type": "code",
   "execution_count": 29,
   "metadata": {},
   "outputs": [],
   "source": [
    "bigdf.to_excel(\"all_center.xlsx\")"
   ]
  }
 ],
 "metadata": {
  "kernelspec": {
   "display_name": "Python 3",
   "language": "python",
   "name": "python3"
  },
  "language_info": {
   "codemirror_mode": {
    "name": "ipython",
    "version": 3
   },
   "file_extension": ".py",
   "mimetype": "text/x-python",
   "name": "python",
   "nbconvert_exporter": "python",
   "pygments_lexer": "ipython3",
   "version": "3.8.3"
  }
 },
 "nbformat": 4,
 "nbformat_minor": 4
}
