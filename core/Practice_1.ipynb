{
 "cells": [
  {
   "cell_type": "code",
   "execution_count": null,
   "metadata": {},
   "outputs": [],
   "source": [
    "# 1. Age\n",
    "\n",
    "# Write a program that asks for and saves a user name \n",
    "\n",
    "# Ask a question about the user's age using the user name in the question. \n",
    "\n",
    "# Show in how many years the user will be 100 years old :) \n",
    "\n",
    "# BONUS: Let the program also show the year when the user will be 100 years old. It could use a change with the current year. \n",
    "\n",
    "# It would be even better to get the current year automatically then you will need two extra lines: import datetime # let's talk about imports separately currentYear = datetime.datetime.now ()."
   ]
  },
  {
   "cell_type": "code",
   "execution_count": null,
   "metadata": {},
   "outputs": [],
   "source": [
    "# do your work here"
   ]
  }
 ],
 "metadata": {
  "kernelspec": {
   "display_name": "Python 3",
   "language": "python",
   "name": "python3"
  },
  "language_info": {
   "codemirror_mode": {
    "name": "ipython",
    "version": 3
   },
   "file_extension": ".py",
   "mimetype": "text/x-python",
   "name": "python",
   "nbconvert_exporter": "python",
   "pygments_lexer": "ipython3",
   "version": "3.7.3"
  }
 },
 "nbformat": 4,
 "nbformat_minor": 2
}
