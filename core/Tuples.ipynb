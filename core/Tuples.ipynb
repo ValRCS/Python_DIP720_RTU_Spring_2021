{
 "cells": [
  {
   "cell_type": "markdown",
   "metadata": {},
   "source": [
    "# Tuples Data Structure"
   ]
  },
  {
   "cell_type": "markdown",
   "metadata": {},
   "source": [
    "## Python Tuples (a,b)\n",
    "* Immutable - can NOT be changed\n",
    "* Use - passing data that does not need changing\n",
    "* Faster than list\n",
    "* \"safer\" than list\n",
    "* Can be key in dict unlike list\n",
    "* For Heterogeneous data - meaning mixing different data types(int,str,list et al) inside\n",
    "* https://docs.python.org/3/tutorial/datastructures.html#tuples-and-sequences\n",
    "* https://realpython.com/python-lists-tuples/"
   ]
  },
  {
   "cell_type": "code",
   "execution_count": 1,
   "metadata": {},
   "outputs": [
    {
     "name": "stdout",
     "output_type": "stream",
     "text": [
      "('Valdis', 'programmer', 45, 200, [1, 2, 3])\n"
     ]
    }
   ],
   "source": [
    "my_tuple = (\"Valdis\", \"programmer\", 45, 200, [1, 2, 3])\n",
    "print(my_tuple)"
   ]
  },
  {
   "cell_type": "code",
   "execution_count": 2,
   "metadata": {},
   "outputs": [
    {
     "data": {
      "text/plain": [
       "tuple"
      ]
     },
     "execution_count": 2,
     "metadata": {},
     "output_type": "execute_result"
    }
   ],
   "source": [
    "my_values = 5, 10\n",
    "type(my_values)"
   ]
  },
  {
   "cell_type": "code",
   "execution_count": 3,
   "metadata": {},
   "outputs": [
    {
     "ename": "TypeError",
     "evalue": "'tuple' object does not support item assignment",
     "output_type": "error",
     "traceback": [
      "\u001b[1;31m---------------------------------------------------------------------------\u001b[0m",
      "\u001b[1;31mTypeError\u001b[0m                                 Traceback (most recent call last)",
      "\u001b[1;32m<ipython-input-3-5d94bfab614e>\u001b[0m in \u001b[0;36m<module>\u001b[1;34m\u001b[0m\n\u001b[1;32m----> 1\u001b[1;33m \u001b[0mmy_values\u001b[0m\u001b[1;33m[\u001b[0m\u001b[1;36m1\u001b[0m\u001b[1;33m]\u001b[0m \u001b[1;33m=\u001b[0m \u001b[1;36m20\u001b[0m \u001b[1;31m# cant mutate tuples with primitive values!\u001b[0m\u001b[1;33m\u001b[0m\u001b[1;33m\u001b[0m\u001b[0m\n\u001b[0m",
      "\u001b[1;31mTypeError\u001b[0m: 'tuple' object does not support item assignment"
     ]
    }
   ],
   "source": [
    "my_values[1] = 20 # cant mutate tuples with primitive values!"
   ]
  },
  {
   "cell_type": "code",
   "execution_count": 4,
   "metadata": {},
   "outputs": [
    {
     "name": "stdout",
     "output_type": "stream",
     "text": [
      "Valdis\n"
     ]
    }
   ],
   "source": [
    "print(my_tuple[0])"
   ]
  },
  {
   "cell_type": "code",
   "execution_count": 5,
   "metadata": {},
   "outputs": [
    {
     "name": "stdout",
     "output_type": "stream",
     "text": [
      "[1, 2, 3]\n"
     ]
    }
   ],
   "source": [
    "# however we do have a list inside a tuple and we can modify that one!\n",
    "print(my_tuple[-1])"
   ]
  },
  {
   "cell_type": "code",
   "execution_count": 9,
   "metadata": {},
   "outputs": [
    {
     "data": {
      "text/plain": [
       "('Valdis', 'programmer', 45, 200, [1, 2, 3, 9000])"
      ]
     },
     "execution_count": 9,
     "metadata": {},
     "output_type": "execute_result"
    }
   ],
   "source": [
    "my_tuple"
   ]
  },
  {
   "cell_type": "code",
   "execution_count": 6,
   "metadata": {},
   "outputs": [
    {
     "data": {
      "text/plain": [
       "[1, 2, 3]"
      ]
     },
     "execution_count": 6,
     "metadata": {},
     "output_type": "execute_result"
    }
   ],
   "source": [
    "my_list = my_tuple[-1] # so i create a shortcut/alias/reference/pointer to the last item in my tuple\n",
    "# this item is a list\n",
    "my_list"
   ]
  },
  {
   "cell_type": "code",
   "execution_count": 10,
   "metadata": {},
   "outputs": [
    {
     "data": {
      "text/plain": [
       "[1, 2, 3, 9000, 9000]"
      ]
     },
     "execution_count": 10,
     "metadata": {},
     "output_type": "execute_result"
    }
   ],
   "source": [
    "my_list.append(9000)\n",
    "my_list"
   ]
  },
  {
   "cell_type": "code",
   "execution_count": 11,
   "metadata": {},
   "outputs": [
    {
     "data": {
      "text/plain": [
       "('Valdis', 'programmer', 45, 200, [1, 2, 3, 9000, 9000])"
      ]
     },
     "execution_count": 11,
     "metadata": {},
     "output_type": "execute_result"
    }
   ],
   "source": [
    "my_tuple"
   ]
  },
  {
   "cell_type": "code",
   "execution_count": 12,
   "metadata": {},
   "outputs": [
    {
     "data": {
      "text/plain": [
       "1"
      ]
     },
     "execution_count": 12,
     "metadata": {},
     "output_type": "execute_result"
    }
   ],
   "source": [
    "my_tuple.count(45)"
   ]
  },
  {
   "cell_type": "code",
   "execution_count": 13,
   "metadata": {},
   "outputs": [
    {
     "data": {
      "text/plain": [
       "2"
      ]
     },
     "execution_count": 13,
     "metadata": {},
     "output_type": "execute_result"
    }
   ],
   "source": [
    "my_tuple.index(45)"
   ]
  },
  {
   "cell_type": "code",
   "execution_count": 16,
   "metadata": {},
   "outputs": [],
   "source": [
    "name, job, age, top_speed, favorite_list = my_tuple  # tuple unpacking"
   ]
  },
  {
   "cell_type": "code",
   "execution_count": 15,
   "metadata": {},
   "outputs": [
    {
     "data": {
      "text/plain": [
       "('Valdis', 'programmer', 45, 200, [1, 2, 3, 9000, 9000, 5000])"
      ]
     },
     "execution_count": 15,
     "metadata": {},
     "output_type": "execute_result"
    }
   ],
   "source": [
    "favorite_list.append(5000)\n",
    "my_tuple"
   ]
  },
  {
   "cell_type": "code",
   "execution_count": 17,
   "metadata": {},
   "outputs": [
    {
     "name": "stdout",
     "output_type": "stream",
     "text": [
      "programmer\n"
     ]
    }
   ],
   "source": [
    "print(job)"
   ]
  },
  {
   "cell_type": "code",
   "execution_count": null,
   "metadata": {},
   "outputs": [],
   "source": []
  },
  {
   "cell_type": "code",
   "execution_count": null,
   "metadata": {},
   "outputs": [],
   "source": [
    "\n",
    "\n",
    "\n",
    "# type(my_tuple)\n",
    "\n",
    "# len(my_tuple)\n",
    "# my_tuple[-1]\n",
    "# my_tuple[-1][1]\n",
    "# mini_3 = my_tuple[:3]\n",
    "# print(mini_3, type(mini_3))\n",
    "# my_tuple[::2]\n",
    "# my_tuple[::-1]\n",
    "# reverse_inner = tuple(el * 2 for el in my_tuple)\n",
    "# my_list = []\n",
    "# for el in my_tuple:\n",
    "#     if type(el) == int:\n",
    "#         my_list.append(1/el)\n",
    "#     else:\n",
    "#         my_list.append(el[::-1])\n",
    "# my_rev_tuple = tuple(my_list)\n",
    "# my_rev_tuple\n",
    "\n",
    "# print(my_tuple)\n",
    "# # my_tuple[1] = \"scientist\"\n",
    "# my_list = list(my_tuple)\n",
    "# print(my_list)\n",
    "# my_list[1] = \"scientist\"\n",
    "# new_tuple = tuple(my_list)\n",
    "# print(new_tuple)\n",
    "# t = ()  # empty tuple only question where would you use it?\n",
    "# print(t, type(t))\n",
    "# t = (1, 2, 55)  # 2 or more elements\n",
    "# print(t, type(t))\n",
    "# t = (5,)  # if you really need a tuple of one element\n",
    "# my_tuple.count(\"programmer\")\n",
    "# new_tuple.count(\"programmer\")\n",
    "# new_tuple.index(\"scientist\")\n",
    "# my_tuple.index(45)\n",
    "# a = 10\n",
    "# b = 20\n",
    "# print(a, b)\n",
    "# # how to change them\n",
    "# temp = a\n",
    "# a = b\n",
    "# b = temp\n",
    "# print(a, b)\n",
    "# # in Python the above is simpler!\n",
    "# print(a, b)\n",
    "# a, b = b, a  # we can even change a,b,c,d = d,c,b,a and more\n",
    "# print(a, b)\n",
    "# (name, job, age, top_speed, favorite_list) = my_tuple  # tuple unpacking\n",
    "# print(name, job, age, top_speed, favorite_list)\n",
    "# name is my_tuple[0]\n",
    "# # tuple unpacking and using _ for values that we do need\n",
    "# (name, job, _, top_speed, _) = my_tuple\n",
    "# print(name, _)  # so _ will have value of last unpacking"
   ]
  }
 ],
 "metadata": {
  "kernelspec": {
   "display_name": "Python 3",
   "language": "python",
   "name": "python3"
  },
  "language_info": {
   "codemirror_mode": {
    "name": "ipython",
    "version": 3
   },
   "file_extension": ".py",
   "mimetype": "text/x-python",
   "name": "python",
   "nbconvert_exporter": "python",
   "pygments_lexer": "ipython3",
   "version": "3.8.3"
  }
 },
 "nbformat": 4,
 "nbformat_minor": 4
}
